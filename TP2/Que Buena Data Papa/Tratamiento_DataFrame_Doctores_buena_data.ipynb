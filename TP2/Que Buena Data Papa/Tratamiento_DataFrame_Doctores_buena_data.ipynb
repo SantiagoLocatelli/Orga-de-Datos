{
  "nbformat": 4,
  "nbformat_minor": 0,
  "metadata": {
    "colab": {
      "name": "Tratamiento DataFrame Doctores buena data",
      "provenance": [],
      "collapsed_sections": [
        "yX-RWZiEZOlB",
        "sJjUX5KfI3TV",
        "xMnCqPyyJWXG",
        "qUNKZ-BIJZrK",
        "61ds6rlLJ7T6",
        "VeJKqjlTKDr2"
      ]
    },
    "kernelspec": {
      "name": "python3",
      "display_name": "Python 3"
    }
  },
  "cells": [
    {
      "cell_type": "code",
      "metadata": {
        "id": "PnB0eaTBYwYR"
      },
      "source": [
        "# Tratamiento de datos\r\n",
        "# ==============================================================================\r\n",
        "import numpy as np\r\n",
        "import pandas as pd\r\n",
        "\r\n",
        "# Preprocesado y modelado\r\n",
        "# ==============================================================================\r\n",
        "from sklearn.datasets import load_boston\r\n",
        "from sklearn.ensemble import RandomForestClassifier\r\n",
        "from sklearn.ensemble import RandomForestRegressor\r\n",
        "from sklearn.metrics import accuracy_score\r\n",
        "from sklearn.metrics import confusion_matrix\r\n",
        "from sklearn.metrics import plot_confusion_matrix\r\n",
        "from sklearn.metrics import classification_report\r\n",
        "from sklearn.metrics import log_loss\r\n",
        "from sklearn.compose import ColumnTransformer\r\n",
        "from sklearn.preprocessing import OneHotEncoder\r\n",
        "from sklearn.model_selection import cross_val_score\r\n",
        "from sklearn.model_selection import train_test_split\r\n",
        "from sklearn.model_selection import RepeatedKFold\r\n",
        "from sklearn.model_selection import GridSearchCV\r\n",
        "from sklearn.model_selection import ParameterGrid\r\n",
        "from sklearn.inspection import permutation_importance\r\n",
        "from sklearn.neighbors import KNeighborsClassifier\r\n",
        "import multiprocessing\r\n",
        "\r\n",
        "# Descarga del target\r\n",
        "# ==============================================================================\r\n",
        "from google.colab import files"
      ],
      "execution_count": null,
      "outputs": []
    },
    {
      "cell_type": "markdown",
      "metadata": {
        "id": "VqgLGsvcY-ED"
      },
      "source": [
        "#Importando DataFram y observación de datos\r\n"
      ]
    },
    {
      "cell_type": "code",
      "metadata": {
        "id": "wTELsDUoY6Gd"
      },
      "source": [
        "DataFrame = pd.read_csv('/content/Training.csv')"
      ],
      "execution_count": null,
      "outputs": []
    },
    {
      "cell_type": "code",
      "metadata": {
        "colab": {
          "base_uri": "https://localhost:8080/"
        },
        "id": "aoq0HnJ24nR9",
        "outputId": "f1490fbc-5dc3-4415-d7fe-c4eb697a1c9d"
      },
      "source": [
        "from google.colab import drive\n",
        "drive.mount('/content/drive')"
      ],
      "execution_count": null,
      "outputs": [
        {
          "output_type": "stream",
          "text": [
            "Drive already mounted at /content/drive; to attempt to forcibly remount, call drive.mount(\"/content/drive\", force_remount=True).\n"
          ],
          "name": "stdout"
        }
      ]
    },
    {
      "cell_type": "code",
      "metadata": {
        "id": "zUZ2O2h0Y9t9",
        "colab": {
          "base_uri": "https://localhost:8080/"
        },
        "outputId": "20efa68c-40a5-4c50-eb5e-a0a5ac29f83a"
      },
      "source": [
        "DataFrame.shape"
      ],
      "execution_count": null,
      "outputs": [
        {
          "output_type": "execute_result",
          "data": {
            "text/plain": [
              "(16947, 52)"
            ]
          },
          "metadata": {
            "tags": []
          },
          "execution_count": 11
        }
      ]
    },
    {
      "cell_type": "code",
      "metadata": {
        "id": "mORwRauoZY7Y",
        "colab": {
          "base_uri": "https://localhost:8080/",
          "height": 334
        },
        "outputId": "2b4d41a9-ec66-4f18-96e2-e5ce39c50589"
      },
      "source": [
        "DataFrame.describe()"
      ],
      "execution_count": null,
      "outputs": [
        {
          "output_type": "execute_result",
          "data": {
            "text/html": [
              "<div>\n",
              "<style scoped>\n",
              "    .dataframe tbody tr th:only-of-type {\n",
              "        vertical-align: middle;\n",
              "    }\n",
              "\n",
              "    .dataframe tbody tr th {\n",
              "        vertical-align: top;\n",
              "    }\n",
              "\n",
              "    .dataframe thead th {\n",
              "        text-align: right;\n",
              "    }\n",
              "</style>\n",
              "<table border=\"1\" class=\"dataframe\">\n",
              "  <thead>\n",
              "    <tr style=\"text-align: right;\">\n",
              "      <th></th>\n",
              "      <th>ID</th>\n",
              "      <th>Pricing, Delivery_Terms_Quote_Appr</th>\n",
              "      <th>Pricing, Delivery_Terms_Approved</th>\n",
              "      <th>Bureaucratic_Code_0_Approval</th>\n",
              "      <th>Bureaucratic_Code_0_Approved</th>\n",
              "      <th>Submitted_for_Approval</th>\n",
              "      <th>Opportunity_ID</th>\n",
              "      <th>ASP</th>\n",
              "      <th>ASP_(converted)</th>\n",
              "      <th>Delivery_Year</th>\n",
              "      <th>TRF</th>\n",
              "      <th>Total_Amount</th>\n",
              "      <th>Total_Taxable_Amount</th>\n",
              "    </tr>\n",
              "  </thead>\n",
              "  <tbody>\n",
              "    <tr>\n",
              "      <th>count</th>\n",
              "      <td>16947.000000</td>\n",
              "      <td>16947.000000</td>\n",
              "      <td>16947.000000</td>\n",
              "      <td>16947.000000</td>\n",
              "      <td>16947.000000</td>\n",
              "      <td>16947.0</td>\n",
              "      <td>16947.000000</td>\n",
              "      <td>13738.000000</td>\n",
              "      <td>13738.000000</td>\n",
              "      <td>16947.000000</td>\n",
              "      <td>16947.000000</td>\n",
              "      <td>1.688800e+04</td>\n",
              "      <td>1.694700e+04</td>\n",
              "    </tr>\n",
              "    <tr>\n",
              "      <th>mean</th>\n",
              "      <td>17666.650440</td>\n",
              "      <td>0.807990</td>\n",
              "      <td>0.583584</td>\n",
              "      <td>0.475482</td>\n",
              "      <td>0.318876</td>\n",
              "      <td>0.0</td>\n",
              "      <td>5335.940225</td>\n",
              "      <td>7.012128</td>\n",
              "      <td>0.432554</td>\n",
              "      <td>2017.137428</td>\n",
              "      <td>2.338172</td>\n",
              "      <td>1.993659e+06</td>\n",
              "      <td>3.224117e+06</td>\n",
              "    </tr>\n",
              "    <tr>\n",
              "      <th>std</th>\n",
              "      <td>6940.859372</td>\n",
              "      <td>0.393893</td>\n",
              "      <td>0.492979</td>\n",
              "      <td>0.499413</td>\n",
              "      <td>0.466055</td>\n",
              "      <td>0.0</td>\n",
              "      <td>3324.723809</td>\n",
              "      <td>18.858359</td>\n",
              "      <td>0.758659</td>\n",
              "      <td>0.829603</td>\n",
              "      <td>12.169339</td>\n",
              "      <td>1.848426e+07</td>\n",
              "      <td>2.030360e+07</td>\n",
              "    </tr>\n",
              "    <tr>\n",
              "      <th>min</th>\n",
              "      <td>4854.000000</td>\n",
              "      <td>0.000000</td>\n",
              "      <td>0.000000</td>\n",
              "      <td>0.000000</td>\n",
              "      <td>0.000000</td>\n",
              "      <td>0.0</td>\n",
              "      <td>0.000000</td>\n",
              "      <td>0.000000</td>\n",
              "      <td>0.000000</td>\n",
              "      <td>2016.000000</td>\n",
              "      <td>0.000000</td>\n",
              "      <td>0.000000e+00</td>\n",
              "      <td>0.000000e+00</td>\n",
              "    </tr>\n",
              "    <tr>\n",
              "      <th>25%</th>\n",
              "      <td>11953.000000</td>\n",
              "      <td>1.000000</td>\n",
              "      <td>0.000000</td>\n",
              "      <td>0.000000</td>\n",
              "      <td>0.000000</td>\n",
              "      <td>0.0</td>\n",
              "      <td>2448.500000</td>\n",
              "      <td>0.360000</td>\n",
              "      <td>0.373260</td>\n",
              "      <td>2016.000000</td>\n",
              "      <td>0.000000</td>\n",
              "      <td>2.677500e+04</td>\n",
              "      <td>8.546580e+04</td>\n",
              "    </tr>\n",
              "    <tr>\n",
              "      <th>50%</th>\n",
              "      <td>18114.000000</td>\n",
              "      <td>1.000000</td>\n",
              "      <td>1.000000</td>\n",
              "      <td>0.000000</td>\n",
              "      <td>0.000000</td>\n",
              "      <td>0.0</td>\n",
              "      <td>5306.000000</td>\n",
              "      <td>0.400000</td>\n",
              "      <td>0.412850</td>\n",
              "      <td>2017.000000</td>\n",
              "      <td>0.000000</td>\n",
              "      <td>1.072500e+05</td>\n",
              "      <td>3.760672e+05</td>\n",
              "    </tr>\n",
              "    <tr>\n",
              "      <th>75%</th>\n",
              "      <td>23845.500000</td>\n",
              "      <td>1.000000</td>\n",
              "      <td>1.000000</td>\n",
              "      <td>1.000000</td>\n",
              "      <td>1.000000</td>\n",
              "      <td>0.0</td>\n",
              "      <td>7698.000000</td>\n",
              "      <td>0.505000</td>\n",
              "      <td>0.476490</td>\n",
              "      <td>2018.000000</td>\n",
              "      <td>1.000000</td>\n",
              "      <td>4.603898e+05</td>\n",
              "      <td>1.037450e+06</td>\n",
              "    </tr>\n",
              "    <tr>\n",
              "      <th>max</th>\n",
              "      <td>28773.000000</td>\n",
              "      <td>1.000000</td>\n",
              "      <td>1.000000</td>\n",
              "      <td>1.000000</td>\n",
              "      <td>1.000000</td>\n",
              "      <td>0.0</td>\n",
              "      <td>12803.000000</td>\n",
              "      <td>80.000000</td>\n",
              "      <td>67.000000</td>\n",
              "      <td>2020.000000</td>\n",
              "      <td>500.000000</td>\n",
              "      <td>1.320000e+09</td>\n",
              "      <td>1.356339e+09</td>\n",
              "    </tr>\n",
              "  </tbody>\n",
              "</table>\n",
              "</div>"
            ],
            "text/plain": [
              "                 ID  ...  Total_Taxable_Amount\n",
              "count  16947.000000  ...          1.694700e+04\n",
              "mean   17666.650440  ...          3.224117e+06\n",
              "std     6940.859372  ...          2.030360e+07\n",
              "min     4854.000000  ...          0.000000e+00\n",
              "25%    11953.000000  ...          8.546580e+04\n",
              "50%    18114.000000  ...          3.760672e+05\n",
              "75%    23845.500000  ...          1.037450e+06\n",
              "max    28773.000000  ...          1.356339e+09\n",
              "\n",
              "[8 rows x 13 columns]"
            ]
          },
          "metadata": {
            "tags": []
          },
          "execution_count": 12
        }
      ]
    },
    {
      "cell_type": "code",
      "metadata": {
        "id": "1AW4d_0TZC0X",
        "colab": {
          "base_uri": "https://localhost:8080/"
        },
        "outputId": "f4f7ee33-91e7-461c-ecfe-3774a1c71d10"
      },
      "source": [
        "DataFrame['Delivery_Year'].value_counts()"
      ],
      "execution_count": null,
      "outputs": [
        {
          "output_type": "execute_result",
          "data": {
            "text/plain": [
              "2017    6318\n",
              "2018    5830\n",
              "2016    4371\n",
              "2019     414\n",
              "2020      14\n",
              "Name: Delivery_Year, dtype: int64"
            ]
          },
          "metadata": {
            "tags": []
          },
          "execution_count": 13
        }
      ]
    },
    {
      "cell_type": "markdown",
      "metadata": {
        "id": "y4dNAM2sZKGC"
      },
      "source": [
        "##Observo año 2016"
      ]
    },
    {
      "cell_type": "code",
      "metadata": {
        "id": "SmBPnOKrZDvT",
        "colab": {
          "base_uri": "https://localhost:8080/"
        },
        "outputId": "1ef6a6f7-f3b2-4785-d56f-7bbf8906ef6a"
      },
      "source": [
        "DataFrame[['Delivery_Year', 'Delivery_Quarter']][DataFrame['Delivery_Year'] == 2016]['Delivery_Quarter'].value_counts()"
      ],
      "execution_count": null,
      "outputs": [
        {
          "output_type": "execute_result",
          "data": {
            "text/plain": [
              "Q1    1264\n",
              "Q2    1076\n",
              "Q4    1032\n",
              "Q3     999\n",
              "Name: Delivery_Quarter, dtype: int64"
            ]
          },
          "metadata": {
            "tags": []
          },
          "execution_count": 14
        }
      ]
    },
    {
      "cell_type": "code",
      "metadata": {
        "id": "nY83qv9pdAx-",
        "colab": {
          "base_uri": "https://localhost:8080/"
        },
        "outputId": "e451dc90-ccfd-470c-aa5c-bab5cc1d7b68"
      },
      "source": [
        "DataFrame[['Delivery_Year', 'Total_Amount']][DataFrame['Delivery_Year'] == 2016]['Total_Amount'].describe()"
      ],
      "execution_count": null,
      "outputs": [
        {
          "output_type": "execute_result",
          "data": {
            "text/plain": [
              "count    4.314000e+03\n",
              "mean     1.996748e+06\n",
              "std      1.107517e+07\n",
              "min      0.000000e+00\n",
              "25%      1.800000e+04\n",
              "50%      1.160250e+05\n",
              "75%      5.585332e+05\n",
              "max      3.150001e+08\n",
              "Name: Total_Amount, dtype: float64"
            ]
          },
          "metadata": {
            "tags": []
          },
          "execution_count": 15
        }
      ]
    },
    {
      "cell_type": "markdown",
      "metadata": {
        "id": "okULuKLIZLvF"
      },
      "source": [
        "##Observo año 2017"
      ]
    },
    {
      "cell_type": "code",
      "metadata": {
        "id": "jWb_AnHxZT3c",
        "colab": {
          "base_uri": "https://localhost:8080/"
        },
        "outputId": "bfee9021-7b28-4d4e-f13e-29367dc66e05"
      },
      "source": [
        "DataFrame[['Delivery_Year', 'Delivery_Quarter']][DataFrame['Delivery_Year'] == 2017]['Delivery_Quarter'].value_counts()"
      ],
      "execution_count": null,
      "outputs": [
        {
          "output_type": "execute_result",
          "data": {
            "text/plain": [
              "Q2    1704\n",
              "Q4    1662\n",
              "Q3    1629\n",
              "Q1    1323\n",
              "Name: Delivery_Quarter, dtype: int64"
            ]
          },
          "metadata": {
            "tags": []
          },
          "execution_count": 16
        }
      ]
    },
    {
      "cell_type": "code",
      "metadata": {
        "id": "OLZGJs0Zw2oK",
        "colab": {
          "base_uri": "https://localhost:8080/"
        },
        "outputId": "d8744c7b-6807-4623-bbb1-7e590aba5979"
      },
      "source": [
        "DataFrame[['Delivery_Year', 'Total_Amount']][DataFrame['Delivery_Year'] == 2017]['Total_Amount'].describe()"
      ],
      "execution_count": null,
      "outputs": [
        {
          "output_type": "execute_result",
          "data": {
            "text/plain": [
              "count    6.316000e+03\n",
              "mean     1.552745e+06\n",
              "std      1.442802e+07\n",
              "min      0.000000e+00\n",
              "25%      2.916639e+04\n",
              "50%      1.044144e+05\n",
              "75%      4.433962e+05\n",
              "max      9.199924e+08\n",
              "Name: Total_Amount, dtype: float64"
            ]
          },
          "metadata": {
            "tags": []
          },
          "execution_count": 17
        }
      ]
    },
    {
      "cell_type": "markdown",
      "metadata": {
        "id": "5oF6eBWlZMbh"
      },
      "source": [
        "##Observo año 2018"
      ]
    },
    {
      "cell_type": "code",
      "metadata": {
        "id": "boqr86rRZU1b",
        "colab": {
          "base_uri": "https://localhost:8080/"
        },
        "outputId": "c7d47613-34d2-430a-a1e6-cd027622ae02"
      },
      "source": [
        "DataFrame[['Delivery_Year', 'Delivery_Quarter']][DataFrame['Delivery_Year'] == 2018]['Delivery_Quarter'].value_counts()"
      ],
      "execution_count": null,
      "outputs": [
        {
          "output_type": "execute_result",
          "data": {
            "text/plain": [
              "Q2    1582\n",
              "Q4    1435\n",
              "Q1    1431\n",
              "Q3    1382\n",
              "Name: Delivery_Quarter, dtype: int64"
            ]
          },
          "metadata": {
            "tags": []
          },
          "execution_count": 18
        }
      ]
    },
    {
      "cell_type": "code",
      "metadata": {
        "id": "v1kftfB5w380",
        "colab": {
          "base_uri": "https://localhost:8080/"
        },
        "outputId": "0bc55b3b-7f4d-460f-acc2-1df3e8708df7"
      },
      "source": [
        "DataFrame[['Delivery_Year', 'Total_Amount']][DataFrame['Delivery_Year'] == 2018]['Total_Amount'].describe()"
      ],
      "execution_count": null,
      "outputs": [
        {
          "output_type": "execute_result",
          "data": {
            "text/plain": [
              "count    5.830000e+03\n",
              "mean     1.532077e+06\n",
              "std      1.152037e+07\n",
              "min      0.000000e+00\n",
              "25%      3.437719e+04\n",
              "50%      1.015000e+05\n",
              "75%      3.735200e+05\n",
              "max      6.600053e+08\n",
              "Name: Total_Amount, dtype: float64"
            ]
          },
          "metadata": {
            "tags": []
          },
          "execution_count": 19
        }
      ]
    },
    {
      "cell_type": "markdown",
      "metadata": {
        "id": "6m_mO9-tZM8H"
      },
      "source": [
        "##Observo año 2019"
      ]
    },
    {
      "cell_type": "code",
      "metadata": {
        "id": "UIA39oobZV1B",
        "colab": {
          "base_uri": "https://localhost:8080/"
        },
        "outputId": "f839791c-dc97-4cc1-a591-67cfefc52fbd"
      },
      "source": [
        "DataFrame[['Delivery_Year', 'Delivery_Quarter']][DataFrame['Delivery_Year'] == 2019]['Delivery_Quarter'].value_counts()"
      ],
      "execution_count": null,
      "outputs": [
        {
          "output_type": "execute_result",
          "data": {
            "text/plain": [
              "Q1    290\n",
              "Q2     77\n",
              "Q3     32\n",
              "Q4     15\n",
              "Name: Delivery_Quarter, dtype: int64"
            ]
          },
          "metadata": {
            "tags": []
          },
          "execution_count": 20
        }
      ]
    },
    {
      "cell_type": "code",
      "metadata": {
        "id": "AJjGKELew4zb",
        "colab": {
          "base_uri": "https://localhost:8080/"
        },
        "outputId": "9516d58a-fcbb-4ed4-c3e0-f6a9ebad9ffb"
      },
      "source": [
        "DataFrame[['Delivery_Year', 'Total_Amount']][DataFrame['Delivery_Year'] == 2019]['Total_Amount'].describe()"
      ],
      "execution_count": null,
      "outputs": [
        {
          "output_type": "execute_result",
          "data": {
            "text/plain": [
              "count    4.140000e+02\n",
              "mean     8.926692e+06\n",
              "std      4.391005e+07\n",
              "min      7.500000e+02\n",
              "25%      1.003105e+05\n",
              "50%      8.766487e+05\n",
              "75%      5.666865e+06\n",
              "max      7.600000e+08\n",
              "Name: Total_Amount, dtype: float64"
            ]
          },
          "metadata": {
            "tags": []
          },
          "execution_count": 21
        }
      ]
    },
    {
      "cell_type": "markdown",
      "metadata": {
        "id": "yX-RWZiEZOlB"
      },
      "source": [
        "##Observo año 2020 (Pero no lo voy a utilizar por poca cantidad de datos)"
      ]
    },
    {
      "cell_type": "code",
      "metadata": {
        "id": "q9FxlxePZWu8",
        "colab": {
          "base_uri": "https://localhost:8080/"
        },
        "outputId": "a94ae6bd-b01c-41a6-d76d-45473569b805"
      },
      "source": [
        "DataFrame[['Delivery_Year', 'Delivery_Quarter']][DataFrame['Delivery_Year'] == 2020]['Delivery_Quarter'].value_counts()"
      ],
      "execution_count": null,
      "outputs": [
        {
          "output_type": "execute_result",
          "data": {
            "text/plain": [
              "Q1    9\n",
              "Q2    4\n",
              "Q3    1\n",
              "Name: Delivery_Quarter, dtype: int64"
            ]
          },
          "metadata": {
            "tags": []
          },
          "execution_count": 22
        }
      ]
    },
    {
      "cell_type": "code",
      "metadata": {
        "id": "m8KXA_jhw5xG",
        "colab": {
          "base_uri": "https://localhost:8080/"
        },
        "outputId": "07df5a4a-44ad-4570-a2f0-ad2c6eddf04b"
      },
      "source": [
        "DataFrame[['Delivery_Year', 'Total_Amount']][DataFrame['Delivery_Year'] == 2020]['Total_Amount'].describe()"
      ],
      "execution_count": null,
      "outputs": [
        {
          "output_type": "execute_result",
          "data": {
            "text/plain": [
              "count    1.400000e+01\n",
              "mean     1.871536e+08\n",
              "std      3.776309e+08\n",
              "min      2.842000e+05\n",
              "25%      4.524957e+06\n",
              "50%      2.505100e+07\n",
              "75%      8.507118e+07\n",
              "max      1.320000e+09\n",
              "Name: Total_Amount, dtype: float64"
            ]
          },
          "metadata": {
            "tags": []
          },
          "execution_count": 23
        }
      ]
    },
    {
      "cell_type": "markdown",
      "metadata": {
        "id": "LrSazIhSHdrD"
      },
      "source": [
        "#Forma 1 (One Hot Encoder a mano)\r\n"
      ]
    },
    {
      "cell_type": "markdown",
      "metadata": {
        "id": "sJjUX5KfI3TV"
      },
      "source": [
        "##Conversion a Dolar"
      ]
    },
    {
      "cell_type": "code",
      "metadata": {
        "id": "iDUH8GT3I22k"
      },
      "source": [
        "DataFrame.loc[DataFrame['Total_Amount_Currency'] == 'JPY', 'Total_Amount'] = DataFrame['Total_Amount']*0.0096\r\n",
        "DataFrame.loc[DataFrame['Total_Amount_Currency'] == 'JPY', 'Total_Amount_Currency'] = 'USD'\r\n",
        "\r\n",
        "DataFrame.loc[DataFrame['Total_Amount_Currency'] == 'EUR', 'Total_Amount'] = DataFrame['Total_Amount']*1.17\r\n",
        "DataFrame.loc[DataFrame['Total_Amount_Currency'] == 'EUR', 'Total_Amount_Currency'] = 'USD'\r\n",
        "\r\n",
        "DataFrame.loc[DataFrame['Total_Amount_Currency'] == 'AUD', 'Total_Amount'] = DataFrame['Total_Amount']*0.70\r\n",
        "DataFrame.loc[DataFrame['Total_Amount_Currency'] == 'AUD', 'Total_Amount_Currency'] = 'USD'\r\n",
        "\r\n",
        "DataFrame.loc[DataFrame['Total_Amount_Currency'] == 'GBP', 'Total_Amount'] = DataFrame['Total_Amount']*1.29\r\n",
        "DataFrame.loc[DataFrame['Total_Amount_Currency'] == 'GBP', 'Total_Amount_Currency'] = 'USD'"
      ],
      "execution_count": null,
      "outputs": []
    },
    {
      "cell_type": "code",
      "metadata": {
        "id": "evHtmO62JTOB",
        "colab": {
          "base_uri": "https://localhost:8080/"
        },
        "outputId": "cd636fa0-f8fb-4905-ff2b-361c629f92b8"
      },
      "source": [
        "DataFrame['Total_Amount'].value_counts()"
      ],
      "execution_count": null,
      "outputs": [
        {
          "output_type": "execute_result",
          "data": {
            "text/plain": [
              "5.952000e+01    513\n",
              "4.224000e+01    460\n",
              "1.728000e+02    351\n",
              "1.344000e+03    272\n",
              "1.536000e+01    204\n",
              "               ... \n",
              "1.075200e+04      1\n",
              "6.869055e+05      1\n",
              "3.163680e+04      1\n",
              "1.373772e+06      1\n",
              "1.749888e+06      1\n",
              "Name: Total_Amount, Length: 9350, dtype: int64"
            ]
          },
          "metadata": {
            "tags": []
          },
          "execution_count": 25
        }
      ]
    },
    {
      "cell_type": "code",
      "metadata": {
        "id": "m1IuAXYDJUQb",
        "colab": {
          "base_uri": "https://localhost:8080/"
        },
        "outputId": "74fac09e-2e0b-4409-dede-e44520ab1464"
      },
      "source": [
        "DataFrame['Total_Amount'].mean()"
      ],
      "execution_count": null,
      "outputs": [
        {
          "output_type": "execute_result",
          "data": {
            "text/plain": [
              "1007398.2109417549"
            ]
          },
          "metadata": {
            "tags": []
          },
          "execution_count": 26
        }
      ]
    },
    {
      "cell_type": "markdown",
      "metadata": {
        "id": "xMnCqPyyJWXG"
      },
      "source": [
        "##Filtro \r\n"
      ]
    },
    {
      "cell_type": "code",
      "metadata": {
        "id": "bMXGbvFkJXjp",
        "colab": {
          "base_uri": "https://localhost:8080/"
        },
        "outputId": "ac1010bd-45e3-4a3c-910e-4885b89041c3"
      },
      "source": [
        "DataFrame_short = DataFrame[['Region', 'Total_Amount', 'Delivery_Year', 'Delivery_Quarter','Pricing, Delivery_Terms_Approved','Pricing, Delivery_Terms_Quote_Appr','Stage' ]].rename(columns={'Stage': 'Decision'})\r\n",
        "DataFrame_short = DataFrame_short[(DataFrame_short['Decision'] == 'Closed Lost') | (DataFrame_short['Decision'] == 'Closed Won')]\r\n",
        "DataFrame_short.head()"
      ],
      "execution_count": null,
      "outputs": [
        {
          "output_type": "execute_result",
          "data": {
            "text/html": [
              "<div>\n",
              "<style scoped>\n",
              "    .dataframe tbody tr th:only-of-type {\n",
              "        vertical-align: middle;\n",
              "    }\n",
              "\n",
              "    .dataframe tbody tr th {\n",
              "        vertical-align: top;\n",
              "    }\n",
              "\n",
              "    .dataframe thead th {\n",
              "        text-align: right;\n",
              "    }\n",
              "</style>\n",
              "<table border=\"1\" class=\"dataframe\">\n",
              "  <thead>\n",
              "    <tr style=\"text-align: right;\">\n",
              "      <th></th>\n",
              "      <th>Region</th>\n",
              "      <th>Total_Amount</th>\n",
              "      <th>Delivery_Year</th>\n",
              "      <th>Delivery_Quarter</th>\n",
              "      <th>Pricing, Delivery_Terms_Approved</th>\n",
              "      <th>Pricing, Delivery_Terms_Quote_Appr</th>\n",
              "      <th>Decision</th>\n",
              "    </tr>\n",
              "  </thead>\n",
              "  <tbody>\n",
              "    <tr>\n",
              "      <th>0</th>\n",
              "      <td>EMEA</td>\n",
              "      <td>6169176.0</td>\n",
              "      <td>2016</td>\n",
              "      <td>Q2</td>\n",
              "      <td>1</td>\n",
              "      <td>1</td>\n",
              "      <td>Closed Lost</td>\n",
              "    </tr>\n",
              "    <tr>\n",
              "      <th>1</th>\n",
              "      <td>EMEA</td>\n",
              "      <td>56429.1</td>\n",
              "      <td>2016</td>\n",
              "      <td>Q1</td>\n",
              "      <td>0</td>\n",
              "      <td>0</td>\n",
              "      <td>Closed Won</td>\n",
              "    </tr>\n",
              "    <tr>\n",
              "      <th>2</th>\n",
              "      <td>Americas</td>\n",
              "      <td>83865.6</td>\n",
              "      <td>2016</td>\n",
              "      <td>Q1</td>\n",
              "      <td>0</td>\n",
              "      <td>0</td>\n",
              "      <td>Closed Won</td>\n",
              "    </tr>\n",
              "    <tr>\n",
              "      <th>3</th>\n",
              "      <td>Americas</td>\n",
              "      <td>7421881.5</td>\n",
              "      <td>2018</td>\n",
              "      <td>Q1</td>\n",
              "      <td>0</td>\n",
              "      <td>1</td>\n",
              "      <td>Closed Lost</td>\n",
              "    </tr>\n",
              "    <tr>\n",
              "      <th>4</th>\n",
              "      <td>Americas</td>\n",
              "      <td>13357192.5</td>\n",
              "      <td>2018</td>\n",
              "      <td>Q1</td>\n",
              "      <td>0</td>\n",
              "      <td>1</td>\n",
              "      <td>Closed Lost</td>\n",
              "    </tr>\n",
              "  </tbody>\n",
              "</table>\n",
              "</div>"
            ],
            "text/plain": [
              "     Region  Total_Amount  ...  Pricing, Delivery_Terms_Quote_Appr     Decision\n",
              "0      EMEA     6169176.0  ...                                   1  Closed Lost\n",
              "1      EMEA       56429.1  ...                                   0   Closed Won\n",
              "2  Americas       83865.6  ...                                   0   Closed Won\n",
              "3  Americas     7421881.5  ...                                   1  Closed Lost\n",
              "4  Americas    13357192.5  ...                                   1  Closed Lost\n",
              "\n",
              "[5 rows x 7 columns]"
            ]
          },
          "metadata": {
            "tags": []
          },
          "execution_count": 27
        }
      ]
    },
    {
      "cell_type": "markdown",
      "metadata": {
        "id": "qUNKZ-BIJZrK"
      },
      "source": [
        "##Drops de NAN"
      ]
    },
    {
      "cell_type": "code",
      "metadata": {
        "id": "7qROM7V-Jaxh",
        "colab": {
          "base_uri": "https://localhost:8080/"
        },
        "outputId": "593581af-c02e-4b28-bfd9-c11e6d6d8adf"
      },
      "source": [
        "DataFrame_short.isnull().sum()"
      ],
      "execution_count": null,
      "outputs": [
        {
          "output_type": "execute_result",
          "data": {
            "text/plain": [
              "Region                                 0\n",
              "Total_Amount                          59\n",
              "Delivery_Year                          0\n",
              "Delivery_Quarter                       0\n",
              "Pricing, Delivery_Terms_Approved       0\n",
              "Pricing, Delivery_Terms_Quote_Appr     0\n",
              "Decision                               0\n",
              "dtype: int64"
            ]
          },
          "metadata": {
            "tags": []
          },
          "execution_count": 28
        }
      ]
    },
    {
      "cell_type": "code",
      "metadata": {
        "id": "gjEDy1BrJcYg"
      },
      "source": [
        "DataFrame_short.dropna(inplace=True)"
      ],
      "execution_count": null,
      "outputs": []
    },
    {
      "cell_type": "code",
      "metadata": {
        "id": "eBH812dHJdSR",
        "colab": {
          "base_uri": "https://localhost:8080/"
        },
        "outputId": "249eed04-b4b5-4d4a-b468-7151cf05fad2"
      },
      "source": [
        "DataFrame_short.isnull().sum()"
      ],
      "execution_count": null,
      "outputs": [
        {
          "output_type": "execute_result",
          "data": {
            "text/plain": [
              "Region                                0\n",
              "Total_Amount                          0\n",
              "Delivery_Year                         0\n",
              "Delivery_Quarter                      0\n",
              "Pricing, Delivery_Terms_Approved      0\n",
              "Pricing, Delivery_Terms_Quote_Appr    0\n",
              "Decision                              0\n",
              "dtype: int64"
            ]
          },
          "metadata": {
            "tags": []
          },
          "execution_count": 30
        }
      ]
    },
    {
      "cell_type": "markdown",
      "metadata": {
        "id": "61ds6rlLJ7T6"
      },
      "source": [
        "##Filtro total amount mayor a cero y aplico log"
      ]
    },
    {
      "cell_type": "code",
      "metadata": {
        "id": "uiN01RwUJ-LV"
      },
      "source": [
        "DataFrame_short = DataFrame_short[DataFrame_short[\"Total_Amount\"] > 0 ]\r\n",
        "DataFrame_short['Total_Amount'] = np.log(DataFrame_short.Total_Amount)"
      ],
      "execution_count": null,
      "outputs": []
    },
    {
      "cell_type": "markdown",
      "metadata": {
        "id": "VeJKqjlTKDr2"
      },
      "source": [
        "##Encoding"
      ]
    },
    {
      "cell_type": "markdown",
      "metadata": {
        "id": "qtAlx3sfKRdc"
      },
      "source": [
        "### **Decision**"
      ]
    },
    {
      "cell_type": "code",
      "metadata": {
        "id": "lsELNHmkKDAE",
        "colab": {
          "base_uri": "https://localhost:8080/"
        },
        "outputId": "8429dd42-697d-4de7-9e89-3cfb986b3f2c"
      },
      "source": [
        "DataFrame_short['Decision'].value_counts()"
      ],
      "execution_count": null,
      "outputs": [
        {
          "output_type": "execute_result",
          "data": {
            "text/plain": [
              "Closed Won     9527\n",
              "Closed Lost    7245\n",
              "Name: Decision, dtype: int64"
            ]
          },
          "metadata": {
            "tags": []
          },
          "execution_count": 32
        }
      ]
    },
    {
      "cell_type": "code",
      "metadata": {
        "id": "sQCWLA-KKGLB"
      },
      "source": [
        "DataFrame_short['Decision'] = np.where(DataFrame_short['Decision'] == 'Closed Won',1,0)"
      ],
      "execution_count": null,
      "outputs": []
    },
    {
      "cell_type": "code",
      "metadata": {
        "id": "sPW9JPzGKID_",
        "colab": {
          "base_uri": "https://localhost:8080/"
        },
        "outputId": "8f067696-c83a-46ec-93d8-3d62e43a4c88"
      },
      "source": [
        "DataFrame_short['Decision'].value_counts()"
      ],
      "execution_count": null,
      "outputs": [
        {
          "output_type": "execute_result",
          "data": {
            "text/plain": [
              "1    9527\n",
              "0    7245\n",
              "Name: Decision, dtype: int64"
            ]
          },
          "metadata": {
            "tags": []
          },
          "execution_count": 34
        }
      ]
    },
    {
      "cell_type": "markdown",
      "metadata": {
        "id": "EcbDDxZwKUwq"
      },
      "source": [
        "### **Quarter**"
      ]
    },
    {
      "cell_type": "code",
      "metadata": {
        "id": "yawF-zcXKQNt",
        "colab": {
          "base_uri": "https://localhost:8080/"
        },
        "outputId": "dd3876b4-5f4d-4b15-b72e-f0736dbef15b"
      },
      "source": [
        "DataFrame_short['Delivery_Quarter'].value_counts()"
      ],
      "execution_count": null,
      "outputs": [
        {
          "output_type": "execute_result",
          "data": {
            "text/plain": [
              "Q2    4385\n",
              "Q1    4264\n",
              "Q4    4119\n",
              "Q3    4004\n",
              "Name: Delivery_Quarter, dtype: int64"
            ]
          },
          "metadata": {
            "tags": []
          },
          "execution_count": 35
        }
      ]
    },
    {
      "cell_type": "code",
      "metadata": {
        "id": "Y8_Q10fxKtmY"
      },
      "source": [
        "DataFrame_short['Delivery_Quarter_1'] = np.where(DataFrame_short['Delivery_Quarter'] == 'Q1',1,0)"
      ],
      "execution_count": null,
      "outputs": []
    },
    {
      "cell_type": "code",
      "metadata": {
        "id": "1WNH0oRiKu6g"
      },
      "source": [
        "DataFrame_short['Delivery_Quarter_2'] = np.where(DataFrame_short['Delivery_Quarter'] == 'Q2',1,0)"
      ],
      "execution_count": null,
      "outputs": []
    },
    {
      "cell_type": "code",
      "metadata": {
        "id": "Nrh6wm3SKv72"
      },
      "source": [
        "DataFrame_short['Delivery_Quarter_3'] = np.where(DataFrame_short['Delivery_Quarter'] == 'Q3',1,0)"
      ],
      "execution_count": null,
      "outputs": []
    },
    {
      "cell_type": "code",
      "metadata": {
        "id": "lD3IuV-SKw_j"
      },
      "source": [
        "DataFrame_short['Delivery_Quarter_4'] = np.where(DataFrame_short['Delivery_Quarter'] == 'Q4',1,0)"
      ],
      "execution_count": null,
      "outputs": []
    },
    {
      "cell_type": "code",
      "metadata": {
        "id": "nMk-ZvqFKz3d"
      },
      "source": [
        "DataFrame_short.drop('Delivery_Quarter', axis = 1, inplace = True)"
      ],
      "execution_count": null,
      "outputs": []
    },
    {
      "cell_type": "markdown",
      "metadata": {
        "id": "xtv3w9wHK1ul"
      },
      "source": [
        "### **Region**"
      ]
    },
    {
      "cell_type": "code",
      "metadata": {
        "id": "4Zd4jyIcK3zV",
        "colab": {
          "base_uri": "https://localhost:8080/"
        },
        "outputId": "c25a99be-f8b8-41e6-9195-534e8cd827eb"
      },
      "source": [
        "DataFrame_short['Region'].value_counts()"
      ],
      "execution_count": null,
      "outputs": [
        {
          "output_type": "execute_result",
          "data": {
            "text/plain": [
              "Japan          4845\n",
              "EMEA           4637\n",
              "Americas       3892\n",
              "APAC           3231\n",
              "Middle East     167\n",
              "Name: Region, dtype: int64"
            ]
          },
          "metadata": {
            "tags": []
          },
          "execution_count": 41
        }
      ]
    },
    {
      "cell_type": "code",
      "metadata": {
        "id": "zVLYflezK6QC"
      },
      "source": [
        "DataFrame_short['Region_Japon'] = np.where(DataFrame_short['Region'] == 'Japan',1,0)"
      ],
      "execution_count": null,
      "outputs": []
    },
    {
      "cell_type": "code",
      "metadata": {
        "id": "NAJ_QoPlK7R4"
      },
      "source": [
        "DataFrame_short['Region_EMEA '] = np.where(DataFrame_short['Region'] == 'EMEA',1,0)"
      ],
      "execution_count": null,
      "outputs": []
    },
    {
      "cell_type": "code",
      "metadata": {
        "id": "IiDm_41hK8eg"
      },
      "source": [
        "DataFrame_short['Region_Americas'] = np.where(DataFrame_short['Region'] == 'Americas',1,0)"
      ],
      "execution_count": null,
      "outputs": []
    },
    {
      "cell_type": "code",
      "metadata": {
        "id": "L1ynpZWrK9li"
      },
      "source": [
        "DataFrame_short['Region_Apac'] = np.where(DataFrame_short['Region'] == 'APAC',1,0)"
      ],
      "execution_count": null,
      "outputs": []
    },
    {
      "cell_type": "code",
      "metadata": {
        "id": "xfeZJMr7K-pI"
      },
      "source": [
        "DataFrame_short['Region_Middle_East'] = np.where(DataFrame_short['Region'] == 'Middle East',1,0)"
      ],
      "execution_count": null,
      "outputs": []
    },
    {
      "cell_type": "code",
      "metadata": {
        "id": "1NHrAi-sLAay"
      },
      "source": [
        "DataFrame_short.drop('Region', axis = 1, inplace = True)"
      ],
      "execution_count": null,
      "outputs": []
    },
    {
      "cell_type": "markdown",
      "metadata": {
        "id": "4afLxJGtLCKs"
      },
      "source": [
        "**Df encodeado**"
      ]
    },
    {
      "cell_type": "code",
      "metadata": {
        "id": "ZfyqPZSoLDB_",
        "colab": {
          "base_uri": "https://localhost:8080/"
        },
        "outputId": "404af951-b8ef-4985-bbd0-ec1ad294fb16"
      },
      "source": [
        "DataFrame_short.head()"
      ],
      "execution_count": null,
      "outputs": [
        {
          "output_type": "execute_result",
          "data": {
            "text/html": [
              "<div>\n",
              "<style scoped>\n",
              "    .dataframe tbody tr th:only-of-type {\n",
              "        vertical-align: middle;\n",
              "    }\n",
              "\n",
              "    .dataframe tbody tr th {\n",
              "        vertical-align: top;\n",
              "    }\n",
              "\n",
              "    .dataframe thead th {\n",
              "        text-align: right;\n",
              "    }\n",
              "</style>\n",
              "<table border=\"1\" class=\"dataframe\">\n",
              "  <thead>\n",
              "    <tr style=\"text-align: right;\">\n",
              "      <th></th>\n",
              "      <th>Total_Amount</th>\n",
              "      <th>Delivery_Year</th>\n",
              "      <th>Pricing, Delivery_Terms_Approved</th>\n",
              "      <th>Pricing, Delivery_Terms_Quote_Appr</th>\n",
              "      <th>Decision</th>\n",
              "      <th>Delivery_Quarter_1</th>\n",
              "      <th>Delivery_Quarter_2</th>\n",
              "      <th>Delivery_Quarter_3</th>\n",
              "      <th>Delivery_Quarter_4</th>\n",
              "      <th>Region_Japon</th>\n",
              "      <th>Region_EMEA</th>\n",
              "      <th>Region_Americas</th>\n",
              "      <th>Region_Apac</th>\n",
              "      <th>Region_Middle_East</th>\n",
              "    </tr>\n",
              "  </thead>\n",
              "  <tbody>\n",
              "    <tr>\n",
              "      <th>0</th>\n",
              "      <td>15.635076</td>\n",
              "      <td>2016</td>\n",
              "      <td>1</td>\n",
              "      <td>1</td>\n",
              "      <td>0</td>\n",
              "      <td>0</td>\n",
              "      <td>1</td>\n",
              "      <td>0</td>\n",
              "      <td>0</td>\n",
              "      <td>0</td>\n",
              "      <td>1</td>\n",
              "      <td>0</td>\n",
              "      <td>0</td>\n",
              "      <td>0</td>\n",
              "    </tr>\n",
              "    <tr>\n",
              "      <th>1</th>\n",
              "      <td>10.940740</td>\n",
              "      <td>2016</td>\n",
              "      <td>0</td>\n",
              "      <td>0</td>\n",
              "      <td>1</td>\n",
              "      <td>1</td>\n",
              "      <td>0</td>\n",
              "      <td>0</td>\n",
              "      <td>0</td>\n",
              "      <td>0</td>\n",
              "      <td>1</td>\n",
              "      <td>0</td>\n",
              "      <td>0</td>\n",
              "      <td>0</td>\n",
              "    </tr>\n",
              "    <tr>\n",
              "      <th>2</th>\n",
              "      <td>11.336971</td>\n",
              "      <td>2016</td>\n",
              "      <td>0</td>\n",
              "      <td>0</td>\n",
              "      <td>1</td>\n",
              "      <td>1</td>\n",
              "      <td>0</td>\n",
              "      <td>0</td>\n",
              "      <td>0</td>\n",
              "      <td>0</td>\n",
              "      <td>0</td>\n",
              "      <td>1</td>\n",
              "      <td>0</td>\n",
              "      <td>0</td>\n",
              "    </tr>\n",
              "    <tr>\n",
              "      <th>3</th>\n",
              "      <td>15.819943</td>\n",
              "      <td>2018</td>\n",
              "      <td>0</td>\n",
              "      <td>1</td>\n",
              "      <td>0</td>\n",
              "      <td>1</td>\n",
              "      <td>0</td>\n",
              "      <td>0</td>\n",
              "      <td>0</td>\n",
              "      <td>0</td>\n",
              "      <td>0</td>\n",
              "      <td>1</td>\n",
              "      <td>0</td>\n",
              "      <td>0</td>\n",
              "    </tr>\n",
              "    <tr>\n",
              "      <th>4</th>\n",
              "      <td>16.407566</td>\n",
              "      <td>2018</td>\n",
              "      <td>0</td>\n",
              "      <td>1</td>\n",
              "      <td>0</td>\n",
              "      <td>1</td>\n",
              "      <td>0</td>\n",
              "      <td>0</td>\n",
              "      <td>0</td>\n",
              "      <td>0</td>\n",
              "      <td>0</td>\n",
              "      <td>1</td>\n",
              "      <td>0</td>\n",
              "      <td>0</td>\n",
              "    </tr>\n",
              "  </tbody>\n",
              "</table>\n",
              "</div>"
            ],
            "text/plain": [
              "   Total_Amount  Delivery_Year  ...  Region_Apac  Region_Middle_East\n",
              "0     15.635076           2016  ...            0                   0\n",
              "1     10.940740           2016  ...            0                   0\n",
              "2     11.336971           2016  ...            0                   0\n",
              "3     15.819943           2018  ...            0                   0\n",
              "4     16.407566           2018  ...            0                   0\n",
              "\n",
              "[5 rows x 14 columns]"
            ]
          },
          "metadata": {
            "tags": []
          },
          "execution_count": 48
        }
      ]
    },
    {
      "cell_type": "markdown",
      "metadata": {
        "id": "49jhbIM0tsSZ"
      },
      "source": [
        "##Test"
      ]
    },
    {
      "cell_type": "code",
      "metadata": {
        "id": "vtqNFIZCtkWh",
        "colab": {
          "base_uri": "https://localhost:8080/",
          "height": 626
        },
        "outputId": "f3ee8c6a-a94d-4e98-84d1-086a0cc17eff"
      },
      "source": [
        "DataFrame_test1 = pd.read_csv( \"/content/Test.csv\" )\r\n",
        "DataFrame_test1"
      ],
      "execution_count": null,
      "outputs": [
        {
          "output_type": "execute_result",
          "data": {
            "text/html": [
              "<div>\n",
              "<style scoped>\n",
              "    .dataframe tbody tr th:only-of-type {\n",
              "        vertical-align: middle;\n",
              "    }\n",
              "\n",
              "    .dataframe tbody tr th {\n",
              "        vertical-align: top;\n",
              "    }\n",
              "\n",
              "    .dataframe thead th {\n",
              "        text-align: right;\n",
              "    }\n",
              "</style>\n",
              "<table border=\"1\" class=\"dataframe\">\n",
              "  <thead>\n",
              "    <tr style=\"text-align: right;\">\n",
              "      <th></th>\n",
              "      <th>ID</th>\n",
              "      <th>Region</th>\n",
              "      <th>Territory</th>\n",
              "      <th>Pricing, Delivery_Terms_Quote_Appr</th>\n",
              "      <th>Pricing, Delivery_Terms_Approved</th>\n",
              "      <th>Bureaucratic_Code_0_Approval</th>\n",
              "      <th>Bureaucratic_Code_0_Approved</th>\n",
              "      <th>Submitted_for_Approval</th>\n",
              "      <th>Bureaucratic_Code</th>\n",
              "      <th>Account_Created_Date</th>\n",
              "      <th>Source</th>\n",
              "      <th>Billing_Country</th>\n",
              "      <th>Account_Name</th>\n",
              "      <th>Opportunity_Name</th>\n",
              "      <th>Opportunity_ID</th>\n",
              "      <th>Sales_Contract_No</th>\n",
              "      <th>Account_Owner</th>\n",
              "      <th>Opportunity_Owner</th>\n",
              "      <th>Account_Type</th>\n",
              "      <th>Opportunity_Type</th>\n",
              "      <th>Quote_Type</th>\n",
              "      <th>Delivery_Terms</th>\n",
              "      <th>Opportunity_Created_Date</th>\n",
              "      <th>Brand</th>\n",
              "      <th>Product_Type</th>\n",
              "      <th>Size</th>\n",
              "      <th>Product_Category_B</th>\n",
              "      <th>Price</th>\n",
              "      <th>Currency</th>\n",
              "      <th>Last_Activity</th>\n",
              "      <th>Quote_Expiry_Date</th>\n",
              "      <th>Last_Modified_Date</th>\n",
              "      <th>Last_Modified_By</th>\n",
              "      <th>Product_Family</th>\n",
              "      <th>Product_Name</th>\n",
              "      <th>ASP_Currency</th>\n",
              "      <th>ASP</th>\n",
              "      <th>ASP_(converted)_Currency</th>\n",
              "      <th>ASP_(converted)</th>\n",
              "      <th>Planned_Delivery_Start_Date</th>\n",
              "      <th>Planned_Delivery_End_Date</th>\n",
              "      <th>Month</th>\n",
              "      <th>Delivery_Quarter</th>\n",
              "      <th>Delivery_Year</th>\n",
              "      <th>Actual_Delivery_Date</th>\n",
              "      <th>TRF</th>\n",
              "      <th>Total_Amount_Currency</th>\n",
              "      <th>Total_Amount</th>\n",
              "      <th>Total_Taxable_Amount_Currency</th>\n",
              "      <th>Total_Taxable_Amount</th>\n",
              "      <th>Prod_Category_A</th>\n",
              "    </tr>\n",
              "  </thead>\n",
              "  <tbody>\n",
              "    <tr>\n",
              "      <th>0</th>\n",
              "      <td>6140</td>\n",
              "      <td>EMEA</td>\n",
              "      <td>Germany</td>\n",
              "      <td>1</td>\n",
              "      <td>1</td>\n",
              "      <td>1</td>\n",
              "      <td>1</td>\n",
              "      <td>0</td>\n",
              "      <td>Bureaucratic_Code_4</td>\n",
              "      <td>7/5/2017</td>\n",
              "      <td>Source_7</td>\n",
              "      <td>Germany</td>\n",
              "      <td>Account_Name_978</td>\n",
              "      <td>Opportunity_Name_6118</td>\n",
              "      <td>10689</td>\n",
              "      <td>6436</td>\n",
              "      <td>Person_Name_13</td>\n",
              "      <td>Person_Name_13</td>\n",
              "      <td>Account_Type_0</td>\n",
              "      <td>Opportunity_Type_8</td>\n",
              "      <td>Non Binding</td>\n",
              "      <td>Delivery_Terms_2</td>\n",
              "      <td>4/12/2019</td>\n",
              "      <td>None</td>\n",
              "      <td>None</td>\n",
              "      <td>None</td>\n",
              "      <td>None</td>\n",
              "      <td>None</td>\n",
              "      <td>None</td>\n",
              "      <td>NaT</td>\n",
              "      <td>4/30/2019</td>\n",
              "      <td>4/12/2019</td>\n",
              "      <td>Person_Name_13</td>\n",
              "      <td>Product_Family_171</td>\n",
              "      <td>Product_Name_332</td>\n",
              "      <td>EUR</td>\n",
              "      <td>0.325</td>\n",
              "      <td>USD</td>\n",
              "      <td>0.36761</td>\n",
              "      <td>5/1/2019</td>\n",
              "      <td>5/31/2019</td>\n",
              "      <td>2019 - 5</td>\n",
              "      <td>Q2</td>\n",
              "      <td>2019</td>\n",
              "      <td>NaT</td>\n",
              "      <td>0</td>\n",
              "      <td>EUR</td>\n",
              "      <td>162240.0</td>\n",
              "      <td>EUR</td>\n",
              "      <td>367419.0</td>\n",
              "      <td>Prod_Category_A_None</td>\n",
              "    </tr>\n",
              "    <tr>\n",
              "      <th>1</th>\n",
              "      <td>6146</td>\n",
              "      <td>EMEA</td>\n",
              "      <td>Germany</td>\n",
              "      <td>1</td>\n",
              "      <td>1</td>\n",
              "      <td>1</td>\n",
              "      <td>1</td>\n",
              "      <td>0</td>\n",
              "      <td>Bureaucratic_Code_4</td>\n",
              "      <td>7/5/2017</td>\n",
              "      <td>Source_7</td>\n",
              "      <td>Germany</td>\n",
              "      <td>Account_Name_978</td>\n",
              "      <td>Opportunity_Name_6118</td>\n",
              "      <td>10689</td>\n",
              "      <td>6436</td>\n",
              "      <td>Person_Name_13</td>\n",
              "      <td>Person_Name_13</td>\n",
              "      <td>Account_Type_0</td>\n",
              "      <td>Opportunity_Type_8</td>\n",
              "      <td>Non Binding</td>\n",
              "      <td>Delivery_Terms_2</td>\n",
              "      <td>4/12/2019</td>\n",
              "      <td>None</td>\n",
              "      <td>None</td>\n",
              "      <td>None</td>\n",
              "      <td>None</td>\n",
              "      <td>None</td>\n",
              "      <td>None</td>\n",
              "      <td>NaT</td>\n",
              "      <td>4/30/2019</td>\n",
              "      <td>4/12/2019</td>\n",
              "      <td>Person_Name_13</td>\n",
              "      <td>Product_Family_167</td>\n",
              "      <td>Product_Name_315</td>\n",
              "      <td>EUR</td>\n",
              "      <td>0.320</td>\n",
              "      <td>USD</td>\n",
              "      <td>0.36195</td>\n",
              "      <td>5/1/2019</td>\n",
              "      <td>5/31/2019</td>\n",
              "      <td>2019 - 5</td>\n",
              "      <td>Q2</td>\n",
              "      <td>2019</td>\n",
              "      <td>NaT</td>\n",
              "      <td>0</td>\n",
              "      <td>EUR</td>\n",
              "      <td>78624.0</td>\n",
              "      <td>EUR</td>\n",
              "      <td>367419.0</td>\n",
              "      <td>Prod_Category_A_None</td>\n",
              "    </tr>\n",
              "    <tr>\n",
              "      <th>2</th>\n",
              "      <td>6151</td>\n",
              "      <td>EMEA</td>\n",
              "      <td>Germany</td>\n",
              "      <td>1</td>\n",
              "      <td>1</td>\n",
              "      <td>1</td>\n",
              "      <td>1</td>\n",
              "      <td>0</td>\n",
              "      <td>Bureaucratic_Code_4</td>\n",
              "      <td>7/5/2017</td>\n",
              "      <td>Source_7</td>\n",
              "      <td>Germany</td>\n",
              "      <td>Account_Name_978</td>\n",
              "      <td>Opportunity_Name_6118</td>\n",
              "      <td>10689</td>\n",
              "      <td>6436</td>\n",
              "      <td>Person_Name_13</td>\n",
              "      <td>Person_Name_13</td>\n",
              "      <td>Account_Type_0</td>\n",
              "      <td>Opportunity_Type_8</td>\n",
              "      <td>Non Binding</td>\n",
              "      <td>Delivery_Terms_2</td>\n",
              "      <td>4/12/2019</td>\n",
              "      <td>None</td>\n",
              "      <td>None</td>\n",
              "      <td>None</td>\n",
              "      <td>None</td>\n",
              "      <td>None</td>\n",
              "      <td>None</td>\n",
              "      <td>NaT</td>\n",
              "      <td>4/30/2019</td>\n",
              "      <td>4/12/2019</td>\n",
              "      <td>Person_Name_13</td>\n",
              "      <td>Product_Family_140</td>\n",
              "      <td>Product_Name_241</td>\n",
              "      <td>EUR</td>\n",
              "      <td>0.275</td>\n",
              "      <td>USD</td>\n",
              "      <td>0.31105</td>\n",
              "      <td>5/1/2019</td>\n",
              "      <td>5/31/2019</td>\n",
              "      <td>2019 - 5</td>\n",
              "      <td>Q2</td>\n",
              "      <td>2019</td>\n",
              "      <td>NaT</td>\n",
              "      <td>0</td>\n",
              "      <td>EUR</td>\n",
              "      <td>126555.0</td>\n",
              "      <td>EUR</td>\n",
              "      <td>367419.0</td>\n",
              "      <td>Prod_Category_A_None</td>\n",
              "    </tr>\n",
              "    <tr>\n",
              "      <th>3</th>\n",
              "      <td>6118</td>\n",
              "      <td>EMEA</td>\n",
              "      <td>Germany</td>\n",
              "      <td>1</td>\n",
              "      <td>1</td>\n",
              "      <td>1</td>\n",
              "      <td>1</td>\n",
              "      <td>0</td>\n",
              "      <td>Bureaucratic_Code_4</td>\n",
              "      <td>7/5/2017</td>\n",
              "      <td>Source_7</td>\n",
              "      <td>Germany</td>\n",
              "      <td>Account_Name_978</td>\n",
              "      <td>Opportunity_Name_6117</td>\n",
              "      <td>10690</td>\n",
              "      <td>6504</td>\n",
              "      <td>Person_Name_13</td>\n",
              "      <td>Person_Name_13</td>\n",
              "      <td>Account_Type_0</td>\n",
              "      <td>Opportunity_Type_8</td>\n",
              "      <td>Non Binding</td>\n",
              "      <td>Delivery_Terms_2</td>\n",
              "      <td>4/12/2019</td>\n",
              "      <td>None</td>\n",
              "      <td>None</td>\n",
              "      <td>None</td>\n",
              "      <td>None</td>\n",
              "      <td>None</td>\n",
              "      <td>None</td>\n",
              "      <td>NaT</td>\n",
              "      <td>4/30/2019</td>\n",
              "      <td>4/25/2019</td>\n",
              "      <td>Person_Name_13</td>\n",
              "      <td>Product_Family_171</td>\n",
              "      <td>Product_Name_328</td>\n",
              "      <td>EUR</td>\n",
              "      <td>0.325</td>\n",
              "      <td>USD</td>\n",
              "      <td>0.36761</td>\n",
              "      <td>6/1/2019</td>\n",
              "      <td>6/28/2019</td>\n",
              "      <td>2019 - 6</td>\n",
              "      <td>Q2</td>\n",
              "      <td>2019</td>\n",
              "      <td>NaT</td>\n",
              "      <td>1</td>\n",
              "      <td>EUR</td>\n",
              "      <td>243360.0</td>\n",
              "      <td>EUR</td>\n",
              "      <td>757783.5</td>\n",
              "      <td>Prod_Category_A_None</td>\n",
              "    </tr>\n",
              "    <tr>\n",
              "      <th>4</th>\n",
              "      <td>6124</td>\n",
              "      <td>EMEA</td>\n",
              "      <td>Germany</td>\n",
              "      <td>1</td>\n",
              "      <td>1</td>\n",
              "      <td>1</td>\n",
              "      <td>1</td>\n",
              "      <td>0</td>\n",
              "      <td>Bureaucratic_Code_4</td>\n",
              "      <td>7/5/2017</td>\n",
              "      <td>Source_7</td>\n",
              "      <td>Germany</td>\n",
              "      <td>Account_Name_978</td>\n",
              "      <td>Opportunity_Name_6117</td>\n",
              "      <td>10690</td>\n",
              "      <td>6504</td>\n",
              "      <td>Person_Name_13</td>\n",
              "      <td>Person_Name_13</td>\n",
              "      <td>Account_Type_0</td>\n",
              "      <td>Opportunity_Type_8</td>\n",
              "      <td>Non Binding</td>\n",
              "      <td>Delivery_Terms_2</td>\n",
              "      <td>4/12/2019</td>\n",
              "      <td>None</td>\n",
              "      <td>None</td>\n",
              "      <td>None</td>\n",
              "      <td>None</td>\n",
              "      <td>None</td>\n",
              "      <td>None</td>\n",
              "      <td>NaT</td>\n",
              "      <td>4/30/2019</td>\n",
              "      <td>4/25/2019</td>\n",
              "      <td>Person_Name_13</td>\n",
              "      <td>Product_Family_167</td>\n",
              "      <td>Product_Name_315</td>\n",
              "      <td>EUR</td>\n",
              "      <td>0.320</td>\n",
              "      <td>USD</td>\n",
              "      <td>0.36195</td>\n",
              "      <td>6/1/2019</td>\n",
              "      <td>6/29/2019</td>\n",
              "      <td>2019 - 6</td>\n",
              "      <td>Q2</td>\n",
              "      <td>2019</td>\n",
              "      <td>NaT</td>\n",
              "      <td>0</td>\n",
              "      <td>EUR</td>\n",
              "      <td>157248.0</td>\n",
              "      <td>EUR</td>\n",
              "      <td>757783.5</td>\n",
              "      <td>Prod_Category_A_None</td>\n",
              "    </tr>\n",
              "    <tr>\n",
              "      <th>...</th>\n",
              "      <td>...</td>\n",
              "      <td>...</td>\n",
              "      <td>...</td>\n",
              "      <td>...</td>\n",
              "      <td>...</td>\n",
              "      <td>...</td>\n",
              "      <td>...</td>\n",
              "      <td>...</td>\n",
              "      <td>...</td>\n",
              "      <td>...</td>\n",
              "      <td>...</td>\n",
              "      <td>...</td>\n",
              "      <td>...</td>\n",
              "      <td>...</td>\n",
              "      <td>...</td>\n",
              "      <td>...</td>\n",
              "      <td>...</td>\n",
              "      <td>...</td>\n",
              "      <td>...</td>\n",
              "      <td>...</td>\n",
              "      <td>...</td>\n",
              "      <td>...</td>\n",
              "      <td>...</td>\n",
              "      <td>...</td>\n",
              "      <td>...</td>\n",
              "      <td>...</td>\n",
              "      <td>...</td>\n",
              "      <td>...</td>\n",
              "      <td>...</td>\n",
              "      <td>...</td>\n",
              "      <td>...</td>\n",
              "      <td>...</td>\n",
              "      <td>...</td>\n",
              "      <td>...</td>\n",
              "      <td>...</td>\n",
              "      <td>...</td>\n",
              "      <td>...</td>\n",
              "      <td>...</td>\n",
              "      <td>...</td>\n",
              "      <td>...</td>\n",
              "      <td>...</td>\n",
              "      <td>...</td>\n",
              "      <td>...</td>\n",
              "      <td>...</td>\n",
              "      <td>...</td>\n",
              "      <td>...</td>\n",
              "      <td>...</td>\n",
              "      <td>...</td>\n",
              "      <td>...</td>\n",
              "      <td>...</td>\n",
              "      <td>...</td>\n",
              "    </tr>\n",
              "    <tr>\n",
              "      <th>2546</th>\n",
              "      <td>16345</td>\n",
              "      <td>EMEA</td>\n",
              "      <td>KSA</td>\n",
              "      <td>1</td>\n",
              "      <td>1</td>\n",
              "      <td>0</td>\n",
              "      <td>0</td>\n",
              "      <td>0</td>\n",
              "      <td>Bureaucratic_Code_4</td>\n",
              "      <td>6/12/2017</td>\n",
              "      <td>Source_3</td>\n",
              "      <td>South Africa</td>\n",
              "      <td>Account_Name_1686</td>\n",
              "      <td>Opportunity_Name_11120</td>\n",
              "      <td>12364</td>\n",
              "      <td>6508</td>\n",
              "      <td>Person_Name_13</td>\n",
              "      <td>Person_Name_13</td>\n",
              "      <td>Account_Type_0</td>\n",
              "      <td>Opportunity_Type_1</td>\n",
              "      <td>Non Binding</td>\n",
              "      <td>Delivery_Terms_7</td>\n",
              "      <td>4/26/2019</td>\n",
              "      <td>None</td>\n",
              "      <td>None</td>\n",
              "      <td>None</td>\n",
              "      <td>None</td>\n",
              "      <td>None</td>\n",
              "      <td>None</td>\n",
              "      <td>NaT</td>\n",
              "      <td>5/24/2019</td>\n",
              "      <td>4/26/2019</td>\n",
              "      <td>Person_Name_13</td>\n",
              "      <td>Product_Family_213</td>\n",
              "      <td>Product_Name_447</td>\n",
              "      <td>USD</td>\n",
              "      <td>0.300</td>\n",
              "      <td>USD</td>\n",
              "      <td>0.30000</td>\n",
              "      <td>5/1/2019</td>\n",
              "      <td>5/10/2019</td>\n",
              "      <td>2019 - 5</td>\n",
              "      <td>Q2</td>\n",
              "      <td>2019</td>\n",
              "      <td>NaT</td>\n",
              "      <td>0</td>\n",
              "      <td>USD</td>\n",
              "      <td>124740.0</td>\n",
              "      <td>USD</td>\n",
              "      <td>147750.0</td>\n",
              "      <td>Prod_Category_A_None</td>\n",
              "    </tr>\n",
              "    <tr>\n",
              "      <th>2547</th>\n",
              "      <td>15218</td>\n",
              "      <td>Americas</td>\n",
              "      <td>SE America</td>\n",
              "      <td>1</td>\n",
              "      <td>1</td>\n",
              "      <td>0</td>\n",
              "      <td>0</td>\n",
              "      <td>0</td>\n",
              "      <td>Bureaucratic_Code_4</td>\n",
              "      <td>6/8/2018</td>\n",
              "      <td>None</td>\n",
              "      <td>United States</td>\n",
              "      <td>Account_Name_768</td>\n",
              "      <td>Opportunity_Name_9694</td>\n",
              "      <td>12365</td>\n",
              "      <td>6510</td>\n",
              "      <td>Person_Name_38</td>\n",
              "      <td>Person_Name_38</td>\n",
              "      <td>Account_Type_2</td>\n",
              "      <td>Opportunity_Type_1</td>\n",
              "      <td>Non Binding</td>\n",
              "      <td>Delivery_Terms_4</td>\n",
              "      <td>4/26/2019</td>\n",
              "      <td>None</td>\n",
              "      <td>None</td>\n",
              "      <td>None</td>\n",
              "      <td>None</td>\n",
              "      <td>None</td>\n",
              "      <td>None</td>\n",
              "      <td>NaT</td>\n",
              "      <td>5/24/2019</td>\n",
              "      <td>4/27/2019</td>\n",
              "      <td>Person_Name_38</td>\n",
              "      <td>Product_Family_221</td>\n",
              "      <td>Product_Name_477</td>\n",
              "      <td>USD</td>\n",
              "      <td>0.410</td>\n",
              "      <td>USD</td>\n",
              "      <td>0.41000</td>\n",
              "      <td>10/1/2019</td>\n",
              "      <td>12/31/2019</td>\n",
              "      <td>2019 - 10</td>\n",
              "      <td>Q4</td>\n",
              "      <td>2019</td>\n",
              "      <td>NaT</td>\n",
              "      <td>0</td>\n",
              "      <td>USD</td>\n",
              "      <td>45054.9</td>\n",
              "      <td>USD</td>\n",
              "      <td>45054.9</td>\n",
              "      <td>Prod_Category_A_None</td>\n",
              "    </tr>\n",
              "    <tr>\n",
              "      <th>2548</th>\n",
              "      <td>15224</td>\n",
              "      <td>Americas</td>\n",
              "      <td>SE America</td>\n",
              "      <td>1</td>\n",
              "      <td>1</td>\n",
              "      <td>1</td>\n",
              "      <td>1</td>\n",
              "      <td>0</td>\n",
              "      <td>Bureaucratic_Code_4</td>\n",
              "      <td>6/8/2018</td>\n",
              "      <td>None</td>\n",
              "      <td>United States</td>\n",
              "      <td>Account_Name_768</td>\n",
              "      <td>Opportunity_Name_9693</td>\n",
              "      <td>12366</td>\n",
              "      <td>6511</td>\n",
              "      <td>Person_Name_38</td>\n",
              "      <td>Person_Name_38</td>\n",
              "      <td>Account_Type_2</td>\n",
              "      <td>Opportunity_Type_1</td>\n",
              "      <td>Non Binding</td>\n",
              "      <td>Delivery_Terms_4</td>\n",
              "      <td>4/26/2019</td>\n",
              "      <td>None</td>\n",
              "      <td>None</td>\n",
              "      <td>None</td>\n",
              "      <td>None</td>\n",
              "      <td>None</td>\n",
              "      <td>None</td>\n",
              "      <td>NaT</td>\n",
              "      <td>5/24/2019</td>\n",
              "      <td>4/27/2019</td>\n",
              "      <td>Person_Name_38</td>\n",
              "      <td>Product_Family_221</td>\n",
              "      <td>Product_Name_477</td>\n",
              "      <td>USD</td>\n",
              "      <td>0.410</td>\n",
              "      <td>USD</td>\n",
              "      <td>0.41000</td>\n",
              "      <td>10/1/2019</td>\n",
              "      <td>12/31/2019</td>\n",
              "      <td>2019 - 10</td>\n",
              "      <td>Q4</td>\n",
              "      <td>2019</td>\n",
              "      <td>NaT</td>\n",
              "      <td>0</td>\n",
              "      <td>USD</td>\n",
              "      <td>100122.0</td>\n",
              "      <td>USD</td>\n",
              "      <td>100122.0</td>\n",
              "      <td>Prod_Category_A_None</td>\n",
              "    </tr>\n",
              "    <tr>\n",
              "      <th>2549</th>\n",
              "      <td>7286</td>\n",
              "      <td>Americas</td>\n",
              "      <td>NE America</td>\n",
              "      <td>1</td>\n",
              "      <td>1</td>\n",
              "      <td>0</td>\n",
              "      <td>0</td>\n",
              "      <td>0</td>\n",
              "      <td>Bureaucratic_Code_4</td>\n",
              "      <td>8/29/2018</td>\n",
              "      <td>None</td>\n",
              "      <td>United States</td>\n",
              "      <td>Account_Name_1635</td>\n",
              "      <td>Opportunity_Name_1676</td>\n",
              "      <td>12367</td>\n",
              "      <td>None</td>\n",
              "      <td>Person_Name_9</td>\n",
              "      <td>Person_Name_9</td>\n",
              "      <td>Account_Type_2</td>\n",
              "      <td>Opportunity_Type_7</td>\n",
              "      <td>Non Binding</td>\n",
              "      <td>Delivery_Terms_4</td>\n",
              "      <td>4/26/2019</td>\n",
              "      <td>None</td>\n",
              "      <td>None</td>\n",
              "      <td>None</td>\n",
              "      <td>None</td>\n",
              "      <td>None</td>\n",
              "      <td>None</td>\n",
              "      <td>NaT</td>\n",
              "      <td>5/26/2019</td>\n",
              "      <td>4/26/2019</td>\n",
              "      <td>Person_Name_9</td>\n",
              "      <td>Product_Family_156</td>\n",
              "      <td>Product_Name_281</td>\n",
              "      <td>USD</td>\n",
              "      <td>0.500</td>\n",
              "      <td>USD</td>\n",
              "      <td>0.50000</td>\n",
              "      <td>8/1/2019</td>\n",
              "      <td>8/1/2019</td>\n",
              "      <td>2019 - 8</td>\n",
              "      <td>Q3</td>\n",
              "      <td>2019</td>\n",
              "      <td>NaT</td>\n",
              "      <td>0</td>\n",
              "      <td>USD</td>\n",
              "      <td>143220.0</td>\n",
              "      <td>USD</td>\n",
              "      <td>143220.0</td>\n",
              "      <td>Prod_Category_A_None</td>\n",
              "    </tr>\n",
              "    <tr>\n",
              "      <th>2550</th>\n",
              "      <td>11263</td>\n",
              "      <td>EMEA</td>\n",
              "      <td>Belgium</td>\n",
              "      <td>1</td>\n",
              "      <td>0</td>\n",
              "      <td>0</td>\n",
              "      <td>0</td>\n",
              "      <td>0</td>\n",
              "      <td>Bureaucratic_Code_5</td>\n",
              "      <td>3/3/2016</td>\n",
              "      <td>None</td>\n",
              "      <td>Luxembourg</td>\n",
              "      <td>Account_Name_271</td>\n",
              "      <td>Opportunity_Name_3187</td>\n",
              "      <td>12368</td>\n",
              "      <td>None</td>\n",
              "      <td>Person_Name_18</td>\n",
              "      <td>Person_Name_16</td>\n",
              "      <td>Account_Type_0</td>\n",
              "      <td>Opportunity_Type_1</td>\n",
              "      <td>Non Binding</td>\n",
              "      <td>Delivery_Terms_2</td>\n",
              "      <td>4/27/2019</td>\n",
              "      <td>None</td>\n",
              "      <td>None</td>\n",
              "      <td>None</td>\n",
              "      <td>None</td>\n",
              "      <td>None</td>\n",
              "      <td>None</td>\n",
              "      <td>NaT</td>\n",
              "      <td>2/8/2019</td>\n",
              "      <td>4/27/2019</td>\n",
              "      <td>Person_Name_16</td>\n",
              "      <td>Product_Family_171</td>\n",
              "      <td>Product_Name_331</td>\n",
              "      <td>EUR</td>\n",
              "      <td>0.290</td>\n",
              "      <td>USD</td>\n",
              "      <td>0.32802</td>\n",
              "      <td>10/21/2019</td>\n",
              "      <td>12/13/2019</td>\n",
              "      <td>2019 - 10</td>\n",
              "      <td>Q4</td>\n",
              "      <td>2019</td>\n",
              "      <td>NaT</td>\n",
              "      <td>3</td>\n",
              "      <td>EUR</td>\n",
              "      <td>871020.8</td>\n",
              "      <td>EUR</td>\n",
              "      <td>871020.8</td>\n",
              "      <td>Prod_Category_A_None</td>\n",
              "    </tr>\n",
              "  </tbody>\n",
              "</table>\n",
              "<p>2551 rows × 51 columns</p>\n",
              "</div>"
            ],
            "text/plain": [
              "         ID    Region  ... Total_Taxable_Amount       Prod_Category_A\n",
              "0      6140      EMEA  ...             367419.0  Prod_Category_A_None\n",
              "1      6146      EMEA  ...             367419.0  Prod_Category_A_None\n",
              "2      6151      EMEA  ...             367419.0  Prod_Category_A_None\n",
              "3      6118      EMEA  ...             757783.5  Prod_Category_A_None\n",
              "4      6124      EMEA  ...             757783.5  Prod_Category_A_None\n",
              "...     ...       ...  ...                  ...                   ...\n",
              "2546  16345      EMEA  ...             147750.0  Prod_Category_A_None\n",
              "2547  15218  Americas  ...              45054.9  Prod_Category_A_None\n",
              "2548  15224  Americas  ...             100122.0  Prod_Category_A_None\n",
              "2549   7286  Americas  ...             143220.0  Prod_Category_A_None\n",
              "2550  11263      EMEA  ...             871020.8  Prod_Category_A_None\n",
              "\n",
              "[2551 rows x 51 columns]"
            ]
          },
          "metadata": {
            "tags": []
          },
          "execution_count": 49
        }
      ]
    },
    {
      "cell_type": "markdown",
      "metadata": {
        "id": "JTrKufLAt2cS"
      },
      "source": [
        "### **Conversion**"
      ]
    },
    {
      "cell_type": "code",
      "metadata": {
        "id": "Vx_erefStwYG"
      },
      "source": [
        "DataFrame_test1.loc[DataFrame_test1['Total_Amount_Currency'] == 'JPY', 'Total_Amount'] = DataFrame_test1['Total_Amount']*0.0096\r\n",
        "DataFrame_test1.loc[DataFrame_test1['Total_Amount_Currency'] == 'JPY', 'Total_Amount_Currency'] = 'USD'\r\n",
        "\r\n",
        "DataFrame_test1.loc[DataFrame_test1['Total_Amount_Currency'] == 'EUR', 'Total_Amount'] = DataFrame_test1['Total_Amount']*1.17\r\n",
        "DataFrame_test1.loc[DataFrame_test1['Total_Amount_Currency'] == 'EUR', 'Total_Amount_Currency'] = 'USD'\r\n",
        "\r\n",
        "DataFrame_test1.loc[DataFrame_test1['Total_Amount_Currency'] == 'AUD', 'Total_Amount'] = DataFrame_test1['Total_Amount']*0.70\r\n",
        "DataFrame_test1.loc[DataFrame_test1['Total_Amount_Currency'] == 'AUD', 'Total_Amount_Currency'] = 'USD'\r\n",
        "\r\n",
        "DataFrame_test1.loc[DataFrame_test1['Total_Amount_Currency'] == 'GBP', 'Total_Amount'] = DataFrame_test1['Total_Amount']*1.29\r\n",
        "DataFrame_test1.loc[DataFrame_test1['Total_Amount_Currency'] == 'GBP', 'Total_Amount_Currency'] = 'USD'"
      ],
      "execution_count": null,
      "outputs": []
    },
    {
      "cell_type": "code",
      "metadata": {
        "id": "-eTKU3RIt6tT",
        "colab": {
          "base_uri": "https://localhost:8080/",
          "height": 204
        },
        "outputId": "b2b2b70a-bfee-492c-8b77-9d4d7f435313"
      },
      "source": [
        "DataFrame_test_short = DataFrame_test1[['Opportunity_ID', 'Region', 'Total_Amount', 'Delivery_Year', 'Delivery_Quarter','Pricing, Delivery_Terms_Approved','Pricing, Delivery_Terms_Quote_Appr']].rename(columns={'Stage': 'Decision'})\r\n",
        "DataFrame_test_short.head()"
      ],
      "execution_count": null,
      "outputs": [
        {
          "output_type": "execute_result",
          "data": {
            "text/html": [
              "<div>\n",
              "<style scoped>\n",
              "    .dataframe tbody tr th:only-of-type {\n",
              "        vertical-align: middle;\n",
              "    }\n",
              "\n",
              "    .dataframe tbody tr th {\n",
              "        vertical-align: top;\n",
              "    }\n",
              "\n",
              "    .dataframe thead th {\n",
              "        text-align: right;\n",
              "    }\n",
              "</style>\n",
              "<table border=\"1\" class=\"dataframe\">\n",
              "  <thead>\n",
              "    <tr style=\"text-align: right;\">\n",
              "      <th></th>\n",
              "      <th>Opportunity_ID</th>\n",
              "      <th>Region</th>\n",
              "      <th>Total_Amount</th>\n",
              "      <th>Delivery_Year</th>\n",
              "      <th>Delivery_Quarter</th>\n",
              "      <th>Pricing, Delivery_Terms_Approved</th>\n",
              "      <th>Pricing, Delivery_Terms_Quote_Appr</th>\n",
              "    </tr>\n",
              "  </thead>\n",
              "  <tbody>\n",
              "    <tr>\n",
              "      <th>0</th>\n",
              "      <td>10689</td>\n",
              "      <td>EMEA</td>\n",
              "      <td>189820.80</td>\n",
              "      <td>2019</td>\n",
              "      <td>Q2</td>\n",
              "      <td>1</td>\n",
              "      <td>1</td>\n",
              "    </tr>\n",
              "    <tr>\n",
              "      <th>1</th>\n",
              "      <td>10689</td>\n",
              "      <td>EMEA</td>\n",
              "      <td>91990.08</td>\n",
              "      <td>2019</td>\n",
              "      <td>Q2</td>\n",
              "      <td>1</td>\n",
              "      <td>1</td>\n",
              "    </tr>\n",
              "    <tr>\n",
              "      <th>2</th>\n",
              "      <td>10689</td>\n",
              "      <td>EMEA</td>\n",
              "      <td>148069.35</td>\n",
              "      <td>2019</td>\n",
              "      <td>Q2</td>\n",
              "      <td>1</td>\n",
              "      <td>1</td>\n",
              "    </tr>\n",
              "    <tr>\n",
              "      <th>3</th>\n",
              "      <td>10690</td>\n",
              "      <td>EMEA</td>\n",
              "      <td>284731.20</td>\n",
              "      <td>2019</td>\n",
              "      <td>Q2</td>\n",
              "      <td>1</td>\n",
              "      <td>1</td>\n",
              "    </tr>\n",
              "    <tr>\n",
              "      <th>4</th>\n",
              "      <td>10690</td>\n",
              "      <td>EMEA</td>\n",
              "      <td>183980.16</td>\n",
              "      <td>2019</td>\n",
              "      <td>Q2</td>\n",
              "      <td>1</td>\n",
              "      <td>1</td>\n",
              "    </tr>\n",
              "  </tbody>\n",
              "</table>\n",
              "</div>"
            ],
            "text/plain": [
              "   Opportunity_ID  ... Pricing, Delivery_Terms_Quote_Appr\n",
              "0           10689  ...                                  1\n",
              "1           10689  ...                                  1\n",
              "2           10689  ...                                  1\n",
              "3           10690  ...                                  1\n",
              "4           10690  ...                                  1\n",
              "\n",
              "[5 rows x 7 columns]"
            ]
          },
          "metadata": {
            "tags": []
          },
          "execution_count": 51
        }
      ]
    },
    {
      "cell_type": "markdown",
      "metadata": {
        "id": "hWYJ_V4luGc9"
      },
      "source": [
        "**log**"
      ]
    },
    {
      "cell_type": "code",
      "metadata": {
        "id": "vjukwif5uDpf"
      },
      "source": [
        "DataFrame_test_short['Total_Amount'] = np.log(DataFrame_test_short.Total_Amount)"
      ],
      "execution_count": null,
      "outputs": []
    },
    {
      "cell_type": "markdown",
      "metadata": {
        "id": "YYEzkl38uOns"
      },
      "source": [
        "### **Quarters**"
      ]
    },
    {
      "cell_type": "code",
      "metadata": {
        "id": "FAF1xGr2uN_D"
      },
      "source": [
        "DataFrame_test_short['Delivery_Quarter_1'] = np.where(DataFrame_test_short['Delivery_Quarter'] == 'Q1',1,0)"
      ],
      "execution_count": null,
      "outputs": []
    },
    {
      "cell_type": "code",
      "metadata": {
        "id": "WAB4dNVeuRuQ"
      },
      "source": [
        "DataFrame_test_short['Delivery_Quarter_2'] = np.where(DataFrame_test_short['Delivery_Quarter'] == 'Q2',1,0)"
      ],
      "execution_count": null,
      "outputs": []
    },
    {
      "cell_type": "code",
      "metadata": {
        "id": "loYril2JuSkF"
      },
      "source": [
        "DataFrame_test_short['Delivery_Quarter_3'] = np.where(DataFrame_test_short['Delivery_Quarter'] == 'Q3',1,0)"
      ],
      "execution_count": null,
      "outputs": []
    },
    {
      "cell_type": "code",
      "metadata": {
        "id": "tpDgFZhYuTfi"
      },
      "source": [
        "DataFrame_test_short['Delivery_Quarter_4'] = np.where(DataFrame_test_short['Delivery_Quarter'] == 'Q4',1,0)"
      ],
      "execution_count": null,
      "outputs": []
    },
    {
      "cell_type": "code",
      "metadata": {
        "id": "QlkUfBkXuURO"
      },
      "source": [
        "DataFrame_test_short.drop('Delivery_Quarter', axis = 1, inplace = True)"
      ],
      "execution_count": null,
      "outputs": []
    },
    {
      "cell_type": "markdown",
      "metadata": {
        "id": "wPUOYYdcuVPd"
      },
      "source": [
        "### **Region**"
      ]
    },
    {
      "cell_type": "code",
      "metadata": {
        "id": "baPRQc6BuXHy"
      },
      "source": [
        "DataFrame_test_short['Region_Japon'] = np.where(DataFrame_test_short['Region'] == 'Japan',1,0)"
      ],
      "execution_count": null,
      "outputs": []
    },
    {
      "cell_type": "code",
      "metadata": {
        "id": "iI9so7K5uYGJ"
      },
      "source": [
        "DataFrame_test_short['Region_EMEA '] = np.where(DataFrame_test_short['Region'] == 'EMEA',1,0)"
      ],
      "execution_count": null,
      "outputs": []
    },
    {
      "cell_type": "code",
      "metadata": {
        "id": "pD0ZlfFwuZAm"
      },
      "source": [
        "DataFrame_test_short['Region_Americas'] = np.where(DataFrame_test_short['Region'] == 'Americas',1,0)"
      ],
      "execution_count": null,
      "outputs": []
    },
    {
      "cell_type": "code",
      "metadata": {
        "id": "5-kqofD1uZtQ"
      },
      "source": [
        "DataFrame_test_short['Region_Apac'] = np.where(DataFrame_test_short['Region'] == 'APAC',1,0)"
      ],
      "execution_count": null,
      "outputs": []
    },
    {
      "cell_type": "code",
      "metadata": {
        "id": "yKOVXqjkualr"
      },
      "source": [
        "DataFrame_test_short['Region_Middle_East'] = np.where(DataFrame_test_short['Region'] == 'Middle East',1,0)"
      ],
      "execution_count": null,
      "outputs": []
    },
    {
      "cell_type": "code",
      "metadata": {
        "id": "MbDqVMvJuczQ"
      },
      "source": [
        "DataFrame_test_short.drop('Region', axis = 1, inplace = True)"
      ],
      "execution_count": null,
      "outputs": []
    },
    {
      "cell_type": "code",
      "metadata": {
        "id": "9X67Ga7yywSv"
      },
      "source": [
        "DataFrame_test_short.Opportunity_ID = DataFrame_test_short.Opportunity_ID.astype(int)"
      ],
      "execution_count": null,
      "outputs": []
    },
    {
      "cell_type": "code",
      "metadata": {
        "id": "NC4w3vDdyfZj"
      },
      "source": [
        "DataFrame_test_short = DataFrame_test_short.drop_duplicates('Opportunity_ID',keep = 'last')"
      ],
      "execution_count": null,
      "outputs": []
    },
    {
      "cell_type": "code",
      "metadata": {
        "id": "0qItBIc3Jz37",
        "colab": {
          "base_uri": "https://localhost:8080/",
          "height": 241
        },
        "outputId": "290054b0-093c-4917-90df-ed8328c0b40d"
      },
      "source": [
        "DataFrame_test_short.head()"
      ],
      "execution_count": null,
      "outputs": [
        {
          "output_type": "execute_result",
          "data": {
            "text/html": [
              "<div>\n",
              "<style scoped>\n",
              "    .dataframe tbody tr th:only-of-type {\n",
              "        vertical-align: middle;\n",
              "    }\n",
              "\n",
              "    .dataframe tbody tr th {\n",
              "        vertical-align: top;\n",
              "    }\n",
              "\n",
              "    .dataframe thead th {\n",
              "        text-align: right;\n",
              "    }\n",
              "</style>\n",
              "<table border=\"1\" class=\"dataframe\">\n",
              "  <thead>\n",
              "    <tr style=\"text-align: right;\">\n",
              "      <th></th>\n",
              "      <th>Opportunity_ID</th>\n",
              "      <th>Total_Amount</th>\n",
              "      <th>Delivery_Year</th>\n",
              "      <th>Pricing, Delivery_Terms_Approved</th>\n",
              "      <th>Pricing, Delivery_Terms_Quote_Appr</th>\n",
              "      <th>Delivery_Quarter_1</th>\n",
              "      <th>Delivery_Quarter_2</th>\n",
              "      <th>Delivery_Quarter_3</th>\n",
              "      <th>Delivery_Quarter_4</th>\n",
              "      <th>Region_Japon</th>\n",
              "      <th>Region_EMEA</th>\n",
              "      <th>Region_Americas</th>\n",
              "      <th>Region_Apac</th>\n",
              "      <th>Region_Middle_East</th>\n",
              "    </tr>\n",
              "  </thead>\n",
              "  <tbody>\n",
              "    <tr>\n",
              "      <th>2</th>\n",
              "      <td>10689</td>\n",
              "      <td>11.905436</td>\n",
              "      <td>2019</td>\n",
              "      <td>1</td>\n",
              "      <td>1</td>\n",
              "      <td>0</td>\n",
              "      <td>1</td>\n",
              "      <td>0</td>\n",
              "      <td>0</td>\n",
              "      <td>0</td>\n",
              "      <td>1</td>\n",
              "      <td>0</td>\n",
              "      <td>0</td>\n",
              "      <td>0</td>\n",
              "    </tr>\n",
              "    <tr>\n",
              "      <th>7</th>\n",
              "      <td>10690</td>\n",
              "      <td>11.787392</td>\n",
              "      <td>2019</td>\n",
              "      <td>1</td>\n",
              "      <td>1</td>\n",
              "      <td>0</td>\n",
              "      <td>1</td>\n",
              "      <td>0</td>\n",
              "      <td>0</td>\n",
              "      <td>0</td>\n",
              "      <td>1</td>\n",
              "      <td>0</td>\n",
              "      <td>0</td>\n",
              "      <td>0</td>\n",
              "    </tr>\n",
              "    <tr>\n",
              "      <th>8</th>\n",
              "      <td>10691</td>\n",
              "      <td>9.954062</td>\n",
              "      <td>2019</td>\n",
              "      <td>1</td>\n",
              "      <td>1</td>\n",
              "      <td>0</td>\n",
              "      <td>0</td>\n",
              "      <td>0</td>\n",
              "      <td>1</td>\n",
              "      <td>0</td>\n",
              "      <td>0</td>\n",
              "      <td>1</td>\n",
              "      <td>0</td>\n",
              "      <td>0</td>\n",
              "    </tr>\n",
              "    <tr>\n",
              "      <th>14</th>\n",
              "      <td>10692</td>\n",
              "      <td>12.338534</td>\n",
              "      <td>2019</td>\n",
              "      <td>1</td>\n",
              "      <td>1</td>\n",
              "      <td>0</td>\n",
              "      <td>0</td>\n",
              "      <td>0</td>\n",
              "      <td>1</td>\n",
              "      <td>0</td>\n",
              "      <td>0</td>\n",
              "      <td>1</td>\n",
              "      <td>0</td>\n",
              "      <td>0</td>\n",
              "    </tr>\n",
              "    <tr>\n",
              "      <th>15</th>\n",
              "      <td>10693</td>\n",
              "      <td>8.657390</td>\n",
              "      <td>2019</td>\n",
              "      <td>0</td>\n",
              "      <td>0</td>\n",
              "      <td>0</td>\n",
              "      <td>1</td>\n",
              "      <td>0</td>\n",
              "      <td>0</td>\n",
              "      <td>0</td>\n",
              "      <td>0</td>\n",
              "      <td>1</td>\n",
              "      <td>0</td>\n",
              "      <td>0</td>\n",
              "    </tr>\n",
              "  </tbody>\n",
              "</table>\n",
              "</div>"
            ],
            "text/plain": [
              "    Opportunity_ID  Total_Amount  ...  Region_Apac  Region_Middle_East\n",
              "2            10689     11.905436  ...            0                   0\n",
              "7            10690     11.787392  ...            0                   0\n",
              "8            10691      9.954062  ...            0                   0\n",
              "14           10692     12.338534  ...            0                   0\n",
              "15           10693      8.657390  ...            0                   0\n",
              "\n",
              "[5 rows x 14 columns]"
            ]
          },
          "metadata": {
            "tags": []
          },
          "execution_count": 66
        }
      ]
    },
    {
      "cell_type": "code",
      "metadata": {
        "id": "ALWfMwBX2eE_",
        "colab": {
          "base_uri": "https://localhost:8080/",
          "height": 241
        },
        "outputId": "8e2853d2-26f8-4133-c231-911686ed8728"
      },
      "source": [
        "DataFrame_short.head()"
      ],
      "execution_count": null,
      "outputs": [
        {
          "output_type": "execute_result",
          "data": {
            "text/html": [
              "<div>\n",
              "<style scoped>\n",
              "    .dataframe tbody tr th:only-of-type {\n",
              "        vertical-align: middle;\n",
              "    }\n",
              "\n",
              "    .dataframe tbody tr th {\n",
              "        vertical-align: top;\n",
              "    }\n",
              "\n",
              "    .dataframe thead th {\n",
              "        text-align: right;\n",
              "    }\n",
              "</style>\n",
              "<table border=\"1\" class=\"dataframe\">\n",
              "  <thead>\n",
              "    <tr style=\"text-align: right;\">\n",
              "      <th></th>\n",
              "      <th>Total_Amount</th>\n",
              "      <th>Delivery_Year</th>\n",
              "      <th>Pricing, Delivery_Terms_Approved</th>\n",
              "      <th>Pricing, Delivery_Terms_Quote_Appr</th>\n",
              "      <th>Decision</th>\n",
              "      <th>Delivery_Quarter_1</th>\n",
              "      <th>Delivery_Quarter_2</th>\n",
              "      <th>Delivery_Quarter_3</th>\n",
              "      <th>Delivery_Quarter_4</th>\n",
              "      <th>Region_Japon</th>\n",
              "      <th>Region_EMEA</th>\n",
              "      <th>Region_Americas</th>\n",
              "      <th>Region_Apac</th>\n",
              "      <th>Region_Middle_East</th>\n",
              "    </tr>\n",
              "  </thead>\n",
              "  <tbody>\n",
              "    <tr>\n",
              "      <th>0</th>\n",
              "      <td>15.635076</td>\n",
              "      <td>2016</td>\n",
              "      <td>1</td>\n",
              "      <td>1</td>\n",
              "      <td>0</td>\n",
              "      <td>0</td>\n",
              "      <td>1</td>\n",
              "      <td>0</td>\n",
              "      <td>0</td>\n",
              "      <td>0</td>\n",
              "      <td>1</td>\n",
              "      <td>0</td>\n",
              "      <td>0</td>\n",
              "      <td>0</td>\n",
              "    </tr>\n",
              "    <tr>\n",
              "      <th>1</th>\n",
              "      <td>10.940740</td>\n",
              "      <td>2016</td>\n",
              "      <td>0</td>\n",
              "      <td>0</td>\n",
              "      <td>1</td>\n",
              "      <td>1</td>\n",
              "      <td>0</td>\n",
              "      <td>0</td>\n",
              "      <td>0</td>\n",
              "      <td>0</td>\n",
              "      <td>1</td>\n",
              "      <td>0</td>\n",
              "      <td>0</td>\n",
              "      <td>0</td>\n",
              "    </tr>\n",
              "    <tr>\n",
              "      <th>2</th>\n",
              "      <td>11.336971</td>\n",
              "      <td>2016</td>\n",
              "      <td>0</td>\n",
              "      <td>0</td>\n",
              "      <td>1</td>\n",
              "      <td>1</td>\n",
              "      <td>0</td>\n",
              "      <td>0</td>\n",
              "      <td>0</td>\n",
              "      <td>0</td>\n",
              "      <td>0</td>\n",
              "      <td>1</td>\n",
              "      <td>0</td>\n",
              "      <td>0</td>\n",
              "    </tr>\n",
              "    <tr>\n",
              "      <th>3</th>\n",
              "      <td>15.819943</td>\n",
              "      <td>2018</td>\n",
              "      <td>0</td>\n",
              "      <td>1</td>\n",
              "      <td>0</td>\n",
              "      <td>1</td>\n",
              "      <td>0</td>\n",
              "      <td>0</td>\n",
              "      <td>0</td>\n",
              "      <td>0</td>\n",
              "      <td>0</td>\n",
              "      <td>1</td>\n",
              "      <td>0</td>\n",
              "      <td>0</td>\n",
              "    </tr>\n",
              "    <tr>\n",
              "      <th>4</th>\n",
              "      <td>16.407566</td>\n",
              "      <td>2018</td>\n",
              "      <td>0</td>\n",
              "      <td>1</td>\n",
              "      <td>0</td>\n",
              "      <td>1</td>\n",
              "      <td>0</td>\n",
              "      <td>0</td>\n",
              "      <td>0</td>\n",
              "      <td>0</td>\n",
              "      <td>0</td>\n",
              "      <td>1</td>\n",
              "      <td>0</td>\n",
              "      <td>0</td>\n",
              "    </tr>\n",
              "  </tbody>\n",
              "</table>\n",
              "</div>"
            ],
            "text/plain": [
              "   Total_Amount  Delivery_Year  ...  Region_Apac  Region_Middle_East\n",
              "0     15.635076           2016  ...            0                   0\n",
              "1     10.940740           2016  ...            0                   0\n",
              "2     11.336971           2016  ...            0                   0\n",
              "3     15.819943           2018  ...            0                   0\n",
              "4     16.407566           2018  ...            0                   0\n",
              "\n",
              "[5 rows x 14 columns]"
            ]
          },
          "metadata": {
            "tags": []
          },
          "execution_count": 67
        }
      ]
    },
    {
      "cell_type": "markdown",
      "metadata": {
        "id": "18pzr-VXuhh_"
      },
      "source": [
        "##Descarga"
      ]
    },
    {
      "cell_type": "code",
      "metadata": {
        "id": "8tGCIQQguhBM"
      },
      "source": [
        "DataFrame_short.to_csv('DataFrame_train_encoded_1.csv')\r\n",
        "DataFrame_test_short.to_csv('DataFrame_test_encoded_1.csv')"
      ],
      "execution_count": null,
      "outputs": []
    },
    {
      "cell_type": "code",
      "metadata": {
        "id": "iX8zBUkruhFm"
      },
      "source": [
        "#files.download('DataFrame_train_encoded_1.csv')\r\n",
        "#files.download('DataFrame_test_encoded_1.csv')"
      ],
      "execution_count": null,
      "outputs": []
    },
    {
      "cell_type": "markdown",
      "metadata": {
        "id": "_s9THl9qLRut"
      },
      "source": [
        "#Forma 2 (Column Transformer)"
      ]
    },
    {
      "cell_type": "code",
      "metadata": {
        "id": "6trKPGxPLvbD",
        "colab": {
          "base_uri": "https://localhost:8080/",
          "height": 419
        },
        "outputId": "293403e6-9bb0-4538-842a-b8a8826f3201"
      },
      "source": [
        "short_df = DataFrame[['Region','Total_Amount','TRF','Pricing, Delivery_Terms_Approved','Pricing, Delivery_Terms_Quote_Appr','Stage' ]].rename(columns={'Stage': 'Decision'})\n",
        "short_df = short_df[ (short_df['Decision'] == 'Closed Won') | (short_df['Decision'] == 'Closed Lost') ]\n",
        "short_df['Decision'] = np.where(short_df['Decision'] == 'Closed Won',1,0)\n",
        "short_df"
      ],
      "execution_count": null,
      "outputs": [
        {
          "output_type": "execute_result",
          "data": {
            "text/html": [
              "<div>\n",
              "<style scoped>\n",
              "    .dataframe tbody tr th:only-of-type {\n",
              "        vertical-align: middle;\n",
              "    }\n",
              "\n",
              "    .dataframe tbody tr th {\n",
              "        vertical-align: top;\n",
              "    }\n",
              "\n",
              "    .dataframe thead th {\n",
              "        text-align: right;\n",
              "    }\n",
              "</style>\n",
              "<table border=\"1\" class=\"dataframe\">\n",
              "  <thead>\n",
              "    <tr style=\"text-align: right;\">\n",
              "      <th></th>\n",
              "      <th>Region</th>\n",
              "      <th>Total_Amount</th>\n",
              "      <th>TRF</th>\n",
              "      <th>Pricing, Delivery_Terms_Approved</th>\n",
              "      <th>Pricing, Delivery_Terms_Quote_Appr</th>\n",
              "      <th>Decision</th>\n",
              "    </tr>\n",
              "  </thead>\n",
              "  <tbody>\n",
              "    <tr>\n",
              "      <th>0</th>\n",
              "      <td>EMEA</td>\n",
              "      <td>6169176.00</td>\n",
              "      <td>10</td>\n",
              "      <td>1</td>\n",
              "      <td>1</td>\n",
              "      <td>0</td>\n",
              "    </tr>\n",
              "    <tr>\n",
              "      <th>1</th>\n",
              "      <td>EMEA</td>\n",
              "      <td>56429.10</td>\n",
              "      <td>0</td>\n",
              "      <td>0</td>\n",
              "      <td>0</td>\n",
              "      <td>1</td>\n",
              "    </tr>\n",
              "    <tr>\n",
              "      <th>2</th>\n",
              "      <td>Americas</td>\n",
              "      <td>83865.60</td>\n",
              "      <td>0</td>\n",
              "      <td>0</td>\n",
              "      <td>0</td>\n",
              "      <td>1</td>\n",
              "    </tr>\n",
              "    <tr>\n",
              "      <th>3</th>\n",
              "      <td>Americas</td>\n",
              "      <td>7421881.50</td>\n",
              "      <td>14</td>\n",
              "      <td>0</td>\n",
              "      <td>1</td>\n",
              "      <td>0</td>\n",
              "    </tr>\n",
              "    <tr>\n",
              "      <th>4</th>\n",
              "      <td>Americas</td>\n",
              "      <td>13357192.50</td>\n",
              "      <td>25</td>\n",
              "      <td>0</td>\n",
              "      <td>1</td>\n",
              "      <td>0</td>\n",
              "    </tr>\n",
              "    <tr>\n",
              "      <th>...</th>\n",
              "      <td>...</td>\n",
              "      <td>...</td>\n",
              "      <td>...</td>\n",
              "      <td>...</td>\n",
              "      <td>...</td>\n",
              "      <td>...</td>\n",
              "    </tr>\n",
              "    <tr>\n",
              "      <th>16942</th>\n",
              "      <td>EMEA</td>\n",
              "      <td>120919.50</td>\n",
              "      <td>0</td>\n",
              "      <td>1</td>\n",
              "      <td>1</td>\n",
              "      <td>1</td>\n",
              "    </tr>\n",
              "    <tr>\n",
              "      <th>16943</th>\n",
              "      <td>EMEA</td>\n",
              "      <td>108827.55</td>\n",
              "      <td>0</td>\n",
              "      <td>1</td>\n",
              "      <td>1</td>\n",
              "      <td>1</td>\n",
              "    </tr>\n",
              "    <tr>\n",
              "      <th>16944</th>\n",
              "      <td>EMEA</td>\n",
              "      <td>120919.50</td>\n",
              "      <td>0</td>\n",
              "      <td>1</td>\n",
              "      <td>1</td>\n",
              "      <td>1</td>\n",
              "    </tr>\n",
              "    <tr>\n",
              "      <th>16945</th>\n",
              "      <td>Americas</td>\n",
              "      <td>2346796.88</td>\n",
              "      <td>4</td>\n",
              "      <td>1</td>\n",
              "      <td>1</td>\n",
              "      <td>0</td>\n",
              "    </tr>\n",
              "    <tr>\n",
              "      <th>16946</th>\n",
              "      <td>Americas</td>\n",
              "      <td>25603200.00</td>\n",
              "      <td>40</td>\n",
              "      <td>1</td>\n",
              "      <td>1</td>\n",
              "      <td>0</td>\n",
              "    </tr>\n",
              "  </tbody>\n",
              "</table>\n",
              "<p>16883 rows × 6 columns</p>\n",
              "</div>"
            ],
            "text/plain": [
              "         Region  Total_Amount  ...  Pricing, Delivery_Terms_Quote_Appr  Decision\n",
              "0          EMEA    6169176.00  ...                                   1         0\n",
              "1          EMEA      56429.10  ...                                   0         1\n",
              "2      Americas      83865.60  ...                                   0         1\n",
              "3      Americas    7421881.50  ...                                   1         0\n",
              "4      Americas   13357192.50  ...                                   1         0\n",
              "...         ...           ...  ...                                 ...       ...\n",
              "16942      EMEA     120919.50  ...                                   1         1\n",
              "16943      EMEA     108827.55  ...                                   1         1\n",
              "16944      EMEA     120919.50  ...                                   1         1\n",
              "16945  Americas    2346796.88  ...                                   1         0\n",
              "16946  Americas   25603200.00  ...                                   1         0\n",
              "\n",
              "[16883 rows x 6 columns]"
            ]
          },
          "metadata": {
            "tags": []
          },
          "execution_count": 70
        }
      ]
    },
    {
      "cell_type": "code",
      "metadata": {
        "id": "fQSxf8vyMpGu",
        "colab": {
          "base_uri": "https://localhost:8080/",
          "height": 297
        },
        "outputId": "5ba89651-796f-4522-9d8b-bc1a8554d647"
      },
      "source": [
        "short_df = short_df[short_df['Total_Amount'] > 0]\n",
        "short_df.describe()"
      ],
      "execution_count": null,
      "outputs": [
        {
          "output_type": "execute_result",
          "data": {
            "text/html": [
              "<div>\n",
              "<style scoped>\n",
              "    .dataframe tbody tr th:only-of-type {\n",
              "        vertical-align: middle;\n",
              "    }\n",
              "\n",
              "    .dataframe tbody tr th {\n",
              "        vertical-align: top;\n",
              "    }\n",
              "\n",
              "    .dataframe thead th {\n",
              "        text-align: right;\n",
              "    }\n",
              "</style>\n",
              "<table border=\"1\" class=\"dataframe\">\n",
              "  <thead>\n",
              "    <tr style=\"text-align: right;\">\n",
              "      <th></th>\n",
              "      <th>Total_Amount</th>\n",
              "      <th>TRF</th>\n",
              "      <th>Pricing, Delivery_Terms_Approved</th>\n",
              "      <th>Pricing, Delivery_Terms_Quote_Appr</th>\n",
              "      <th>Decision</th>\n",
              "    </tr>\n",
              "  </thead>\n",
              "  <tbody>\n",
              "    <tr>\n",
              "      <th>count</th>\n",
              "      <td>1.677200e+04</td>\n",
              "      <td>16772.000000</td>\n",
              "      <td>16772.000000</td>\n",
              "      <td>16772.000000</td>\n",
              "      <td>16772.000000</td>\n",
              "    </tr>\n",
              "    <tr>\n",
              "      <th>mean</th>\n",
              "      <td>1.010612e+06</td>\n",
              "      <td>2.281660</td>\n",
              "      <td>0.585440</td>\n",
              "      <td>0.807834</td>\n",
              "      <td>0.568030</td>\n",
              "    </tr>\n",
              "    <tr>\n",
              "      <th>std</th>\n",
              "      <td>5.873179e+06</td>\n",
              "      <td>12.084678</td>\n",
              "      <td>0.492661</td>\n",
              "      <td>0.394014</td>\n",
              "      <td>0.495365</td>\n",
              "    </tr>\n",
              "    <tr>\n",
              "      <th>min</th>\n",
              "      <td>1.000000e-02</td>\n",
              "      <td>0.000000</td>\n",
              "      <td>0.000000</td>\n",
              "      <td>0.000000</td>\n",
              "      <td>0.000000</td>\n",
              "    </tr>\n",
              "    <tr>\n",
              "      <th>25%</th>\n",
              "      <td>4.750453e+03</td>\n",
              "      <td>0.000000</td>\n",
              "      <td>0.000000</td>\n",
              "      <td>1.000000</td>\n",
              "      <td>0.000000</td>\n",
              "    </tr>\n",
              "    <tr>\n",
              "      <th>50%</th>\n",
              "      <td>7.714000e+04</td>\n",
              "      <td>0.000000</td>\n",
              "      <td>1.000000</td>\n",
              "      <td>1.000000</td>\n",
              "      <td>1.000000</td>\n",
              "    </tr>\n",
              "    <tr>\n",
              "      <th>75%</th>\n",
              "      <td>2.914669e+05</td>\n",
              "      <td>1.000000</td>\n",
              "      <td>1.000000</td>\n",
              "      <td>1.000000</td>\n",
              "      <td>1.000000</td>\n",
              "    </tr>\n",
              "    <tr>\n",
              "      <th>max</th>\n",
              "      <td>3.150001e+08</td>\n",
              "      <td>500.000000</td>\n",
              "      <td>1.000000</td>\n",
              "      <td>1.000000</td>\n",
              "      <td>1.000000</td>\n",
              "    </tr>\n",
              "  </tbody>\n",
              "</table>\n",
              "</div>"
            ],
            "text/plain": [
              "       Total_Amount  ...      Decision\n",
              "count  1.677200e+04  ...  16772.000000\n",
              "mean   1.010612e+06  ...      0.568030\n",
              "std    5.873179e+06  ...      0.495365\n",
              "min    1.000000e-02  ...      0.000000\n",
              "25%    4.750453e+03  ...      0.000000\n",
              "50%    7.714000e+04  ...      1.000000\n",
              "75%    2.914669e+05  ...      1.000000\n",
              "max    3.150001e+08  ...      1.000000\n",
              "\n",
              "[8 rows x 5 columns]"
            ]
          },
          "metadata": {
            "tags": []
          },
          "execution_count": 71
        }
      ]
    },
    {
      "cell_type": "code",
      "metadata": {
        "id": "7nIpH4iFM8NB",
        "colab": {
          "base_uri": "https://localhost:8080/"
        },
        "outputId": "aaeeeab2-513b-400d-c94b-6e0d45f49f3b"
      },
      "source": [
        "short_df.Total_Amount = np.log(short_df.Total_Amount)\n",
        "short_df.shape"
      ],
      "execution_count": null,
      "outputs": [
        {
          "output_type": "stream",
          "text": [
            "/usr/local/lib/python3.7/dist-packages/pandas/core/generic.py:5170: SettingWithCopyWarning: \n",
            "A value is trying to be set on a copy of a slice from a DataFrame.\n",
            "Try using .loc[row_indexer,col_indexer] = value instead\n",
            "\n",
            "See the caveats in the documentation: https://pandas.pydata.org/pandas-docs/stable/user_guide/indexing.html#returning-a-view-versus-a-copy\n",
            "  self[name] = value\n"
          ],
          "name": "stderr"
        },
        {
          "output_type": "execute_result",
          "data": {
            "text/plain": [
              "(16772, 6)"
            ]
          },
          "metadata": {
            "tags": []
          },
          "execution_count": 72
        }
      ]
    },
    {
      "cell_type": "code",
      "metadata": {
        "id": "KV91UzPzNAN1",
        "colab": {
          "base_uri": "https://localhost:8080/"
        },
        "outputId": "96123ff1-077d-4c62-9cf5-c77949e7f04f"
      },
      "source": [
        "# One-hot-encoding de las variables categóricas\n",
        "# ==============================================================================\n",
        "# Se identifica el nobre de las columnas numéricas y categóricas\n",
        "cat_cols = short_df.select_dtypes(include=['object', 'category']).columns.to_list()\n",
        "numeric_cols = short_df.select_dtypes(include=['float64', 'int']).columns.to_list()\n",
        "\n",
        "# Se aplica one-hot-encoding solo a las columnas categóricas\n",
        "preprocessor = ColumnTransformer(\n",
        "                    [('onehot', OneHotEncoder(handle_unknown='ignore'), cat_cols)],\n",
        "                    remainder='passthrough'\n",
        "               )\n",
        "\n",
        "# Una vez que se ha definido el objeto ColumnTransformer, con el método fit()\n",
        "# se aprenden las transformaciones con los datos de entrenamiento y se aplican a\n",
        "# los dos conjuntos con transform(). Ambas operaciones a la vez con fit_transform().\n",
        "short_df_prep = preprocessor.fit_transform(short_df)\n",
        "\n",
        "#El resultado devuelto por ColumnTransformer es un numpy array, por lo que se pierden los nombres de las columnas. Es interesante poder inspeccionar cómo queda el set de datos tras el preprocesado en formato dataframe. Por defecto, OneHotEncoder ordena las nuevas columnas de izquierda a derecha por orden alfabético.\n",
        "\n",
        "# Convertir el output del ColumnTransformer en dataframe y añadir nombre columnas\n",
        "# ==============================================================================\n",
        "# Nombre de todas las columnas\n",
        "encoded_cat = preprocessor.named_transformers_['onehot'].get_feature_names(cat_cols)\n",
        "labels = np.concatenate([encoded_cat,numeric_cols])\n",
        "\n",
        "# Conversión a dataframe\n",
        "short_df_prep = pd.DataFrame(short_df_prep, columns=labels)\n",
        "short_df_prep.info()"
      ],
      "execution_count": null,
      "outputs": [
        {
          "output_type": "stream",
          "text": [
            "<class 'pandas.core.frame.DataFrame'>\n",
            "RangeIndex: 16772 entries, 0 to 16771\n",
            "Data columns (total 10 columns):\n",
            " #   Column                              Non-Null Count  Dtype  \n",
            "---  ------                              --------------  -----  \n",
            " 0   Region_APAC                         16772 non-null  float64\n",
            " 1   Region_Americas                     16772 non-null  float64\n",
            " 2   Region_EMEA                         16772 non-null  float64\n",
            " 3   Region_Japan                        16772 non-null  float64\n",
            " 4   Region_Middle East                  16772 non-null  float64\n",
            " 5   Total_Amount                        16772 non-null  float64\n",
            " 6   TRF                                 16772 non-null  float64\n",
            " 7   Pricing, Delivery_Terms_Approved    16772 non-null  float64\n",
            " 8   Pricing, Delivery_Terms_Quote_Appr  16772 non-null  float64\n",
            " 9   Decision                            16772 non-null  float64\n",
            "dtypes: float64(10)\n",
            "memory usage: 1.3 MB\n"
          ],
          "name": "stdout"
        }
      ]
    },
    {
      "cell_type": "code",
      "metadata": {
        "id": "JBFg-7WHYG-I",
        "colab": {
          "base_uri": "https://localhost:8080/",
          "height": 221
        },
        "outputId": "2f1c3f1c-bc3b-496e-ad05-bb61900eebc7"
      },
      "source": [
        "short_df_prep.head()"
      ],
      "execution_count": null,
      "outputs": [
        {
          "output_type": "execute_result",
          "data": {
            "text/html": [
              "<div>\n",
              "<style scoped>\n",
              "    .dataframe tbody tr th:only-of-type {\n",
              "        vertical-align: middle;\n",
              "    }\n",
              "\n",
              "    .dataframe tbody tr th {\n",
              "        vertical-align: top;\n",
              "    }\n",
              "\n",
              "    .dataframe thead th {\n",
              "        text-align: right;\n",
              "    }\n",
              "</style>\n",
              "<table border=\"1\" class=\"dataframe\">\n",
              "  <thead>\n",
              "    <tr style=\"text-align: right;\">\n",
              "      <th></th>\n",
              "      <th>Region_APAC</th>\n",
              "      <th>Region_Americas</th>\n",
              "      <th>Region_EMEA</th>\n",
              "      <th>Region_Japan</th>\n",
              "      <th>Region_Middle East</th>\n",
              "      <th>Total_Amount</th>\n",
              "      <th>TRF</th>\n",
              "      <th>Pricing, Delivery_Terms_Approved</th>\n",
              "      <th>Pricing, Delivery_Terms_Quote_Appr</th>\n",
              "      <th>Decision</th>\n",
              "    </tr>\n",
              "  </thead>\n",
              "  <tbody>\n",
              "    <tr>\n",
              "      <th>0</th>\n",
              "      <td>0.0</td>\n",
              "      <td>0.0</td>\n",
              "      <td>1.0</td>\n",
              "      <td>0.0</td>\n",
              "      <td>0.0</td>\n",
              "      <td>15.635076</td>\n",
              "      <td>10.0</td>\n",
              "      <td>1.0</td>\n",
              "      <td>1.0</td>\n",
              "      <td>0.0</td>\n",
              "    </tr>\n",
              "    <tr>\n",
              "      <th>1</th>\n",
              "      <td>0.0</td>\n",
              "      <td>0.0</td>\n",
              "      <td>1.0</td>\n",
              "      <td>0.0</td>\n",
              "      <td>0.0</td>\n",
              "      <td>10.940740</td>\n",
              "      <td>0.0</td>\n",
              "      <td>0.0</td>\n",
              "      <td>0.0</td>\n",
              "      <td>1.0</td>\n",
              "    </tr>\n",
              "    <tr>\n",
              "      <th>2</th>\n",
              "      <td>0.0</td>\n",
              "      <td>1.0</td>\n",
              "      <td>0.0</td>\n",
              "      <td>0.0</td>\n",
              "      <td>0.0</td>\n",
              "      <td>11.336971</td>\n",
              "      <td>0.0</td>\n",
              "      <td>0.0</td>\n",
              "      <td>0.0</td>\n",
              "      <td>1.0</td>\n",
              "    </tr>\n",
              "    <tr>\n",
              "      <th>3</th>\n",
              "      <td>0.0</td>\n",
              "      <td>1.0</td>\n",
              "      <td>0.0</td>\n",
              "      <td>0.0</td>\n",
              "      <td>0.0</td>\n",
              "      <td>15.819943</td>\n",
              "      <td>14.0</td>\n",
              "      <td>0.0</td>\n",
              "      <td>1.0</td>\n",
              "      <td>0.0</td>\n",
              "    </tr>\n",
              "    <tr>\n",
              "      <th>4</th>\n",
              "      <td>0.0</td>\n",
              "      <td>1.0</td>\n",
              "      <td>0.0</td>\n",
              "      <td>0.0</td>\n",
              "      <td>0.0</td>\n",
              "      <td>16.407566</td>\n",
              "      <td>25.0</td>\n",
              "      <td>0.0</td>\n",
              "      <td>1.0</td>\n",
              "      <td>0.0</td>\n",
              "    </tr>\n",
              "  </tbody>\n",
              "</table>\n",
              "</div>"
            ],
            "text/plain": [
              "   Region_APAC  Region_Americas  ...  Pricing, Delivery_Terms_Quote_Appr  Decision\n",
              "0          0.0              0.0  ...                                 1.0       0.0\n",
              "1          0.0              0.0  ...                                 0.0       1.0\n",
              "2          0.0              1.0  ...                                 0.0       1.0\n",
              "3          0.0              1.0  ...                                 1.0       0.0\n",
              "4          0.0              1.0  ...                                 1.0       0.0\n",
              "\n",
              "[5 rows x 10 columns]"
            ]
          },
          "metadata": {
            "tags": []
          },
          "execution_count": 74
        }
      ]
    },
    {
      "cell_type": "code",
      "metadata": {
        "id": "BMsNzxBgNYBZ"
      },
      "source": [
        "short_df_prep.to_csv('short_df_Encoded.csv')"
      ],
      "execution_count": null,
      "outputs": []
    },
    {
      "cell_type": "markdown",
      "metadata": {
        "id": "vZfHizxrS39z"
      },
      "source": [
        "## Test"
      ]
    },
    {
      "cell_type": "code",
      "metadata": {
        "id": "TVmbVuk7Qf2j",
        "colab": {
          "base_uri": "https://localhost:8080/",
          "height": 626
        },
        "outputId": "7fb0e751-27ee-4ccb-885e-d503d1328651"
      },
      "source": [
        "DataFrame_test = pd.read_csv( \"/content/Test.csv\" )\n",
        "DataFrame_test"
      ],
      "execution_count": null,
      "outputs": [
        {
          "output_type": "execute_result",
          "data": {
            "text/html": [
              "<div>\n",
              "<style scoped>\n",
              "    .dataframe tbody tr th:only-of-type {\n",
              "        vertical-align: middle;\n",
              "    }\n",
              "\n",
              "    .dataframe tbody tr th {\n",
              "        vertical-align: top;\n",
              "    }\n",
              "\n",
              "    .dataframe thead th {\n",
              "        text-align: right;\n",
              "    }\n",
              "</style>\n",
              "<table border=\"1\" class=\"dataframe\">\n",
              "  <thead>\n",
              "    <tr style=\"text-align: right;\">\n",
              "      <th></th>\n",
              "      <th>ID</th>\n",
              "      <th>Region</th>\n",
              "      <th>Territory</th>\n",
              "      <th>Pricing, Delivery_Terms_Quote_Appr</th>\n",
              "      <th>Pricing, Delivery_Terms_Approved</th>\n",
              "      <th>Bureaucratic_Code_0_Approval</th>\n",
              "      <th>Bureaucratic_Code_0_Approved</th>\n",
              "      <th>Submitted_for_Approval</th>\n",
              "      <th>Bureaucratic_Code</th>\n",
              "      <th>Account_Created_Date</th>\n",
              "      <th>Source</th>\n",
              "      <th>Billing_Country</th>\n",
              "      <th>Account_Name</th>\n",
              "      <th>Opportunity_Name</th>\n",
              "      <th>Opportunity_ID</th>\n",
              "      <th>Sales_Contract_No</th>\n",
              "      <th>Account_Owner</th>\n",
              "      <th>Opportunity_Owner</th>\n",
              "      <th>Account_Type</th>\n",
              "      <th>Opportunity_Type</th>\n",
              "      <th>Quote_Type</th>\n",
              "      <th>Delivery_Terms</th>\n",
              "      <th>Opportunity_Created_Date</th>\n",
              "      <th>Brand</th>\n",
              "      <th>Product_Type</th>\n",
              "      <th>Size</th>\n",
              "      <th>Product_Category_B</th>\n",
              "      <th>Price</th>\n",
              "      <th>Currency</th>\n",
              "      <th>Last_Activity</th>\n",
              "      <th>Quote_Expiry_Date</th>\n",
              "      <th>Last_Modified_Date</th>\n",
              "      <th>Last_Modified_By</th>\n",
              "      <th>Product_Family</th>\n",
              "      <th>Product_Name</th>\n",
              "      <th>ASP_Currency</th>\n",
              "      <th>ASP</th>\n",
              "      <th>ASP_(converted)_Currency</th>\n",
              "      <th>ASP_(converted)</th>\n",
              "      <th>Planned_Delivery_Start_Date</th>\n",
              "      <th>Planned_Delivery_End_Date</th>\n",
              "      <th>Month</th>\n",
              "      <th>Delivery_Quarter</th>\n",
              "      <th>Delivery_Year</th>\n",
              "      <th>Actual_Delivery_Date</th>\n",
              "      <th>TRF</th>\n",
              "      <th>Total_Amount_Currency</th>\n",
              "      <th>Total_Amount</th>\n",
              "      <th>Total_Taxable_Amount_Currency</th>\n",
              "      <th>Total_Taxable_Amount</th>\n",
              "      <th>Prod_Category_A</th>\n",
              "    </tr>\n",
              "  </thead>\n",
              "  <tbody>\n",
              "    <tr>\n",
              "      <th>0</th>\n",
              "      <td>6140</td>\n",
              "      <td>EMEA</td>\n",
              "      <td>Germany</td>\n",
              "      <td>1</td>\n",
              "      <td>1</td>\n",
              "      <td>1</td>\n",
              "      <td>1</td>\n",
              "      <td>0</td>\n",
              "      <td>Bureaucratic_Code_4</td>\n",
              "      <td>7/5/2017</td>\n",
              "      <td>Source_7</td>\n",
              "      <td>Germany</td>\n",
              "      <td>Account_Name_978</td>\n",
              "      <td>Opportunity_Name_6118</td>\n",
              "      <td>10689</td>\n",
              "      <td>6436</td>\n",
              "      <td>Person_Name_13</td>\n",
              "      <td>Person_Name_13</td>\n",
              "      <td>Account_Type_0</td>\n",
              "      <td>Opportunity_Type_8</td>\n",
              "      <td>Non Binding</td>\n",
              "      <td>Delivery_Terms_2</td>\n",
              "      <td>4/12/2019</td>\n",
              "      <td>None</td>\n",
              "      <td>None</td>\n",
              "      <td>None</td>\n",
              "      <td>None</td>\n",
              "      <td>None</td>\n",
              "      <td>None</td>\n",
              "      <td>NaT</td>\n",
              "      <td>4/30/2019</td>\n",
              "      <td>4/12/2019</td>\n",
              "      <td>Person_Name_13</td>\n",
              "      <td>Product_Family_171</td>\n",
              "      <td>Product_Name_332</td>\n",
              "      <td>EUR</td>\n",
              "      <td>0.325</td>\n",
              "      <td>USD</td>\n",
              "      <td>0.36761</td>\n",
              "      <td>5/1/2019</td>\n",
              "      <td>5/31/2019</td>\n",
              "      <td>2019 - 5</td>\n",
              "      <td>Q2</td>\n",
              "      <td>2019</td>\n",
              "      <td>NaT</td>\n",
              "      <td>0</td>\n",
              "      <td>EUR</td>\n",
              "      <td>162240.0</td>\n",
              "      <td>EUR</td>\n",
              "      <td>367419.0</td>\n",
              "      <td>Prod_Category_A_None</td>\n",
              "    </tr>\n",
              "    <tr>\n",
              "      <th>1</th>\n",
              "      <td>6146</td>\n",
              "      <td>EMEA</td>\n",
              "      <td>Germany</td>\n",
              "      <td>1</td>\n",
              "      <td>1</td>\n",
              "      <td>1</td>\n",
              "      <td>1</td>\n",
              "      <td>0</td>\n",
              "      <td>Bureaucratic_Code_4</td>\n",
              "      <td>7/5/2017</td>\n",
              "      <td>Source_7</td>\n",
              "      <td>Germany</td>\n",
              "      <td>Account_Name_978</td>\n",
              "      <td>Opportunity_Name_6118</td>\n",
              "      <td>10689</td>\n",
              "      <td>6436</td>\n",
              "      <td>Person_Name_13</td>\n",
              "      <td>Person_Name_13</td>\n",
              "      <td>Account_Type_0</td>\n",
              "      <td>Opportunity_Type_8</td>\n",
              "      <td>Non Binding</td>\n",
              "      <td>Delivery_Terms_2</td>\n",
              "      <td>4/12/2019</td>\n",
              "      <td>None</td>\n",
              "      <td>None</td>\n",
              "      <td>None</td>\n",
              "      <td>None</td>\n",
              "      <td>None</td>\n",
              "      <td>None</td>\n",
              "      <td>NaT</td>\n",
              "      <td>4/30/2019</td>\n",
              "      <td>4/12/2019</td>\n",
              "      <td>Person_Name_13</td>\n",
              "      <td>Product_Family_167</td>\n",
              "      <td>Product_Name_315</td>\n",
              "      <td>EUR</td>\n",
              "      <td>0.320</td>\n",
              "      <td>USD</td>\n",
              "      <td>0.36195</td>\n",
              "      <td>5/1/2019</td>\n",
              "      <td>5/31/2019</td>\n",
              "      <td>2019 - 5</td>\n",
              "      <td>Q2</td>\n",
              "      <td>2019</td>\n",
              "      <td>NaT</td>\n",
              "      <td>0</td>\n",
              "      <td>EUR</td>\n",
              "      <td>78624.0</td>\n",
              "      <td>EUR</td>\n",
              "      <td>367419.0</td>\n",
              "      <td>Prod_Category_A_None</td>\n",
              "    </tr>\n",
              "    <tr>\n",
              "      <th>2</th>\n",
              "      <td>6151</td>\n",
              "      <td>EMEA</td>\n",
              "      <td>Germany</td>\n",
              "      <td>1</td>\n",
              "      <td>1</td>\n",
              "      <td>1</td>\n",
              "      <td>1</td>\n",
              "      <td>0</td>\n",
              "      <td>Bureaucratic_Code_4</td>\n",
              "      <td>7/5/2017</td>\n",
              "      <td>Source_7</td>\n",
              "      <td>Germany</td>\n",
              "      <td>Account_Name_978</td>\n",
              "      <td>Opportunity_Name_6118</td>\n",
              "      <td>10689</td>\n",
              "      <td>6436</td>\n",
              "      <td>Person_Name_13</td>\n",
              "      <td>Person_Name_13</td>\n",
              "      <td>Account_Type_0</td>\n",
              "      <td>Opportunity_Type_8</td>\n",
              "      <td>Non Binding</td>\n",
              "      <td>Delivery_Terms_2</td>\n",
              "      <td>4/12/2019</td>\n",
              "      <td>None</td>\n",
              "      <td>None</td>\n",
              "      <td>None</td>\n",
              "      <td>None</td>\n",
              "      <td>None</td>\n",
              "      <td>None</td>\n",
              "      <td>NaT</td>\n",
              "      <td>4/30/2019</td>\n",
              "      <td>4/12/2019</td>\n",
              "      <td>Person_Name_13</td>\n",
              "      <td>Product_Family_140</td>\n",
              "      <td>Product_Name_241</td>\n",
              "      <td>EUR</td>\n",
              "      <td>0.275</td>\n",
              "      <td>USD</td>\n",
              "      <td>0.31105</td>\n",
              "      <td>5/1/2019</td>\n",
              "      <td>5/31/2019</td>\n",
              "      <td>2019 - 5</td>\n",
              "      <td>Q2</td>\n",
              "      <td>2019</td>\n",
              "      <td>NaT</td>\n",
              "      <td>0</td>\n",
              "      <td>EUR</td>\n",
              "      <td>126555.0</td>\n",
              "      <td>EUR</td>\n",
              "      <td>367419.0</td>\n",
              "      <td>Prod_Category_A_None</td>\n",
              "    </tr>\n",
              "    <tr>\n",
              "      <th>3</th>\n",
              "      <td>6118</td>\n",
              "      <td>EMEA</td>\n",
              "      <td>Germany</td>\n",
              "      <td>1</td>\n",
              "      <td>1</td>\n",
              "      <td>1</td>\n",
              "      <td>1</td>\n",
              "      <td>0</td>\n",
              "      <td>Bureaucratic_Code_4</td>\n",
              "      <td>7/5/2017</td>\n",
              "      <td>Source_7</td>\n",
              "      <td>Germany</td>\n",
              "      <td>Account_Name_978</td>\n",
              "      <td>Opportunity_Name_6117</td>\n",
              "      <td>10690</td>\n",
              "      <td>6504</td>\n",
              "      <td>Person_Name_13</td>\n",
              "      <td>Person_Name_13</td>\n",
              "      <td>Account_Type_0</td>\n",
              "      <td>Opportunity_Type_8</td>\n",
              "      <td>Non Binding</td>\n",
              "      <td>Delivery_Terms_2</td>\n",
              "      <td>4/12/2019</td>\n",
              "      <td>None</td>\n",
              "      <td>None</td>\n",
              "      <td>None</td>\n",
              "      <td>None</td>\n",
              "      <td>None</td>\n",
              "      <td>None</td>\n",
              "      <td>NaT</td>\n",
              "      <td>4/30/2019</td>\n",
              "      <td>4/25/2019</td>\n",
              "      <td>Person_Name_13</td>\n",
              "      <td>Product_Family_171</td>\n",
              "      <td>Product_Name_328</td>\n",
              "      <td>EUR</td>\n",
              "      <td>0.325</td>\n",
              "      <td>USD</td>\n",
              "      <td>0.36761</td>\n",
              "      <td>6/1/2019</td>\n",
              "      <td>6/28/2019</td>\n",
              "      <td>2019 - 6</td>\n",
              "      <td>Q2</td>\n",
              "      <td>2019</td>\n",
              "      <td>NaT</td>\n",
              "      <td>1</td>\n",
              "      <td>EUR</td>\n",
              "      <td>243360.0</td>\n",
              "      <td>EUR</td>\n",
              "      <td>757783.5</td>\n",
              "      <td>Prod_Category_A_None</td>\n",
              "    </tr>\n",
              "    <tr>\n",
              "      <th>4</th>\n",
              "      <td>6124</td>\n",
              "      <td>EMEA</td>\n",
              "      <td>Germany</td>\n",
              "      <td>1</td>\n",
              "      <td>1</td>\n",
              "      <td>1</td>\n",
              "      <td>1</td>\n",
              "      <td>0</td>\n",
              "      <td>Bureaucratic_Code_4</td>\n",
              "      <td>7/5/2017</td>\n",
              "      <td>Source_7</td>\n",
              "      <td>Germany</td>\n",
              "      <td>Account_Name_978</td>\n",
              "      <td>Opportunity_Name_6117</td>\n",
              "      <td>10690</td>\n",
              "      <td>6504</td>\n",
              "      <td>Person_Name_13</td>\n",
              "      <td>Person_Name_13</td>\n",
              "      <td>Account_Type_0</td>\n",
              "      <td>Opportunity_Type_8</td>\n",
              "      <td>Non Binding</td>\n",
              "      <td>Delivery_Terms_2</td>\n",
              "      <td>4/12/2019</td>\n",
              "      <td>None</td>\n",
              "      <td>None</td>\n",
              "      <td>None</td>\n",
              "      <td>None</td>\n",
              "      <td>None</td>\n",
              "      <td>None</td>\n",
              "      <td>NaT</td>\n",
              "      <td>4/30/2019</td>\n",
              "      <td>4/25/2019</td>\n",
              "      <td>Person_Name_13</td>\n",
              "      <td>Product_Family_167</td>\n",
              "      <td>Product_Name_315</td>\n",
              "      <td>EUR</td>\n",
              "      <td>0.320</td>\n",
              "      <td>USD</td>\n",
              "      <td>0.36195</td>\n",
              "      <td>6/1/2019</td>\n",
              "      <td>6/29/2019</td>\n",
              "      <td>2019 - 6</td>\n",
              "      <td>Q2</td>\n",
              "      <td>2019</td>\n",
              "      <td>NaT</td>\n",
              "      <td>0</td>\n",
              "      <td>EUR</td>\n",
              "      <td>157248.0</td>\n",
              "      <td>EUR</td>\n",
              "      <td>757783.5</td>\n",
              "      <td>Prod_Category_A_None</td>\n",
              "    </tr>\n",
              "    <tr>\n",
              "      <th>...</th>\n",
              "      <td>...</td>\n",
              "      <td>...</td>\n",
              "      <td>...</td>\n",
              "      <td>...</td>\n",
              "      <td>...</td>\n",
              "      <td>...</td>\n",
              "      <td>...</td>\n",
              "      <td>...</td>\n",
              "      <td>...</td>\n",
              "      <td>...</td>\n",
              "      <td>...</td>\n",
              "      <td>...</td>\n",
              "      <td>...</td>\n",
              "      <td>...</td>\n",
              "      <td>...</td>\n",
              "      <td>...</td>\n",
              "      <td>...</td>\n",
              "      <td>...</td>\n",
              "      <td>...</td>\n",
              "      <td>...</td>\n",
              "      <td>...</td>\n",
              "      <td>...</td>\n",
              "      <td>...</td>\n",
              "      <td>...</td>\n",
              "      <td>...</td>\n",
              "      <td>...</td>\n",
              "      <td>...</td>\n",
              "      <td>...</td>\n",
              "      <td>...</td>\n",
              "      <td>...</td>\n",
              "      <td>...</td>\n",
              "      <td>...</td>\n",
              "      <td>...</td>\n",
              "      <td>...</td>\n",
              "      <td>...</td>\n",
              "      <td>...</td>\n",
              "      <td>...</td>\n",
              "      <td>...</td>\n",
              "      <td>...</td>\n",
              "      <td>...</td>\n",
              "      <td>...</td>\n",
              "      <td>...</td>\n",
              "      <td>...</td>\n",
              "      <td>...</td>\n",
              "      <td>...</td>\n",
              "      <td>...</td>\n",
              "      <td>...</td>\n",
              "      <td>...</td>\n",
              "      <td>...</td>\n",
              "      <td>...</td>\n",
              "      <td>...</td>\n",
              "    </tr>\n",
              "    <tr>\n",
              "      <th>2546</th>\n",
              "      <td>16345</td>\n",
              "      <td>EMEA</td>\n",
              "      <td>KSA</td>\n",
              "      <td>1</td>\n",
              "      <td>1</td>\n",
              "      <td>0</td>\n",
              "      <td>0</td>\n",
              "      <td>0</td>\n",
              "      <td>Bureaucratic_Code_4</td>\n",
              "      <td>6/12/2017</td>\n",
              "      <td>Source_3</td>\n",
              "      <td>South Africa</td>\n",
              "      <td>Account_Name_1686</td>\n",
              "      <td>Opportunity_Name_11120</td>\n",
              "      <td>12364</td>\n",
              "      <td>6508</td>\n",
              "      <td>Person_Name_13</td>\n",
              "      <td>Person_Name_13</td>\n",
              "      <td>Account_Type_0</td>\n",
              "      <td>Opportunity_Type_1</td>\n",
              "      <td>Non Binding</td>\n",
              "      <td>Delivery_Terms_7</td>\n",
              "      <td>4/26/2019</td>\n",
              "      <td>None</td>\n",
              "      <td>None</td>\n",
              "      <td>None</td>\n",
              "      <td>None</td>\n",
              "      <td>None</td>\n",
              "      <td>None</td>\n",
              "      <td>NaT</td>\n",
              "      <td>5/24/2019</td>\n",
              "      <td>4/26/2019</td>\n",
              "      <td>Person_Name_13</td>\n",
              "      <td>Product_Family_213</td>\n",
              "      <td>Product_Name_447</td>\n",
              "      <td>USD</td>\n",
              "      <td>0.300</td>\n",
              "      <td>USD</td>\n",
              "      <td>0.30000</td>\n",
              "      <td>5/1/2019</td>\n",
              "      <td>5/10/2019</td>\n",
              "      <td>2019 - 5</td>\n",
              "      <td>Q2</td>\n",
              "      <td>2019</td>\n",
              "      <td>NaT</td>\n",
              "      <td>0</td>\n",
              "      <td>USD</td>\n",
              "      <td>124740.0</td>\n",
              "      <td>USD</td>\n",
              "      <td>147750.0</td>\n",
              "      <td>Prod_Category_A_None</td>\n",
              "    </tr>\n",
              "    <tr>\n",
              "      <th>2547</th>\n",
              "      <td>15218</td>\n",
              "      <td>Americas</td>\n",
              "      <td>SE America</td>\n",
              "      <td>1</td>\n",
              "      <td>1</td>\n",
              "      <td>0</td>\n",
              "      <td>0</td>\n",
              "      <td>0</td>\n",
              "      <td>Bureaucratic_Code_4</td>\n",
              "      <td>6/8/2018</td>\n",
              "      <td>None</td>\n",
              "      <td>United States</td>\n",
              "      <td>Account_Name_768</td>\n",
              "      <td>Opportunity_Name_9694</td>\n",
              "      <td>12365</td>\n",
              "      <td>6510</td>\n",
              "      <td>Person_Name_38</td>\n",
              "      <td>Person_Name_38</td>\n",
              "      <td>Account_Type_2</td>\n",
              "      <td>Opportunity_Type_1</td>\n",
              "      <td>Non Binding</td>\n",
              "      <td>Delivery_Terms_4</td>\n",
              "      <td>4/26/2019</td>\n",
              "      <td>None</td>\n",
              "      <td>None</td>\n",
              "      <td>None</td>\n",
              "      <td>None</td>\n",
              "      <td>None</td>\n",
              "      <td>None</td>\n",
              "      <td>NaT</td>\n",
              "      <td>5/24/2019</td>\n",
              "      <td>4/27/2019</td>\n",
              "      <td>Person_Name_38</td>\n",
              "      <td>Product_Family_221</td>\n",
              "      <td>Product_Name_477</td>\n",
              "      <td>USD</td>\n",
              "      <td>0.410</td>\n",
              "      <td>USD</td>\n",
              "      <td>0.41000</td>\n",
              "      <td>10/1/2019</td>\n",
              "      <td>12/31/2019</td>\n",
              "      <td>2019 - 10</td>\n",
              "      <td>Q4</td>\n",
              "      <td>2019</td>\n",
              "      <td>NaT</td>\n",
              "      <td>0</td>\n",
              "      <td>USD</td>\n",
              "      <td>45054.9</td>\n",
              "      <td>USD</td>\n",
              "      <td>45054.9</td>\n",
              "      <td>Prod_Category_A_None</td>\n",
              "    </tr>\n",
              "    <tr>\n",
              "      <th>2548</th>\n",
              "      <td>15224</td>\n",
              "      <td>Americas</td>\n",
              "      <td>SE America</td>\n",
              "      <td>1</td>\n",
              "      <td>1</td>\n",
              "      <td>1</td>\n",
              "      <td>1</td>\n",
              "      <td>0</td>\n",
              "      <td>Bureaucratic_Code_4</td>\n",
              "      <td>6/8/2018</td>\n",
              "      <td>None</td>\n",
              "      <td>United States</td>\n",
              "      <td>Account_Name_768</td>\n",
              "      <td>Opportunity_Name_9693</td>\n",
              "      <td>12366</td>\n",
              "      <td>6511</td>\n",
              "      <td>Person_Name_38</td>\n",
              "      <td>Person_Name_38</td>\n",
              "      <td>Account_Type_2</td>\n",
              "      <td>Opportunity_Type_1</td>\n",
              "      <td>Non Binding</td>\n",
              "      <td>Delivery_Terms_4</td>\n",
              "      <td>4/26/2019</td>\n",
              "      <td>None</td>\n",
              "      <td>None</td>\n",
              "      <td>None</td>\n",
              "      <td>None</td>\n",
              "      <td>None</td>\n",
              "      <td>None</td>\n",
              "      <td>NaT</td>\n",
              "      <td>5/24/2019</td>\n",
              "      <td>4/27/2019</td>\n",
              "      <td>Person_Name_38</td>\n",
              "      <td>Product_Family_221</td>\n",
              "      <td>Product_Name_477</td>\n",
              "      <td>USD</td>\n",
              "      <td>0.410</td>\n",
              "      <td>USD</td>\n",
              "      <td>0.41000</td>\n",
              "      <td>10/1/2019</td>\n",
              "      <td>12/31/2019</td>\n",
              "      <td>2019 - 10</td>\n",
              "      <td>Q4</td>\n",
              "      <td>2019</td>\n",
              "      <td>NaT</td>\n",
              "      <td>0</td>\n",
              "      <td>USD</td>\n",
              "      <td>100122.0</td>\n",
              "      <td>USD</td>\n",
              "      <td>100122.0</td>\n",
              "      <td>Prod_Category_A_None</td>\n",
              "    </tr>\n",
              "    <tr>\n",
              "      <th>2549</th>\n",
              "      <td>7286</td>\n",
              "      <td>Americas</td>\n",
              "      <td>NE America</td>\n",
              "      <td>1</td>\n",
              "      <td>1</td>\n",
              "      <td>0</td>\n",
              "      <td>0</td>\n",
              "      <td>0</td>\n",
              "      <td>Bureaucratic_Code_4</td>\n",
              "      <td>8/29/2018</td>\n",
              "      <td>None</td>\n",
              "      <td>United States</td>\n",
              "      <td>Account_Name_1635</td>\n",
              "      <td>Opportunity_Name_1676</td>\n",
              "      <td>12367</td>\n",
              "      <td>None</td>\n",
              "      <td>Person_Name_9</td>\n",
              "      <td>Person_Name_9</td>\n",
              "      <td>Account_Type_2</td>\n",
              "      <td>Opportunity_Type_7</td>\n",
              "      <td>Non Binding</td>\n",
              "      <td>Delivery_Terms_4</td>\n",
              "      <td>4/26/2019</td>\n",
              "      <td>None</td>\n",
              "      <td>None</td>\n",
              "      <td>None</td>\n",
              "      <td>None</td>\n",
              "      <td>None</td>\n",
              "      <td>None</td>\n",
              "      <td>NaT</td>\n",
              "      <td>5/26/2019</td>\n",
              "      <td>4/26/2019</td>\n",
              "      <td>Person_Name_9</td>\n",
              "      <td>Product_Family_156</td>\n",
              "      <td>Product_Name_281</td>\n",
              "      <td>USD</td>\n",
              "      <td>0.500</td>\n",
              "      <td>USD</td>\n",
              "      <td>0.50000</td>\n",
              "      <td>8/1/2019</td>\n",
              "      <td>8/1/2019</td>\n",
              "      <td>2019 - 8</td>\n",
              "      <td>Q3</td>\n",
              "      <td>2019</td>\n",
              "      <td>NaT</td>\n",
              "      <td>0</td>\n",
              "      <td>USD</td>\n",
              "      <td>143220.0</td>\n",
              "      <td>USD</td>\n",
              "      <td>143220.0</td>\n",
              "      <td>Prod_Category_A_None</td>\n",
              "    </tr>\n",
              "    <tr>\n",
              "      <th>2550</th>\n",
              "      <td>11263</td>\n",
              "      <td>EMEA</td>\n",
              "      <td>Belgium</td>\n",
              "      <td>1</td>\n",
              "      <td>0</td>\n",
              "      <td>0</td>\n",
              "      <td>0</td>\n",
              "      <td>0</td>\n",
              "      <td>Bureaucratic_Code_5</td>\n",
              "      <td>3/3/2016</td>\n",
              "      <td>None</td>\n",
              "      <td>Luxembourg</td>\n",
              "      <td>Account_Name_271</td>\n",
              "      <td>Opportunity_Name_3187</td>\n",
              "      <td>12368</td>\n",
              "      <td>None</td>\n",
              "      <td>Person_Name_18</td>\n",
              "      <td>Person_Name_16</td>\n",
              "      <td>Account_Type_0</td>\n",
              "      <td>Opportunity_Type_1</td>\n",
              "      <td>Non Binding</td>\n",
              "      <td>Delivery_Terms_2</td>\n",
              "      <td>4/27/2019</td>\n",
              "      <td>None</td>\n",
              "      <td>None</td>\n",
              "      <td>None</td>\n",
              "      <td>None</td>\n",
              "      <td>None</td>\n",
              "      <td>None</td>\n",
              "      <td>NaT</td>\n",
              "      <td>2/8/2019</td>\n",
              "      <td>4/27/2019</td>\n",
              "      <td>Person_Name_16</td>\n",
              "      <td>Product_Family_171</td>\n",
              "      <td>Product_Name_331</td>\n",
              "      <td>EUR</td>\n",
              "      <td>0.290</td>\n",
              "      <td>USD</td>\n",
              "      <td>0.32802</td>\n",
              "      <td>10/21/2019</td>\n",
              "      <td>12/13/2019</td>\n",
              "      <td>2019 - 10</td>\n",
              "      <td>Q4</td>\n",
              "      <td>2019</td>\n",
              "      <td>NaT</td>\n",
              "      <td>3</td>\n",
              "      <td>EUR</td>\n",
              "      <td>871020.8</td>\n",
              "      <td>EUR</td>\n",
              "      <td>871020.8</td>\n",
              "      <td>Prod_Category_A_None</td>\n",
              "    </tr>\n",
              "  </tbody>\n",
              "</table>\n",
              "<p>2551 rows × 51 columns</p>\n",
              "</div>"
            ],
            "text/plain": [
              "         ID    Region  ... Total_Taxable_Amount       Prod_Category_A\n",
              "0      6140      EMEA  ...             367419.0  Prod_Category_A_None\n",
              "1      6146      EMEA  ...             367419.0  Prod_Category_A_None\n",
              "2      6151      EMEA  ...             367419.0  Prod_Category_A_None\n",
              "3      6118      EMEA  ...             757783.5  Prod_Category_A_None\n",
              "4      6124      EMEA  ...             757783.5  Prod_Category_A_None\n",
              "...     ...       ...  ...                  ...                   ...\n",
              "2546  16345      EMEA  ...             147750.0  Prod_Category_A_None\n",
              "2547  15218  Americas  ...              45054.9  Prod_Category_A_None\n",
              "2548  15224  Americas  ...             100122.0  Prod_Category_A_None\n",
              "2549   7286  Americas  ...             143220.0  Prod_Category_A_None\n",
              "2550  11263      EMEA  ...             871020.8  Prod_Category_A_None\n",
              "\n",
              "[2551 rows x 51 columns]"
            ]
          },
          "metadata": {
            "tags": []
          },
          "execution_count": 76
        }
      ]
    },
    {
      "cell_type": "code",
      "metadata": {
        "id": "1e17T_lZRYvK"
      },
      "source": [
        "DataFrame_test.loc[DataFrame_test['Total_Amount_Currency'] == 'JPY', 'Total_Amount'] = DataFrame_test['Total_Amount']*0.0096\n",
        "DataFrame_test.loc[DataFrame_test['Total_Amount_Currency'] == 'JPY', 'Total_Amount_Currency'] = 'USD'\n",
        "\n",
        "DataFrame_test.loc[DataFrame_test['Total_Amount_Currency'] == 'EUR', 'Total_Amount'] = DataFrame_test['Total_Amount']*1.17\n",
        "DataFrame_test.loc[DataFrame_test['Total_Amount_Currency'] == 'EUR', 'Total_Amount_Currency'] = 'USD'\n",
        "\n",
        "DataFrame_test.loc[DataFrame_test['Total_Amount_Currency'] == 'AUD', 'Total_Amount'] = DataFrame_test['Total_Amount']*0.70\n",
        "DataFrame_test.loc[DataFrame_test['Total_Amount_Currency'] == 'AUD', 'Total_Amount_Currency'] = 'USD'\n",
        "\n",
        "DataFrame_test.loc[DataFrame_test['Total_Amount_Currency'] == 'GBP', 'Total_Amount'] = DataFrame_test['Total_Amount']*1.29\n",
        "DataFrame_test.loc[DataFrame_test['Total_Amount_Currency'] == 'GBP', 'Total_Amount_Currency'] = 'USD'"
      ],
      "execution_count": null,
      "outputs": []
    },
    {
      "cell_type": "code",
      "metadata": {
        "id": "_BO4jDyJSd2b",
        "colab": {
          "base_uri": "https://localhost:8080/",
          "height": 419
        },
        "outputId": "68f501ff-215b-4336-9407-687ad4b446b2"
      },
      "source": [
        "DataFrame_test = DataFrame_test[['Opportunity_ID','Region','Total_Amount','TRF','Pricing, Delivery_Terms_Approved','Pricing, Delivery_Terms_Quote_Appr' ]]\n",
        "DataFrame_test = DataFrame_test.drop_duplicates('Opportunity_ID',keep = 'last')\n",
        "DataFrame_test"
      ],
      "execution_count": null,
      "outputs": [
        {
          "output_type": "execute_result",
          "data": {
            "text/html": [
              "<div>\n",
              "<style scoped>\n",
              "    .dataframe tbody tr th:only-of-type {\n",
              "        vertical-align: middle;\n",
              "    }\n",
              "\n",
              "    .dataframe tbody tr th {\n",
              "        vertical-align: top;\n",
              "    }\n",
              "\n",
              "    .dataframe thead th {\n",
              "        text-align: right;\n",
              "    }\n",
              "</style>\n",
              "<table border=\"1\" class=\"dataframe\">\n",
              "  <thead>\n",
              "    <tr style=\"text-align: right;\">\n",
              "      <th></th>\n",
              "      <th>Opportunity_ID</th>\n",
              "      <th>Region</th>\n",
              "      <th>Total_Amount</th>\n",
              "      <th>TRF</th>\n",
              "      <th>Pricing, Delivery_Terms_Approved</th>\n",
              "      <th>Pricing, Delivery_Terms_Quote_Appr</th>\n",
              "    </tr>\n",
              "  </thead>\n",
              "  <tbody>\n",
              "    <tr>\n",
              "      <th>2</th>\n",
              "      <td>10689</td>\n",
              "      <td>EMEA</td>\n",
              "      <td>148069.350</td>\n",
              "      <td>0</td>\n",
              "      <td>1</td>\n",
              "      <td>1</td>\n",
              "    </tr>\n",
              "    <tr>\n",
              "      <th>7</th>\n",
              "      <td>10690</td>\n",
              "      <td>EMEA</td>\n",
              "      <td>131582.880</td>\n",
              "      <td>0</td>\n",
              "      <td>1</td>\n",
              "      <td>1</td>\n",
              "    </tr>\n",
              "    <tr>\n",
              "      <th>8</th>\n",
              "      <td>10691</td>\n",
              "      <td>Americas</td>\n",
              "      <td>21037.500</td>\n",
              "      <td>0</td>\n",
              "      <td>1</td>\n",
              "      <td>1</td>\n",
              "    </tr>\n",
              "    <tr>\n",
              "      <th>14</th>\n",
              "      <td>10692</td>\n",
              "      <td>Americas</td>\n",
              "      <td>228327.000</td>\n",
              "      <td>1</td>\n",
              "      <td>1</td>\n",
              "      <td>1</td>\n",
              "    </tr>\n",
              "    <tr>\n",
              "      <th>15</th>\n",
              "      <td>10693</td>\n",
              "      <td>Americas</td>\n",
              "      <td>5752.500</td>\n",
              "      <td>0</td>\n",
              "      <td>0</td>\n",
              "      <td>0</td>\n",
              "    </tr>\n",
              "    <tr>\n",
              "      <th>...</th>\n",
              "      <td>...</td>\n",
              "      <td>...</td>\n",
              "      <td>...</td>\n",
              "      <td>...</td>\n",
              "      <td>...</td>\n",
              "      <td>...</td>\n",
              "    </tr>\n",
              "    <tr>\n",
              "      <th>2546</th>\n",
              "      <td>12364</td>\n",
              "      <td>EMEA</td>\n",
              "      <td>124740.000</td>\n",
              "      <td>0</td>\n",
              "      <td>1</td>\n",
              "      <td>1</td>\n",
              "    </tr>\n",
              "    <tr>\n",
              "      <th>2547</th>\n",
              "      <td>12365</td>\n",
              "      <td>Americas</td>\n",
              "      <td>45054.900</td>\n",
              "      <td>0</td>\n",
              "      <td>1</td>\n",
              "      <td>1</td>\n",
              "    </tr>\n",
              "    <tr>\n",
              "      <th>2548</th>\n",
              "      <td>12366</td>\n",
              "      <td>Americas</td>\n",
              "      <td>100122.000</td>\n",
              "      <td>0</td>\n",
              "      <td>1</td>\n",
              "      <td>1</td>\n",
              "    </tr>\n",
              "    <tr>\n",
              "      <th>2549</th>\n",
              "      <td>12367</td>\n",
              "      <td>Americas</td>\n",
              "      <td>143220.000</td>\n",
              "      <td>0</td>\n",
              "      <td>1</td>\n",
              "      <td>1</td>\n",
              "    </tr>\n",
              "    <tr>\n",
              "      <th>2550</th>\n",
              "      <td>12368</td>\n",
              "      <td>EMEA</td>\n",
              "      <td>1019094.336</td>\n",
              "      <td>3</td>\n",
              "      <td>0</td>\n",
              "      <td>1</td>\n",
              "    </tr>\n",
              "  </tbody>\n",
              "</table>\n",
              "<p>1567 rows × 6 columns</p>\n",
              "</div>"
            ],
            "text/plain": [
              "      Opportunity_ID  ... Pricing, Delivery_Terms_Quote_Appr\n",
              "2              10689  ...                                  1\n",
              "7              10690  ...                                  1\n",
              "8              10691  ...                                  1\n",
              "14             10692  ...                                  1\n",
              "15             10693  ...                                  0\n",
              "...              ...  ...                                ...\n",
              "2546           12364  ...                                  1\n",
              "2547           12365  ...                                  1\n",
              "2548           12366  ...                                  1\n",
              "2549           12367  ...                                  1\n",
              "2550           12368  ...                                  1\n",
              "\n",
              "[1567 rows x 6 columns]"
            ]
          },
          "metadata": {
            "tags": []
          },
          "execution_count": 78
        }
      ]
    },
    {
      "cell_type": "code",
      "metadata": {
        "id": "Fptlb9OfSsnP",
        "colab": {
          "base_uri": "https://localhost:8080/"
        },
        "outputId": "9c9a17e7-f01a-4a58-f595-95174d86eb3e"
      },
      "source": [
        "DataFrame_test.Total_Amount = np.log(DataFrame_test.Total_Amount)\n",
        "DataFrame_test['Total_Amount'].describe()"
      ],
      "execution_count": null,
      "outputs": [
        {
          "output_type": "execute_result",
          "data": {
            "text/plain": [
              "count    1567.000000\n",
              "mean       11.581272\n",
              "std         1.843534\n",
              "min         4.516018\n",
              "25%        10.700326\n",
              "50%        11.664994\n",
              "75%        12.496506\n",
              "max        19.996115\n",
              "Name: Total_Amount, dtype: float64"
            ]
          },
          "metadata": {
            "tags": []
          },
          "execution_count": 79
        }
      ]
    },
    {
      "cell_type": "code",
      "metadata": {
        "id": "-J0guKuRSwSf",
        "colab": {
          "base_uri": "https://localhost:8080/"
        },
        "outputId": "6af647d5-612c-4625-fe15-397c778d53fb"
      },
      "source": [
        "# One-hot-encoding de las variables categóricas\n",
        "# ==============================================================================\n",
        "# Se identifica el nobre de las columnas numéricas y categóricas\n",
        "cat_cols = DataFrame_test.select_dtypes(include=['object', 'category']).columns.to_list()\n",
        "numeric_cols = DataFrame_test.select_dtypes(include=['float64', 'int']).columns.to_list()\n",
        "\n",
        "# Se aplica one-hot-encoding solo a las columnas categóricas\n",
        "preprocessor = ColumnTransformer(\n",
        "                    [('onehot', OneHotEncoder(handle_unknown='ignore'), cat_cols)],\n",
        "                    remainder='passthrough'\n",
        "               )\n",
        "\n",
        "# Una vez que se ha definido el objeto ColumnTransformer, con el método fit()\n",
        "# se aprenden las transformaciones con los datos de entrenamiento y se aplican a\n",
        "# los dos conjuntos con transform(). Ambas operaciones a la vez con fit_transform().\n",
        "DataFrame_test_prep = preprocessor.fit_transform(DataFrame_test)\n",
        "\n",
        "#El resultado devuelto por ColumnTransformer es un numpy array, por lo que se pierden los nombres de las columnas. Es interesante poder inspeccionar cómo queda el set de datos tras el preprocesado en formato dataframe. Por defecto, OneHotEncoder ordena las nuevas columnas de izquierda a derecha por orden alfabético.\n",
        "\n",
        "# Convertir el output del ColumnTransformer en dataframe y añadir nombre columnas\n",
        "# ==============================================================================\n",
        "# Nombre de todas las columnas\n",
        "encoded_cat = preprocessor.named_transformers_['onehot'].get_feature_names(cat_cols)\n",
        "labels = np.concatenate([encoded_cat, numeric_cols])\n",
        "\n",
        "# Conversión a dataframe\n",
        "DataFrame_test_prep = pd.DataFrame(DataFrame_test_prep, columns=labels)\n",
        "DataFrame_test_prep.info()"
      ],
      "execution_count": null,
      "outputs": [
        {
          "output_type": "stream",
          "text": [
            "<class 'pandas.core.frame.DataFrame'>\n",
            "RangeIndex: 1567 entries, 0 to 1566\n",
            "Data columns (total 10 columns):\n",
            " #   Column                              Non-Null Count  Dtype  \n",
            "---  ------                              --------------  -----  \n",
            " 0   Region_APAC                         1567 non-null   float64\n",
            " 1   Region_Americas                     1567 non-null   float64\n",
            " 2   Region_EMEA                         1567 non-null   float64\n",
            " 3   Region_Japan                        1567 non-null   float64\n",
            " 4   Region_Middle East                  1567 non-null   float64\n",
            " 5   Opportunity_ID                      1567 non-null   float64\n",
            " 6   Total_Amount                        1567 non-null   float64\n",
            " 7   TRF                                 1567 non-null   float64\n",
            " 8   Pricing, Delivery_Terms_Approved    1567 non-null   float64\n",
            " 9   Pricing, Delivery_Terms_Quote_Appr  1567 non-null   float64\n",
            "dtypes: float64(10)\n",
            "memory usage: 122.5 KB\n"
          ],
          "name": "stdout"
        }
      ]
    },
    {
      "cell_type": "code",
      "metadata": {
        "id": "tMuph4uKQw9I"
      },
      "source": [
        "DataFrame_test_prep.Opportunity_ID = DataFrame_test_prep.Opportunity_ID.astype(int)"
      ],
      "execution_count": null,
      "outputs": []
    },
    {
      "cell_type": "code",
      "metadata": {
        "id": "DjGAX5iYQ6oe"
      },
      "source": [
        "DataFrame_test_prep = DataFrame_test_prep.drop_duplicates('Opportunity_ID',keep = 'last')"
      ],
      "execution_count": null,
      "outputs": []
    },
    {
      "cell_type": "code",
      "metadata": {
        "id": "goYyLDLxSyL2"
      },
      "source": [
        "DataFrame_test_prep.to_csv('DataFrame_test_encoded.csv')"
      ],
      "execution_count": null,
      "outputs": []
    },
    {
      "cell_type": "code",
      "metadata": {
        "id": "kW8vRuahWhnr"
      },
      "source": [
        "#files.download('short_df_Encoded.csv')\r\n",
        "#files.download('DataFrame_test_encoded.csv')"
      ],
      "execution_count": null,
      "outputs": []
    },
    {
      "cell_type": "markdown",
      "metadata": {
        "id": "g5DzHg-pK1mY"
      },
      "source": [
        "#Forma 3 (Mean Encoding) con otras columnas"
      ]
    },
    {
      "cell_type": "code",
      "metadata": {
        "id": "ZZ3qHH08LYTH"
      },
      "source": [
        "df3 = pd.read_csv( \"/content/Training.csv\" )"
      ],
      "execution_count": null,
      "outputs": []
    },
    {
      "cell_type": "code",
      "metadata": {
        "id": "VdN-wDPeLa2I"
      },
      "source": [
        "df4.loc[df4['Total_Amount_Currency'] == 'JPY', 'Total_Amount'] = df4['Total_Amount']*0.0096\r\n",
        "df4.loc[df4['Total_Amount_Currency'] == 'JPY', 'Total_Amount_Currency'] = 'USD'\r\n",
        "\r\n",
        "df4.loc[df4['Total_Amount_Currency'] == 'EUR', 'Total_Amount'] = df4['Total_Amount']*1.17\r\n",
        "df4.loc[df4['Total_Amount_Currency'] == 'EUR', 'Total_Amount_Currency'] = 'USD'\r\n",
        "\r\n",
        "df4.loc[df4['Total_Amount_Currency'] == 'AUD', 'Total_Amount'] = df4['Total_Amount']*0.70\r\n",
        "df4.loc[df4['Total_Amount_Currency'] == 'AUD', 'Total_Amount_Currency'] = 'USD'\r\n",
        "\r\n",
        "df4.loc[df4['Total_Amount_Currency'] == 'GBP', 'Total_Amount'] = df4['Total_Amount']*1.29\r\n",
        "df4.loc[df4['Total_Amount_Currency'] == 'GBP', 'Total_Amount_Currency'] = 'USD'\r\n",
        "df4.dropna(inplace = True)\r\n",
        "df4['Opportunity_Created_Date'] = pd.to_datetime(df4['Opportunity_Created_Date'],errors='coerce')\r\n",
        "df4[\"Year Created\"] = df4[\"Opportunity_Created_Date\"].dt.year\r\n",
        "df4[\"Month Created\"] =df4[\"Opportunity_Created_Date\"].dt.month\r\n",
        "df4[\"Expensive\"] = np.where(df4[\"Total_Taxable_Amount\"] >= 80000, 1, 0)\r\n",
        "df4['Planned_Delivery_Start_Date'] = pd.to_datetime(df4['Planned_Delivery_Start_Date'],errors='coerce')\r\n",
        "df4['Planned_Delivery_End_Date'] = pd.to_datetime(df4['Planned_Delivery_End_Date'],errors='coerce')\r\n",
        "df4 = df4[df4[\"Total_Amount\"] > 0]\r\n",
        "df4[\"Total_Amount\"] = np.log(df4[\"Total_Amount\"])\r\n",
        "entrenamiento_by_region = df4.groupby(\"Region\").agg({\"Stage\" : \"count\"})\r\n",
        "entrenamiento_by_region.rename(columns = {\"Stage\" : \"Amount of Cases\"}, inplace = True)\r\n",
        "entrenamiento_won_by_region = df4[df4[\"Stage\"] == \"Closed Won\"].groupby(\"Region\").agg({\"Stage\" : \"count\"})\r\n",
        "entrenamiento_won_by_region.rename(columns = {\"Stage\" : \"Cases won\"}, inplace = True)\r\n",
        "\r\n",
        "entrenamiento_won_by_region[\"percentage\"] = (entrenamiento_won_by_region[\"Cases won\"] / entrenamiento_by_region[\"Amount of Cases\"]) * 100\r\n",
        "df4 = df4.merge(entrenamiento_won_by_region, on = \"Region\")\r\n",
        "df4[\"Años en entregar\"] = df4[\"Delivery_Year\"] - df4[\"Year Created\"]"
      ],
      "execution_count": null,
      "outputs": []
    },
    {
      "cell_type": "code",
      "metadata": {
        "id": "Oq0Tl3MVLcG2"
      },
      "source": [
        "short_df4 = df4[['Opportunity_ID', \"Total_Amount\", \"Años en entregar\",\"Month Created\", \"Product_Name\", \"Opportunity_Owner\", 'Stage' ]].rename(columns={'Stage': 'Decision'})\r\n",
        "short_df4 = short_df4[ (short_df4['Decision'] == 'Closed Won') | (short_df4['Decision'] == 'Closed Lost') ]\r\n",
        "short_df4['Decision'] = np.where(short_df4['Decision'] == 'Closed Won',1,0)\r\n",
        "short_df4.set_index('Opportunity_ID', inplace = True)\r\n",
        "\r\n",
        "\r\n",
        "short_df4.describe()\r\n",
        "short_df4.dropna(inplace = True)"
      ],
      "execution_count": null,
      "outputs": []
    },
    {
      "cell_type": "code",
      "metadata": {
        "colab": {
          "base_uri": "https://localhost:8080/"
        },
        "id": "x-sxOtDyLdEH",
        "outputId": "6f1280db-3986-4548-9614-d2ec1e6a3c4e"
      },
      "source": [
        "short_df4[\"Product_Name\"] = np.where(short_df4.groupby('Product_Name')[\"Product_Name\"].transform(len) > 5, short_df4[\"Product_Name\"], \"Other\")\r\n",
        "short_df4[\"Product_Name\"].value_counts()"
      ],
      "execution_count": null,
      "outputs": [
        {
          "output_type": "execute_result",
          "data": {
            "text/plain": [
              "Product_Name_100    968\n",
              "Product_Name_226    835\n",
              "Product_Name_231    574\n",
              "Product_Name_192    437\n",
              "Other               397\n",
              "                   ... \n",
              "Product_Name_264      6\n",
              "Product_Name_254      6\n",
              "Product_Name_106      6\n",
              "Product_Name_17       6\n",
              "Product_Name_388      6\n",
              "Name: Product_Name, Length: 237, dtype: int64"
            ]
          },
          "metadata": {
            "tags": []
          },
          "execution_count": 88
        }
      ]
    },
    {
      "cell_type": "code",
      "metadata": {
        "colab": {
          "base_uri": "https://localhost:8080/"
        },
        "id": "1yLTCv4YLjBq",
        "outputId": "db81d34d-209a-49d6-a5bc-d62854019696"
      },
      "source": [
        "short_df4[\"Opportunity_Owner\"] = np.where(short_df4.groupby('Opportunity_Owner')[\"Opportunity_Owner\"].transform(len) > 5, short_df4[\"Opportunity_Owner\"], \"Other\")\r\n",
        "short_df4[\"Opportunity_Owner\"].value_counts()"
      ],
      "execution_count": null,
      "outputs": [
        {
          "output_type": "execute_result",
          "data": {
            "text/plain": [
              "Person_Name_8     1352\n",
              "Person_Name_13    1252\n",
              "Person_Name_50    1071\n",
              "Person_Name_18     979\n",
              "Person_Name_43     831\n",
              "Person_Name_3      760\n",
              "Person_Name_4      682\n",
              "Person_Name_32     655\n",
              "Person_Name_19     614\n",
              "Person_Name_16     438\n",
              "Person_Name_23     422\n",
              "Person_Name_64     408\n",
              "Person_Name_65     322\n",
              "Person_Name_49     285\n",
              "Person_Name_46     238\n",
              "Person_Name_44     225\n",
              "Person_Name_66     218\n",
              "Person_Name_39     210\n",
              "Person_Name_60     206\n",
              "Person_Name_48     198\n",
              "Person_Name_38     193\n",
              "Person_Name_62     174\n",
              "Person_Name_52     173\n",
              "Person_Name_54     168\n",
              "Person_Name_5      152\n",
              "Person_Name_59     134\n",
              "Person_Name_2      118\n",
              "Person_Name_45     112\n",
              "Person_Name_41     112\n",
              "Person_Name_51     111\n",
              "Person_Name_33      86\n",
              "Person_Name_14      82\n",
              "Person_Name_55      79\n",
              "Person_Name_11      70\n",
              "Person_Name_30      64\n",
              "Person_Name_63      61\n",
              "Person_Name_40      50\n",
              "Person_Name_25      48\n",
              "Person_Name_20      48\n",
              "Person_Name_26      33\n",
              "Person_Name_22      33\n",
              "Person_Name_37      21\n",
              "Person_Name_12      19\n",
              "Person_Name_42      19\n",
              "Person_Name_34      13\n",
              "Person_Name_61      11\n",
              "Person_Name_29      11\n",
              "Other                9\n",
              "Person_Name_58       7\n",
              "Person_Name_36       6\n",
              "Name: Opportunity_Owner, dtype: int64"
            ]
          },
          "metadata": {
            "tags": []
          },
          "execution_count": 89
        }
      ]
    },
    {
      "cell_type": "code",
      "metadata": {
        "id": "fGi38-LGLosL"
      },
      "source": [
        "mean_encoded_owner = short_df4.groupby(\"Opportunity_Owner\")[\"Decision\"].mean().to_dict()\r\n",
        "short_df4[\"Opportunity_Owner\"] = short_df4[\"Opportunity_Owner\"].map(mean_encoded_owner)"
      ],
      "execution_count": null,
      "outputs": []
    },
    {
      "cell_type": "code",
      "metadata": {
        "id": "GMwezA4jLuJ2"
      },
      "source": [
        "mean_encoded_product = short_df4.groupby(\"Product_Name\")[\"Decision\"].mean().to_dict()"
      ],
      "execution_count": null,
      "outputs": []
    },
    {
      "cell_type": "code",
      "metadata": {
        "id": "qxgO_avvLvXx"
      },
      "source": [
        "short_df4[\"Product_Name\"] = short_df4[\"Product_Name\"].map(mean_encoded_product)"
      ],
      "execution_count": null,
      "outputs": []
    },
    {
      "cell_type": "code",
      "metadata": {
        "colab": {
          "base_uri": "https://localhost:8080/",
          "height": 235
        },
        "id": "XEh1Uki-LxuJ",
        "outputId": "0a95cba1-81b8-4964-d3bf-1d32d320ba1e"
      },
      "source": [
        "short_df4.head()"
      ],
      "execution_count": null,
      "outputs": [
        {
          "output_type": "execute_result",
          "data": {
            "text/html": [
              "<div>\n",
              "<style scoped>\n",
              "    .dataframe tbody tr th:only-of-type {\n",
              "        vertical-align: middle;\n",
              "    }\n",
              "\n",
              "    .dataframe tbody tr th {\n",
              "        vertical-align: top;\n",
              "    }\n",
              "\n",
              "    .dataframe thead th {\n",
              "        text-align: right;\n",
              "    }\n",
              "</style>\n",
              "<table border=\"1\" class=\"dataframe\">\n",
              "  <thead>\n",
              "    <tr style=\"text-align: right;\">\n",
              "      <th></th>\n",
              "      <th>Total_Amount</th>\n",
              "      <th>Años en entregar</th>\n",
              "      <th>Month Created</th>\n",
              "      <th>Product_Name</th>\n",
              "      <th>Opportunity_Owner</th>\n",
              "      <th>Decision</th>\n",
              "    </tr>\n",
              "    <tr>\n",
              "      <th>Opportunity_ID</th>\n",
              "      <th></th>\n",
              "      <th></th>\n",
              "      <th></th>\n",
              "      <th></th>\n",
              "      <th></th>\n",
              "      <th></th>\n",
              "    </tr>\n",
              "  </thead>\n",
              "  <tbody>\n",
              "    <tr>\n",
              "      <th>0</th>\n",
              "      <td>15.635076</td>\n",
              "      <td>1</td>\n",
              "      <td>12</td>\n",
              "      <td>0.186992</td>\n",
              "      <td>0.560776</td>\n",
              "      <td>0</td>\n",
              "    </tr>\n",
              "    <tr>\n",
              "      <th>1</th>\n",
              "      <td>10.940740</td>\n",
              "      <td>1</td>\n",
              "      <td>12</td>\n",
              "      <td>0.592975</td>\n",
              "      <td>0.750000</td>\n",
              "      <td>1</td>\n",
              "    </tr>\n",
              "    <tr>\n",
              "      <th>19</th>\n",
              "      <td>12.624960</td>\n",
              "      <td>1</td>\n",
              "      <td>12</td>\n",
              "      <td>0.561404</td>\n",
              "      <td>0.261905</td>\n",
              "      <td>0</td>\n",
              "    </tr>\n",
              "    <tr>\n",
              "      <th>20</th>\n",
              "      <td>11.702880</td>\n",
              "      <td>1</td>\n",
              "      <td>12</td>\n",
              "      <td>0.592975</td>\n",
              "      <td>0.664537</td>\n",
              "      <td>1</td>\n",
              "    </tr>\n",
              "    <tr>\n",
              "      <th>23</th>\n",
              "      <td>12.433069</td>\n",
              "      <td>1</td>\n",
              "      <td>12</td>\n",
              "      <td>0.592975</td>\n",
              "      <td>0.560776</td>\n",
              "      <td>1</td>\n",
              "    </tr>\n",
              "  </tbody>\n",
              "</table>\n",
              "</div>"
            ],
            "text/plain": [
              "                Total_Amount  Años en entregar  ...  Opportunity_Owner  Decision\n",
              "Opportunity_ID                                  ...                             \n",
              "0                  15.635076                 1  ...           0.560776         0\n",
              "1                  10.940740                 1  ...           0.750000         1\n",
              "19                 12.624960                 1  ...           0.261905         0\n",
              "20                 11.702880                 1  ...           0.664537         1\n",
              "23                 12.433069                 1  ...           0.560776         1\n",
              "\n",
              "[5 rows x 6 columns]"
            ]
          },
          "metadata": {
            "tags": []
          },
          "execution_count": 93
        }
      ]
    },
    {
      "cell_type": "markdown",
      "metadata": {
        "id": "0jef3zQAL0Go"
      },
      "source": [
        "##Test"
      ]
    },
    {
      "cell_type": "code",
      "metadata": {
        "colab": {
          "base_uri": "https://localhost:8080/",
          "height": 626
        },
        "id": "05n0nze5Lyia",
        "outputId": "c7a12d24-cdce-40be-ea6b-7788090cceb0"
      },
      "source": [
        "df4_test = pd.read_csv( \"/content/Test.csv\" )\r\n",
        "df4_test"
      ],
      "execution_count": null,
      "outputs": [
        {
          "output_type": "execute_result",
          "data": {
            "text/html": [
              "<div>\n",
              "<style scoped>\n",
              "    .dataframe tbody tr th:only-of-type {\n",
              "        vertical-align: middle;\n",
              "    }\n",
              "\n",
              "    .dataframe tbody tr th {\n",
              "        vertical-align: top;\n",
              "    }\n",
              "\n",
              "    .dataframe thead th {\n",
              "        text-align: right;\n",
              "    }\n",
              "</style>\n",
              "<table border=\"1\" class=\"dataframe\">\n",
              "  <thead>\n",
              "    <tr style=\"text-align: right;\">\n",
              "      <th></th>\n",
              "      <th>ID</th>\n",
              "      <th>Region</th>\n",
              "      <th>Territory</th>\n",
              "      <th>Pricing, Delivery_Terms_Quote_Appr</th>\n",
              "      <th>Pricing, Delivery_Terms_Approved</th>\n",
              "      <th>Bureaucratic_Code_0_Approval</th>\n",
              "      <th>Bureaucratic_Code_0_Approved</th>\n",
              "      <th>Submitted_for_Approval</th>\n",
              "      <th>Bureaucratic_Code</th>\n",
              "      <th>Account_Created_Date</th>\n",
              "      <th>Source</th>\n",
              "      <th>Billing_Country</th>\n",
              "      <th>Account_Name</th>\n",
              "      <th>Opportunity_Name</th>\n",
              "      <th>Opportunity_ID</th>\n",
              "      <th>Sales_Contract_No</th>\n",
              "      <th>Account_Owner</th>\n",
              "      <th>Opportunity_Owner</th>\n",
              "      <th>Account_Type</th>\n",
              "      <th>Opportunity_Type</th>\n",
              "      <th>Quote_Type</th>\n",
              "      <th>Delivery_Terms</th>\n",
              "      <th>Opportunity_Created_Date</th>\n",
              "      <th>Brand</th>\n",
              "      <th>Product_Type</th>\n",
              "      <th>Size</th>\n",
              "      <th>Product_Category_B</th>\n",
              "      <th>Price</th>\n",
              "      <th>Currency</th>\n",
              "      <th>Last_Activity</th>\n",
              "      <th>Quote_Expiry_Date</th>\n",
              "      <th>Last_Modified_Date</th>\n",
              "      <th>Last_Modified_By</th>\n",
              "      <th>Product_Family</th>\n",
              "      <th>Product_Name</th>\n",
              "      <th>ASP_Currency</th>\n",
              "      <th>ASP</th>\n",
              "      <th>ASP_(converted)_Currency</th>\n",
              "      <th>ASP_(converted)</th>\n",
              "      <th>Planned_Delivery_Start_Date</th>\n",
              "      <th>Planned_Delivery_End_Date</th>\n",
              "      <th>Month</th>\n",
              "      <th>Delivery_Quarter</th>\n",
              "      <th>Delivery_Year</th>\n",
              "      <th>Actual_Delivery_Date</th>\n",
              "      <th>TRF</th>\n",
              "      <th>Total_Amount_Currency</th>\n",
              "      <th>Total_Amount</th>\n",
              "      <th>Total_Taxable_Amount_Currency</th>\n",
              "      <th>Total_Taxable_Amount</th>\n",
              "      <th>Prod_Category_A</th>\n",
              "    </tr>\n",
              "  </thead>\n",
              "  <tbody>\n",
              "    <tr>\n",
              "      <th>0</th>\n",
              "      <td>6140</td>\n",
              "      <td>EMEA</td>\n",
              "      <td>Germany</td>\n",
              "      <td>1</td>\n",
              "      <td>1</td>\n",
              "      <td>1</td>\n",
              "      <td>1</td>\n",
              "      <td>0</td>\n",
              "      <td>Bureaucratic_Code_4</td>\n",
              "      <td>7/5/2017</td>\n",
              "      <td>Source_7</td>\n",
              "      <td>Germany</td>\n",
              "      <td>Account_Name_978</td>\n",
              "      <td>Opportunity_Name_6118</td>\n",
              "      <td>10689</td>\n",
              "      <td>6436</td>\n",
              "      <td>Person_Name_13</td>\n",
              "      <td>Person_Name_13</td>\n",
              "      <td>Account_Type_0</td>\n",
              "      <td>Opportunity_Type_8</td>\n",
              "      <td>Non Binding</td>\n",
              "      <td>Delivery_Terms_2</td>\n",
              "      <td>4/12/2019</td>\n",
              "      <td>None</td>\n",
              "      <td>None</td>\n",
              "      <td>None</td>\n",
              "      <td>None</td>\n",
              "      <td>None</td>\n",
              "      <td>None</td>\n",
              "      <td>NaT</td>\n",
              "      <td>4/30/2019</td>\n",
              "      <td>4/12/2019</td>\n",
              "      <td>Person_Name_13</td>\n",
              "      <td>Product_Family_171</td>\n",
              "      <td>Product_Name_332</td>\n",
              "      <td>EUR</td>\n",
              "      <td>0.325</td>\n",
              "      <td>USD</td>\n",
              "      <td>0.36761</td>\n",
              "      <td>5/1/2019</td>\n",
              "      <td>5/31/2019</td>\n",
              "      <td>2019 - 5</td>\n",
              "      <td>Q2</td>\n",
              "      <td>2019</td>\n",
              "      <td>NaT</td>\n",
              "      <td>0</td>\n",
              "      <td>EUR</td>\n",
              "      <td>162240.0</td>\n",
              "      <td>EUR</td>\n",
              "      <td>367419.0</td>\n",
              "      <td>Prod_Category_A_None</td>\n",
              "    </tr>\n",
              "    <tr>\n",
              "      <th>1</th>\n",
              "      <td>6146</td>\n",
              "      <td>EMEA</td>\n",
              "      <td>Germany</td>\n",
              "      <td>1</td>\n",
              "      <td>1</td>\n",
              "      <td>1</td>\n",
              "      <td>1</td>\n",
              "      <td>0</td>\n",
              "      <td>Bureaucratic_Code_4</td>\n",
              "      <td>7/5/2017</td>\n",
              "      <td>Source_7</td>\n",
              "      <td>Germany</td>\n",
              "      <td>Account_Name_978</td>\n",
              "      <td>Opportunity_Name_6118</td>\n",
              "      <td>10689</td>\n",
              "      <td>6436</td>\n",
              "      <td>Person_Name_13</td>\n",
              "      <td>Person_Name_13</td>\n",
              "      <td>Account_Type_0</td>\n",
              "      <td>Opportunity_Type_8</td>\n",
              "      <td>Non Binding</td>\n",
              "      <td>Delivery_Terms_2</td>\n",
              "      <td>4/12/2019</td>\n",
              "      <td>None</td>\n",
              "      <td>None</td>\n",
              "      <td>None</td>\n",
              "      <td>None</td>\n",
              "      <td>None</td>\n",
              "      <td>None</td>\n",
              "      <td>NaT</td>\n",
              "      <td>4/30/2019</td>\n",
              "      <td>4/12/2019</td>\n",
              "      <td>Person_Name_13</td>\n",
              "      <td>Product_Family_167</td>\n",
              "      <td>Product_Name_315</td>\n",
              "      <td>EUR</td>\n",
              "      <td>0.320</td>\n",
              "      <td>USD</td>\n",
              "      <td>0.36195</td>\n",
              "      <td>5/1/2019</td>\n",
              "      <td>5/31/2019</td>\n",
              "      <td>2019 - 5</td>\n",
              "      <td>Q2</td>\n",
              "      <td>2019</td>\n",
              "      <td>NaT</td>\n",
              "      <td>0</td>\n",
              "      <td>EUR</td>\n",
              "      <td>78624.0</td>\n",
              "      <td>EUR</td>\n",
              "      <td>367419.0</td>\n",
              "      <td>Prod_Category_A_None</td>\n",
              "    </tr>\n",
              "    <tr>\n",
              "      <th>2</th>\n",
              "      <td>6151</td>\n",
              "      <td>EMEA</td>\n",
              "      <td>Germany</td>\n",
              "      <td>1</td>\n",
              "      <td>1</td>\n",
              "      <td>1</td>\n",
              "      <td>1</td>\n",
              "      <td>0</td>\n",
              "      <td>Bureaucratic_Code_4</td>\n",
              "      <td>7/5/2017</td>\n",
              "      <td>Source_7</td>\n",
              "      <td>Germany</td>\n",
              "      <td>Account_Name_978</td>\n",
              "      <td>Opportunity_Name_6118</td>\n",
              "      <td>10689</td>\n",
              "      <td>6436</td>\n",
              "      <td>Person_Name_13</td>\n",
              "      <td>Person_Name_13</td>\n",
              "      <td>Account_Type_0</td>\n",
              "      <td>Opportunity_Type_8</td>\n",
              "      <td>Non Binding</td>\n",
              "      <td>Delivery_Terms_2</td>\n",
              "      <td>4/12/2019</td>\n",
              "      <td>None</td>\n",
              "      <td>None</td>\n",
              "      <td>None</td>\n",
              "      <td>None</td>\n",
              "      <td>None</td>\n",
              "      <td>None</td>\n",
              "      <td>NaT</td>\n",
              "      <td>4/30/2019</td>\n",
              "      <td>4/12/2019</td>\n",
              "      <td>Person_Name_13</td>\n",
              "      <td>Product_Family_140</td>\n",
              "      <td>Product_Name_241</td>\n",
              "      <td>EUR</td>\n",
              "      <td>0.275</td>\n",
              "      <td>USD</td>\n",
              "      <td>0.31105</td>\n",
              "      <td>5/1/2019</td>\n",
              "      <td>5/31/2019</td>\n",
              "      <td>2019 - 5</td>\n",
              "      <td>Q2</td>\n",
              "      <td>2019</td>\n",
              "      <td>NaT</td>\n",
              "      <td>0</td>\n",
              "      <td>EUR</td>\n",
              "      <td>126555.0</td>\n",
              "      <td>EUR</td>\n",
              "      <td>367419.0</td>\n",
              "      <td>Prod_Category_A_None</td>\n",
              "    </tr>\n",
              "    <tr>\n",
              "      <th>3</th>\n",
              "      <td>6118</td>\n",
              "      <td>EMEA</td>\n",
              "      <td>Germany</td>\n",
              "      <td>1</td>\n",
              "      <td>1</td>\n",
              "      <td>1</td>\n",
              "      <td>1</td>\n",
              "      <td>0</td>\n",
              "      <td>Bureaucratic_Code_4</td>\n",
              "      <td>7/5/2017</td>\n",
              "      <td>Source_7</td>\n",
              "      <td>Germany</td>\n",
              "      <td>Account_Name_978</td>\n",
              "      <td>Opportunity_Name_6117</td>\n",
              "      <td>10690</td>\n",
              "      <td>6504</td>\n",
              "      <td>Person_Name_13</td>\n",
              "      <td>Person_Name_13</td>\n",
              "      <td>Account_Type_0</td>\n",
              "      <td>Opportunity_Type_8</td>\n",
              "      <td>Non Binding</td>\n",
              "      <td>Delivery_Terms_2</td>\n",
              "      <td>4/12/2019</td>\n",
              "      <td>None</td>\n",
              "      <td>None</td>\n",
              "      <td>None</td>\n",
              "      <td>None</td>\n",
              "      <td>None</td>\n",
              "      <td>None</td>\n",
              "      <td>NaT</td>\n",
              "      <td>4/30/2019</td>\n",
              "      <td>4/25/2019</td>\n",
              "      <td>Person_Name_13</td>\n",
              "      <td>Product_Family_171</td>\n",
              "      <td>Product_Name_328</td>\n",
              "      <td>EUR</td>\n",
              "      <td>0.325</td>\n",
              "      <td>USD</td>\n",
              "      <td>0.36761</td>\n",
              "      <td>6/1/2019</td>\n",
              "      <td>6/28/2019</td>\n",
              "      <td>2019 - 6</td>\n",
              "      <td>Q2</td>\n",
              "      <td>2019</td>\n",
              "      <td>NaT</td>\n",
              "      <td>1</td>\n",
              "      <td>EUR</td>\n",
              "      <td>243360.0</td>\n",
              "      <td>EUR</td>\n",
              "      <td>757783.5</td>\n",
              "      <td>Prod_Category_A_None</td>\n",
              "    </tr>\n",
              "    <tr>\n",
              "      <th>4</th>\n",
              "      <td>6124</td>\n",
              "      <td>EMEA</td>\n",
              "      <td>Germany</td>\n",
              "      <td>1</td>\n",
              "      <td>1</td>\n",
              "      <td>1</td>\n",
              "      <td>1</td>\n",
              "      <td>0</td>\n",
              "      <td>Bureaucratic_Code_4</td>\n",
              "      <td>7/5/2017</td>\n",
              "      <td>Source_7</td>\n",
              "      <td>Germany</td>\n",
              "      <td>Account_Name_978</td>\n",
              "      <td>Opportunity_Name_6117</td>\n",
              "      <td>10690</td>\n",
              "      <td>6504</td>\n",
              "      <td>Person_Name_13</td>\n",
              "      <td>Person_Name_13</td>\n",
              "      <td>Account_Type_0</td>\n",
              "      <td>Opportunity_Type_8</td>\n",
              "      <td>Non Binding</td>\n",
              "      <td>Delivery_Terms_2</td>\n",
              "      <td>4/12/2019</td>\n",
              "      <td>None</td>\n",
              "      <td>None</td>\n",
              "      <td>None</td>\n",
              "      <td>None</td>\n",
              "      <td>None</td>\n",
              "      <td>None</td>\n",
              "      <td>NaT</td>\n",
              "      <td>4/30/2019</td>\n",
              "      <td>4/25/2019</td>\n",
              "      <td>Person_Name_13</td>\n",
              "      <td>Product_Family_167</td>\n",
              "      <td>Product_Name_315</td>\n",
              "      <td>EUR</td>\n",
              "      <td>0.320</td>\n",
              "      <td>USD</td>\n",
              "      <td>0.36195</td>\n",
              "      <td>6/1/2019</td>\n",
              "      <td>6/29/2019</td>\n",
              "      <td>2019 - 6</td>\n",
              "      <td>Q2</td>\n",
              "      <td>2019</td>\n",
              "      <td>NaT</td>\n",
              "      <td>0</td>\n",
              "      <td>EUR</td>\n",
              "      <td>157248.0</td>\n",
              "      <td>EUR</td>\n",
              "      <td>757783.5</td>\n",
              "      <td>Prod_Category_A_None</td>\n",
              "    </tr>\n",
              "    <tr>\n",
              "      <th>...</th>\n",
              "      <td>...</td>\n",
              "      <td>...</td>\n",
              "      <td>...</td>\n",
              "      <td>...</td>\n",
              "      <td>...</td>\n",
              "      <td>...</td>\n",
              "      <td>...</td>\n",
              "      <td>...</td>\n",
              "      <td>...</td>\n",
              "      <td>...</td>\n",
              "      <td>...</td>\n",
              "      <td>...</td>\n",
              "      <td>...</td>\n",
              "      <td>...</td>\n",
              "      <td>...</td>\n",
              "      <td>...</td>\n",
              "      <td>...</td>\n",
              "      <td>...</td>\n",
              "      <td>...</td>\n",
              "      <td>...</td>\n",
              "      <td>...</td>\n",
              "      <td>...</td>\n",
              "      <td>...</td>\n",
              "      <td>...</td>\n",
              "      <td>...</td>\n",
              "      <td>...</td>\n",
              "      <td>...</td>\n",
              "      <td>...</td>\n",
              "      <td>...</td>\n",
              "      <td>...</td>\n",
              "      <td>...</td>\n",
              "      <td>...</td>\n",
              "      <td>...</td>\n",
              "      <td>...</td>\n",
              "      <td>...</td>\n",
              "      <td>...</td>\n",
              "      <td>...</td>\n",
              "      <td>...</td>\n",
              "      <td>...</td>\n",
              "      <td>...</td>\n",
              "      <td>...</td>\n",
              "      <td>...</td>\n",
              "      <td>...</td>\n",
              "      <td>...</td>\n",
              "      <td>...</td>\n",
              "      <td>...</td>\n",
              "      <td>...</td>\n",
              "      <td>...</td>\n",
              "      <td>...</td>\n",
              "      <td>...</td>\n",
              "      <td>...</td>\n",
              "    </tr>\n",
              "    <tr>\n",
              "      <th>2546</th>\n",
              "      <td>16345</td>\n",
              "      <td>EMEA</td>\n",
              "      <td>KSA</td>\n",
              "      <td>1</td>\n",
              "      <td>1</td>\n",
              "      <td>0</td>\n",
              "      <td>0</td>\n",
              "      <td>0</td>\n",
              "      <td>Bureaucratic_Code_4</td>\n",
              "      <td>6/12/2017</td>\n",
              "      <td>Source_3</td>\n",
              "      <td>South Africa</td>\n",
              "      <td>Account_Name_1686</td>\n",
              "      <td>Opportunity_Name_11120</td>\n",
              "      <td>12364</td>\n",
              "      <td>6508</td>\n",
              "      <td>Person_Name_13</td>\n",
              "      <td>Person_Name_13</td>\n",
              "      <td>Account_Type_0</td>\n",
              "      <td>Opportunity_Type_1</td>\n",
              "      <td>Non Binding</td>\n",
              "      <td>Delivery_Terms_7</td>\n",
              "      <td>4/26/2019</td>\n",
              "      <td>None</td>\n",
              "      <td>None</td>\n",
              "      <td>None</td>\n",
              "      <td>None</td>\n",
              "      <td>None</td>\n",
              "      <td>None</td>\n",
              "      <td>NaT</td>\n",
              "      <td>5/24/2019</td>\n",
              "      <td>4/26/2019</td>\n",
              "      <td>Person_Name_13</td>\n",
              "      <td>Product_Family_213</td>\n",
              "      <td>Product_Name_447</td>\n",
              "      <td>USD</td>\n",
              "      <td>0.300</td>\n",
              "      <td>USD</td>\n",
              "      <td>0.30000</td>\n",
              "      <td>5/1/2019</td>\n",
              "      <td>5/10/2019</td>\n",
              "      <td>2019 - 5</td>\n",
              "      <td>Q2</td>\n",
              "      <td>2019</td>\n",
              "      <td>NaT</td>\n",
              "      <td>0</td>\n",
              "      <td>USD</td>\n",
              "      <td>124740.0</td>\n",
              "      <td>USD</td>\n",
              "      <td>147750.0</td>\n",
              "      <td>Prod_Category_A_None</td>\n",
              "    </tr>\n",
              "    <tr>\n",
              "      <th>2547</th>\n",
              "      <td>15218</td>\n",
              "      <td>Americas</td>\n",
              "      <td>SE America</td>\n",
              "      <td>1</td>\n",
              "      <td>1</td>\n",
              "      <td>0</td>\n",
              "      <td>0</td>\n",
              "      <td>0</td>\n",
              "      <td>Bureaucratic_Code_4</td>\n",
              "      <td>6/8/2018</td>\n",
              "      <td>None</td>\n",
              "      <td>United States</td>\n",
              "      <td>Account_Name_768</td>\n",
              "      <td>Opportunity_Name_9694</td>\n",
              "      <td>12365</td>\n",
              "      <td>6510</td>\n",
              "      <td>Person_Name_38</td>\n",
              "      <td>Person_Name_38</td>\n",
              "      <td>Account_Type_2</td>\n",
              "      <td>Opportunity_Type_1</td>\n",
              "      <td>Non Binding</td>\n",
              "      <td>Delivery_Terms_4</td>\n",
              "      <td>4/26/2019</td>\n",
              "      <td>None</td>\n",
              "      <td>None</td>\n",
              "      <td>None</td>\n",
              "      <td>None</td>\n",
              "      <td>None</td>\n",
              "      <td>None</td>\n",
              "      <td>NaT</td>\n",
              "      <td>5/24/2019</td>\n",
              "      <td>4/27/2019</td>\n",
              "      <td>Person_Name_38</td>\n",
              "      <td>Product_Family_221</td>\n",
              "      <td>Product_Name_477</td>\n",
              "      <td>USD</td>\n",
              "      <td>0.410</td>\n",
              "      <td>USD</td>\n",
              "      <td>0.41000</td>\n",
              "      <td>10/1/2019</td>\n",
              "      <td>12/31/2019</td>\n",
              "      <td>2019 - 10</td>\n",
              "      <td>Q4</td>\n",
              "      <td>2019</td>\n",
              "      <td>NaT</td>\n",
              "      <td>0</td>\n",
              "      <td>USD</td>\n",
              "      <td>45054.9</td>\n",
              "      <td>USD</td>\n",
              "      <td>45054.9</td>\n",
              "      <td>Prod_Category_A_None</td>\n",
              "    </tr>\n",
              "    <tr>\n",
              "      <th>2548</th>\n",
              "      <td>15224</td>\n",
              "      <td>Americas</td>\n",
              "      <td>SE America</td>\n",
              "      <td>1</td>\n",
              "      <td>1</td>\n",
              "      <td>1</td>\n",
              "      <td>1</td>\n",
              "      <td>0</td>\n",
              "      <td>Bureaucratic_Code_4</td>\n",
              "      <td>6/8/2018</td>\n",
              "      <td>None</td>\n",
              "      <td>United States</td>\n",
              "      <td>Account_Name_768</td>\n",
              "      <td>Opportunity_Name_9693</td>\n",
              "      <td>12366</td>\n",
              "      <td>6511</td>\n",
              "      <td>Person_Name_38</td>\n",
              "      <td>Person_Name_38</td>\n",
              "      <td>Account_Type_2</td>\n",
              "      <td>Opportunity_Type_1</td>\n",
              "      <td>Non Binding</td>\n",
              "      <td>Delivery_Terms_4</td>\n",
              "      <td>4/26/2019</td>\n",
              "      <td>None</td>\n",
              "      <td>None</td>\n",
              "      <td>None</td>\n",
              "      <td>None</td>\n",
              "      <td>None</td>\n",
              "      <td>None</td>\n",
              "      <td>NaT</td>\n",
              "      <td>5/24/2019</td>\n",
              "      <td>4/27/2019</td>\n",
              "      <td>Person_Name_38</td>\n",
              "      <td>Product_Family_221</td>\n",
              "      <td>Product_Name_477</td>\n",
              "      <td>USD</td>\n",
              "      <td>0.410</td>\n",
              "      <td>USD</td>\n",
              "      <td>0.41000</td>\n",
              "      <td>10/1/2019</td>\n",
              "      <td>12/31/2019</td>\n",
              "      <td>2019 - 10</td>\n",
              "      <td>Q4</td>\n",
              "      <td>2019</td>\n",
              "      <td>NaT</td>\n",
              "      <td>0</td>\n",
              "      <td>USD</td>\n",
              "      <td>100122.0</td>\n",
              "      <td>USD</td>\n",
              "      <td>100122.0</td>\n",
              "      <td>Prod_Category_A_None</td>\n",
              "    </tr>\n",
              "    <tr>\n",
              "      <th>2549</th>\n",
              "      <td>7286</td>\n",
              "      <td>Americas</td>\n",
              "      <td>NE America</td>\n",
              "      <td>1</td>\n",
              "      <td>1</td>\n",
              "      <td>0</td>\n",
              "      <td>0</td>\n",
              "      <td>0</td>\n",
              "      <td>Bureaucratic_Code_4</td>\n",
              "      <td>8/29/2018</td>\n",
              "      <td>None</td>\n",
              "      <td>United States</td>\n",
              "      <td>Account_Name_1635</td>\n",
              "      <td>Opportunity_Name_1676</td>\n",
              "      <td>12367</td>\n",
              "      <td>None</td>\n",
              "      <td>Person_Name_9</td>\n",
              "      <td>Person_Name_9</td>\n",
              "      <td>Account_Type_2</td>\n",
              "      <td>Opportunity_Type_7</td>\n",
              "      <td>Non Binding</td>\n",
              "      <td>Delivery_Terms_4</td>\n",
              "      <td>4/26/2019</td>\n",
              "      <td>None</td>\n",
              "      <td>None</td>\n",
              "      <td>None</td>\n",
              "      <td>None</td>\n",
              "      <td>None</td>\n",
              "      <td>None</td>\n",
              "      <td>NaT</td>\n",
              "      <td>5/26/2019</td>\n",
              "      <td>4/26/2019</td>\n",
              "      <td>Person_Name_9</td>\n",
              "      <td>Product_Family_156</td>\n",
              "      <td>Product_Name_281</td>\n",
              "      <td>USD</td>\n",
              "      <td>0.500</td>\n",
              "      <td>USD</td>\n",
              "      <td>0.50000</td>\n",
              "      <td>8/1/2019</td>\n",
              "      <td>8/1/2019</td>\n",
              "      <td>2019 - 8</td>\n",
              "      <td>Q3</td>\n",
              "      <td>2019</td>\n",
              "      <td>NaT</td>\n",
              "      <td>0</td>\n",
              "      <td>USD</td>\n",
              "      <td>143220.0</td>\n",
              "      <td>USD</td>\n",
              "      <td>143220.0</td>\n",
              "      <td>Prod_Category_A_None</td>\n",
              "    </tr>\n",
              "    <tr>\n",
              "      <th>2550</th>\n",
              "      <td>11263</td>\n",
              "      <td>EMEA</td>\n",
              "      <td>Belgium</td>\n",
              "      <td>1</td>\n",
              "      <td>0</td>\n",
              "      <td>0</td>\n",
              "      <td>0</td>\n",
              "      <td>0</td>\n",
              "      <td>Bureaucratic_Code_5</td>\n",
              "      <td>3/3/2016</td>\n",
              "      <td>None</td>\n",
              "      <td>Luxembourg</td>\n",
              "      <td>Account_Name_271</td>\n",
              "      <td>Opportunity_Name_3187</td>\n",
              "      <td>12368</td>\n",
              "      <td>None</td>\n",
              "      <td>Person_Name_18</td>\n",
              "      <td>Person_Name_16</td>\n",
              "      <td>Account_Type_0</td>\n",
              "      <td>Opportunity_Type_1</td>\n",
              "      <td>Non Binding</td>\n",
              "      <td>Delivery_Terms_2</td>\n",
              "      <td>4/27/2019</td>\n",
              "      <td>None</td>\n",
              "      <td>None</td>\n",
              "      <td>None</td>\n",
              "      <td>None</td>\n",
              "      <td>None</td>\n",
              "      <td>None</td>\n",
              "      <td>NaT</td>\n",
              "      <td>2/8/2019</td>\n",
              "      <td>4/27/2019</td>\n",
              "      <td>Person_Name_16</td>\n",
              "      <td>Product_Family_171</td>\n",
              "      <td>Product_Name_331</td>\n",
              "      <td>EUR</td>\n",
              "      <td>0.290</td>\n",
              "      <td>USD</td>\n",
              "      <td>0.32802</td>\n",
              "      <td>10/21/2019</td>\n",
              "      <td>12/13/2019</td>\n",
              "      <td>2019 - 10</td>\n",
              "      <td>Q4</td>\n",
              "      <td>2019</td>\n",
              "      <td>NaT</td>\n",
              "      <td>3</td>\n",
              "      <td>EUR</td>\n",
              "      <td>871020.8</td>\n",
              "      <td>EUR</td>\n",
              "      <td>871020.8</td>\n",
              "      <td>Prod_Category_A_None</td>\n",
              "    </tr>\n",
              "  </tbody>\n",
              "</table>\n",
              "<p>2551 rows × 51 columns</p>\n",
              "</div>"
            ],
            "text/plain": [
              "         ID    Region  ... Total_Taxable_Amount       Prod_Category_A\n",
              "0      6140      EMEA  ...             367419.0  Prod_Category_A_None\n",
              "1      6146      EMEA  ...             367419.0  Prod_Category_A_None\n",
              "2      6151      EMEA  ...             367419.0  Prod_Category_A_None\n",
              "3      6118      EMEA  ...             757783.5  Prod_Category_A_None\n",
              "4      6124      EMEA  ...             757783.5  Prod_Category_A_None\n",
              "...     ...       ...  ...                  ...                   ...\n",
              "2546  16345      EMEA  ...             147750.0  Prod_Category_A_None\n",
              "2547  15218  Americas  ...              45054.9  Prod_Category_A_None\n",
              "2548  15224  Americas  ...             100122.0  Prod_Category_A_None\n",
              "2549   7286  Americas  ...             143220.0  Prod_Category_A_None\n",
              "2550  11263      EMEA  ...             871020.8  Prod_Category_A_None\n",
              "\n",
              "[2551 rows x 51 columns]"
            ]
          },
          "metadata": {
            "tags": []
          },
          "execution_count": 94
        }
      ]
    },
    {
      "cell_type": "code",
      "metadata": {
        "colab": {
          "base_uri": "https://localhost:8080/"
        },
        "id": "jWzUWf1tMLgB",
        "outputId": "be89b19c-446c-4a0b-d36d-80bcea949fd7"
      },
      "source": [
        "df4_test.loc[df4_test['Total_Amount_Currency'] == 'JPY', 'Total_Amount'] = df4_test['Total_Amount']*0.0096\r\n",
        "df4_test.loc[df4_test['Total_Amount_Currency'] == 'JPY', 'Total_Amount_Currency'] = 'USD'\r\n",
        "\r\n",
        "df4_test.loc[df4_test['Total_Amount_Currency'] == 'EUR', 'Total_Amount'] = df4_test['Total_Amount']*1.17\r\n",
        "df4_test.loc[df4_test['Total_Amount_Currency'] == 'EUR', 'Total_Amount_Currency'] \r\n",
        "df4_test.loc[df4_test['Total_Amount_Currency'] == 'AUD', 'Total_Taxable_Amount'] = df4_test['Total_Amount']*0.70\r\n",
        "df4_test.loc[df4_test['Total_Amount_Currency'] == 'AUD', 'Total_Taxable_Amount_Currency'] = 'USD'\r\n",
        "\r\n",
        "df4_test.loc[df4_test['Total_Amount_Currency'] == 'GBP', 'Total_Amount'] = df4_test['Total_Amount']*1.29\r\n",
        "df4_test.loc[df4_test['Total_Amount_Currency'] == 'GBP', 'Total_Amount_Currency'] = 'USD'\r\n",
        "\r\n",
        "df4_test['Opportunity_Created_Date'] = pd.to_datetime(df4_test['Opportunity_Created_Date'],errors='coerce')\r\n",
        "\r\n",
        "df4_test[\"Year Created\"] = df4_test[\"Opportunity_Created_Date\"].dt.year\r\n",
        "df4_test[\"Month Created\"] =df4_test[\"Opportunity_Created_Date\"].dt.month\r\n",
        "df4_test[\"Expensive\"] = np.where(df4_test[\"Total_Amount\"] >= 80000, 1, 0)\r\n",
        "\r\n",
        "\r\n",
        "df4_test = df4_test.merge(entrenamiento_won_by_region, on = \"Region\")\r\n",
        "df4_test[\"Años en entregar\"] = df4_test[\"Delivery_Year\"] - df4_test[\"Year Created\"]\r\n",
        "df4_test[\"Total_Taxable_Amount\"].describe()"
      ],
      "execution_count": null,
      "outputs": [
        {
          "output_type": "execute_result",
          "data": {
            "text/plain": [
              "count    2.551000e+03\n",
              "mean     3.393353e+06\n",
              "std      2.430590e+07\n",
              "min      0.000000e+00\n",
              "25%      6.987750e+04\n",
              "50%      2.195684e+05\n",
              "75%      7.818624e+05\n",
              "max      6.808725e+08\n",
              "Name: Total_Taxable_Amount, dtype: float64"
            ]
          },
          "metadata": {
            "tags": []
          },
          "execution_count": 95
        }
      ]
    },
    {
      "cell_type": "code",
      "metadata": {
        "colab": {
          "base_uri": "https://localhost:8080/",
          "height": 326
        },
        "id": "8ClwdwiHMN7p",
        "outputId": "6464804e-640f-449c-ee8c-a0e0158315eb"
      },
      "source": [
        "df4_test.head()"
      ],
      "execution_count": null,
      "outputs": [
        {
          "output_type": "execute_result",
          "data": {
            "text/html": [
              "<div>\n",
              "<style scoped>\n",
              "    .dataframe tbody tr th:only-of-type {\n",
              "        vertical-align: middle;\n",
              "    }\n",
              "\n",
              "    .dataframe tbody tr th {\n",
              "        vertical-align: top;\n",
              "    }\n",
              "\n",
              "    .dataframe thead th {\n",
              "        text-align: right;\n",
              "    }\n",
              "</style>\n",
              "<table border=\"1\" class=\"dataframe\">\n",
              "  <thead>\n",
              "    <tr style=\"text-align: right;\">\n",
              "      <th></th>\n",
              "      <th>ID</th>\n",
              "      <th>Region</th>\n",
              "      <th>Territory</th>\n",
              "      <th>Pricing, Delivery_Terms_Quote_Appr</th>\n",
              "      <th>Pricing, Delivery_Terms_Approved</th>\n",
              "      <th>Bureaucratic_Code_0_Approval</th>\n",
              "      <th>Bureaucratic_Code_0_Approved</th>\n",
              "      <th>Submitted_for_Approval</th>\n",
              "      <th>Bureaucratic_Code</th>\n",
              "      <th>Account_Created_Date</th>\n",
              "      <th>Source</th>\n",
              "      <th>Billing_Country</th>\n",
              "      <th>Account_Name</th>\n",
              "      <th>Opportunity_Name</th>\n",
              "      <th>Opportunity_ID</th>\n",
              "      <th>Sales_Contract_No</th>\n",
              "      <th>Account_Owner</th>\n",
              "      <th>Opportunity_Owner</th>\n",
              "      <th>Account_Type</th>\n",
              "      <th>Opportunity_Type</th>\n",
              "      <th>Quote_Type</th>\n",
              "      <th>Delivery_Terms</th>\n",
              "      <th>Opportunity_Created_Date</th>\n",
              "      <th>Brand</th>\n",
              "      <th>Product_Type</th>\n",
              "      <th>Size</th>\n",
              "      <th>Product_Category_B</th>\n",
              "      <th>Price</th>\n",
              "      <th>Currency</th>\n",
              "      <th>Last_Activity</th>\n",
              "      <th>Quote_Expiry_Date</th>\n",
              "      <th>Last_Modified_Date</th>\n",
              "      <th>Last_Modified_By</th>\n",
              "      <th>Product_Family</th>\n",
              "      <th>Product_Name</th>\n",
              "      <th>ASP_Currency</th>\n",
              "      <th>ASP</th>\n",
              "      <th>ASP_(converted)_Currency</th>\n",
              "      <th>ASP_(converted)</th>\n",
              "      <th>Planned_Delivery_Start_Date</th>\n",
              "      <th>Planned_Delivery_End_Date</th>\n",
              "      <th>Month</th>\n",
              "      <th>Delivery_Quarter</th>\n",
              "      <th>Delivery_Year</th>\n",
              "      <th>Actual_Delivery_Date</th>\n",
              "      <th>TRF</th>\n",
              "      <th>Total_Amount_Currency</th>\n",
              "      <th>Total_Amount</th>\n",
              "      <th>Total_Taxable_Amount_Currency</th>\n",
              "      <th>Total_Taxable_Amount</th>\n",
              "      <th>Prod_Category_A</th>\n",
              "      <th>Year Created</th>\n",
              "      <th>Month Created</th>\n",
              "      <th>Expensive</th>\n",
              "      <th>Cases won</th>\n",
              "      <th>percentage</th>\n",
              "      <th>Años en entregar</th>\n",
              "    </tr>\n",
              "  </thead>\n",
              "  <tbody>\n",
              "    <tr>\n",
              "      <th>0</th>\n",
              "      <td>6140</td>\n",
              "      <td>EMEA</td>\n",
              "      <td>Germany</td>\n",
              "      <td>1</td>\n",
              "      <td>1</td>\n",
              "      <td>1</td>\n",
              "      <td>1</td>\n",
              "      <td>0</td>\n",
              "      <td>Bureaucratic_Code_4</td>\n",
              "      <td>7/5/2017</td>\n",
              "      <td>Source_7</td>\n",
              "      <td>Germany</td>\n",
              "      <td>Account_Name_978</td>\n",
              "      <td>Opportunity_Name_6118</td>\n",
              "      <td>10689</td>\n",
              "      <td>6436</td>\n",
              "      <td>Person_Name_13</td>\n",
              "      <td>Person_Name_13</td>\n",
              "      <td>Account_Type_0</td>\n",
              "      <td>Opportunity_Type_8</td>\n",
              "      <td>Non Binding</td>\n",
              "      <td>Delivery_Terms_2</td>\n",
              "      <td>2019-04-12</td>\n",
              "      <td>None</td>\n",
              "      <td>None</td>\n",
              "      <td>None</td>\n",
              "      <td>None</td>\n",
              "      <td>None</td>\n",
              "      <td>None</td>\n",
              "      <td>NaT</td>\n",
              "      <td>4/30/2019</td>\n",
              "      <td>4/12/2019</td>\n",
              "      <td>Person_Name_13</td>\n",
              "      <td>Product_Family_171</td>\n",
              "      <td>Product_Name_332</td>\n",
              "      <td>EUR</td>\n",
              "      <td>0.325</td>\n",
              "      <td>USD</td>\n",
              "      <td>0.36761</td>\n",
              "      <td>5/1/2019</td>\n",
              "      <td>5/31/2019</td>\n",
              "      <td>2019 - 5</td>\n",
              "      <td>Q2</td>\n",
              "      <td>2019</td>\n",
              "      <td>NaT</td>\n",
              "      <td>0</td>\n",
              "      <td>EUR</td>\n",
              "      <td>189820.80</td>\n",
              "      <td>EUR</td>\n",
              "      <td>367419.0</td>\n",
              "      <td>Prod_Category_A_None</td>\n",
              "      <td>2019</td>\n",
              "      <td>4</td>\n",
              "      <td>1</td>\n",
              "      <td>2467</td>\n",
              "      <td>53.179565</td>\n",
              "      <td>0</td>\n",
              "    </tr>\n",
              "    <tr>\n",
              "      <th>1</th>\n",
              "      <td>6146</td>\n",
              "      <td>EMEA</td>\n",
              "      <td>Germany</td>\n",
              "      <td>1</td>\n",
              "      <td>1</td>\n",
              "      <td>1</td>\n",
              "      <td>1</td>\n",
              "      <td>0</td>\n",
              "      <td>Bureaucratic_Code_4</td>\n",
              "      <td>7/5/2017</td>\n",
              "      <td>Source_7</td>\n",
              "      <td>Germany</td>\n",
              "      <td>Account_Name_978</td>\n",
              "      <td>Opportunity_Name_6118</td>\n",
              "      <td>10689</td>\n",
              "      <td>6436</td>\n",
              "      <td>Person_Name_13</td>\n",
              "      <td>Person_Name_13</td>\n",
              "      <td>Account_Type_0</td>\n",
              "      <td>Opportunity_Type_8</td>\n",
              "      <td>Non Binding</td>\n",
              "      <td>Delivery_Terms_2</td>\n",
              "      <td>2019-04-12</td>\n",
              "      <td>None</td>\n",
              "      <td>None</td>\n",
              "      <td>None</td>\n",
              "      <td>None</td>\n",
              "      <td>None</td>\n",
              "      <td>None</td>\n",
              "      <td>NaT</td>\n",
              "      <td>4/30/2019</td>\n",
              "      <td>4/12/2019</td>\n",
              "      <td>Person_Name_13</td>\n",
              "      <td>Product_Family_167</td>\n",
              "      <td>Product_Name_315</td>\n",
              "      <td>EUR</td>\n",
              "      <td>0.320</td>\n",
              "      <td>USD</td>\n",
              "      <td>0.36195</td>\n",
              "      <td>5/1/2019</td>\n",
              "      <td>5/31/2019</td>\n",
              "      <td>2019 - 5</td>\n",
              "      <td>Q2</td>\n",
              "      <td>2019</td>\n",
              "      <td>NaT</td>\n",
              "      <td>0</td>\n",
              "      <td>EUR</td>\n",
              "      <td>91990.08</td>\n",
              "      <td>EUR</td>\n",
              "      <td>367419.0</td>\n",
              "      <td>Prod_Category_A_None</td>\n",
              "      <td>2019</td>\n",
              "      <td>4</td>\n",
              "      <td>1</td>\n",
              "      <td>2467</td>\n",
              "      <td>53.179565</td>\n",
              "      <td>0</td>\n",
              "    </tr>\n",
              "    <tr>\n",
              "      <th>2</th>\n",
              "      <td>6151</td>\n",
              "      <td>EMEA</td>\n",
              "      <td>Germany</td>\n",
              "      <td>1</td>\n",
              "      <td>1</td>\n",
              "      <td>1</td>\n",
              "      <td>1</td>\n",
              "      <td>0</td>\n",
              "      <td>Bureaucratic_Code_4</td>\n",
              "      <td>7/5/2017</td>\n",
              "      <td>Source_7</td>\n",
              "      <td>Germany</td>\n",
              "      <td>Account_Name_978</td>\n",
              "      <td>Opportunity_Name_6118</td>\n",
              "      <td>10689</td>\n",
              "      <td>6436</td>\n",
              "      <td>Person_Name_13</td>\n",
              "      <td>Person_Name_13</td>\n",
              "      <td>Account_Type_0</td>\n",
              "      <td>Opportunity_Type_8</td>\n",
              "      <td>Non Binding</td>\n",
              "      <td>Delivery_Terms_2</td>\n",
              "      <td>2019-04-12</td>\n",
              "      <td>None</td>\n",
              "      <td>None</td>\n",
              "      <td>None</td>\n",
              "      <td>None</td>\n",
              "      <td>None</td>\n",
              "      <td>None</td>\n",
              "      <td>NaT</td>\n",
              "      <td>4/30/2019</td>\n",
              "      <td>4/12/2019</td>\n",
              "      <td>Person_Name_13</td>\n",
              "      <td>Product_Family_140</td>\n",
              "      <td>Product_Name_241</td>\n",
              "      <td>EUR</td>\n",
              "      <td>0.275</td>\n",
              "      <td>USD</td>\n",
              "      <td>0.31105</td>\n",
              "      <td>5/1/2019</td>\n",
              "      <td>5/31/2019</td>\n",
              "      <td>2019 - 5</td>\n",
              "      <td>Q2</td>\n",
              "      <td>2019</td>\n",
              "      <td>NaT</td>\n",
              "      <td>0</td>\n",
              "      <td>EUR</td>\n",
              "      <td>148069.35</td>\n",
              "      <td>EUR</td>\n",
              "      <td>367419.0</td>\n",
              "      <td>Prod_Category_A_None</td>\n",
              "      <td>2019</td>\n",
              "      <td>4</td>\n",
              "      <td>1</td>\n",
              "      <td>2467</td>\n",
              "      <td>53.179565</td>\n",
              "      <td>0</td>\n",
              "    </tr>\n",
              "    <tr>\n",
              "      <th>3</th>\n",
              "      <td>6118</td>\n",
              "      <td>EMEA</td>\n",
              "      <td>Germany</td>\n",
              "      <td>1</td>\n",
              "      <td>1</td>\n",
              "      <td>1</td>\n",
              "      <td>1</td>\n",
              "      <td>0</td>\n",
              "      <td>Bureaucratic_Code_4</td>\n",
              "      <td>7/5/2017</td>\n",
              "      <td>Source_7</td>\n",
              "      <td>Germany</td>\n",
              "      <td>Account_Name_978</td>\n",
              "      <td>Opportunity_Name_6117</td>\n",
              "      <td>10690</td>\n",
              "      <td>6504</td>\n",
              "      <td>Person_Name_13</td>\n",
              "      <td>Person_Name_13</td>\n",
              "      <td>Account_Type_0</td>\n",
              "      <td>Opportunity_Type_8</td>\n",
              "      <td>Non Binding</td>\n",
              "      <td>Delivery_Terms_2</td>\n",
              "      <td>2019-04-12</td>\n",
              "      <td>None</td>\n",
              "      <td>None</td>\n",
              "      <td>None</td>\n",
              "      <td>None</td>\n",
              "      <td>None</td>\n",
              "      <td>None</td>\n",
              "      <td>NaT</td>\n",
              "      <td>4/30/2019</td>\n",
              "      <td>4/25/2019</td>\n",
              "      <td>Person_Name_13</td>\n",
              "      <td>Product_Family_171</td>\n",
              "      <td>Product_Name_328</td>\n",
              "      <td>EUR</td>\n",
              "      <td>0.325</td>\n",
              "      <td>USD</td>\n",
              "      <td>0.36761</td>\n",
              "      <td>6/1/2019</td>\n",
              "      <td>6/28/2019</td>\n",
              "      <td>2019 - 6</td>\n",
              "      <td>Q2</td>\n",
              "      <td>2019</td>\n",
              "      <td>NaT</td>\n",
              "      <td>1</td>\n",
              "      <td>EUR</td>\n",
              "      <td>284731.20</td>\n",
              "      <td>EUR</td>\n",
              "      <td>757783.5</td>\n",
              "      <td>Prod_Category_A_None</td>\n",
              "      <td>2019</td>\n",
              "      <td>4</td>\n",
              "      <td>1</td>\n",
              "      <td>2467</td>\n",
              "      <td>53.179565</td>\n",
              "      <td>0</td>\n",
              "    </tr>\n",
              "    <tr>\n",
              "      <th>4</th>\n",
              "      <td>6124</td>\n",
              "      <td>EMEA</td>\n",
              "      <td>Germany</td>\n",
              "      <td>1</td>\n",
              "      <td>1</td>\n",
              "      <td>1</td>\n",
              "      <td>1</td>\n",
              "      <td>0</td>\n",
              "      <td>Bureaucratic_Code_4</td>\n",
              "      <td>7/5/2017</td>\n",
              "      <td>Source_7</td>\n",
              "      <td>Germany</td>\n",
              "      <td>Account_Name_978</td>\n",
              "      <td>Opportunity_Name_6117</td>\n",
              "      <td>10690</td>\n",
              "      <td>6504</td>\n",
              "      <td>Person_Name_13</td>\n",
              "      <td>Person_Name_13</td>\n",
              "      <td>Account_Type_0</td>\n",
              "      <td>Opportunity_Type_8</td>\n",
              "      <td>Non Binding</td>\n",
              "      <td>Delivery_Terms_2</td>\n",
              "      <td>2019-04-12</td>\n",
              "      <td>None</td>\n",
              "      <td>None</td>\n",
              "      <td>None</td>\n",
              "      <td>None</td>\n",
              "      <td>None</td>\n",
              "      <td>None</td>\n",
              "      <td>NaT</td>\n",
              "      <td>4/30/2019</td>\n",
              "      <td>4/25/2019</td>\n",
              "      <td>Person_Name_13</td>\n",
              "      <td>Product_Family_167</td>\n",
              "      <td>Product_Name_315</td>\n",
              "      <td>EUR</td>\n",
              "      <td>0.320</td>\n",
              "      <td>USD</td>\n",
              "      <td>0.36195</td>\n",
              "      <td>6/1/2019</td>\n",
              "      <td>6/29/2019</td>\n",
              "      <td>2019 - 6</td>\n",
              "      <td>Q2</td>\n",
              "      <td>2019</td>\n",
              "      <td>NaT</td>\n",
              "      <td>0</td>\n",
              "      <td>EUR</td>\n",
              "      <td>183980.16</td>\n",
              "      <td>EUR</td>\n",
              "      <td>757783.5</td>\n",
              "      <td>Prod_Category_A_None</td>\n",
              "      <td>2019</td>\n",
              "      <td>4</td>\n",
              "      <td>1</td>\n",
              "      <td>2467</td>\n",
              "      <td>53.179565</td>\n",
              "      <td>0</td>\n",
              "    </tr>\n",
              "  </tbody>\n",
              "</table>\n",
              "</div>"
            ],
            "text/plain": [
              "     ID Region Territory  ...  Cases won  percentage  Años en entregar\n",
              "0  6140   EMEA   Germany  ...       2467   53.179565                 0\n",
              "1  6146   EMEA   Germany  ...       2467   53.179565                 0\n",
              "2  6151   EMEA   Germany  ...       2467   53.179565                 0\n",
              "3  6118   EMEA   Germany  ...       2467   53.179565                 0\n",
              "4  6124   EMEA   Germany  ...       2467   53.179565                 0\n",
              "\n",
              "[5 rows x 57 columns]"
            ]
          },
          "metadata": {
            "tags": []
          },
          "execution_count": 96
        }
      ]
    },
    {
      "cell_type": "code",
      "metadata": {
        "id": "fEqlKnfYMPKn"
      },
      "source": [
        "df4_test[\"Total_Amount\"] = np.log(df4_test[\"Total_Amount\"])\r\n",
        "df4_test = df4_test[['Opportunity_ID', \"Total_Amount\", \"Años en entregar\",\"Month Created\", \"Product_Name\", \"Opportunity_Owner\"]]\r\n",
        "df4_test = df4_test.drop_duplicates('Opportunity_ID',keep = 'first')\r\n",
        "df4_test.set_index('Opportunity_ID', inplace = True)\r\n",
        "df4_test[\"Product_Name\"] = df4_test[\"Product_Name\"].map(mean_encoded_product)\r\n",
        "df4_test[\"Opportunity_Owner\"] = df4_test[\"Opportunity_Owner\"].map(mean_encoded_owner)"
      ],
      "execution_count": null,
      "outputs": []
    },
    {
      "cell_type": "code",
      "metadata": {
        "id": "bS-XCFGvMSGb"
      },
      "source": [
        "df4_test[\"Product_Name\"].fillna(mean_encoded_product[\"Other\"], inplace = True)\r\n",
        "df4_test[\"Opportunity_Owner\"].fillna(mean_encoded_owner[\"Other\"], inplace = True)"
      ],
      "execution_count": null,
      "outputs": []
    },
    {
      "cell_type": "code",
      "metadata": {
        "id": "KzdJZwvgNioX"
      },
      "source": [
        "short_df4.to_csv('short_df_train_encoded_3.csv')\r\n",
        "df4_test.to_csv('short_df_test_encoded_3.csv')"
      ],
      "execution_count": null,
      "outputs": []
    },
    {
      "cell_type": "code",
      "metadata": {
        "colab": {
          "base_uri": "https://localhost:8080/",
          "height": 17
        },
        "id": "xRD7UK4xOFr9",
        "outputId": "7722f278-eacc-4846-b9c9-d98053331e5f"
      },
      "source": [
        "files.download('short_df_train_encoded_3.csv')\r\n",
        "files.download('short_df_test_encoded_3.csv')"
      ],
      "execution_count": null,
      "outputs": [
        {
          "output_type": "display_data",
          "data": {
            "application/javascript": [
              "\n",
              "    async function download(id, filename, size) {\n",
              "      if (!google.colab.kernel.accessAllowed) {\n",
              "        return;\n",
              "      }\n",
              "      const div = document.createElement('div');\n",
              "      const label = document.createElement('label');\n",
              "      label.textContent = `Downloading \"${filename}\": `;\n",
              "      div.appendChild(label);\n",
              "      const progress = document.createElement('progress');\n",
              "      progress.max = size;\n",
              "      div.appendChild(progress);\n",
              "      document.body.appendChild(div);\n",
              "\n",
              "      const buffers = [];\n",
              "      let downloaded = 0;\n",
              "\n",
              "      const channel = await google.colab.kernel.comms.open(id);\n",
              "      // Send a message to notify the kernel that we're ready.\n",
              "      channel.send({})\n",
              "\n",
              "      for await (const message of channel.messages) {\n",
              "        // Send a message to notify the kernel that we're ready.\n",
              "        channel.send({})\n",
              "        if (message.buffers) {\n",
              "          for (const buffer of message.buffers) {\n",
              "            buffers.push(buffer);\n",
              "            downloaded += buffer.byteLength;\n",
              "            progress.value = downloaded;\n",
              "          }\n",
              "        }\n",
              "      }\n",
              "      const blob = new Blob(buffers, {type: 'application/binary'});\n",
              "      const a = document.createElement('a');\n",
              "      a.href = window.URL.createObjectURL(blob);\n",
              "      a.download = filename;\n",
              "      div.appendChild(a);\n",
              "      a.click();\n",
              "      div.remove();\n",
              "    }\n",
              "  "
            ],
            "text/plain": [
              "<IPython.core.display.Javascript object>"
            ]
          },
          "metadata": {
            "tags": []
          }
        },
        {
          "output_type": "display_data",
          "data": {
            "application/javascript": [
              "download(\"download_fb5a5797-7841-45f4-992d-e921bf610fa7\", \"short_df_train_encoded_3.csv\", 898053)"
            ],
            "text/plain": [
              "<IPython.core.display.Javascript object>"
            ]
          },
          "metadata": {
            "tags": []
          }
        },
        {
          "output_type": "display_data",
          "data": {
            "application/javascript": [
              "\n",
              "    async function download(id, filename, size) {\n",
              "      if (!google.colab.kernel.accessAllowed) {\n",
              "        return;\n",
              "      }\n",
              "      const div = document.createElement('div');\n",
              "      const label = document.createElement('label');\n",
              "      label.textContent = `Downloading \"${filename}\": `;\n",
              "      div.appendChild(label);\n",
              "      const progress = document.createElement('progress');\n",
              "      progress.max = size;\n",
              "      div.appendChild(progress);\n",
              "      document.body.appendChild(div);\n",
              "\n",
              "      const buffers = [];\n",
              "      let downloaded = 0;\n",
              "\n",
              "      const channel = await google.colab.kernel.comms.open(id);\n",
              "      // Send a message to notify the kernel that we're ready.\n",
              "      channel.send({})\n",
              "\n",
              "      for await (const message of channel.messages) {\n",
              "        // Send a message to notify the kernel that we're ready.\n",
              "        channel.send({})\n",
              "        if (message.buffers) {\n",
              "          for (const buffer of message.buffers) {\n",
              "            buffers.push(buffer);\n",
              "            downloaded += buffer.byteLength;\n",
              "            progress.value = downloaded;\n",
              "          }\n",
              "        }\n",
              "      }\n",
              "      const blob = new Blob(buffers, {type: 'application/binary'});\n",
              "      const a = document.createElement('a');\n",
              "      a.href = window.URL.createObjectURL(blob);\n",
              "      a.download = filename;\n",
              "      div.appendChild(a);\n",
              "      a.click();\n",
              "      div.remove();\n",
              "    }\n",
              "  "
            ],
            "text/plain": [
              "<IPython.core.display.Javascript object>"
            ]
          },
          "metadata": {
            "tags": []
          }
        },
        {
          "output_type": "display_data",
          "data": {
            "application/javascript": [
              "download(\"download_6efd1ea4-9c94-4996-8c8b-47e089cab1f2\", \"short_df_test_encoded_3.csv\", 102461)"
            ],
            "text/plain": [
              "<IPython.core.display.Javascript object>"
            ]
          },
          "metadata": {
            "tags": []
          }
        }
      ]
    }
  ]
}