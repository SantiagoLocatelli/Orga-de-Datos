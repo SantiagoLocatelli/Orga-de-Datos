{
  "nbformat": 4,
  "nbformat_minor": 0,
  "metadata": {
    "colab": {
      "name": "Porcentaje ganado por año.ipynb",
      "provenance": [],
      "collapsed_sections": [
        "ltY3ZOVZkJon",
        "dT7hwehZkOU4",
        "kg1LO9_0nGvG",
        "duD7WhtMmlDB"
      ]
    },
    "kernelspec": {
      "name": "python3",
      "display_name": "Python 3"
    }
  },
  "cells": [
    {
      "cell_type": "markdown",
      "metadata": {
        "id": "ltY3ZOVZkJon"
      },
      "source": [
        "# Pasos inicialies"
      ]
    },
    {
      "cell_type": "code",
      "metadata": {
        "id": "Y2GbBp1kvR2d"
      },
      "source": [
        "import pandas as pd\n",
        "import numpy as np\n",
        "import seaborn as sns\n",
        "import matplotlib.pyplot as plt\n",
        "import matplotlib.patches as mpatches\n",
        "import matplotlib.cm as cm\n",
        "import matplotlib as mpl\n",
        "import random"
      ],
      "execution_count": 415,
      "outputs": []
    },
    {
      "cell_type": "code",
      "metadata": {
        "id": "Ae_QX_u4r0dU"
      },
      "source": [
        "cmap = cm.get_cmap('viridis')\n",
        "saltos = np.linspace(0.2, 1, 10)\n",
        "colores = cmap(saltos)"
      ],
      "execution_count": 416,
      "outputs": []
    },
    {
      "cell_type": "markdown",
      "metadata": {
        "id": "wYmmbTJ-fM3d"
      },
      "source": [
        "Voy hacer un analisis del procentaje ganado por cada año "
      ]
    },
    {
      "cell_type": "code",
      "metadata": {
        "id": "3wysM5kxve0r",
        "outputId": "39a3c4bf-a90e-4426-ae44-51bf812ec865",
        "colab": {
          "base_uri": "https://localhost:8080/",
          "height": 0
        }
      },
      "source": [
        "entrenamiento = pd.read_csv('/content/drive/My Drive/Orga Datos/tp0 y tp1/Entrenamieto_ECI_2020.csv')\n",
        "entrenamiento.head()"
      ],
      "execution_count": 417,
      "outputs": [
        {
          "output_type": "execute_result",
          "data": {
            "text/html": [
              "<div>\n",
              "<style scoped>\n",
              "    .dataframe tbody tr th:only-of-type {\n",
              "        vertical-align: middle;\n",
              "    }\n",
              "\n",
              "    .dataframe tbody tr th {\n",
              "        vertical-align: top;\n",
              "    }\n",
              "\n",
              "    .dataframe thead th {\n",
              "        text-align: right;\n",
              "    }\n",
              "</style>\n",
              "<table border=\"1\" class=\"dataframe\">\n",
              "  <thead>\n",
              "    <tr style=\"text-align: right;\">\n",
              "      <th></th>\n",
              "      <th>ID</th>\n",
              "      <th>Region</th>\n",
              "      <th>Territory</th>\n",
              "      <th>Pricing, Delivery_Terms_Quote_Appr</th>\n",
              "      <th>Pricing, Delivery_Terms_Approved</th>\n",
              "      <th>Bureaucratic_Code_0_Approval</th>\n",
              "      <th>Bureaucratic_Code_0_Approved</th>\n",
              "      <th>Submitted_for_Approval</th>\n",
              "      <th>Bureaucratic_Code</th>\n",
              "      <th>Account_Created_Date</th>\n",
              "      <th>Source</th>\n",
              "      <th>Billing_Country</th>\n",
              "      <th>Account_Name</th>\n",
              "      <th>Opportunity_Name</th>\n",
              "      <th>Opportunity_ID</th>\n",
              "      <th>Sales_Contract_No</th>\n",
              "      <th>Account_Owner</th>\n",
              "      <th>Opportunity_Owner</th>\n",
              "      <th>Account_Type</th>\n",
              "      <th>Opportunity_Type</th>\n",
              "      <th>Quote_Type</th>\n",
              "      <th>Delivery_Terms</th>\n",
              "      <th>Opportunity_Created_Date</th>\n",
              "      <th>Brand</th>\n",
              "      <th>Product_Type</th>\n",
              "      <th>Size</th>\n",
              "      <th>Product_Category_B</th>\n",
              "      <th>Price</th>\n",
              "      <th>Currency</th>\n",
              "      <th>Last_Activity</th>\n",
              "      <th>Quote_Expiry_Date</th>\n",
              "      <th>Last_Modified_Date</th>\n",
              "      <th>Last_Modified_By</th>\n",
              "      <th>Product_Family</th>\n",
              "      <th>Product_Name</th>\n",
              "      <th>ASP_Currency</th>\n",
              "      <th>ASP</th>\n",
              "      <th>ASP_(converted)_Currency</th>\n",
              "      <th>ASP_(converted)</th>\n",
              "      <th>Planned_Delivery_Start_Date</th>\n",
              "      <th>Planned_Delivery_End_Date</th>\n",
              "      <th>Month</th>\n",
              "      <th>Delivery_Quarter</th>\n",
              "      <th>Delivery_Year</th>\n",
              "      <th>Actual_Delivery_Date</th>\n",
              "      <th>TRF</th>\n",
              "      <th>Total_Amount_Currency</th>\n",
              "      <th>Total_Amount</th>\n",
              "      <th>Total_Taxable_Amount_Currency</th>\n",
              "      <th>Total_Taxable_Amount</th>\n",
              "      <th>Stage</th>\n",
              "      <th>Prod_Category_A</th>\n",
              "    </tr>\n",
              "  </thead>\n",
              "  <tbody>\n",
              "    <tr>\n",
              "      <th>0</th>\n",
              "      <td>27761</td>\n",
              "      <td>EMEA</td>\n",
              "      <td>None</td>\n",
              "      <td>1</td>\n",
              "      <td>1</td>\n",
              "      <td>1</td>\n",
              "      <td>1</td>\n",
              "      <td>0</td>\n",
              "      <td>Bureaucratic_Code_4</td>\n",
              "      <td>6/16/2015</td>\n",
              "      <td>None</td>\n",
              "      <td>Netherlands</td>\n",
              "      <td>Account_Name_619</td>\n",
              "      <td>Opportunity_Name_12598</td>\n",
              "      <td>0</td>\n",
              "      <td>None</td>\n",
              "      <td>Person_Name_51</td>\n",
              "      <td>Person_Name_18</td>\n",
              "      <td>Account_Type_2</td>\n",
              "      <td>Opportunity_Type_1</td>\n",
              "      <td>Non Binding</td>\n",
              "      <td>Delivery_Terms_2</td>\n",
              "      <td>12/7/2015</td>\n",
              "      <td>None</td>\n",
              "      <td>None</td>\n",
              "      <td>None</td>\n",
              "      <td>None</td>\n",
              "      <td>None</td>\n",
              "      <td>None</td>\n",
              "      <td>NaT</td>\n",
              "      <td>1/30/2016</td>\n",
              "      <td>6/13/2016</td>\n",
              "      <td>Person_Name_18</td>\n",
              "      <td>Product_Family_77</td>\n",
              "      <td>Product_Name_99</td>\n",
              "      <td>EUR</td>\n",
              "      <td>0.52</td>\n",
              "      <td>USD</td>\n",
              "      <td>0.58817</td>\n",
              "      <td>5/1/2016</td>\n",
              "      <td>6/30/2016</td>\n",
              "      <td>2016 - 5</td>\n",
              "      <td>Q2</td>\n",
              "      <td>2016</td>\n",
              "      <td>NaT</td>\n",
              "      <td>10</td>\n",
              "      <td>EUR</td>\n",
              "      <td>5272800.0</td>\n",
              "      <td>EUR</td>\n",
              "      <td>5272800.0</td>\n",
              "      <td>Closed Lost</td>\n",
              "      <td>Prod_Category_A_None</td>\n",
              "    </tr>\n",
              "    <tr>\n",
              "      <th>1</th>\n",
              "      <td>27760</td>\n",
              "      <td>EMEA</td>\n",
              "      <td>None</td>\n",
              "      <td>0</td>\n",
              "      <td>0</td>\n",
              "      <td>0</td>\n",
              "      <td>0</td>\n",
              "      <td>0</td>\n",
              "      <td>Bureaucratic_Code_4</td>\n",
              "      <td>6/16/2015</td>\n",
              "      <td>None</td>\n",
              "      <td>Netherlands</td>\n",
              "      <td>Account_Name_619</td>\n",
              "      <td>Opportunity_Name_12600</td>\n",
              "      <td>1</td>\n",
              "      <td>39</td>\n",
              "      <td>Person_Name_51</td>\n",
              "      <td>Person_Name_20</td>\n",
              "      <td>Account_Type_2</td>\n",
              "      <td>Opportunity_Type_1</td>\n",
              "      <td>Non Binding</td>\n",
              "      <td>Delivery_Terms_2</td>\n",
              "      <td>12/7/2015</td>\n",
              "      <td>None</td>\n",
              "      <td>None</td>\n",
              "      <td>None</td>\n",
              "      <td>None</td>\n",
              "      <td>None</td>\n",
              "      <td>None</td>\n",
              "      <td>NaT</td>\n",
              "      <td>1/20/2016</td>\n",
              "      <td>1/15/2016</td>\n",
              "      <td>Person_Name_20</td>\n",
              "      <td>Product_Family_77</td>\n",
              "      <td>Product_Name_100</td>\n",
              "      <td>EUR</td>\n",
              "      <td>0.53</td>\n",
              "      <td>USD</td>\n",
              "      <td>0.59948</td>\n",
              "      <td>1/18/2016</td>\n",
              "      <td>1/20/2016</td>\n",
              "      <td>2016 - 1</td>\n",
              "      <td>Q1</td>\n",
              "      <td>2016</td>\n",
              "      <td>NaT</td>\n",
              "      <td>0</td>\n",
              "      <td>EUR</td>\n",
              "      <td>48230.0</td>\n",
              "      <td>EUR</td>\n",
              "      <td>48230.0</td>\n",
              "      <td>Closed Won</td>\n",
              "      <td>Prod_Category_A_None</td>\n",
              "    </tr>\n",
              "    <tr>\n",
              "      <th>2</th>\n",
              "      <td>27446</td>\n",
              "      <td>Americas</td>\n",
              "      <td>NW America</td>\n",
              "      <td>0</td>\n",
              "      <td>0</td>\n",
              "      <td>0</td>\n",
              "      <td>0</td>\n",
              "      <td>0</td>\n",
              "      <td>Bureaucratic_Code_4</td>\n",
              "      <td>4/21/2015</td>\n",
              "      <td>Source_7</td>\n",
              "      <td>United States</td>\n",
              "      <td>Account_Name_1794</td>\n",
              "      <td>Opportunity_Name_469</td>\n",
              "      <td>2</td>\n",
              "      <td>760</td>\n",
              "      <td>Person_Name_64</td>\n",
              "      <td>Person_Name_8</td>\n",
              "      <td>Account_Type_5</td>\n",
              "      <td>Opportunity_Type_1</td>\n",
              "      <td>Non Binding</td>\n",
              "      <td>Delivery_Terms_4</td>\n",
              "      <td>12/8/2015</td>\n",
              "      <td>None</td>\n",
              "      <td>None</td>\n",
              "      <td>None</td>\n",
              "      <td>None</td>\n",
              "      <td>None</td>\n",
              "      <td>None</td>\n",
              "      <td>NaT</td>\n",
              "      <td>9/30/2016</td>\n",
              "      <td>9/29/2016</td>\n",
              "      <td>Person_Name_8</td>\n",
              "      <td>Product_Family_81</td>\n",
              "      <td>Product_Name_91</td>\n",
              "      <td>USD</td>\n",
              "      <td>0.48</td>\n",
              "      <td>USD</td>\n",
              "      <td>0.48000</td>\n",
              "      <td>1/25/2016</td>\n",
              "      <td>1/25/2016</td>\n",
              "      <td>2016 - 1</td>\n",
              "      <td>Q1</td>\n",
              "      <td>2016</td>\n",
              "      <td>NaT</td>\n",
              "      <td>0</td>\n",
              "      <td>USD</td>\n",
              "      <td>83865.6</td>\n",
              "      <td>USD</td>\n",
              "      <td>83865.6</td>\n",
              "      <td>Closed Won</td>\n",
              "      <td>Prod_Category_A_None</td>\n",
              "    </tr>\n",
              "    <tr>\n",
              "      <th>3</th>\n",
              "      <td>16808</td>\n",
              "      <td>Americas</td>\n",
              "      <td>NW America</td>\n",
              "      <td>1</td>\n",
              "      <td>0</td>\n",
              "      <td>1</td>\n",
              "      <td>0</td>\n",
              "      <td>0</td>\n",
              "      <td>Bureaucratic_Code_5</td>\n",
              "      <td>7/27/2013</td>\n",
              "      <td>Source_11</td>\n",
              "      <td>United States</td>\n",
              "      <td>Account_Name_1201</td>\n",
              "      <td>Opportunity_Name_415</td>\n",
              "      <td>3</td>\n",
              "      <td>None</td>\n",
              "      <td>Person_Name_8</td>\n",
              "      <td>Person_Name_8</td>\n",
              "      <td>Account_Type_5</td>\n",
              "      <td>Opportunity_Type_19</td>\n",
              "      <td>Non Binding</td>\n",
              "      <td>Delivery_Terms_1</td>\n",
              "      <td>12/8/2015</td>\n",
              "      <td>Other</td>\n",
              "      <td>Product_Type_0</td>\n",
              "      <td>Size_4</td>\n",
              "      <td>Product_Category_B_16</td>\n",
              "      <td>0.42</td>\n",
              "      <td>USD</td>\n",
              "      <td>NaT</td>\n",
              "      <td>NaT</td>\n",
              "      <td>3/27/2018</td>\n",
              "      <td>Person_Name_8</td>\n",
              "      <td>Product_Family_209</td>\n",
              "      <td>Product_Name_432</td>\n",
              "      <td>USD</td>\n",
              "      <td>0.53</td>\n",
              "      <td>USD</td>\n",
              "      <td>0.53000</td>\n",
              "      <td>2/1/2018</td>\n",
              "      <td>3/31/2018</td>\n",
              "      <td>2018 - 2</td>\n",
              "      <td>Q1</td>\n",
              "      <td>2018</td>\n",
              "      <td>NaT</td>\n",
              "      <td>14</td>\n",
              "      <td>USD</td>\n",
              "      <td>7421881.5</td>\n",
              "      <td>USD</td>\n",
              "      <td>7421881.5</td>\n",
              "      <td>Closed Lost</td>\n",
              "      <td>Prod_Category_A_None</td>\n",
              "    </tr>\n",
              "    <tr>\n",
              "      <th>4</th>\n",
              "      <td>16805</td>\n",
              "      <td>Americas</td>\n",
              "      <td>NW America</td>\n",
              "      <td>1</td>\n",
              "      <td>0</td>\n",
              "      <td>1</td>\n",
              "      <td>0</td>\n",
              "      <td>0</td>\n",
              "      <td>Bureaucratic_Code_5</td>\n",
              "      <td>7/27/2013</td>\n",
              "      <td>Source_11</td>\n",
              "      <td>United States</td>\n",
              "      <td>Account_Name_1201</td>\n",
              "      <td>Opportunity_Name_851</td>\n",
              "      <td>4</td>\n",
              "      <td>None</td>\n",
              "      <td>Person_Name_8</td>\n",
              "      <td>Person_Name_8</td>\n",
              "      <td>Account_Type_5</td>\n",
              "      <td>Opportunity_Type_19</td>\n",
              "      <td>Non Binding</td>\n",
              "      <td>Delivery_Terms_1</td>\n",
              "      <td>12/8/2015</td>\n",
              "      <td>Other</td>\n",
              "      <td>Product_Type_0</td>\n",
              "      <td>Size_4</td>\n",
              "      <td>Product_Category_B_16</td>\n",
              "      <td>0.42</td>\n",
              "      <td>USD</td>\n",
              "      <td>NaT</td>\n",
              "      <td>6/2/2017</td>\n",
              "      <td>3/27/2018</td>\n",
              "      <td>Person_Name_8</td>\n",
              "      <td>Product_Family_209</td>\n",
              "      <td>Product_Name_432</td>\n",
              "      <td>USD</td>\n",
              "      <td>0.53</td>\n",
              "      <td>USD</td>\n",
              "      <td>0.53000</td>\n",
              "      <td>2/1/2018</td>\n",
              "      <td>2/28/2018</td>\n",
              "      <td>2018 - 2</td>\n",
              "      <td>Q1</td>\n",
              "      <td>2018</td>\n",
              "      <td>NaT</td>\n",
              "      <td>25</td>\n",
              "      <td>USD</td>\n",
              "      <td>13357192.5</td>\n",
              "      <td>USD</td>\n",
              "      <td>13357192.5</td>\n",
              "      <td>Closed Lost</td>\n",
              "      <td>Prod_Category_A_None</td>\n",
              "    </tr>\n",
              "  </tbody>\n",
              "</table>\n",
              "</div>"
            ],
            "text/plain": [
              "      ID    Region  ...        Stage       Prod_Category_A\n",
              "0  27761      EMEA  ...  Closed Lost  Prod_Category_A_None\n",
              "1  27760      EMEA  ...   Closed Won  Prod_Category_A_None\n",
              "2  27446  Americas  ...   Closed Won  Prod_Category_A_None\n",
              "3  16808  Americas  ...  Closed Lost  Prod_Category_A_None\n",
              "4  16805  Americas  ...  Closed Lost  Prod_Category_A_None\n",
              "\n",
              "[5 rows x 52 columns]"
            ]
          },
          "metadata": {
            "tags": []
          },
          "execution_count": 417
        }
      ]
    },
    {
      "cell_type": "markdown",
      "metadata": {
        "id": "ECYRTIY6klJ-"
      },
      "source": [
        "# Conversion a dolar"
      ]
    },
    {
      "cell_type": "code",
      "metadata": {
        "id": "Z-i5u5BVrL7O"
      },
      "source": [
        "entrenamiento.loc[entrenamiento['Total_Amount_Currency'] == 'JPY', 'Total_Amount'] = entrenamiento['Total_Amount']*0.0096\n",
        "entrenamiento.loc[entrenamiento['Total_Amount_Currency'] == 'JPY', 'Total_Amount_Currency'] = 'USD'"
      ],
      "execution_count": 418,
      "outputs": []
    },
    {
      "cell_type": "code",
      "metadata": {
        "id": "0AgVR_2WrSSc"
      },
      "source": [
        "entrenamiento.loc[entrenamiento['Total_Amount_Currency'] == 'EUR', 'Total_Amount'] = entrenamiento['Total_Amount']*1.17\n",
        "entrenamiento.loc[entrenamiento['Total_Amount_Currency'] == 'EUR', 'Total_Amount_Currency'] = 'USD'"
      ],
      "execution_count": 419,
      "outputs": []
    },
    {
      "cell_type": "code",
      "metadata": {
        "id": "H5RUotAOrU9H"
      },
      "source": [
        "entrenamiento.loc[entrenamiento['Total_Amount_Currency'] == 'AUD', 'Total_Amount'] = entrenamiento['Total_Amount']*0.70\n",
        "entrenamiento.loc[entrenamiento['Total_Amount_Currency'] == 'AUD', 'Total_Amount_Currency'] = 'USD'"
      ],
      "execution_count": 420,
      "outputs": []
    },
    {
      "cell_type": "code",
      "metadata": {
        "id": "vDckaL-orXXm"
      },
      "source": [
        "entrenamiento.loc[entrenamiento['Total_Amount_Currency'] == 'GBP', 'Total_Amount'] = entrenamiento['Total_Amount']*1.29\n",
        "entrenamiento.loc[entrenamiento['Total_Amount_Currency'] == 'GBP', 'Total_Amount_Currency'] = 'USD'"
      ],
      "execution_count": 421,
      "outputs": []
    },
    {
      "cell_type": "markdown",
      "metadata": {
        "id": "dT7hwehZkOU4"
      },
      "source": [
        "# Porcentaje de ganados\n",
        "\n"
      ]
    },
    {
      "cell_type": "markdown",
      "metadata": {
        "id": "ovXGWyuTMpr3"
      },
      "source": [
        "Me quedo con las columnas de la fecha en que fue creado la oportunidad, y la etapa."
      ]
    },
    {
      "cell_type": "code",
      "metadata": {
        "id": "EIMq8rolx7Sv",
        "outputId": "31a0f897-4ab0-4409-9e59-e5e26c83e774",
        "colab": {
          "base_uri": "https://localhost:8080/",
          "height": 0
        }
      },
      "source": [
        "stages_per_date = entrenamiento.loc[:,['Opportunity_Created_Date','Stage']]\n",
        "stages_per_date['Opportunity_Created_Date'] = pd.to_datetime(stages_per_date['Opportunity_Created_Date'], errors='coerce')\n",
        "stages_per_date"
      ],
      "execution_count": 422,
      "outputs": [
        {
          "output_type": "execute_result",
          "data": {
            "text/html": [
              "<div>\n",
              "<style scoped>\n",
              "    .dataframe tbody tr th:only-of-type {\n",
              "        vertical-align: middle;\n",
              "    }\n",
              "\n",
              "    .dataframe tbody tr th {\n",
              "        vertical-align: top;\n",
              "    }\n",
              "\n",
              "    .dataframe thead th {\n",
              "        text-align: right;\n",
              "    }\n",
              "</style>\n",
              "<table border=\"1\" class=\"dataframe\">\n",
              "  <thead>\n",
              "    <tr style=\"text-align: right;\">\n",
              "      <th></th>\n",
              "      <th>Opportunity_Created_Date</th>\n",
              "      <th>Stage</th>\n",
              "    </tr>\n",
              "  </thead>\n",
              "  <tbody>\n",
              "    <tr>\n",
              "      <th>0</th>\n",
              "      <td>2015-12-07</td>\n",
              "      <td>Closed Lost</td>\n",
              "    </tr>\n",
              "    <tr>\n",
              "      <th>1</th>\n",
              "      <td>2015-12-07</td>\n",
              "      <td>Closed Won</td>\n",
              "    </tr>\n",
              "    <tr>\n",
              "      <th>2</th>\n",
              "      <td>2015-12-08</td>\n",
              "      <td>Closed Won</td>\n",
              "    </tr>\n",
              "    <tr>\n",
              "      <th>3</th>\n",
              "      <td>2015-12-08</td>\n",
              "      <td>Closed Lost</td>\n",
              "    </tr>\n",
              "    <tr>\n",
              "      <th>4</th>\n",
              "      <td>2015-12-08</td>\n",
              "      <td>Closed Lost</td>\n",
              "    </tr>\n",
              "    <tr>\n",
              "      <th>...</th>\n",
              "      <td>...</td>\n",
              "      <td>...</td>\n",
              "    </tr>\n",
              "    <tr>\n",
              "      <th>16942</th>\n",
              "      <td>2015-12-04</td>\n",
              "      <td>Closed Won</td>\n",
              "    </tr>\n",
              "    <tr>\n",
              "      <th>16943</th>\n",
              "      <td>2015-12-04</td>\n",
              "      <td>Closed Won</td>\n",
              "    </tr>\n",
              "    <tr>\n",
              "      <th>16944</th>\n",
              "      <td>2015-12-04</td>\n",
              "      <td>Closed Won</td>\n",
              "    </tr>\n",
              "    <tr>\n",
              "      <th>16945</th>\n",
              "      <td>2015-12-05</td>\n",
              "      <td>Closed Lost</td>\n",
              "    </tr>\n",
              "    <tr>\n",
              "      <th>16946</th>\n",
              "      <td>2015-12-05</td>\n",
              "      <td>Closed Lost</td>\n",
              "    </tr>\n",
              "  </tbody>\n",
              "</table>\n",
              "<p>16947 rows × 2 columns</p>\n",
              "</div>"
            ],
            "text/plain": [
              "      Opportunity_Created_Date        Stage\n",
              "0                   2015-12-07  Closed Lost\n",
              "1                   2015-12-07   Closed Won\n",
              "2                   2015-12-08   Closed Won\n",
              "3                   2015-12-08  Closed Lost\n",
              "4                   2015-12-08  Closed Lost\n",
              "...                        ...          ...\n",
              "16942               2015-12-04   Closed Won\n",
              "16943               2015-12-04   Closed Won\n",
              "16944               2015-12-04   Closed Won\n",
              "16945               2015-12-05  Closed Lost\n",
              "16946               2015-12-05  Closed Lost\n",
              "\n",
              "[16947 rows x 2 columns]"
            ]
          },
          "metadata": {
            "tags": []
          },
          "execution_count": 422
        }
      ]
    },
    {
      "cell_type": "markdown",
      "metadata": {
        "id": "wHdAxEnHM6eo"
      },
      "source": [
        "Me quedo solo con el año de la fecha, agrupo por el año y etapa, y realizo un conteo de las distintas etapas en cada año"
      ]
    },
    {
      "cell_type": "code",
      "metadata": {
        "id": "zW30e4WjLjNo",
        "outputId": "435f1a54-8f4b-4aff-d084-c98f2c5f69f7",
        "colab": {
          "base_uri": "https://localhost:8080/",
          "height": 0
        }
      },
      "source": [
        "stages_per_date['Year'] = stages_per_date['Opportunity_Created_Date'].dt.year\n",
        "stages_per_year = stages_per_date.groupby(['Year','Stage']).agg({'Stage':'count'})\n",
        "stages_per_year"
      ],
      "execution_count": 423,
      "outputs": [
        {
          "output_type": "execute_result",
          "data": {
            "text/html": [
              "<div>\n",
              "<style scoped>\n",
              "    .dataframe tbody tr th:only-of-type {\n",
              "        vertical-align: middle;\n",
              "    }\n",
              "\n",
              "    .dataframe tbody tr th {\n",
              "        vertical-align: top;\n",
              "    }\n",
              "\n",
              "    .dataframe thead th {\n",
              "        text-align: right;\n",
              "    }\n",
              "</style>\n",
              "<table border=\"1\" class=\"dataframe\">\n",
              "  <thead>\n",
              "    <tr style=\"text-align: right;\">\n",
              "      <th></th>\n",
              "      <th></th>\n",
              "      <th>Stage</th>\n",
              "    </tr>\n",
              "    <tr>\n",
              "      <th>Year</th>\n",
              "      <th>Stage</th>\n",
              "      <th></th>\n",
              "    </tr>\n",
              "  </thead>\n",
              "  <tbody>\n",
              "    <tr>\n",
              "      <th>2013</th>\n",
              "      <th>Closed Lost</th>\n",
              "      <td>1</td>\n",
              "    </tr>\n",
              "    <tr>\n",
              "      <th rowspan=\"2\" valign=\"top\">2014</th>\n",
              "      <th>Closed Lost</th>\n",
              "      <td>23</td>\n",
              "    </tr>\n",
              "    <tr>\n",
              "      <th>Closed Won</th>\n",
              "      <td>17</td>\n",
              "    </tr>\n",
              "    <tr>\n",
              "      <th rowspan=\"2\" valign=\"top\">2015</th>\n",
              "      <th>Closed Lost</th>\n",
              "      <td>736</td>\n",
              "    </tr>\n",
              "    <tr>\n",
              "      <th>Closed Won</th>\n",
              "      <td>276</td>\n",
              "    </tr>\n",
              "    <tr>\n",
              "      <th rowspan=\"2\" valign=\"top\">2016</th>\n",
              "      <th>Closed Lost</th>\n",
              "      <td>2257</td>\n",
              "    </tr>\n",
              "    <tr>\n",
              "      <th>Closed Won</th>\n",
              "      <td>2098</td>\n",
              "    </tr>\n",
              "    <tr>\n",
              "      <th rowspan=\"3\" valign=\"top\">2017</th>\n",
              "      <th>Closed Lost</th>\n",
              "      <td>2551</td>\n",
              "    </tr>\n",
              "    <tr>\n",
              "      <th>Closed Won</th>\n",
              "      <td>4369</td>\n",
              "    </tr>\n",
              "    <tr>\n",
              "      <th>Proposal</th>\n",
              "      <td>1</td>\n",
              "    </tr>\n",
              "    <tr>\n",
              "      <th rowspan=\"5\" valign=\"top\">2018</th>\n",
              "      <th>Closed Lost</th>\n",
              "      <td>1782</td>\n",
              "    </tr>\n",
              "    <tr>\n",
              "      <th>Closed Won</th>\n",
              "      <td>2773</td>\n",
              "    </tr>\n",
              "    <tr>\n",
              "      <th>Negotiation</th>\n",
              "      <td>18</td>\n",
              "    </tr>\n",
              "    <tr>\n",
              "      <th>Proposal</th>\n",
              "      <td>34</td>\n",
              "    </tr>\n",
              "    <tr>\n",
              "      <th>Qualification</th>\n",
              "      <td>11</td>\n",
              "    </tr>\n",
              "  </tbody>\n",
              "</table>\n",
              "</div>"
            ],
            "text/plain": [
              "                    Stage\n",
              "Year Stage               \n",
              "2013 Closed Lost        1\n",
              "2014 Closed Lost       23\n",
              "     Closed Won        17\n",
              "2015 Closed Lost      736\n",
              "     Closed Won       276\n",
              "2016 Closed Lost     2257\n",
              "     Closed Won      2098\n",
              "2017 Closed Lost     2551\n",
              "     Closed Won      4369\n",
              "     Proposal           1\n",
              "2018 Closed Lost     1782\n",
              "     Closed Won      2773\n",
              "     Negotiation       18\n",
              "     Proposal          34\n",
              "     Qualification     11"
            ]
          },
          "metadata": {
            "tags": []
          },
          "execution_count": 423
        }
      ]
    },
    {
      "cell_type": "markdown",
      "metadata": {
        "id": "l7pdX5NxgE7J"
      },
      "source": [
        "Acomodo el dataframe asi quedo mas amigable a la vista."
      ]
    },
    {
      "cell_type": "code",
      "metadata": {
        "id": "tJcCghioNYMs",
        "outputId": "cbece04a-c257-466e-aabe-e2df9856046c",
        "colab": {
          "base_uri": "https://localhost:8080/",
          "height": 0
        }
      },
      "source": [
        "stages_per_year = stages_per_year.unstack()\n",
        "stages_per_year\n"
      ],
      "execution_count": 424,
      "outputs": [
        {
          "output_type": "execute_result",
          "data": {
            "text/html": [
              "<div>\n",
              "<style scoped>\n",
              "    .dataframe tbody tr th:only-of-type {\n",
              "        vertical-align: middle;\n",
              "    }\n",
              "\n",
              "    .dataframe tbody tr th {\n",
              "        vertical-align: top;\n",
              "    }\n",
              "\n",
              "    .dataframe thead tr th {\n",
              "        text-align: left;\n",
              "    }\n",
              "\n",
              "    .dataframe thead tr:last-of-type th {\n",
              "        text-align: right;\n",
              "    }\n",
              "</style>\n",
              "<table border=\"1\" class=\"dataframe\">\n",
              "  <thead>\n",
              "    <tr>\n",
              "      <th></th>\n",
              "      <th colspan=\"5\" halign=\"left\">Stage</th>\n",
              "    </tr>\n",
              "    <tr>\n",
              "      <th>Stage</th>\n",
              "      <th>Closed Lost</th>\n",
              "      <th>Closed Won</th>\n",
              "      <th>Negotiation</th>\n",
              "      <th>Proposal</th>\n",
              "      <th>Qualification</th>\n",
              "    </tr>\n",
              "    <tr>\n",
              "      <th>Year</th>\n",
              "      <th></th>\n",
              "      <th></th>\n",
              "      <th></th>\n",
              "      <th></th>\n",
              "      <th></th>\n",
              "    </tr>\n",
              "  </thead>\n",
              "  <tbody>\n",
              "    <tr>\n",
              "      <th>2013</th>\n",
              "      <td>1.0</td>\n",
              "      <td>NaN</td>\n",
              "      <td>NaN</td>\n",
              "      <td>NaN</td>\n",
              "      <td>NaN</td>\n",
              "    </tr>\n",
              "    <tr>\n",
              "      <th>2014</th>\n",
              "      <td>23.0</td>\n",
              "      <td>17.0</td>\n",
              "      <td>NaN</td>\n",
              "      <td>NaN</td>\n",
              "      <td>NaN</td>\n",
              "    </tr>\n",
              "    <tr>\n",
              "      <th>2015</th>\n",
              "      <td>736.0</td>\n",
              "      <td>276.0</td>\n",
              "      <td>NaN</td>\n",
              "      <td>NaN</td>\n",
              "      <td>NaN</td>\n",
              "    </tr>\n",
              "    <tr>\n",
              "      <th>2016</th>\n",
              "      <td>2257.0</td>\n",
              "      <td>2098.0</td>\n",
              "      <td>NaN</td>\n",
              "      <td>NaN</td>\n",
              "      <td>NaN</td>\n",
              "    </tr>\n",
              "    <tr>\n",
              "      <th>2017</th>\n",
              "      <td>2551.0</td>\n",
              "      <td>4369.0</td>\n",
              "      <td>NaN</td>\n",
              "      <td>1.0</td>\n",
              "      <td>NaN</td>\n",
              "    </tr>\n",
              "    <tr>\n",
              "      <th>2018</th>\n",
              "      <td>1782.0</td>\n",
              "      <td>2773.0</td>\n",
              "      <td>18.0</td>\n",
              "      <td>34.0</td>\n",
              "      <td>11.0</td>\n",
              "    </tr>\n",
              "  </tbody>\n",
              "</table>\n",
              "</div>"
            ],
            "text/plain": [
              "            Stage                                              \n",
              "Stage Closed Lost Closed Won Negotiation Proposal Qualification\n",
              "Year                                                           \n",
              "2013          1.0        NaN         NaN      NaN           NaN\n",
              "2014         23.0       17.0         NaN      NaN           NaN\n",
              "2015        736.0      276.0         NaN      NaN           NaN\n",
              "2016       2257.0     2098.0         NaN      NaN           NaN\n",
              "2017       2551.0     4369.0         NaN      1.0           NaN\n",
              "2018       1782.0     2773.0        18.0     34.0          11.0"
            ]
          },
          "metadata": {
            "tags": []
          },
          "execution_count": 424
        }
      ]
    },
    {
      "cell_type": "markdown",
      "metadata": {
        "id": "pOgb4IRTgL0Z"
      },
      "source": [
        "Solamente me interesan las columnas Closed_lost y Closed_won, ya que me interesa saber el porcentaje de las oportunidades ya finalizadas."
      ]
    },
    {
      "cell_type": "code",
      "metadata": {
        "id": "5DvfszZoPBF8",
        "outputId": "23439e64-6836-4564-92b6-5f28e6d07ab8",
        "colab": {
          "base_uri": "https://localhost:8080/",
          "height": 0
        }
      },
      "source": [
        "stages_per_year.columns = ['Closed_lost', 'Closed_won','Negotiation','Proposal','Qualification']\n",
        "stages_per_year = stages_per_year.loc[:,['Closed_lost', 'Closed_won']]\n",
        "stages_per_year"
      ],
      "execution_count": 425,
      "outputs": [
        {
          "output_type": "execute_result",
          "data": {
            "text/html": [
              "<div>\n",
              "<style scoped>\n",
              "    .dataframe tbody tr th:only-of-type {\n",
              "        vertical-align: middle;\n",
              "    }\n",
              "\n",
              "    .dataframe tbody tr th {\n",
              "        vertical-align: top;\n",
              "    }\n",
              "\n",
              "    .dataframe thead th {\n",
              "        text-align: right;\n",
              "    }\n",
              "</style>\n",
              "<table border=\"1\" class=\"dataframe\">\n",
              "  <thead>\n",
              "    <tr style=\"text-align: right;\">\n",
              "      <th></th>\n",
              "      <th>Closed_lost</th>\n",
              "      <th>Closed_won</th>\n",
              "    </tr>\n",
              "    <tr>\n",
              "      <th>Year</th>\n",
              "      <th></th>\n",
              "      <th></th>\n",
              "    </tr>\n",
              "  </thead>\n",
              "  <tbody>\n",
              "    <tr>\n",
              "      <th>2013</th>\n",
              "      <td>1.0</td>\n",
              "      <td>NaN</td>\n",
              "    </tr>\n",
              "    <tr>\n",
              "      <th>2014</th>\n",
              "      <td>23.0</td>\n",
              "      <td>17.0</td>\n",
              "    </tr>\n",
              "    <tr>\n",
              "      <th>2015</th>\n",
              "      <td>736.0</td>\n",
              "      <td>276.0</td>\n",
              "    </tr>\n",
              "    <tr>\n",
              "      <th>2016</th>\n",
              "      <td>2257.0</td>\n",
              "      <td>2098.0</td>\n",
              "    </tr>\n",
              "    <tr>\n",
              "      <th>2017</th>\n",
              "      <td>2551.0</td>\n",
              "      <td>4369.0</td>\n",
              "    </tr>\n",
              "    <tr>\n",
              "      <th>2018</th>\n",
              "      <td>1782.0</td>\n",
              "      <td>2773.0</td>\n",
              "    </tr>\n",
              "  </tbody>\n",
              "</table>\n",
              "</div>"
            ],
            "text/plain": [
              "      Closed_lost  Closed_won\n",
              "Year                         \n",
              "2013          1.0         NaN\n",
              "2014         23.0        17.0\n",
              "2015        736.0       276.0\n",
              "2016       2257.0      2098.0\n",
              "2017       2551.0      4369.0\n",
              "2018       1782.0      2773.0"
            ]
          },
          "metadata": {
            "tags": []
          },
          "execution_count": 425
        }
      ]
    },
    {
      "cell_type": "markdown",
      "metadata": {
        "id": "fdrI2cMVg79D"
      },
      "source": [
        "En el 2013 parece que no hubo ningun caso ganado, por lo que hay un NaN, reemplazamos a este por 0 para poder operar, y calcular el porcentaje de oportunidades ganadas."
      ]
    },
    {
      "cell_type": "code",
      "metadata": {
        "id": "IYu-yeYglGg5",
        "outputId": "8f076ddd-c228-472a-9cd2-52bea23ef715",
        "colab": {
          "base_uri": "https://localhost:8080/"
        }
      },
      "source": [
        "stages_per_year = stages_per_year.fillna(0)\n",
        "stages_per_year['percent_won'] = stages_per_year['Closed_won']*100/(stages_per_year['Closed_lost'] + stages_per_year['Closed_won'])\n",
        "percent_year = stages_per_year['percent_won']\n",
        "percent_year"
      ],
      "execution_count": 426,
      "outputs": [
        {
          "output_type": "execute_result",
          "data": {
            "text/plain": [
              "Year\n",
              "2013     0.000000\n",
              "2014    42.500000\n",
              "2015    27.272727\n",
              "2016    48.174512\n",
              "2017    63.135838\n",
              "2018    60.878156\n",
              "Name: percent_won, dtype: float64"
            ]
          },
          "metadata": {
            "tags": []
          },
          "execution_count": 426
        }
      ]
    },
    {
      "cell_type": "markdown",
      "metadata": {
        "id": "kg1LO9_0nGvG"
      },
      "source": [
        "## Graficando"
      ]
    },
    {
      "cell_type": "code",
      "metadata": {
        "id": "-oy4dGvMGSTs",
        "outputId": "932e566a-ec91-4d0a-93e6-538018191297",
        "colab": {
          "base_uri": "https://localhost:8080/",
          "height": 0
        }
      },
      "source": [
        "plt.title('Porcentaje de oportunidades ganadas por año', fontsize=25, fontstyle='oblique')\n",
        "grafiquito = percent_year.plot(kind='bar', figsize=(14,10), rot=360, color=colores, fontsize=17)\n",
        "ax = plt.gca()\n",
        "ax.set_ylabel('Porcentaje',fontsize=20)\n",
        "ax.set_xlabel('Año', fontsize=20)\n",
        "\n",
        "lineas = grafiquito.get_yticks()\n",
        "for i in lineas:\n",
        "      grafiquito.axhline(y=i, linestyle=':', alpha=0.4, color='#eeeeee')"
      ],
      "execution_count": 427,
      "outputs": [
        {
          "output_type": "display_data",
          "data": {
            "image/png": "[encoded data removed]",
            "text/plain": [
              "<Figure size 1008x720 with 1 Axes>"
            ]
          },
          "metadata": {
            "tags": [],
            "needs_background": "light"
          }
        }
      ]
    },
    {
      "cell_type": "markdown",
      "metadata": {
        "id": "l1yKfgbMRoas"
      },
      "source": [
        "Podemos ver que el año con mas probabilidad de ser aceptado es el año 2017, aunque para el año 2013 resulta medio tramposo este grafico, ya que solo hubo una oportunidad, y esta fallo, por eso el 0% de ganados."
      ]
    },
    {
      "cell_type": "markdown",
      "metadata": {
        "id": "u3gqFKT7Vh1p"
      },
      "source": [
        "# Años con mayor monto\n"
      ]
    },
    {
      "cell_type": "code",
      "metadata": {
        "id": "e7BTFkUcLhoO",
        "outputId": "03760287-329b-44c2-e848-18d8f4caea70",
        "colab": {
          "base_uri": "https://localhost:8080/",
          "height": 407
        }
      },
      "source": [
        "df = entrenamiento.loc[:,['Opportunity_Created_Date','Total_Amount','Stage', 'Region']]\n",
        "df['Opportunity_Created_Date'] = pd.to_datetime(df['Opportunity_Created_Date'], errors='coerce')\n",
        "df"
      ],
      "execution_count": 428,
      "outputs": [
        {
          "output_type": "execute_result",
          "data": {
            "text/html": [
              "<div>\n",
              "<style scoped>\n",
              "    .dataframe tbody tr th:only-of-type {\n",
              "        vertical-align: middle;\n",
              "    }\n",
              "\n",
              "    .dataframe tbody tr th {\n",
              "        vertical-align: top;\n",
              "    }\n",
              "\n",
              "    .dataframe thead th {\n",
              "        text-align: right;\n",
              "    }\n",
              "</style>\n",
              "<table border=\"1\" class=\"dataframe\">\n",
              "  <thead>\n",
              "    <tr style=\"text-align: right;\">\n",
              "      <th></th>\n",
              "      <th>Opportunity_Created_Date</th>\n",
              "      <th>Total_Amount</th>\n",
              "      <th>Stage</th>\n",
              "      <th>Region</th>\n",
              "    </tr>\n",
              "  </thead>\n",
              "  <tbody>\n",
              "    <tr>\n",
              "      <th>0</th>\n",
              "      <td>2015-12-07</td>\n",
              "      <td>6169176.00</td>\n",
              "      <td>Closed Lost</td>\n",
              "      <td>EMEA</td>\n",
              "    </tr>\n",
              "    <tr>\n",
              "      <th>1</th>\n",
              "      <td>2015-12-07</td>\n",
              "      <td>56429.10</td>\n",
              "      <td>Closed Won</td>\n",
              "      <td>EMEA</td>\n",
              "    </tr>\n",
              "    <tr>\n",
              "      <th>2</th>\n",
              "      <td>2015-12-08</td>\n",
              "      <td>83865.60</td>\n",
              "      <td>Closed Won</td>\n",
              "      <td>Americas</td>\n",
              "    </tr>\n",
              "    <tr>\n",
              "      <th>3</th>\n",
              "      <td>2015-12-08</td>\n",
              "      <td>7421881.50</td>\n",
              "      <td>Closed Lost</td>\n",
              "      <td>Americas</td>\n",
              "    </tr>\n",
              "    <tr>\n",
              "      <th>4</th>\n",
              "      <td>2015-12-08</td>\n",
              "      <td>13357192.50</td>\n",
              "      <td>Closed Lost</td>\n",
              "      <td>Americas</td>\n",
              "    </tr>\n",
              "    <tr>\n",
              "      <th>...</th>\n",
              "      <td>...</td>\n",
              "      <td>...</td>\n",
              "      <td>...</td>\n",
              "      <td>...</td>\n",
              "    </tr>\n",
              "    <tr>\n",
              "      <th>16942</th>\n",
              "      <td>2015-12-04</td>\n",
              "      <td>120919.50</td>\n",
              "      <td>Closed Won</td>\n",
              "      <td>EMEA</td>\n",
              "    </tr>\n",
              "    <tr>\n",
              "      <th>16943</th>\n",
              "      <td>2015-12-04</td>\n",
              "      <td>108827.55</td>\n",
              "      <td>Closed Won</td>\n",
              "      <td>EMEA</td>\n",
              "    </tr>\n",
              "    <tr>\n",
              "      <th>16944</th>\n",
              "      <td>2015-12-04</td>\n",
              "      <td>120919.50</td>\n",
              "      <td>Closed Won</td>\n",
              "      <td>EMEA</td>\n",
              "    </tr>\n",
              "    <tr>\n",
              "      <th>16945</th>\n",
              "      <td>2015-12-05</td>\n",
              "      <td>2346796.88</td>\n",
              "      <td>Closed Lost</td>\n",
              "      <td>Americas</td>\n",
              "    </tr>\n",
              "    <tr>\n",
              "      <th>16946</th>\n",
              "      <td>2015-12-05</td>\n",
              "      <td>25603200.00</td>\n",
              "      <td>Closed Lost</td>\n",
              "      <td>Americas</td>\n",
              "    </tr>\n",
              "  </tbody>\n",
              "</table>\n",
              "<p>16947 rows × 4 columns</p>\n",
              "</div>"
            ],
            "text/plain": [
              "      Opportunity_Created_Date  Total_Amount        Stage    Region\n",
              "0                   2015-12-07    6169176.00  Closed Lost      EMEA\n",
              "1                   2015-12-07      56429.10   Closed Won      EMEA\n",
              "2                   2015-12-08      83865.60   Closed Won  Americas\n",
              "3                   2015-12-08    7421881.50  Closed Lost  Americas\n",
              "4                   2015-12-08   13357192.50  Closed Lost  Americas\n",
              "...                        ...           ...          ...       ...\n",
              "16942               2015-12-04     120919.50   Closed Won      EMEA\n",
              "16943               2015-12-04     108827.55   Closed Won      EMEA\n",
              "16944               2015-12-04     120919.50   Closed Won      EMEA\n",
              "16945               2015-12-05    2346796.88  Closed Lost  Americas\n",
              "16946               2015-12-05   25603200.00  Closed Lost  Americas\n",
              "\n",
              "[16947 rows x 4 columns]"
            ]
          },
          "metadata": {
            "tags": []
          },
          "execution_count": 428
        }
      ]
    },
    {
      "cell_type": "code",
      "metadata": {
        "id": "8lNc35fib-Uf",
        "outputId": "635fbfde-1128-4cb3-e68f-b738e964f433",
        "colab": {
          "base_uri": "https://localhost:8080/",
          "height": 407
        }
      },
      "source": [
        "df['Year'] = df['Opportunity_Created_Date'].dt.year\n",
        "del df['Opportunity_Created_Date']\n",
        "df"
      ],
      "execution_count": 429,
      "outputs": [
        {
          "output_type": "execute_result",
          "data": {
            "text/html": [
              "<div>\n",
              "<style scoped>\n",
              "    .dataframe tbody tr th:only-of-type {\n",
              "        vertical-align: middle;\n",
              "    }\n",
              "\n",
              "    .dataframe tbody tr th {\n",
              "        vertical-align: top;\n",
              "    }\n",
              "\n",
              "    .dataframe thead th {\n",
              "        text-align: right;\n",
              "    }\n",
              "</style>\n",
              "<table border=\"1\" class=\"dataframe\">\n",
              "  <thead>\n",
              "    <tr style=\"text-align: right;\">\n",
              "      <th></th>\n",
              "      <th>Total_Amount</th>\n",
              "      <th>Stage</th>\n",
              "      <th>Region</th>\n",
              "      <th>Year</th>\n",
              "    </tr>\n",
              "  </thead>\n",
              "  <tbody>\n",
              "    <tr>\n",
              "      <th>0</th>\n",
              "      <td>6169176.00</td>\n",
              "      <td>Closed Lost</td>\n",
              "      <td>EMEA</td>\n",
              "      <td>2015</td>\n",
              "    </tr>\n",
              "    <tr>\n",
              "      <th>1</th>\n",
              "      <td>56429.10</td>\n",
              "      <td>Closed Won</td>\n",
              "      <td>EMEA</td>\n",
              "      <td>2015</td>\n",
              "    </tr>\n",
              "    <tr>\n",
              "      <th>2</th>\n",
              "      <td>83865.60</td>\n",
              "      <td>Closed Won</td>\n",
              "      <td>Americas</td>\n",
              "      <td>2015</td>\n",
              "    </tr>\n",
              "    <tr>\n",
              "      <th>3</th>\n",
              "      <td>7421881.50</td>\n",
              "      <td>Closed Lost</td>\n",
              "      <td>Americas</td>\n",
              "      <td>2015</td>\n",
              "    </tr>\n",
              "    <tr>\n",
              "      <th>4</th>\n",
              "      <td>13357192.50</td>\n",
              "      <td>Closed Lost</td>\n",
              "      <td>Americas</td>\n",
              "      <td>2015</td>\n",
              "    </tr>\n",
              "    <tr>\n",
              "      <th>...</th>\n",
              "      <td>...</td>\n",
              "      <td>...</td>\n",
              "      <td>...</td>\n",
              "      <td>...</td>\n",
              "    </tr>\n",
              "    <tr>\n",
              "      <th>16942</th>\n",
              "      <td>120919.50</td>\n",
              "      <td>Closed Won</td>\n",
              "      <td>EMEA</td>\n",
              "      <td>2015</td>\n",
              "    </tr>\n",
              "    <tr>\n",
              "      <th>16943</th>\n",
              "      <td>108827.55</td>\n",
              "      <td>Closed Won</td>\n",
              "      <td>EMEA</td>\n",
              "      <td>2015</td>\n",
              "    </tr>\n",
              "    <tr>\n",
              "      <th>16944</th>\n",
              "      <td>120919.50</td>\n",
              "      <td>Closed Won</td>\n",
              "      <td>EMEA</td>\n",
              "      <td>2015</td>\n",
              "    </tr>\n",
              "    <tr>\n",
              "      <th>16945</th>\n",
              "      <td>2346796.88</td>\n",
              "      <td>Closed Lost</td>\n",
              "      <td>Americas</td>\n",
              "      <td>2015</td>\n",
              "    </tr>\n",
              "    <tr>\n",
              "      <th>16946</th>\n",
              "      <td>25603200.00</td>\n",
              "      <td>Closed Lost</td>\n",
              "      <td>Americas</td>\n",
              "      <td>2015</td>\n",
              "    </tr>\n",
              "  </tbody>\n",
              "</table>\n",
              "<p>16947 rows × 4 columns</p>\n",
              "</div>"
            ],
            "text/plain": [
              "       Total_Amount        Stage    Region  Year\n",
              "0        6169176.00  Closed Lost      EMEA  2015\n",
              "1          56429.10   Closed Won      EMEA  2015\n",
              "2          83865.60   Closed Won  Americas  2015\n",
              "3        7421881.50  Closed Lost  Americas  2015\n",
              "4       13357192.50  Closed Lost  Americas  2015\n",
              "...             ...          ...       ...   ...\n",
              "16942     120919.50   Closed Won      EMEA  2015\n",
              "16943     108827.55   Closed Won      EMEA  2015\n",
              "16944     120919.50   Closed Won      EMEA  2015\n",
              "16945    2346796.88  Closed Lost  Americas  2015\n",
              "16946   25603200.00  Closed Lost  Americas  2015\n",
              "\n",
              "[16947 rows x 4 columns]"
            ]
          },
          "metadata": {
            "tags": []
          },
          "execution_count": 429
        }
      ]
    },
    {
      "cell_type": "code",
      "metadata": {
        "id": "juAaOFZMWxds",
        "outputId": "8dd7a2cf-2ad7-4b99-ee52-3bbc08a355fb",
        "colab": {
          "base_uri": "https://localhost:8080/",
          "height": 258
        }
      },
      "source": [
        "montos_anio = df.groupby('Year').agg({'Total_Amount':'sum'})\n",
        "montos_anio.sort_values('Total_Amount')"
      ],
      "execution_count": 430,
      "outputs": [
        {
          "output_type": "execute_result",
          "data": {
            "text/html": [
              "<div>\n",
              "<style scoped>\n",
              "    .dataframe tbody tr th:only-of-type {\n",
              "        vertical-align: middle;\n",
              "    }\n",
              "\n",
              "    .dataframe tbody tr th {\n",
              "        vertical-align: top;\n",
              "    }\n",
              "\n",
              "    .dataframe thead th {\n",
              "        text-align: right;\n",
              "    }\n",
              "</style>\n",
              "<table border=\"1\" class=\"dataframe\">\n",
              "  <thead>\n",
              "    <tr style=\"text-align: right;\">\n",
              "      <th></th>\n",
              "      <th>Total_Amount</th>\n",
              "    </tr>\n",
              "    <tr>\n",
              "      <th>Year</th>\n",
              "      <th></th>\n",
              "    </tr>\n",
              "  </thead>\n",
              "  <tbody>\n",
              "    <tr>\n",
              "      <th>2013</th>\n",
              "      <td>7.748764e+05</td>\n",
              "    </tr>\n",
              "    <tr>\n",
              "      <th>2014</th>\n",
              "      <td>9.547073e+07</td>\n",
              "    </tr>\n",
              "    <tr>\n",
              "      <th>2018</th>\n",
              "      <td>2.670374e+09</td>\n",
              "    </tr>\n",
              "    <tr>\n",
              "      <th>2015</th>\n",
              "      <td>2.834673e+09</td>\n",
              "    </tr>\n",
              "    <tr>\n",
              "      <th>2016</th>\n",
              "      <td>4.883884e+09</td>\n",
              "    </tr>\n",
              "    <tr>\n",
              "      <th>2017</th>\n",
              "      <td>6.527764e+09</td>\n",
              "    </tr>\n",
              "  </tbody>\n",
              "</table>\n",
              "</div>"
            ],
            "text/plain": [
              "      Total_Amount\n",
              "Year              \n",
              "2013  7.748764e+05\n",
              "2014  9.547073e+07\n",
              "2018  2.670374e+09\n",
              "2015  2.834673e+09\n",
              "2016  4.883884e+09\n",
              "2017  6.527764e+09"
            ]
          },
          "metadata": {
            "tags": []
          },
          "execution_count": 430
        }
      ]
    },
    {
      "cell_type": "code",
      "metadata": {
        "id": "tB_-U2hgX76s",
        "outputId": "96dd786d-6517-4360-9736-affd76882b39",
        "colab": {
          "base_uri": "https://localhost:8080/",
          "height": 649
        }
      },
      "source": [
        "plt.title('Año con más manejo de monto', fontsize=25, fontstyle='oblique')\n",
        "grafiquito = montos_anio['Total_Amount'].plot(kind='bar', figsize=(14,10), rot=360, color=colores, fontsize=17)\n",
        "ax = plt.gca()\n",
        "ax.set_ylabel('Monto total',fontsize=20)\n",
        "ax.set_xlabel('Año', fontsize=20)\n",
        "\n",
        "lineas = grafiquito.get_yticks()\n",
        "for i in lineas:\n",
        "      grafiquito.axhline(y=i, linestyle=':', alpha=0.4, color='#eeeeee')"
      ],
      "execution_count": 431,
      "outputs": [
        {
          "output_type": "display_data",
          "data": {
            "image/png": "[encoded data removed]",
            "text/plain": [
              "<Figure size 1008x720 with 1 Axes>"
            ]
          },
          "metadata": {
            "tags": [],
            "needs_background": "light"
          }
        }
      ]
    },
    {
      "cell_type": "code",
      "metadata": {
        "id": "IfSiF7aRcOUV",
        "outputId": "aec89556-21cd-470b-987e-4510ff02e13f",
        "colab": {
          "base_uri": "https://localhost:8080/",
          "height": 258
        }
      },
      "source": [
        "oportunidades_anio = df.groupby('Year').agg({'Stage':'count'})\n",
        "oportunidades_anio"
      ],
      "execution_count": 432,
      "outputs": [
        {
          "output_type": "execute_result",
          "data": {
            "text/html": [
              "<div>\n",
              "<style scoped>\n",
              "    .dataframe tbody tr th:only-of-type {\n",
              "        vertical-align: middle;\n",
              "    }\n",
              "\n",
              "    .dataframe tbody tr th {\n",
              "        vertical-align: top;\n",
              "    }\n",
              "\n",
              "    .dataframe thead th {\n",
              "        text-align: right;\n",
              "    }\n",
              "</style>\n",
              "<table border=\"1\" class=\"dataframe\">\n",
              "  <thead>\n",
              "    <tr style=\"text-align: right;\">\n",
              "      <th></th>\n",
              "      <th>Stage</th>\n",
              "    </tr>\n",
              "    <tr>\n",
              "      <th>Year</th>\n",
              "      <th></th>\n",
              "    </tr>\n",
              "  </thead>\n",
              "  <tbody>\n",
              "    <tr>\n",
              "      <th>2013</th>\n",
              "      <td>1</td>\n",
              "    </tr>\n",
              "    <tr>\n",
              "      <th>2014</th>\n",
              "      <td>40</td>\n",
              "    </tr>\n",
              "    <tr>\n",
              "      <th>2015</th>\n",
              "      <td>1012</td>\n",
              "    </tr>\n",
              "    <tr>\n",
              "      <th>2016</th>\n",
              "      <td>4355</td>\n",
              "    </tr>\n",
              "    <tr>\n",
              "      <th>2017</th>\n",
              "      <td>6921</td>\n",
              "    </tr>\n",
              "    <tr>\n",
              "      <th>2018</th>\n",
              "      <td>4618</td>\n",
              "    </tr>\n",
              "  </tbody>\n",
              "</table>\n",
              "</div>"
            ],
            "text/plain": [
              "      Stage\n",
              "Year       \n",
              "2013      1\n",
              "2014     40\n",
              "2015   1012\n",
              "2016   4355\n",
              "2017   6921\n",
              "2018   4618"
            ]
          },
          "metadata": {
            "tags": []
          },
          "execution_count": 432
        }
      ]
    },
    {
      "cell_type": "markdown",
      "metadata": {
        "id": "OF4LAcsadGB7"
      },
      "source": [
        "# Analizando 2017 y 2018"
      ]
    },
    {
      "cell_type": "code",
      "metadata": {
        "id": "2aI-_Qq3dMBs",
        "outputId": "7b204af0-62d6-4c95-8262-d71863f6e602",
        "colab": {
          "base_uri": "https://localhost:8080/",
          "height": 662
        }
      },
      "source": [
        "df2017 = df[ df['Year'] == 2017 ]\n",
        "df2018 = df[ df['Year'] == 2018 ]\n",
        "df_both = df[ (df['Year'] == 2018) | (df['Year'] == 2017) ]\n",
        "print(df2017)\n",
        "df2018"
      ],
      "execution_count": 433,
      "outputs": [
        {
          "output_type": "stream",
          "text": [
            "       Total_Amount        Stage    Region  Year\n",
            "669      79606.8000   Closed Won      EMEA  2017\n",
            "670      18370.4625   Closed Won      EMEA  2017\n",
            "671      40306.5000   Closed Won      EMEA  2017\n",
            "672     297492.9750   Closed Won      EMEA  2017\n",
            "673     275721.4746   Closed Won      EMEA  2017\n",
            "...             ...          ...       ...   ...\n",
            "11481   189108.0000   Closed Won  Americas  2017\n",
            "11482     1750.0000   Closed Won  Americas  2017\n",
            "11483    75762.5000   Closed Won  Americas  2017\n",
            "11484    26950.0000   Closed Won  Americas  2017\n",
            "11485   557865.0000  Closed Lost  Americas  2017\n",
            "\n",
            "[6921 rows x 4 columns]\n"
          ],
          "name": "stdout"
        },
        {
          "output_type": "execute_result",
          "data": {
            "text/html": [
              "<div>\n",
              "<style scoped>\n",
              "    .dataframe tbody tr th:only-of-type {\n",
              "        vertical-align: middle;\n",
              "    }\n",
              "\n",
              "    .dataframe tbody tr th {\n",
              "        vertical-align: top;\n",
              "    }\n",
              "\n",
              "    .dataframe thead th {\n",
              "        text-align: right;\n",
              "    }\n",
              "</style>\n",
              "<table border=\"1\" class=\"dataframe\">\n",
              "  <thead>\n",
              "    <tr style=\"text-align: right;\">\n",
              "      <th></th>\n",
              "      <th>Total_Amount</th>\n",
              "      <th>Stage</th>\n",
              "      <th>Region</th>\n",
              "      <th>Year</th>\n",
              "    </tr>\n",
              "  </thead>\n",
              "  <tbody>\n",
              "    <tr>\n",
              "      <th>11486</th>\n",
              "      <td>1900.000</td>\n",
              "      <td>Closed Lost</td>\n",
              "      <td>Americas</td>\n",
              "      <td>2018</td>\n",
              "    </tr>\n",
              "    <tr>\n",
              "      <th>11487</th>\n",
              "      <td>24735.000</td>\n",
              "      <td>Closed Lost</td>\n",
              "      <td>Americas</td>\n",
              "      <td>2018</td>\n",
              "    </tr>\n",
              "    <tr>\n",
              "      <th>11488</th>\n",
              "      <td>2900.000</td>\n",
              "      <td>Closed Won</td>\n",
              "      <td>Americas</td>\n",
              "      <td>2018</td>\n",
              "    </tr>\n",
              "    <tr>\n",
              "      <th>11489</th>\n",
              "      <td>61110.000</td>\n",
              "      <td>Closed Won</td>\n",
              "      <td>Americas</td>\n",
              "      <td>2018</td>\n",
              "    </tr>\n",
              "    <tr>\n",
              "      <th>11490</th>\n",
              "      <td>20900.000</td>\n",
              "      <td>Closed Lost</td>\n",
              "      <td>Americas</td>\n",
              "      <td>2018</td>\n",
              "    </tr>\n",
              "    <tr>\n",
              "      <th>...</th>\n",
              "      <td>...</td>\n",
              "      <td>...</td>\n",
              "      <td>...</td>\n",
              "      <td>...</td>\n",
              "    </tr>\n",
              "    <tr>\n",
              "      <th>16099</th>\n",
              "      <td>10289.664</td>\n",
              "      <td>Closed Won</td>\n",
              "      <td>Japan</td>\n",
              "      <td>2018</td>\n",
              "    </tr>\n",
              "    <tr>\n",
              "      <th>16100</th>\n",
              "      <td>309441.600</td>\n",
              "      <td>Closed Won</td>\n",
              "      <td>Americas</td>\n",
              "      <td>2018</td>\n",
              "    </tr>\n",
              "    <tr>\n",
              "      <th>16101</th>\n",
              "      <td>1198.530</td>\n",
              "      <td>Closed Won</td>\n",
              "      <td>Americas</td>\n",
              "      <td>2018</td>\n",
              "    </tr>\n",
              "    <tr>\n",
              "      <th>16102</th>\n",
              "      <td>5752.500</td>\n",
              "      <td>Closed Won</td>\n",
              "      <td>Americas</td>\n",
              "      <td>2018</td>\n",
              "    </tr>\n",
              "    <tr>\n",
              "      <th>16103</th>\n",
              "      <td>15206.400</td>\n",
              "      <td>Closed Won</td>\n",
              "      <td>Americas</td>\n",
              "      <td>2018</td>\n",
              "    </tr>\n",
              "  </tbody>\n",
              "</table>\n",
              "<p>4618 rows × 4 columns</p>\n",
              "</div>"
            ],
            "text/plain": [
              "       Total_Amount        Stage    Region  Year\n",
              "11486      1900.000  Closed Lost  Americas  2018\n",
              "11487     24735.000  Closed Lost  Americas  2018\n",
              "11488      2900.000   Closed Won  Americas  2018\n",
              "11489     61110.000   Closed Won  Americas  2018\n",
              "11490     20900.000  Closed Lost  Americas  2018\n",
              "...             ...          ...       ...   ...\n",
              "16099     10289.664   Closed Won     Japan  2018\n",
              "16100    309441.600   Closed Won  Americas  2018\n",
              "16101      1198.530   Closed Won  Americas  2018\n",
              "16102      5752.500   Closed Won  Americas  2018\n",
              "16103     15206.400   Closed Won  Americas  2018\n",
              "\n",
              "[4618 rows x 4 columns]"
            ]
          },
          "metadata": {
            "tags": []
          },
          "execution_count": 433
        }
      ]
    },
    {
      "cell_type": "code",
      "metadata": {
        "id": "BTn1vv4CzrW-"
      },
      "source": [
        "cmap = cm.get_cmap('viridis')\n",
        "saltos = np.linspace(0.2, 1, 6)\n",
        "colores = cmap(saltos)"
      ],
      "execution_count": 434,
      "outputs": []
    },
    {
      "cell_type": "code",
      "metadata": {
        "id": "FQ1hw8h5AGXS",
        "outputId": "f738b0c9-a1ff-4fa6-c584-23bc03868182",
        "colab": {
          "base_uri": "https://localhost:8080/",
          "height": 318
        }
      },
      "source": [
        "by_stage = df_both.groupby(['Year', 'Stage']).agg({'Total_Amount':'sum'})\n",
        "by_stage"
      ],
      "execution_count": 441,
      "outputs": [
        {
          "output_type": "execute_result",
          "data": {
            "text/html": [
              "<div>\n",
              "<style scoped>\n",
              "    .dataframe tbody tr th:only-of-type {\n",
              "        vertical-align: middle;\n",
              "    }\n",
              "\n",
              "    .dataframe tbody tr th {\n",
              "        vertical-align: top;\n",
              "    }\n",
              "\n",
              "    .dataframe thead th {\n",
              "        text-align: right;\n",
              "    }\n",
              "</style>\n",
              "<table border=\"1\" class=\"dataframe\">\n",
              "  <thead>\n",
              "    <tr style=\"text-align: right;\">\n",
              "      <th></th>\n",
              "      <th></th>\n",
              "      <th>Total_Amount</th>\n",
              "    </tr>\n",
              "    <tr>\n",
              "      <th>Year</th>\n",
              "      <th>Stage</th>\n",
              "      <th></th>\n",
              "    </tr>\n",
              "  </thead>\n",
              "  <tbody>\n",
              "    <tr>\n",
              "      <th rowspan=\"3\" valign=\"top\">2017</th>\n",
              "      <th>Closed Lost</th>\n",
              "      <td>5.964232e+09</td>\n",
              "    </tr>\n",
              "    <tr>\n",
              "      <th>Closed Won</th>\n",
              "      <td>5.635305e+08</td>\n",
              "    </tr>\n",
              "    <tr>\n",
              "      <th>Proposal</th>\n",
              "      <td>1.360000e+03</td>\n",
              "    </tr>\n",
              "    <tr>\n",
              "      <th rowspan=\"5\" valign=\"top\">2018</th>\n",
              "      <th>Closed Lost</th>\n",
              "      <td>2.289488e+09</td>\n",
              "    </tr>\n",
              "    <tr>\n",
              "      <th>Closed Won</th>\n",
              "      <td>3.179284e+08</td>\n",
              "    </tr>\n",
              "    <tr>\n",
              "      <th>Negotiation</th>\n",
              "      <td>4.344111e+06</td>\n",
              "    </tr>\n",
              "    <tr>\n",
              "      <th>Proposal</th>\n",
              "      <td>4.813619e+07</td>\n",
              "    </tr>\n",
              "    <tr>\n",
              "      <th>Qualification</th>\n",
              "      <td>1.047807e+07</td>\n",
              "    </tr>\n",
              "  </tbody>\n",
              "</table>\n",
              "</div>"
            ],
            "text/plain": [
              "                    Total_Amount\n",
              "Year Stage                      \n",
              "2017 Closed Lost    5.964232e+09\n",
              "     Closed Won     5.635305e+08\n",
              "     Proposal       1.360000e+03\n",
              "2018 Closed Lost    2.289488e+09\n",
              "     Closed Won     3.179284e+08\n",
              "     Negotiation    4.344111e+06\n",
              "     Proposal       4.813619e+07\n",
              "     Qualification  1.047807e+07"
            ]
          },
          "metadata": {
            "tags": []
          },
          "execution_count": 441
        }
      ]
    },
    {
      "cell_type": "code",
      "metadata": {
        "id": "BVPinjnfAObs",
        "outputId": "4ee4e0bd-6536-4cf0-d643-5a5024e21bee",
        "colab": {
          "base_uri": "https://localhost:8080/",
          "height": 168
        }
      },
      "source": [
        "by_stage = by_stage.unstack()\n",
        "by_stage"
      ],
      "execution_count": 443,
      "outputs": [
        {
          "output_type": "execute_result",
          "data": {
            "text/html": [
              "<div>\n",
              "<style scoped>\n",
              "    .dataframe tbody tr th:only-of-type {\n",
              "        vertical-align: middle;\n",
              "    }\n",
              "\n",
              "    .dataframe tbody tr th {\n",
              "        vertical-align: top;\n",
              "    }\n",
              "\n",
              "    .dataframe thead tr th {\n",
              "        text-align: left;\n",
              "    }\n",
              "\n",
              "    .dataframe thead tr:last-of-type th {\n",
              "        text-align: right;\n",
              "    }\n",
              "</style>\n",
              "<table border=\"1\" class=\"dataframe\">\n",
              "  <thead>\n",
              "    <tr>\n",
              "      <th></th>\n",
              "      <th colspan=\"5\" halign=\"left\">Total_Amount</th>\n",
              "    </tr>\n",
              "    <tr>\n",
              "      <th>Stage</th>\n",
              "      <th>Closed Lost</th>\n",
              "      <th>Closed Won</th>\n",
              "      <th>Negotiation</th>\n",
              "      <th>Proposal</th>\n",
              "      <th>Qualification</th>\n",
              "    </tr>\n",
              "    <tr>\n",
              "      <th>Year</th>\n",
              "      <th></th>\n",
              "      <th></th>\n",
              "      <th></th>\n",
              "      <th></th>\n",
              "      <th></th>\n",
              "    </tr>\n",
              "  </thead>\n",
              "  <tbody>\n",
              "    <tr>\n",
              "      <th>2017</th>\n",
              "      <td>5.964232e+09</td>\n",
              "      <td>5.635305e+08</td>\n",
              "      <td>NaN</td>\n",
              "      <td>1.360000e+03</td>\n",
              "      <td>NaN</td>\n",
              "    </tr>\n",
              "    <tr>\n",
              "      <th>2018</th>\n",
              "      <td>2.289488e+09</td>\n",
              "      <td>3.179284e+08</td>\n",
              "      <td>4344111.44</td>\n",
              "      <td>4.813619e+07</td>\n",
              "      <td>1.047807e+07</td>\n",
              "    </tr>\n",
              "  </tbody>\n",
              "</table>\n",
              "</div>"
            ],
            "text/plain": [
              "       Total_Amount                                                      \n",
              "Stage   Closed Lost    Closed Won Negotiation      Proposal Qualification\n",
              "Year                                                                     \n",
              "2017   5.964232e+09  5.635305e+08         NaN  1.360000e+03           NaN\n",
              "2018   2.289488e+09  3.179284e+08  4344111.44  4.813619e+07  1.047807e+07"
            ]
          },
          "metadata": {
            "tags": []
          },
          "execution_count": 443
        }
      ]
    },
    {
      "cell_type": "code",
      "metadata": {
        "id": "0Fj-olHNAw6F",
        "outputId": "f3c6f7db-e1ea-4c51-b972-2cf0f74dec88",
        "colab": {
          "base_uri": "https://localhost:8080/",
          "height": 138
        }
      },
      "source": [
        "by_stage.columns = ['Closed Lost', 'Closed Won', 'Negotation','Proposal','Qualification']\n",
        "by_stage = by_stage.loc[:,['Closed Lost', 'Closed Won']]\n",
        "by_stage"
      ],
      "execution_count": 445,
      "outputs": [
        {
          "output_type": "execute_result",
          "data": {
            "text/html": [
              "<div>\n",
              "<style scoped>\n",
              "    .dataframe tbody tr th:only-of-type {\n",
              "        vertical-align: middle;\n",
              "    }\n",
              "\n",
              "    .dataframe tbody tr th {\n",
              "        vertical-align: top;\n",
              "    }\n",
              "\n",
              "    .dataframe thead th {\n",
              "        text-align: right;\n",
              "    }\n",
              "</style>\n",
              "<table border=\"1\" class=\"dataframe\">\n",
              "  <thead>\n",
              "    <tr style=\"text-align: right;\">\n",
              "      <th></th>\n",
              "      <th>Closed Lost</th>\n",
              "      <th>Closed Won</th>\n",
              "    </tr>\n",
              "    <tr>\n",
              "      <th>Year</th>\n",
              "      <th></th>\n",
              "      <th></th>\n",
              "    </tr>\n",
              "  </thead>\n",
              "  <tbody>\n",
              "    <tr>\n",
              "      <th>2017</th>\n",
              "      <td>5.964232e+09</td>\n",
              "      <td>5.635305e+08</td>\n",
              "    </tr>\n",
              "    <tr>\n",
              "      <th>2018</th>\n",
              "      <td>2.289488e+09</td>\n",
              "      <td>3.179284e+08</td>\n",
              "    </tr>\n",
              "  </tbody>\n",
              "</table>\n",
              "</div>"
            ],
            "text/plain": [
              "       Closed Lost    Closed Won\n",
              "Year                            \n",
              "2017  5.964232e+09  5.635305e+08\n",
              "2018  2.289488e+09  3.179284e+08"
            ]
          },
          "metadata": {
            "tags": []
          },
          "execution_count": 445
        }
      ]
    },
    {
      "cell_type": "code",
      "metadata": {
        "id": "l6xJAx4yASCx",
        "outputId": "d157373b-51de-4710-9bb2-aab8d416616f",
        "colab": {
          "base_uri": "https://localhost:8080/",
          "height": 557
        }
      },
      "source": [
        "by_stage.plot(kind='bar', figsize=(12,8), rot=360, color=colores, fontsize=17)\n",
        "plt.title('Manejo del monto entre Closed Lost vs Closed Won', fontsize=25, fontstyle='oblique')\n",
        "ax = plt.gca()\n",
        "ax.set_ylabel('Monto total',fontsize=20)\n",
        "ax.set_xlabel('Año ', fontsize=20)\n"
      ],
      "execution_count": 463,
      "outputs": [
        {
          "output_type": "execute_result",
          "data": {
            "text/plain": [
              "Text(0.5, 0, 'Año ')"
            ]
          },
          "metadata": {
            "tags": []
          },
          "execution_count": 463
        },
        {
          "output_type": "display_data",
          "data": {
            "image/png": "[encoded data removed]",
            "text/plain": [
              "<Figure size 864x576 with 1 Axes>"
            ]
          },
          "metadata": {
            "tags": [],
            "needs_background": "light"
          }
        }
      ]
    },
    {
      "cell_type": "markdown",
      "metadata": {
        "id": "Zn92bQCufJl9"
      },
      "source": [
        "## 2017"
      ]
    },
    {
      "cell_type": "markdown",
      "metadata": {
        "id": "NGJx2phMsdsC"
      },
      "source": [
        "### Monto"
      ]
    },
    {
      "cell_type": "code",
      "metadata": {
        "id": "5I6aGYPYduGg",
        "outputId": "49eefa16-6edf-42b7-eb1d-a6ae0a98199d",
        "colab": {
          "base_uri": "https://localhost:8080/",
          "height": 168
        }
      },
      "source": [
        "by_stage_2017 = df2017.groupby('Stage').agg({'Total_Amount':'sum'})\n",
        "by_stage_2017"
      ],
      "execution_count": 450,
      "outputs": [
        {
          "output_type": "execute_result",
          "data": {
            "text/html": [
              "<div>\n",
              "<style scoped>\n",
              "    .dataframe tbody tr th:only-of-type {\n",
              "        vertical-align: middle;\n",
              "    }\n",
              "\n",
              "    .dataframe tbody tr th {\n",
              "        vertical-align: top;\n",
              "    }\n",
              "\n",
              "    .dataframe thead th {\n",
              "        text-align: right;\n",
              "    }\n",
              "</style>\n",
              "<table border=\"1\" class=\"dataframe\">\n",
              "  <thead>\n",
              "    <tr style=\"text-align: right;\">\n",
              "      <th></th>\n",
              "      <th>Total_Amount</th>\n",
              "    </tr>\n",
              "    <tr>\n",
              "      <th>Stage</th>\n",
              "      <th></th>\n",
              "    </tr>\n",
              "  </thead>\n",
              "  <tbody>\n",
              "    <tr>\n",
              "      <th>Closed Lost</th>\n",
              "      <td>5.964232e+09</td>\n",
              "    </tr>\n",
              "    <tr>\n",
              "      <th>Closed Won</th>\n",
              "      <td>5.635305e+08</td>\n",
              "    </tr>\n",
              "    <tr>\n",
              "      <th>Proposal</th>\n",
              "      <td>1.360000e+03</td>\n",
              "    </tr>\n",
              "  </tbody>\n",
              "</table>\n",
              "</div>"
            ],
            "text/plain": [
              "             Total_Amount\n",
              "Stage                    \n",
              "Closed Lost  5.964232e+09\n",
              "Closed Won   5.635305e+08\n",
              "Proposal     1.360000e+03"
            ]
          },
          "metadata": {
            "tags": []
          },
          "execution_count": 450
        }
      ]
    },
    {
      "cell_type": "code",
      "metadata": {
        "id": "lQbfrdMbenIS",
        "outputId": "c74545e6-6337-4538-ab6a-e4798fd43dcf",
        "colab": {
          "base_uri": "https://localhost:8080/",
          "height": 138
        }
      },
      "source": [
        "by_stage_2017 = by_stage_2017.loc[(['Closed Lost', 'Closed Won'])]\n",
        "by_stage_2017"
      ],
      "execution_count": 451,
      "outputs": [
        {
          "output_type": "execute_result",
          "data": {
            "text/html": [
              "<div>\n",
              "<style scoped>\n",
              "    .dataframe tbody tr th:only-of-type {\n",
              "        vertical-align: middle;\n",
              "    }\n",
              "\n",
              "    .dataframe tbody tr th {\n",
              "        vertical-align: top;\n",
              "    }\n",
              "\n",
              "    .dataframe thead th {\n",
              "        text-align: right;\n",
              "    }\n",
              "</style>\n",
              "<table border=\"1\" class=\"dataframe\">\n",
              "  <thead>\n",
              "    <tr style=\"text-align: right;\">\n",
              "      <th></th>\n",
              "      <th>Total_Amount</th>\n",
              "    </tr>\n",
              "    <tr>\n",
              "      <th>Stage</th>\n",
              "      <th></th>\n",
              "    </tr>\n",
              "  </thead>\n",
              "  <tbody>\n",
              "    <tr>\n",
              "      <th>Closed Lost</th>\n",
              "      <td>5.964232e+09</td>\n",
              "    </tr>\n",
              "    <tr>\n",
              "      <th>Closed Won</th>\n",
              "      <td>5.635305e+08</td>\n",
              "    </tr>\n",
              "  </tbody>\n",
              "</table>\n",
              "</div>"
            ],
            "text/plain": [
              "             Total_Amount\n",
              "Stage                    \n",
              "Closed Lost  5.964232e+09\n",
              "Closed Won   5.635305e+08"
            ]
          },
          "metadata": {
            "tags": []
          },
          "execution_count": 451
        }
      ]
    },
    {
      "cell_type": "code",
      "metadata": {
        "id": "E0mS2nxsek8h",
        "outputId": "c2523053-1f48-4927-9762-5434a6693731",
        "colab": {
          "base_uri": "https://localhost:8080/",
          "height": 539
        }
      },
      "source": [
        "plt.title('Manejo del monto en el año 2017', fontsize=25, fontstyle='oblique')\n",
        "grafiquito = by_stage_2017['Total_Amount'].plot(kind='bar', figsize=(12,8), rot=360, color=colores, fontsize=17)\n",
        "ax = plt.gca()\n",
        "ax.set_ylabel('Monto total',fontsize=20)\n",
        "ax.set_xlabel('Año 2017', fontsize=20)\n",
        "\n",
        "lineas = grafiquito.get_yticks()\n",
        "for i in lineas:\n",
        "      grafiquito.axhline(y=i, linestyle=':', alpha=0.4, color='#eeeeee')"
      ],
      "execution_count": 452,
      "outputs": [
        {
          "output_type": "display_data",
          "data": {
            "image/png": "[encoded data removed]",
            "text/plain": [
              "<Figure size 864x576 with 1 Axes>"
            ]
          },
          "metadata": {
            "tags": [],
            "needs_background": "light"
          }
        }
      ]
    },
    {
      "cell_type": "markdown",
      "metadata": {
        "id": "BvJ8QPlksgdu"
      },
      "source": [
        "### Region\n"
      ]
    },
    {
      "cell_type": "code",
      "metadata": {
        "id": "RbAhqawCsiPd",
        "outputId": "fbafc9a3-89f0-46b3-8939-d0bea37b3323",
        "colab": {
          "base_uri": "https://localhost:8080/",
          "height": 228
        }
      },
      "source": [
        "by_region_2017 = df2017.groupby(['Region','Stage']).agg({'Stage':'count'})\n",
        "by_region_2017 = by_region_2017.unstack()\n",
        "by_region_2017.columns = ['Closed Lost', 'Closed Won', 'Proposal']\n",
        "by_region_2017"
      ],
      "execution_count": 454,
      "outputs": [
        {
          "output_type": "execute_result",
          "data": {
            "text/html": [
              "<div>\n",
              "<style scoped>\n",
              "    .dataframe tbody tr th:only-of-type {\n",
              "        vertical-align: middle;\n",
              "    }\n",
              "\n",
              "    .dataframe tbody tr th {\n",
              "        vertical-align: top;\n",
              "    }\n",
              "\n",
              "    .dataframe thead th {\n",
              "        text-align: right;\n",
              "    }\n",
              "</style>\n",
              "<table border=\"1\" class=\"dataframe\">\n",
              "  <thead>\n",
              "    <tr style=\"text-align: right;\">\n",
              "      <th></th>\n",
              "      <th>Closed Lost</th>\n",
              "      <th>Closed Won</th>\n",
              "      <th>Proposal</th>\n",
              "    </tr>\n",
              "    <tr>\n",
              "      <th>Region</th>\n",
              "      <th></th>\n",
              "      <th></th>\n",
              "      <th></th>\n",
              "    </tr>\n",
              "  </thead>\n",
              "  <tbody>\n",
              "    <tr>\n",
              "      <th>APAC</th>\n",
              "      <td>618.0</td>\n",
              "      <td>850.0</td>\n",
              "      <td>NaN</td>\n",
              "    </tr>\n",
              "    <tr>\n",
              "      <th>Americas</th>\n",
              "      <td>946.0</td>\n",
              "      <td>759.0</td>\n",
              "      <td>NaN</td>\n",
              "    </tr>\n",
              "    <tr>\n",
              "      <th>EMEA</th>\n",
              "      <td>725.0</td>\n",
              "      <td>1173.0</td>\n",
              "      <td>1.0</td>\n",
              "    </tr>\n",
              "    <tr>\n",
              "      <th>Japan</th>\n",
              "      <td>198.0</td>\n",
              "      <td>1567.0</td>\n",
              "      <td>NaN</td>\n",
              "    </tr>\n",
              "    <tr>\n",
              "      <th>Middle East</th>\n",
              "      <td>64.0</td>\n",
              "      <td>20.0</td>\n",
              "      <td>NaN</td>\n",
              "    </tr>\n",
              "  </tbody>\n",
              "</table>\n",
              "</div>"
            ],
            "text/plain": [
              "             Closed Lost  Closed Won  Proposal\n",
              "Region                                        \n",
              "APAC               618.0       850.0       NaN\n",
              "Americas           946.0       759.0       NaN\n",
              "EMEA               725.0      1173.0       1.0\n",
              "Japan              198.0      1567.0       NaN\n",
              "Middle East         64.0        20.0       NaN"
            ]
          },
          "metadata": {
            "tags": []
          },
          "execution_count": 454
        }
      ]
    },
    {
      "cell_type": "code",
      "metadata": {
        "id": "dtNt4dfFt19J",
        "outputId": "1dbdc8e9-8392-4817-feb5-ddb6b98b623e",
        "colab": {
          "base_uri": "https://localhost:8080/",
          "height": 228
        }
      },
      "source": [
        "by_region_2017 = by_region_2017.loc[:,['Closed Lost', 'Closed Won']]\n",
        "by_region_2017"
      ],
      "execution_count": 455,
      "outputs": [
        {
          "output_type": "execute_result",
          "data": {
            "text/html": [
              "<div>\n",
              "<style scoped>\n",
              "    .dataframe tbody tr th:only-of-type {\n",
              "        vertical-align: middle;\n",
              "    }\n",
              "\n",
              "    .dataframe tbody tr th {\n",
              "        vertical-align: top;\n",
              "    }\n",
              "\n",
              "    .dataframe thead th {\n",
              "        text-align: right;\n",
              "    }\n",
              "</style>\n",
              "<table border=\"1\" class=\"dataframe\">\n",
              "  <thead>\n",
              "    <tr style=\"text-align: right;\">\n",
              "      <th></th>\n",
              "      <th>Closed Lost</th>\n",
              "      <th>Closed Won</th>\n",
              "    </tr>\n",
              "    <tr>\n",
              "      <th>Region</th>\n",
              "      <th></th>\n",
              "      <th></th>\n",
              "    </tr>\n",
              "  </thead>\n",
              "  <tbody>\n",
              "    <tr>\n",
              "      <th>APAC</th>\n",
              "      <td>618.0</td>\n",
              "      <td>850.0</td>\n",
              "    </tr>\n",
              "    <tr>\n",
              "      <th>Americas</th>\n",
              "      <td>946.0</td>\n",
              "      <td>759.0</td>\n",
              "    </tr>\n",
              "    <tr>\n",
              "      <th>EMEA</th>\n",
              "      <td>725.0</td>\n",
              "      <td>1173.0</td>\n",
              "    </tr>\n",
              "    <tr>\n",
              "      <th>Japan</th>\n",
              "      <td>198.0</td>\n",
              "      <td>1567.0</td>\n",
              "    </tr>\n",
              "    <tr>\n",
              "      <th>Middle East</th>\n",
              "      <td>64.0</td>\n",
              "      <td>20.0</td>\n",
              "    </tr>\n",
              "  </tbody>\n",
              "</table>\n",
              "</div>"
            ],
            "text/plain": [
              "             Closed Lost  Closed Won\n",
              "Region                              \n",
              "APAC               618.0       850.0\n",
              "Americas           946.0       759.0\n",
              "EMEA               725.0      1173.0\n",
              "Japan              198.0      1567.0\n",
              "Middle East         64.0        20.0"
            ]
          },
          "metadata": {
            "tags": []
          },
          "execution_count": 455
        }
      ]
    },
    {
      "cell_type": "code",
      "metadata": {
        "id": "6v3yGnVEvN02",
        "outputId": "3b64034b-ca8d-432e-ec61-a65c69388674",
        "colab": {
          "base_uri": "https://localhost:8080/",
          "height": 667
        }
      },
      "source": [
        "by_region_2017.plot(kind='bar', figsize=(14,10), rot=360, color=colores ,fontsize=17)\n",
        "plt.title('Cantidad de oportunidades por Región en el año 2017', fontsize=25, fontstyle='oblique')\n",
        "ax = plt.gca()\n",
        "ax.set_ylabel('Cantidad de oportunidades',fontsize=20)\n",
        "ax.set_xlabel('Region', fontsize=20)"
      ],
      "execution_count": 456,
      "outputs": [
        {
          "output_type": "execute_result",
          "data": {
            "text/plain": [
              "Text(0.5, 0, 'Region')"
            ]
          },
          "metadata": {
            "tags": []
          },
          "execution_count": 456
        },
        {
          "output_type": "display_data",
          "data": {
            "image/png": "[encoded data removed]",
            "text/plain": [
              "<Figure size 1008x720 with 1 Axes>"
            ]
          },
          "metadata": {
            "tags": [],
            "needs_background": "light"
          }
        }
      ]
    },
    {
      "cell_type": "markdown",
      "metadata": {
        "id": "XSK7HiNUfMTq"
      },
      "source": [
        "## 2018"
      ]
    },
    {
      "cell_type": "markdown",
      "metadata": {
        "id": "Kr5ME9fSD6CC"
      },
      "source": [
        "### Monto"
      ]
    },
    {
      "cell_type": "code",
      "metadata": {
        "id": "1Ib-1hunfOA-",
        "outputId": "d028f660-c6b2-4ef5-aa04-2a15e21d8648",
        "colab": {
          "base_uri": "https://localhost:8080/",
          "height": 228
        }
      },
      "source": [
        "by_stage_2018 = df2018.groupby('Stage').agg({'Total_Amount':'sum'})\n",
        "by_stage_2018"
      ],
      "execution_count": 464,
      "outputs": [
        {
          "output_type": "execute_result",
          "data": {
            "text/html": [
              "<div>\n",
              "<style scoped>\n",
              "    .dataframe tbody tr th:only-of-type {\n",
              "        vertical-align: middle;\n",
              "    }\n",
              "\n",
              "    .dataframe tbody tr th {\n",
              "        vertical-align: top;\n",
              "    }\n",
              "\n",
              "    .dataframe thead th {\n",
              "        text-align: right;\n",
              "    }\n",
              "</style>\n",
              "<table border=\"1\" class=\"dataframe\">\n",
              "  <thead>\n",
              "    <tr style=\"text-align: right;\">\n",
              "      <th></th>\n",
              "      <th>Total_Amount</th>\n",
              "    </tr>\n",
              "    <tr>\n",
              "      <th>Stage</th>\n",
              "      <th></th>\n",
              "    </tr>\n",
              "  </thead>\n",
              "  <tbody>\n",
              "    <tr>\n",
              "      <th>Closed Lost</th>\n",
              "      <td>2.289488e+09</td>\n",
              "    </tr>\n",
              "    <tr>\n",
              "      <th>Closed Won</th>\n",
              "      <td>3.179284e+08</td>\n",
              "    </tr>\n",
              "    <tr>\n",
              "      <th>Negotiation</th>\n",
              "      <td>4.344111e+06</td>\n",
              "    </tr>\n",
              "    <tr>\n",
              "      <th>Proposal</th>\n",
              "      <td>4.813619e+07</td>\n",
              "    </tr>\n",
              "    <tr>\n",
              "      <th>Qualification</th>\n",
              "      <td>1.047807e+07</td>\n",
              "    </tr>\n",
              "  </tbody>\n",
              "</table>\n",
              "</div>"
            ],
            "text/plain": [
              "               Total_Amount\n",
              "Stage                      \n",
              "Closed Lost    2.289488e+09\n",
              "Closed Won     3.179284e+08\n",
              "Negotiation    4.344111e+06\n",
              "Proposal       4.813619e+07\n",
              "Qualification  1.047807e+07"
            ]
          },
          "metadata": {
            "tags": []
          },
          "execution_count": 464
        }
      ]
    },
    {
      "cell_type": "code",
      "metadata": {
        "id": "aFdqdauRffX2",
        "outputId": "26b7d252-e1e7-450b-e588-3d217bf6c6d9",
        "colab": {
          "base_uri": "https://localhost:8080/",
          "height": 138
        }
      },
      "source": [
        "by_stage_2018 = by_stage_2018.loc[(['Closed Lost', 'Closed Won'])]\n",
        "by_stage_2018"
      ],
      "execution_count": 465,
      "outputs": [
        {
          "output_type": "execute_result",
          "data": {
            "text/html": [
              "<div>\n",
              "<style scoped>\n",
              "    .dataframe tbody tr th:only-of-type {\n",
              "        vertical-align: middle;\n",
              "    }\n",
              "\n",
              "    .dataframe tbody tr th {\n",
              "        vertical-align: top;\n",
              "    }\n",
              "\n",
              "    .dataframe thead th {\n",
              "        text-align: right;\n",
              "    }\n",
              "</style>\n",
              "<table border=\"1\" class=\"dataframe\">\n",
              "  <thead>\n",
              "    <tr style=\"text-align: right;\">\n",
              "      <th></th>\n",
              "      <th>Total_Amount</th>\n",
              "    </tr>\n",
              "    <tr>\n",
              "      <th>Stage</th>\n",
              "      <th></th>\n",
              "    </tr>\n",
              "  </thead>\n",
              "  <tbody>\n",
              "    <tr>\n",
              "      <th>Closed Lost</th>\n",
              "      <td>2.289488e+09</td>\n",
              "    </tr>\n",
              "    <tr>\n",
              "      <th>Closed Won</th>\n",
              "      <td>3.179284e+08</td>\n",
              "    </tr>\n",
              "  </tbody>\n",
              "</table>\n",
              "</div>"
            ],
            "text/plain": [
              "             Total_Amount\n",
              "Stage                    \n",
              "Closed Lost  2.289488e+09\n",
              "Closed Won   3.179284e+08"
            ]
          },
          "metadata": {
            "tags": []
          },
          "execution_count": 465
        }
      ]
    },
    {
      "cell_type": "code",
      "metadata": {
        "id": "6vX33itmfkbw",
        "outputId": "b0311194-9e46-405a-f289-ec50ba18bfa3",
        "colab": {
          "base_uri": "https://localhost:8080/",
          "height": 539
        }
      },
      "source": [
        "plt.title('Manejo del monto en el año 2018', fontsize=25, fontstyle='oblique')\n",
        "grafiquito = by_stage_2018['Total_Amount'].plot(kind='bar', figsize=(12,8), rot=360, color=colores, fontsize=17)\n",
        "ax = plt.gca()\n",
        "ax.set_ylabel('Monto total',fontsize=20)\n",
        "ax.set_xlabel('Año 2018', fontsize=20)\n",
        "\n",
        "lineas = grafiquito.get_yticks()\n",
        "for i in lineas:\n",
        "      grafiquito.axhline(y=i, linestyle=':', alpha=0.4, color='#eeeeee')"
      ],
      "execution_count": 466,
      "outputs": [
        {
          "output_type": "display_data",
          "data": {
            "image/png": "[encoded data removed]",
            "text/plain": [
              "<Figure size 864x576 with 1 Axes>"
            ]
          },
          "metadata": {
            "tags": [],
            "needs_background": "light"
          }
        }
      ]
    },
    {
      "cell_type": "markdown",
      "metadata": {
        "id": "KoxN-EVJw49M"
      },
      "source": [
        "### Region"
      ]
    },
    {
      "cell_type": "code",
      "metadata": {
        "id": "oyVExdkDw6hP",
        "outputId": "1ace020b-bdcc-4fda-ae2a-f2709f31bc6a",
        "colab": {
          "base_uri": "https://localhost:8080/",
          "height": 228
        }
      },
      "source": [
        "by_region_2018 = df2018.groupby(['Region','Stage']).agg({'Stage':'count'})\n",
        "by_region_2018 = by_region_2018.unstack()\n",
        "by_region_2018.columns = ['Closed Lost', 'Closed Won', 'Negotation','Proposal','Qualification']\n",
        "by_region_2018"
      ],
      "execution_count": 467,
      "outputs": [
        {
          "output_type": "execute_result",
          "data": {
            "text/html": [
              "<div>\n",
              "<style scoped>\n",
              "    .dataframe tbody tr th:only-of-type {\n",
              "        vertical-align: middle;\n",
              "    }\n",
              "\n",
              "    .dataframe tbody tr th {\n",
              "        vertical-align: top;\n",
              "    }\n",
              "\n",
              "    .dataframe thead th {\n",
              "        text-align: right;\n",
              "    }\n",
              "</style>\n",
              "<table border=\"1\" class=\"dataframe\">\n",
              "  <thead>\n",
              "    <tr style=\"text-align: right;\">\n",
              "      <th></th>\n",
              "      <th>Closed Lost</th>\n",
              "      <th>Closed Won</th>\n",
              "      <th>Negotation</th>\n",
              "      <th>Proposal</th>\n",
              "      <th>Qualification</th>\n",
              "    </tr>\n",
              "    <tr>\n",
              "      <th>Region</th>\n",
              "      <th></th>\n",
              "      <th></th>\n",
              "      <th></th>\n",
              "      <th></th>\n",
              "      <th></th>\n",
              "    </tr>\n",
              "  </thead>\n",
              "  <tbody>\n",
              "    <tr>\n",
              "      <th>APAC</th>\n",
              "      <td>404.0</td>\n",
              "      <td>614.0</td>\n",
              "      <td>NaN</td>\n",
              "      <td>8.0</td>\n",
              "      <td>3.0</td>\n",
              "    </tr>\n",
              "    <tr>\n",
              "      <th>Americas</th>\n",
              "      <td>542.0</td>\n",
              "      <td>699.0</td>\n",
              "      <td>8.0</td>\n",
              "      <td>4.0</td>\n",
              "      <td>NaN</td>\n",
              "    </tr>\n",
              "    <tr>\n",
              "      <th>EMEA</th>\n",
              "      <td>693.0</td>\n",
              "      <td>763.0</td>\n",
              "      <td>1.0</td>\n",
              "      <td>2.0</td>\n",
              "      <td>NaN</td>\n",
              "    </tr>\n",
              "    <tr>\n",
              "      <th>Japan</th>\n",
              "      <td>97.0</td>\n",
              "      <td>672.0</td>\n",
              "      <td>1.0</td>\n",
              "      <td>14.0</td>\n",
              "      <td>8.0</td>\n",
              "    </tr>\n",
              "    <tr>\n",
              "      <th>Middle East</th>\n",
              "      <td>46.0</td>\n",
              "      <td>25.0</td>\n",
              "      <td>8.0</td>\n",
              "      <td>6.0</td>\n",
              "      <td>NaN</td>\n",
              "    </tr>\n",
              "  </tbody>\n",
              "</table>\n",
              "</div>"
            ],
            "text/plain": [
              "             Closed Lost  Closed Won  Negotation  Proposal  Qualification\n",
              "Region                                                                   \n",
              "APAC               404.0       614.0         NaN       8.0            3.0\n",
              "Americas           542.0       699.0         8.0       4.0            NaN\n",
              "EMEA               693.0       763.0         1.0       2.0            NaN\n",
              "Japan               97.0       672.0         1.0      14.0            8.0\n",
              "Middle East         46.0        25.0         8.0       6.0            NaN"
            ]
          },
          "metadata": {
            "tags": []
          },
          "execution_count": 467
        }
      ]
    },
    {
      "cell_type": "code",
      "metadata": {
        "id": "kPHt0J2Xw-kG",
        "outputId": "e99b52cb-a075-435b-f9b5-57a078af87ae",
        "colab": {
          "base_uri": "https://localhost:8080/",
          "height": 228
        }
      },
      "source": [
        "by_region_2018 = by_region_2018.loc[:,['Closed Lost', 'Closed Won']]\n",
        "by_region_2018"
      ],
      "execution_count": 468,
      "outputs": [
        {
          "output_type": "execute_result",
          "data": {
            "text/html": [
              "<div>\n",
              "<style scoped>\n",
              "    .dataframe tbody tr th:only-of-type {\n",
              "        vertical-align: middle;\n",
              "    }\n",
              "\n",
              "    .dataframe tbody tr th {\n",
              "        vertical-align: top;\n",
              "    }\n",
              "\n",
              "    .dataframe thead th {\n",
              "        text-align: right;\n",
              "    }\n",
              "</style>\n",
              "<table border=\"1\" class=\"dataframe\">\n",
              "  <thead>\n",
              "    <tr style=\"text-align: right;\">\n",
              "      <th></th>\n",
              "      <th>Closed Lost</th>\n",
              "      <th>Closed Won</th>\n",
              "    </tr>\n",
              "    <tr>\n",
              "      <th>Region</th>\n",
              "      <th></th>\n",
              "      <th></th>\n",
              "    </tr>\n",
              "  </thead>\n",
              "  <tbody>\n",
              "    <tr>\n",
              "      <th>APAC</th>\n",
              "      <td>404.0</td>\n",
              "      <td>614.0</td>\n",
              "    </tr>\n",
              "    <tr>\n",
              "      <th>Americas</th>\n",
              "      <td>542.0</td>\n",
              "      <td>699.0</td>\n",
              "    </tr>\n",
              "    <tr>\n",
              "      <th>EMEA</th>\n",
              "      <td>693.0</td>\n",
              "      <td>763.0</td>\n",
              "    </tr>\n",
              "    <tr>\n",
              "      <th>Japan</th>\n",
              "      <td>97.0</td>\n",
              "      <td>672.0</td>\n",
              "    </tr>\n",
              "    <tr>\n",
              "      <th>Middle East</th>\n",
              "      <td>46.0</td>\n",
              "      <td>25.0</td>\n",
              "    </tr>\n",
              "  </tbody>\n",
              "</table>\n",
              "</div>"
            ],
            "text/plain": [
              "             Closed Lost  Closed Won\n",
              "Region                              \n",
              "APAC               404.0       614.0\n",
              "Americas           542.0       699.0\n",
              "EMEA               693.0       763.0\n",
              "Japan               97.0       672.0\n",
              "Middle East         46.0        25.0"
            ]
          },
          "metadata": {
            "tags": []
          },
          "execution_count": 468
        }
      ]
    },
    {
      "cell_type": "code",
      "metadata": {
        "id": "8F82doTSxF23",
        "outputId": "f7daf092-aaa5-4a50-c13b-a63c279ba788",
        "colab": {
          "base_uri": "https://localhost:8080/",
          "height": 667
        }
      },
      "source": [
        "by_region_2018.plot(kind='bar', figsize=(14,10), rot=360, color=colores ,fontsize=17)\n",
        "plt.title('Cantidad de oportunidades por Región en el año 2018', fontsize=25, fontstyle='oblique')\n",
        "ax = plt.gca()\n",
        "ax.set_ylabel('Cantidad de oportunidades',fontsize=20)\n",
        "ax.set_xlabel('Region', fontsize=20)"
      ],
      "execution_count": 469,
      "outputs": [
        {
          "output_type": "execute_result",
          "data": {
            "text/plain": [
              "Text(0.5, 0, 'Region')"
            ]
          },
          "metadata": {
            "tags": []
          },
          "execution_count": 469
        },
        {
          "output_type": "display_data",
          "data": {
            "image/png": "[encoded data removed]",
            "text/plain": [
              "<Figure size 1008x720 with 1 Axes>"
            ]
          },
          "metadata": {
            "tags": [],
            "needs_background": "light"
          }
        }
      ]
    }
  ]
}