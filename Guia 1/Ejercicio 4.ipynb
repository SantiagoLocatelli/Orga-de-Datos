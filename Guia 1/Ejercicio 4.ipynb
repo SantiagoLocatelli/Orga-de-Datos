{
 "cells": [
  {
   "cell_type": "code",
   "execution_count": null,
   "metadata": {},
   "outputs": [],
   "source": [
    "import pandas as pd\n",
    "import numpy as np\n",
    "import matplotlib.pyplot as plt\n",
    "import seaborn as sns\n",
    "\n",
    "%matplotlib inline\n",
    "\n",
    "\"\"\"\n",
    "4-  Un sitio de Ebooks tiene información sobre los reviews que los usuarios hacen de sus libros en un DataFrame con formato (user_id, book_id, rating, timestamp). Por otro lado tenemos información en otro DataFrame que bajamos de GoodReads: (book_id, book_name, avg_rating). Podemos suponer que los Ids de los libros son compatibles. Se pide usar Python Pandas para: \n",
    "A) Obtener un DataFrame que indique el TOP5 de Ebooks en el sitio de Ebooks. (Para este punto se puede ignorar el segundo DataFrame). \n",
    "B) Obtener un DataFrame que indique qué libros tienen una diferencia de rating promedio mayor al 20% entre el sitio de Ebooks y GoodReads. \n",
    "\n",
    "\"\"\""
   ]
  },
  {
   "cell_type": "code",
   "execution_count": null,
   "metadata": {},
   "outputs": [],
   "source": [
    "datos_ebooks = {\n",
    "        'user_id': [1,2,3,4,5,6,7,8,9,10,11,12,13,14,15],\n",
    "        'book_id': [1,1,np.nan,1,np.nan,2,2,2,69,2,69,3,3,3,3],\n",
    "        'rating': [10,15,10,15,30,10,40,45,50,55,60,65,70,75,80],\n",
    "        'timestamp': [80,75,70,69,25,25,60,45,30,35,10,15,20,25,55],\n",
    "}\n",
    "\n",
    "# armamos el df de goodreads\n",
    "datos_goodreads = {\n",
    "        'book_id': [1,2,3,4,5,6,7,8,9,10,11,12,13,14,15],\n",
    "        'book_name': [10,15,10,15,30,10,40,45,50,55,60,87,54,21,14],\n",
    "        'avg_rating': [80,75,70,69,25,25,60,45,30,35,82,61,45,25,47],\n",
    "}\n",
    "df_ebooks = pd.DataFrame(datos_ebooks)\n",
    "\n"
   ]
  }
 ],
 "metadata": {
  "kernelspec": {
   "display_name": "Python 3",
   "language": "python",
   "name": "python3"
  },
  "language_info": {
   "codemirror_mode": {
    "name": "ipython",
    "version": 3
   },
   "file_extension": ".py",
   "mimetype": "text/x-python",
   "name": "python",
   "nbconvert_exporter": "python",
   "pygments_lexer": "ipython3",
   "version": "3.8.5"
  }
 },
 "nbformat": 4,
 "nbformat_minor": 4
}
