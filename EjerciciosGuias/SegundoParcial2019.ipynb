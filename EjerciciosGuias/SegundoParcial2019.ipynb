{
 "cells": [
  {
   "cell_type": "code",
   "execution_count": 1,
   "metadata": {},
   "outputs": [],
   "source": [
    "from pyspark.sql import *\n",
    "from pyspark.sql.functions import *\n",
    "from pyspark import SparkContext\n",
    "from pyspark import SQLContext\n",
    "\n",
    "# create the Spark Session\n",
    "spark = SparkSession.builder.getOrCreate()\n",
    "\n",
    "# create the Spark Context\n",
    "sc = spark.sparkContext"
   ]
  },
  {
   "cell_type": "code",
   "execution_count": 7,
   "metadata": {},
   "outputs": [
    {
     "data": {
      "text/plain": [
       "[(1, 3, '19-02-08'),\n",
       " (4, 3, '18-06-30'),\n",
       " (5, 2, '19-01-02'),\n",
       " (5, 2, '19-02-22'),\n",
       " (5, 1, '18-08-18')]"
      ]
     },
     "execution_count": 7,
     "metadata": {},
     "output_type": "execute_result"
    }
   ],
   "source": [
    "rddVentas = sc.textFile('2Parcial2019.csv').map(lambda x: (int(x.split(',')[0]), int(x.split(',')[1]), x.split(',')[2])) #(marca, modelo, fecha(YY-MM-DD))\n",
    "rddVentas.take(5)"
   ]
  },
  {
   "cell_type": "code",
   "execution_count": 13,
   "metadata": {},
   "outputs": [
    {
     "data": {
      "text/plain": [
       "[((1, 3), (8, '18-09-13', '19-03-05')),\n",
       " ((5, 1), (4, '18-07-13', '19-07-16')),\n",
       " ((2, 2), (2, '18-10-21', '19-07-15')),\n",
       " ((4, 2), (16, '18-08-04', '19-06-16')),\n",
       " ((3, 3), (4, '18-07-09', '19-06-02')),\n",
       " ((5, 3), (4, '18-07-01', '19-06-27')),\n",
       " ((3, 1), (4, '18-07-19', '19-06-23')),\n",
       " ((1, 1), (4, '18-08-26', '19-07-27')),\n",
       " ((4, 3), (16, '18-06-30', '18-12-10')),\n",
       " ((5, 2), (64, '18-06-19', '19-06-30')),\n",
       " ((1, 2), (32, '18-07-31', '19-05-22')),\n",
       " ((4, 1), (16, '18-11-03', '19-05-03')),\n",
       " ((3, 2), (32, '18-06-24', '19-07-27')),\n",
       " ((2, 3), (32, '18-11-05', '19-07-21')),\n",
       " ((2, 1), (8, '18-08-01', '19-05-16'))]"
      ]
     },
     "execution_count": 13,
     "metadata": {},
     "output_type": "execute_result"
    }
   ],
   "source": [
    "# Creo un rdd con la forma ((marca, modelo), (ventas_totales, primera_venta, ultima_venta))\n",
    "rddVentasModificado = rddVentas.map(lambda x: ((x[0], x[1]), (1, x[2], x[2]))).\\\n",
    "                      reduceByKey(lambda a,b: (a[0]+a[0], a[1] if a[1]<b[1] else b[1], a[2] if a[2]>b[2] else b[2]))\n",
    "rddVentasModificado.take(20)"
   ]
  },
  {
   "cell_type": "code",
   "execution_count": 14,
   "metadata": {},
   "outputs": [
    {
     "data": {
      "text/plain": [
       "[((1, 3), (8, '18-09-13', '19-03-05')),\n",
       " ((3, 3), (4, '18-07-09', '19-06-02')),\n",
       " ((4, 3), (16, '18-06-30', '18-12-10')),\n",
       " ((1, 2), (32, '18-07-31', '19-05-22')),\n",
       " ((4, 1), (16, '18-11-03', '19-05-03')),\n",
       " ((2, 1), (8, '18-08-01', '19-05-16'))]"
      ]
     },
     "execution_count": 14,
     "metadata": {},
     "output_type": "execute_result"
    }
   ],
   "source": [
    "rddModelosDescontinuados = rddVentasModificado.filter(lambda x: x[1][2] <= '19-06-13')\n",
    "rddModelosDescontinuados.take(20)"
   ]
  }
 ],
 "metadata": {
  "kernelspec": {
   "display_name": "Python 3",
   "language": "python",
   "name": "python3"
  },
  "language_info": {
   "codemirror_mode": {
    "name": "ipython",
    "version": 3
   },
   "file_extension": ".py",
   "mimetype": "text/x-python",
   "name": "python",
   "nbconvert_exporter": "python",
   "pygments_lexer": "ipython3",
   "version": "3.8.5"
  }
 },
 "nbformat": 4,
 "nbformat_minor": 4
}
