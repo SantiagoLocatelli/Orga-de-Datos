{
 "cells": [
  {
   "cell_type": "code",
   "execution_count": 1,
   "metadata": {
    "colab": {
     "base_uri": "https://localhost:8080/",
     "height": 850
    },
    "id": "XBkvHf9CxZ7r",
    "outputId": "c545f8a6-da51-436c-8ac3-360fd93ff35a"
   },
   "outputs": [
    {
     "name": "stdout",
     "output_type": "stream",
     "text": [
      "Requirement already satisfied: pyspark in c:\\python39\\lib\\site-packages (3.0.1)\n",
      "Requirement already satisfied: py4j==0.10.9 in c:\\python39\\lib\\site-packages (from pyspark) (0.10.9)\n"
     ]
    },
    {
     "name": "stderr",
     "output_type": "stream",
     "text": [
      "'apt' is not recognized as an internal or external command,\n",
      "operable program or batch file.\n"
     ]
    }
   ],
   "source": [
    "!pip install pyspark\n",
    "!pip install -U -q PyDrive\n",
    "!apt install openjdk-8-jdk-headless -qq\n",
    "import os\n",
    "os.environ[\"JAVA_HOME\"] = \"/usr/lib/jvm/java-8-openjdk-amd64\""
   ]
  },
  {
   "cell_type": "code",
   "execution_count": null,
   "metadata": {
    "id": "RtonsEe8xbEv"
   },
   "outputs": [],
   "source": [
    "from pyspark.sql import *\n",
    "from pyspark.sql.functions import *\n",
    "from pyspark import SparkContext\n",
    "import pandas as pd\n",
    "\n",
    "# create the Spark Session\n",
    "spark = SparkSession.builder.getOrCreate()\n",
    "\n",
    "# create the Spark Context\n",
    "sc = spark.sparkContext"
   ]
  },
  {
   "cell_type": "code",
   "execution_count": null,
   "metadata": {
    "id": "ZPCY8sSZyuYb"
   },
   "outputs": [],
   "source": [
    "chats = [\n",
    "    (1, 1, 'damu', 'Qué es esto?'),\n",
    "    (2, 2, 'martin', 'Un chat!???'),\n",
    "    (3, 1, 'damu', 'Ahhh! Y ya fue, salió? chathot?'),\n",
    "    (4, 2, 'martin', 'Sí! salen nudes???????????????????????????????????????????????????????'),\n",
    "    (5, 1, 'damu', 'cheeeeeeeeeto'),\n",
    "    (6, 3, 'luis', 'pela vos primero!')\n",
    "]"
   ]
  },
  {
   "cell_type": "markdown",
   "metadata": {
    "id": "tszVLgQLxigX"
   },
   "source": [
    "7- Una red social almacena el contenido de los chats entre sus usuarios en un RDD que tiene\n",
    "registros con el siguiente formato: (chat_id, user_id, nickname, text). Queremos saber cuál es el\n",
    "usuario (user_id) que mas preguntas hace en sus chats, contabilizamos una pregunta por cada\n",
    "caracter “?” que aparezca en el campo text. Programar en Spark un programa que identifique al\n",
    "usuario preguntón."
   ]
  },
  {
   "cell_type": "code",
   "execution_count": null,
   "metadata": {
    "id": "yEMNAPhOxjHy"
   },
   "outputs": [],
   "source": [
    "chats_porno = sc.parallelize(chats)"
   ]
  },
  {
   "cell_type": "code",
   "execution_count": null,
   "metadata": {
    "colab": {
     "base_uri": "https://localhost:8080/",
     "height": 170
    },
    "id": "hXJTTFAtzWPy",
    "outputId": "5bec3567-c5af-4fde-db35-37199f723831"
   },
   "outputs": [],
   "source": [
    "chats_porno.collect()"
   ]
  },
  {
   "cell_type": "code",
   "execution_count": null,
   "metadata": {
    "colab": {
     "base_uri": "https://localhost:8080/",
     "height": 34
    },
    "id": "zQrlkmyHzfW_",
    "outputId": "a2813f97-dac8-4bd7-b334-f69375e17571"
   },
   "outputs": [],
   "source": [
    "chats_porno.map(lambda x: (x[1],x[3].count('?')))\\\n",
    ".reduceByKey(lambda x,y: x + y)\\\n",
    ".reduce(lambda x,y: x if x[1] > y[1] else y)"
   ]
  }
 ],
 "metadata": {
  "colab": {
   "name": "Spark ejercicio 7 guia",
   "provenance": []
  },
  "kernelspec": {
   "display_name": "Python 3",
   "language": "python",
   "name": "python3"
  },
  "language_info": {
   "codemirror_mode": {
    "name": "ipython",
    "version": 3
   },
   "file_extension": ".py",
   "mimetype": "text/x-python",
   "name": "python",
   "nbconvert_exporter": "python",
   "pygments_lexer": "ipython3",
   "version": "3.9.0"
  }
 },
 "nbformat": 4,
 "nbformat_minor": 4
}
