{
 "cells": [
  {
   "cell_type": "code",
   "execution_count": 85,
   "metadata": {
    "id": "HfwhQIanqUda"
   },
   "outputs": [],
   "source": [
    "from pyspark.sql import *\n",
    "from pyspark.sql.functions import *\n",
    "from pyspark import SparkContext\n",
    "import pandas as pd"
   ]
  },
  {
   "cell_type": "code",
   "execution_count": 86,
   "metadata": {
    "id": "kdmbIv5zqWEH"
   },
   "outputs": [],
   "source": [
    "# create the Spark Session\n",
    "spark = SparkSession.builder.getOrCreate()\n",
    "\n",
    "# create the Spark Context\n",
    "sc = spark.sparkContext"
   ]
  },
  {
   "cell_type": "markdown",
   "metadata": {
    "id": "6n8zh9JIq2k4"
   },
   "source": [
    "4- Se tiene un RDD con las coordenadas de rectángulos de la forma (x1,x2,y1,y2). Se pide\n",
    "programar en PySpark un programa que encuentre el rectángulo de superficie mínima que\n",
    "contiene al punto (w,z)"
   ]
  },
  {
   "cell_type": "code",
   "execution_count": 87,
   "metadata": {
    "id": "bAvclHSlq3is"
   },
   "outputs": [],
   "source": [
    "Coordenadas = [(2, 4, 2, 4),\n",
    " (10, 8, 4 , 8),\n",
    " (4, 12, 6, 12),\n",
    " (4, 16, 8, 16),\n",
    "(10, 20, 10, 20),\n",
    "(100, 20, 10, 20),\n",
    "(1, 20, 4, 20),\n",
    "(2, 24, 12, 24)]"
   ]
  },
  {
   "cell_type": "code",
   "execution_count": 88,
   "metadata": {
    "colab": {
     "base_uri": "https://localhost:8080/",
     "height": 153
    },
    "id": "_EpZW__kq6gj",
    "outputId": "59d0d825-44a7-420e-e13c-8c318f5086d1"
   },
   "outputs": [
    {
     "data": {
      "text/plain": [
       "[(2, 4, 2, 4),\n",
       " (10, 8, 4, 8),\n",
       " (4, 12, 6, 12),\n",
       " (4, 16, 8, 16),\n",
       " (10, 20, 10, 20),\n",
       " (100, 20, 10, 20),\n",
       " (1, 20, 4, 20),\n",
       " (2, 24, 12, 24)]"
      ]
     },
     "execution_count": 88,
     "metadata": {
      "tags": []
     },
     "output_type": "execute_result"
    }
   ],
   "source": [
    "cordenadas = sc.parallelize(Coordenadas, 8)\n",
    "cordenadas.collect()"
   ]
  },
  {
   "cell_type": "code",
   "execution_count": 89,
   "metadata": {
    "id": "BtMQHCggw-ki"
   },
   "outputs": [],
   "source": [
    "w = 10\n",
    "z = 10"
   ]
  },
  {
   "cell_type": "code",
   "execution_count": 90,
   "metadata": {
    "colab": {
     "base_uri": "https://localhost:8080/",
     "height": 34
    },
    "id": "xsLX1ABmsF90",
    "outputId": "cad72d19-c419-44a6-c715-d83921b1243e"
   },
   "outputs": [
    {
     "data": {
      "text/plain": [
       "[(4, 12, 6, 12), (4, 16, 8, 16), (10, 20, 10, 20), (1, 20, 4, 20)]"
      ]
     },
     "execution_count": 90,
     "metadata": {
      "tags": []
     },
     "output_type": "execute_result"
    }
   ],
   "source": [
    "wea = cordenadas.filter(lambda x: (x[0] <= w) and x[1] >= w and x[2] <= z and x[3] >= z )\n",
    "wea.collect()"
   ]
  },
  {
   "cell_type": "code",
   "execution_count": 96,
   "metadata": {
    "colab": {
     "base_uri": "https://localhost:8080/",
     "height": 34
    },
    "id": "HxmleQKgwcNZ",
    "outputId": "980cf40e-252d-49ac-d8cc-aabd6a8466e5"
   },
   "outputs": [
    {
     "data": {
      "text/plain": [
       "[(8, 6), (12, 8), (10, 10), (19, 16)]"
      ]
     },
     "execution_count": 96,
     "metadata": {
      "tags": []
     },
     "output_type": "execute_result"
    }
   ],
   "source": [
    "rectangulo = wea.map(lambda x: (x[1] - x[0], x[3] - x[2]))\n",
    "rectangulo.collect()"
   ]
  },
  {
   "cell_type": "code",
   "execution_count": 93,
   "metadata": {
    "colab": {
     "base_uri": "https://localhost:8080/",
     "height": 34
    },
    "id": "8_2biNOqzj5W",
    "outputId": "bfa11cb5-7e86-4761-e36c-18a3b4727f9e"
   },
   "outputs": [
    {
     "data": {
      "text/plain": [
       "[48, 96, 100, 304]"
      ]
     },
     "execution_count": 93,
     "metadata": {
      "tags": []
     },
     "output_type": "execute_result"
    }
   ],
   "source": [
    "area = rectangulo.map(lambda x: (x[0]*x[1]))\n",
    "area.collect()"
   ]
  },
  {
   "cell_type": "code",
   "execution_count": 94,
   "metadata": {
    "colab": {
     "base_uri": "https://localhost:8080/",
     "height": 34
    },
    "id": "ErinhnPg02jP",
    "outputId": "22fea5a0-d03d-48ac-f3e8-e02e4e58245d"
   },
   "outputs": [
    {
     "data": {
      "text/plain": [
       "48"
      ]
     },
     "execution_count": 94,
     "metadata": {
      "tags": []
     },
     "output_type": "execute_result"
    }
   ],
   "source": [
    "area.reduce(lambda a,b: a if a < b else b)"
   ]
  }
 ],
 "metadata": {
  "colab": {
   "name": "Ejercicio 4",
   "provenance": []
  },
  "kernelspec": {
   "display_name": "Python 3",
   "language": "python",
   "name": "python3"
  },
  "language_info": {
   "codemirror_mode": {
    "name": "ipython",
    "version": 3
   },
   "file_extension": ".py",
   "mimetype": "text/x-python",
   "name": "python",
   "nbconvert_exporter": "python",
   "pygments_lexer": "ipython3",
   "version": "3.9.0"
  }
 },
 "nbformat": 4,
 "nbformat_minor": 4
}
