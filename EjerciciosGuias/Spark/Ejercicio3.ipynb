{
  "nbformat": 4,
  "nbformat_minor": 0,
  "metadata": {
    "kernelspec": {
      "display_name": "Python 3",
      "language": "python",
      "name": "python3"
    },
    "language_info": {
      "codemirror_mode": {
        "name": "ipython",
        "version": 3
      },
      "file_extension": ".py",
      "mimetype": "text/x-python",
      "name": "python",
      "nbconvert_exporter": "python",
      "pygments_lexer": "ipython3",
      "version": "3.8.3"
    },
    "colab": {
      "name": "Spark ejercicio 3.ipynb",
      "provenance": []
    }
  },
  "cells": [
    {
      "cell_type": "code",
      "metadata": {
        "id": "CoYxUq_Q46j5",
        "outputId": "58474a54-5905-4470-ec86-5f429b795f7e",
        "colab": {
          "base_uri": "https://localhost:8080/",
          "height": 85
        }
      },
      "source": [
        "!pip install pyspark\n",
        "!pip install -U -q PyDrive\n",
        "!apt install openjdk-8-jdk-headless -qq\n",
        "import os\n",
        "os.environ[\"JAVA_HOME\"] = \"/usr/lib/jvm/java-8-openjdk-amd64\""
      ],
      "execution_count": 80,
      "outputs": [
        {
          "output_type": "stream",
          "text": [
            "Requirement already satisfied: pyspark in /usr/local/lib/python3.6/dist-packages (3.0.1)\n",
            "Requirement already satisfied: py4j==0.10.9 in /usr/local/lib/python3.6/dist-packages (from pyspark) (0.10.9)\n",
            "openjdk-8-jdk-headless is already the newest version (8u265-b01-0ubuntu2~18.04).\n",
            "0 upgraded, 0 newly installed, 0 to remove and 21 not upgraded.\n"
          ],
          "name": "stdout"
        }
      ]
    },
    {
      "cell_type": "code",
      "metadata": {
        "id": "NpSIdXYJ113X"
      },
      "source": [
        "from pyspark.sql import *\n",
        "from pyspark.sql.functions import *\n",
        "from pyspark import SparkContext\n",
        "from pyspark.sql import SQLContext\n",
        "import pandas as pd"
      ],
      "execution_count": 81,
      "outputs": []
    },
    {
      "cell_type": "code",
      "metadata": {
        "id": "gb3zZmLa113b"
      },
      "source": [
        "spark = SparkSession.builder.getOrCreate()\n",
        "sc = spark.sparkContext"
      ],
      "execution_count": 82,
      "outputs": []
    },
    {
      "cell_type": "markdown",
      "metadata": {
        "id": "PtcFwnqL113e"
      },
      "source": [
        "3- Se tiene un RDD con información de vuelos programados con la forma (número de vuelo, código de aerolínea, código de aeropuerto de salida, código de aeropuerto de llegada, fecha de salida AAAAMMDD, hora de salida HH:MM, fecha de llegada AAAAMMDD, hora de llegada HH:MM). A su vez, se cuenta con el registro actualizado del estado de los vuelos que fueron ocurriendo, con la forma (número de vuelo, aerolínea, fecha de salida AAAAMMDD, hora de salida HH:MM, fecha de llegada AAAAMMDD, hora de llegada HH:MM, estado). En base al estado, podría contar con algún dato en blanco, por ejemplo si el vuelo fue cancelado no tendrá información de fechas y horas, si el vuelo se encuentra aún en curso, no contendrá información de la llegada. Se pide resolver utilizando PySpark:\n",
        "\n",
        "A) Cuál es el aeropuerto con mayor tránsito.\n",
        "B) Cuál es la aerolínea con mayor cantidad de vuelos.\n",
        "C) Cuál es la aerolínea con mayor cantidad de cancelaciones.\n",
        "D) Cuál es el vuelo (numero de vuelo + fecha) con mayor retraso en el horario de salida.\n",
        "E) Cuál es el vuelo (numero de vuelo + fecha) con mayor retraso en el horario de llegada.\n",
        "F) Cuál es la aerolínea más puntual.\n",
        "G) Cuál es el aeropuerto que registra mayor desviación con respecto a los horarios coordinados."
      ]
    },
    {
      "cell_type": "code",
      "metadata": {
        "id": "nmZsRCnr113f"
      },
      "source": [
        "vuelos =  [(1, 2, 'AEP', 'MDQ', '20200320', '06:15', '20200320', '07:05'),\n",
        " (2, 1, 'AEP', 'CPC', '20200320', '12:00', '20200320', '14:15'),\n",
        " (3, 3, 'BRC', 'EZE', '20200320', '17:15', '20200320', '19:30'),\n",
        " (4, 3, 'AEP', 'IGR', '20200320', '21:00', '20200320', '22:40'),\n",
        " (5, 3, 'MDQ', 'IGR', '20200321', '06:00', '20200321', '08:00'),\n",
        " (6, 1, 'IGR', 'USH', '20200321', '21:00', '20200322', '04:20'),\n",
        " (7, 3, 'USH', 'AEP', '20200322', '15:15', '20200322', '18:20'),\n",
        " (8, 2, 'AEP', 'RGA', '20200322', '17:00', '20200322', '20:15'),\n",
        " (9, 3, 'BHI', 'COR', '20200323', '09:10', '20200323', '14:00'),\n",
        " (10, 2, 'NQN', 'BRC', '20200323', '14:45', '20200323', '15:05')]\n",
        "\n",
        "\n",
        "estados =  [(1, 'LATAM', '20200320', '06:15', '20200320', '07:05', 'Finalizado'),\n",
        " (2, 'AMERICAN', '20200320', '12:00', '20200320', '14:28', 'Finalizado'),\n",
        " (3, 'IBERIA', '20200320', '17:15', None, None, 'En curso'),\n",
        " (4, 'IBERIA', None, None, None, None, 'Cancelado'),\n",
        " (5, 'IBERIA', '20200321', '06:23', '20200321', '08:30', 'Finalizado'),\n",
        " (6, 'AMERICAN', None, None, None, None, 'Cancelado'),\n",
        " (7, 'IBERIA', '20200322', '15:15', '20200322', '18:20', 'Finalizado'),\n",
        " (8, 'LATAM', '20200322', '17:05', None, None, 'En curso'),\n",
        " (9, 'IBERIA', None, None, None, None, 'Cancelado'),\n",
        " (10, 'LATAM', '20200323', '14:45', '20200323', '15:05', 'Finalizado')]"
      ],
      "execution_count": 83,
      "outputs": []
    },
    {
      "cell_type": "code",
      "metadata": {
        "id": "NfCWaTiV113h"
      },
      "source": [
        "vuelos = sc.parallelize(vuelos)\n",
        "estados = sc.parallelize(estados)"
      ],
      "execution_count": 84,
      "outputs": []
    },
    {
      "cell_type": "markdown",
      "metadata": {
        "id": "vltjrxX3113j"
      },
      "source": [
        "A) Cuál es el aeropuerto con mayor tránsito.\n",
        "\n",
        "RDD = (número de vuelo, código de aerolínea, código de aeropuerto de salida, código de aeropuerto de llegada, fecha de salida AAAAMMDD, hora de salida HH:MM, fecha de llegada AAAAMMDD, hora de llegada HH:MM)\n",
        "\n",
        "rdd2 =  (número de vuelo, aerolínea, fecha de salida AAAAMMDD, hora de salida HH:MM, fecha de llegada AAAAMMDD, hora de llegada HH:MM, estado)"
      ]
    },
    {
      "cell_type": "code",
      "metadata": {
        "id": "taau4B3N7mEm",
        "outputId": "6487ac70-c2d3-4da1-f918-cbf0d8bdc1a8",
        "colab": {
          "base_uri": "https://localhost:8080/",
          "height": 136
        }
      },
      "source": [
        "vuelo_y_estado = estados.map(lambda x: (x[0],x[6])).cache()\n",
        "vuelos_no_cancelados = vuelo_y_estado.filter(lambda x: (x[1] != 'Cancelado'))\n",
        "vuelos_no_cancelados.collect()\n"
      ],
      "execution_count": 85,
      "outputs": [
        {
          "output_type": "execute_result",
          "data": {
            "text/plain": [
              "[(1, 'Finalizado'),\n",
              " (2, 'Finalizado'),\n",
              " (3, 'En curso'),\n",
              " (5, 'Finalizado'),\n",
              " (7, 'Finalizado'),\n",
              " (8, 'En curso'),\n",
              " (10, 'Finalizado')]"
            ]
          },
          "metadata": {
            "tags": []
          },
          "execution_count": 85
        }
      ]
    },
    {
      "cell_type": "code",
      "metadata": {
        "id": "SwnndUtsAxSS",
        "outputId": "4af6e72a-6706-41e7-e96b-37a6d3e86af6",
        "colab": {
          "base_uri": "https://localhost:8080/",
          "height": 187
        }
      },
      "source": [
        "aeropuertos_transitados = vuelos.map(lambda x: (x[0],(x[2],x[3])))\n",
        "aeropuertos_transitados.collect()"
      ],
      "execution_count": 86,
      "outputs": [
        {
          "output_type": "execute_result",
          "data": {
            "text/plain": [
              "[(1, ('AEP', 'MDQ')),\n",
              " (2, ('AEP', 'CPC')),\n",
              " (3, ('BRC', 'EZE')),\n",
              " (4, ('AEP', 'IGR')),\n",
              " (5, ('MDQ', 'IGR')),\n",
              " (6, ('IGR', 'USH')),\n",
              " (7, ('USH', 'AEP')),\n",
              " (8, ('AEP', 'RGA')),\n",
              " (9, ('BHI', 'COR')),\n",
              " (10, ('NQN', 'BRC'))]"
            ]
          },
          "metadata": {
            "tags": []
          },
          "execution_count": 86
        }
      ]
    },
    {
      "cell_type": "code",
      "metadata": {
        "id": "dNAz9CtZ_xWK",
        "outputId": "8a1e5fe1-7f06-4715-9600-c014234a9aea",
        "colab": {
          "base_uri": "https://localhost:8080/",
          "height": 136
        }
      },
      "source": [
        "vuelos_transitados = vuelos_no_cancelados.leftOuterJoin(aeropuertos_transitados)\n",
        "vuelos_transitados.collect()"
      ],
      "execution_count": 87,
      "outputs": [
        {
          "output_type": "execute_result",
          "data": {
            "text/plain": [
              "[(8, ('En curso', ('AEP', 'RGA'))),\n",
              " (1, ('Finalizado', ('AEP', 'MDQ'))),\n",
              " (5, ('Finalizado', ('MDQ', 'IGR'))),\n",
              " (2, ('Finalizado', ('AEP', 'CPC'))),\n",
              " (10, ('Finalizado', ('NQN', 'BRC'))),\n",
              " (3, ('En curso', ('BRC', 'EZE'))),\n",
              " (7, ('Finalizado', ('USH', 'AEP')))]"
            ]
          },
          "metadata": {
            "tags": []
          },
          "execution_count": 87
        }
      ]
    },
    {
      "cell_type": "code",
      "metadata": {
        "id": "WLZBotJS113k",
        "outputId": "1af55cec-25bb-443c-c279-e91f87a57b3c",
        "colab": {
          "base_uri": "https://localhost:8080/",
          "height": 51
        }
      },
      "source": [
        "aeropuerto_salida = vuelos_transitados.map(lambda x: (x[1][1][0],1)).cache()\n",
        "aeropuerto_llegada = vuelos_transitados.map(lambda x: (x[1][1][1],1)).cache()\n",
        "print(aeropuerto_llegada.take(5))\n",
        "print(aeropuerto_salida.take(5))"
      ],
      "execution_count": 88,
      "outputs": [
        {
          "output_type": "stream",
          "text": [
            "[('RGA', 1), ('MDQ', 1), ('IGR', 1), ('CPC', 1), ('BRC', 1)]\n",
            "[('AEP', 1), ('AEP', 1), ('MDQ', 1), ('AEP', 1), ('NQN', 1)]\n"
          ],
          "name": "stdout"
        }
      ]
    },
    {
      "cell_type": "code",
      "metadata": {
        "id": "9GHeMPSw113n",
        "outputId": "0e33440f-8fff-4daa-9072-37ba94a66b6c",
        "colab": {
          "base_uri": "https://localhost:8080/",
          "height": 51
        }
      },
      "source": [
        "aeropuerto_llegada = aeropuerto_llegada.reduceByKey(lambda x,y: x + y).cache()\n",
        "aeropuerto_salida = aeropuerto_salida.reduceByKey(lambda x,y: x + y).cache()\n",
        "print(aeropuerto_llegada.take(5))\n",
        "print(aeropuerto_salida.take(5))"
      ],
      "execution_count": 89,
      "outputs": [
        {
          "output_type": "stream",
          "text": [
            "[('MDQ', 1), ('AEP', 1), ('RGA', 1), ('IGR', 1), ('CPC', 1)]\n",
            "[('AEP', 3), ('MDQ', 1), ('NQN', 1), ('BRC', 1), ('USH', 1)]\n"
          ],
          "name": "stdout"
        }
      ]
    },
    {
      "cell_type": "code",
      "metadata": {
        "id": "fE8QzxB2113s",
        "outputId": "3298734f-267f-43f2-ed88-c21f2dac5711",
        "colab": {
          "base_uri": "https://localhost:8080/",
          "height": 35
        }
      },
      "source": [
        "aeropuerto_llegada.union(aeropuerto_salida).reduceByKey(lambda x,y: x+y).reduce(lambda x,y: x if x[1] > y[1] else y)[0]"
      ],
      "execution_count": 92,
      "outputs": [
        {
          "output_type": "execute_result",
          "data": {
            "application/vnd.google.colaboratory.intrinsic+json": {
              "type": "string"
            },
            "text/plain": [
              "'AEP'"
            ]
          },
          "metadata": {
            "tags": []
          },
          "execution_count": 92
        }
      ]
    },
    {
      "cell_type": "markdown",
      "metadata": {
        "id": "5xsthYyS113v"
      },
      "source": [
        "B) Cuál es la aerolínea con mayor cantidad de vuelos."
      ]
    },
    {
      "cell_type": "code",
      "metadata": {
        "id": "h87plezT113w",
        "outputId": "32ee0800-00f1-4b7f-9edf-7ca6a836626a",
        "colab": {
          "base_uri": "https://localhost:8080/",
          "height": 35
        }
      },
      "source": [
        "estados.filter(lambda x: x[6] != 'Cancelado').map(lambda x: (x[1],1))\\\n",
        ".reduceByKey(lambda x,y : x+y)\\\n",
        ".reduce(lambda x,y: x if x[1] > y[1] else y)[0]"
      ],
      "execution_count": 91,
      "outputs": [
        {
          "output_type": "execute_result",
          "data": {
            "application/vnd.google.colaboratory.intrinsic+json": {
              "type": "string"
            },
            "text/plain": [
              "'IBERIA'"
            ]
          },
          "metadata": {
            "tags": []
          },
          "execution_count": 91
        }
      ]
    },
    {
      "cell_type": "markdown",
      "metadata": {
        "id": "_ZxcI9yNDwJA"
      },
      "source": [
        "C) Cuál es la aerolínea con mayor cantidad de cancelaciones."
      ]
    },
    {
      "cell_type": "code",
      "metadata": {
        "id": "xCu_XwQWDtkb"
      },
      "source": [
        ""
      ],
      "execution_count": null,
      "outputs": []
    }
  ]
}