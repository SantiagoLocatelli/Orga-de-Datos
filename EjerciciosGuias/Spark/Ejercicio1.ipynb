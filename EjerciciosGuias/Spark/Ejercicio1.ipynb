{
 "cells": [
  {
   "cell_type": "code",
   "execution_count": 46,
   "metadata": {},
   "outputs": [],
   "source": [
    "from pyspark.sql import *\n",
    "from pyspark.sql.functions import *\n",
    "from pyspark import SparkContext\n",
    "from pyspark.sql import SQLContext\n",
    "import pandas as pd"
   ]
  },
  {
   "cell_type": "markdown",
   "metadata": {},
   "source": [
    "1- Se tiene un RDD con el registro de notas de los alumnos de la forma (padrón, materia, nota, fecha). Se pide resolver utilizando PySpark:\n",
    "\n",
    "A) Cuántos alumnos aprobaron al menos 1 materia en los últimos 2 años.\n",
    "B) Un RDD conteniendo el promedio de notas de cada alumno de la forma (padrón, promedio).\n",
    "C) El nombre y apellido del alumno con mejor promedio. Para esto puede utilizarse un segundo RDD alumnos con registros (padron, nombre y apellido).\n"
   ]
  },
  {
   "cell_type": "code",
   "execution_count": 47,
   "metadata": {},
   "outputs": [],
   "source": [
    "spark = SparkSession.builder.getOrCreate()\n",
    "sc = spark.sparkContext"
   ]
  },
  {
   "cell_type": "code",
   "execution_count": 48,
   "metadata": {},
   "outputs": [
    {
     "data": {
      "text/plain": [
       "['57,Algebra,8,20-08-17',\n",
       " '42,Algebra,8,16-06-17',\n",
       " '36,Fisica,6,18-06-19',\n",
       " '19,Fisica,3,30-03-18',\n",
       " '17,Algebra,8,29-01-17']"
      ]
     },
     "execution_count": 48,
     "metadata": {},
     "output_type": "execute_result"
    }
   ],
   "source": [
    "rdd = sc.textFile('spark-1.csv')\n",
    "rdd.take(5)"
   ]
  },
  {
   "cell_type": "code",
   "execution_count": 49,
   "metadata": {},
   "outputs": [
    {
     "data": {
      "text/plain": [
       "2"
      ]
     },
     "execution_count": 49,
     "metadata": {},
     "output_type": "execute_result"
    }
   ],
   "source": [
    "rdd.getNumPartitions()"
   ]
  },
  {
   "cell_type": "markdown",
   "metadata": {},
   "source": [
    "A) Cuántos alumnos aprobaron al menos 1 materia en los últimos 2 años."
   ]
  },
  {
   "cell_type": "code",
   "execution_count": 50,
   "metadata": {},
   "outputs": [
    {
     "data": {
      "text/plain": [
       "[(57, 'Algebra', 8, '20-08-17'),\n",
       " (42, 'Algebra', 8, '16-06-17'),\n",
       " (36, 'Fisica', 6, '18-06-19'),\n",
       " (19, 'Fisica', 3, '30-03-18'),\n",
       " (17, 'Algebra', 8, '29-01-17')]"
      ]
     },
     "execution_count": 50,
     "metadata": {},
     "output_type": "execute_result"
    }
   ],
   "source": [
    "rdd = rdd.map(lambda line: (int(line.split(',')[0]), line.split(',')[1], int(line.split(',')[2]), line.split(',')[3]))\n",
    "rdd.take(5)"
   ]
  },
  {
   "cell_type": "code",
   "execution_count": 51,
   "metadata": {},
   "outputs": [
    {
     "data": {
      "text/plain": [
       "[(36, 'Fisica', 6, '18-06-19'),\n",
       " (59, 'Fisica', 10, '23-04-20'),\n",
       " (22, 'Quimica', 4, '09-03-20'),\n",
       " (23, 'Quimica', 8, '19-09-18'),\n",
       " (57, 'Analisis', 10, '28-08-19')]"
      ]
     },
     "execution_count": 51,
     "metadata": {},
     "output_type": "execute_result"
    }
   ],
   "source": [
    "rdd_reducido = rdd.filter(lambda x: x[2]>=4 and int(x[3].split('-')[2]) >= 18)\n",
    "rdd_reducido.take(5)"
   ]
  },
  {
   "cell_type": "code",
   "execution_count": 73,
   "metadata": {},
   "outputs": [
    {
     "data": {
      "text/plain": [
       "23"
      ]
     },
     "execution_count": 73,
     "metadata": {},
     "output_type": "execute_result"
    }
   ],
   "source": [
    "rdd_alumnos = rdd_reducido.map(lambda x: (x[0], 1)).distinct().count()\n",
    "rdd_alumnos"
   ]
  },
  {
   "cell_type": "markdown",
   "metadata": {},
   "source": [
    "B) Un RDD conteniendo el promedio de notas de cada alumno de la forma (padrón, promedio)."
   ]
  },
  {
   "cell_type": "code",
   "execution_count": 83,
   "metadata": {},
   "outputs": [
    {
     "name": "stdout",
     "output_type": "stream",
     "text": [
      "[(42, 4.666666666666667), (36, 4.5), (24, 3.0), (20, 10.0), (12, 6.5), (10, 8.5), (14, 6.5), (22, 6.5), (54, 5.0), (58, 5.5), (2, 7.0), (48, 6.333333333333333), (50, 9.0), (32, 7.5), (52, 7.666666666666667), (46, 6.0), (38, 8.0), (18, 5.5), (8, 4.5), (56, 4.0), (34, 6.0), (6, 7.0), (64, 6.5), (57, 8.666666666666666), (19, 3.0), (17, 7.25), (33, 1.0), (37, 5.0), (61, 1.0), (59, 5.5), (23, 9.0), (39, 7.5), (7, 6.0), (35, 5.75), (1, 3.6666666666666665), (11, 2.0), (21, 4.6), (31, 5.0), (25, 10.0), (47, 10.0), (41, 1.0), (29, 8.5), (51, 8.5), (3, 7.0), (55, 1.0), (43, 7.0), (45, 5.0), (63, 2.0), (5, 4.0), (49, 5.0)]\n"
     ]
    }
   ],
   "source": [
    "aTuple = (0,0)\n",
    "probando = rdd.map(lambda x: (x[0],x[2])).aggregateByKey(aTuple, lambda a,b: (a[0] + b, a[1] + 1), \n",
    "                              lambda a,b: (a[0] + b[0], a[1] + b[1]))\n",
    "final = probando.mapValues(lambda v: v[0]/v[1]).collect()\n",
    "print(final)"
   ]
  },
  {
   "cell_type": "markdown",
   "metadata": {},
   "source": [
    "First lambda expression for Within-Partition Reduction Step::\n",
    "      a: is a TUPLE that holds: (runningSum, runningCount).\n",
    "      b: is a SCALAR that holds the next Value\n",
    "\n",
    "      Second lambda expression for Cross-Partition Reduction Step::\n",
    "      a: is a TUPLE that holds: (runningSum, runningCount).\n",
    "      b: is a TUPLE that holds: (nextPartitionsSum, nextPartitionsCount)."
   ]
  },
  {
   "cell_type": "markdown",
   "metadata": {},
   "source": [
    "C) El nombre y apellido del alumno con mejor promedio. Para esto puede utilizarse un segundo RDD alumnos con registros (padron, nombre y apellido)."
   ]
  },
  {
   "cell_type": "code",
   "execution_count": 87,
   "metadata": {},
   "outputs": [
    {
     "data": {
      "text/plain": [
       "['10,Dorian,Erickson',\n",
       " '1,Stephen,Mcbride',\n",
       " '4,Denton,Head',\n",
       " '6,Cameran,Bond',\n",
       " '3,Kim,Reilly']"
      ]
     },
     "execution_count": 87,
     "metadata": {},
     "output_type": "execute_result"
    }
   ],
   "source": [
    "rdd_nombres = sc.textFile('dataOct-21-2020.csv')\n",
    "rdd_nombres.take(5)"
   ]
  },
  {
   "cell_type": "code",
   "execution_count": 95,
   "metadata": {},
   "outputs": [
    {
     "data": {
      "text/plain": [
       "(47, 10.0)"
      ]
     },
     "execution_count": 95,
     "metadata": {},
     "output_type": "execute_result"
    }
   ],
   "source": [
    "final_rdd = sc.parallelize(final)\n",
    "final_rdd.reduce(lambda a,b: a if a[1]>b[1] else b)"
   ]
  }
 ],
 "metadata": {
  "kernelspec": {
   "display_name": "Python 3",
   "language": "python",
   "name": "python3"
  },
  "language_info": {
   "codemirror_mode": {
    "name": "ipython",
    "version": 3
   },
   "file_extension": ".py",
   "mimetype": "text/x-python",
   "name": "python",
   "nbconvert_exporter": "python",
   "pygments_lexer": "ipython3",
   "version": "3.9.0"
  }
 },
 "nbformat": 4,
 "nbformat_minor": 4
}
