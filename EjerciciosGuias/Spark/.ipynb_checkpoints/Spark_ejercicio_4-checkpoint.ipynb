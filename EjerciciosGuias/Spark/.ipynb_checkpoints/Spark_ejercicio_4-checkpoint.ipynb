{
  "nbformat": 4,
  "nbformat_minor": 0,
  "metadata": {
    "colab": {
      "name": "Ejercicio 4",
      "provenance": []
    },
    "kernelspec": {
      "name": "python3",
      "display_name": "Python 3"
    }
  },
  "cells": [
    {
      "cell_type": "code",
      "metadata": {
        "id": "HfwhQIanqUda"
      },
      "source": [
        "from pyspark.sql import *\n",
        "from pyspark.sql.functions import *\n",
        "from pyspark import SparkContext\n",
        "import pandas as pd"
      ],
      "execution_count": 85,
      "outputs": []
    },
    {
      "cell_type": "code",
      "metadata": {
        "id": "kdmbIv5zqWEH"
      },
      "source": [
        "# create the Spark Session\n",
        "spark = SparkSession.builder.getOrCreate()\n",
        "\n",
        "# create the Spark Context\n",
        "sc = spark.sparkContext"
      ],
      "execution_count": 86,
      "outputs": []
    },
    {
      "cell_type": "markdown",
      "metadata": {
        "id": "6n8zh9JIq2k4"
      },
      "source": [
        "4- Se tiene un RDD con las coordenadas de rectángulos de la forma (x1,x2,y1,y2). Se pide\n",
        "programar en PySpark un programa que encuentre el rectángulo de superficie mínima que\n",
        "contiene al punto (w,z)"
      ]
    },
    {
      "cell_type": "code",
      "metadata": {
        "id": "bAvclHSlq3is"
      },
      "source": [
        "Coordenadas = [(2, 4, 2, 4),\n",
        " (10, 8, 4 , 8),\n",
        " (4, 12, 6, 12),\n",
        " (4, 16, 8, 16),\n",
        "(10, 20, 10, 20),\n",
        "(100, 20, 10, 20),\n",
        "(1, 20, 4, 20),\n",
        "(2, 24, 12, 24)]"
      ],
      "execution_count": 87,
      "outputs": []
    },
    {
      "cell_type": "code",
      "metadata": {
        "id": "_EpZW__kq6gj",
        "outputId": "59d0d825-44a7-420e-e13c-8c318f5086d1",
        "colab": {
          "base_uri": "https://localhost:8080/",
          "height": 153
        }
      },
      "source": [
        "cordenadas = sc.parallelize(Coordenadas, 8)\n",
        "cordenadas.collect()"
      ],
      "execution_count": 88,
      "outputs": [
        {
          "output_type": "execute_result",
          "data": {
            "text/plain": [
              "[(2, 4, 2, 4),\n",
              " (10, 8, 4, 8),\n",
              " (4, 12, 6, 12),\n",
              " (4, 16, 8, 16),\n",
              " (10, 20, 10, 20),\n",
              " (100, 20, 10, 20),\n",
              " (1, 20, 4, 20),\n",
              " (2, 24, 12, 24)]"
            ]
          },
          "metadata": {
            "tags": []
          },
          "execution_count": 88
        }
      ]
    },
    {
      "cell_type": "code",
      "metadata": {
        "id": "BtMQHCggw-ki"
      },
      "source": [
        "w = 10\n",
        "z = 10"
      ],
      "execution_count": 89,
      "outputs": []
    },
    {
      "cell_type": "code",
      "metadata": {
        "id": "xsLX1ABmsF90",
        "outputId": "cad72d19-c419-44a6-c715-d83921b1243e",
        "colab": {
          "base_uri": "https://localhost:8080/",
          "height": 34
        }
      },
      "source": [
        "wea = cordenadas.filter(lambda x: (x[0] <= w) and x[1] >= w and x[2] <= z and x[3] >= z )\n",
        "wea.collect()"
      ],
      "execution_count": 90,
      "outputs": [
        {
          "output_type": "execute_result",
          "data": {
            "text/plain": [
              "[(4, 12, 6, 12), (4, 16, 8, 16), (10, 20, 10, 20), (1, 20, 4, 20)]"
            ]
          },
          "metadata": {
            "tags": []
          },
          "execution_count": 90
        }
      ]
    },
    {
      "cell_type": "code",
      "metadata": {
        "id": "HxmleQKgwcNZ",
        "outputId": "980cf40e-252d-49ac-d8cc-aabd6a8466e5",
        "colab": {
          "base_uri": "https://localhost:8080/",
          "height": 34
        }
      },
      "source": [
        "rectangulo = wea.map(lambda x: (x[1] - x[0], x[3] - x[2]))\n",
        "rectangulo.collect()"
      ],
      "execution_count": 96,
      "outputs": [
        {
          "output_type": "execute_result",
          "data": {
            "text/plain": [
              "[(8, 6), (12, 8), (10, 10), (19, 16)]"
            ]
          },
          "metadata": {
            "tags": []
          },
          "execution_count": 96
        }
      ]
    },
    {
      "cell_type": "code",
      "metadata": {
        "id": "8_2biNOqzj5W",
        "outputId": "bfa11cb5-7e86-4761-e36c-18a3b4727f9e",
        "colab": {
          "base_uri": "https://localhost:8080/",
          "height": 34
        }
      },
      "source": [
        "area = rectangulo.map(lambda x: (x[0]*x[1]))\n",
        "area.collect()"
      ],
      "execution_count": 93,
      "outputs": [
        {
          "output_type": "execute_result",
          "data": {
            "text/plain": [
              "[48, 96, 100, 304]"
            ]
          },
          "metadata": {
            "tags": []
          },
          "execution_count": 93
        }
      ]
    },
    {
      "cell_type": "code",
      "metadata": {
        "id": "ErinhnPg02jP",
        "outputId": "22fea5a0-d03d-48ac-f3e8-e02e4e58245d",
        "colab": {
          "base_uri": "https://localhost:8080/",
          "height": 34
        }
      },
      "source": [
        "area.reduce(lambda a,b: a if a < b else b)"
      ],
      "execution_count": 94,
      "outputs": [
        {
          "output_type": "execute_result",
          "data": {
            "text/plain": [
              "48"
            ]
          },
          "metadata": {
            "tags": []
          },
          "execution_count": 94
        }
      ]
    }
  ]
}