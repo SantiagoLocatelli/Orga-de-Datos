{
 "cells": [
  {
   "cell_type": "code",
   "execution_count": 81,
   "metadata": {},
   "outputs": [],
   "source": [
    "from pyspark.sql import *\n",
    "from pyspark.sql.functions import *\n",
    "from pyspark import SparkContext\n",
    "from pyspark import SQLContext\n",
    "import random\n",
    "\n",
    "# create the Spark Session\n",
    "spark = SparkSession.builder.getOrCreate()\n",
    "\n",
    "# create the Spark Context\n",
    "sc = spark.sparkContext"
   ]
  },
  {
   "cell_type": "code",
   "execution_count": 82,
   "metadata": {},
   "outputs": [],
   "source": [
    "lista_est = []\n",
    "for i in range(100):\n",
    "    lista_est.append((i//5, i%5, random.randint(0,180)))\n",
    "\n",
    "lista_part = []\n",
    "for i in range(20):\n",
    "    lista_part.append((i, 2019+(i//10), ((i//5)%2)+1))\n",
    "\n",
    "rdd_est = sc.parallelize(lista_est)\n",
    "rdd_part = sc.parallelize(lista_part)"
   ]
  },
  {
   "cell_type": "code",
   "execution_count": 83,
   "metadata": {},
   "outputs": [],
   "source": [
    "# rdd_est = (id_partido, id_jugador, tiempo)\n",
    "# rdd_part = (id_partido, año, semestre)\n",
    "rdd_est = rdd_est.map(lambda x: (x[0], (x[1], x[2]))) \n",
    "rdd_part = rdd_part.map(lambda x: (x[0], (x[1], x[2])))"
   ]
  },
  {
   "cell_type": "code",
   "execution_count": 84,
   "metadata": {},
   "outputs": [
    {
     "data": {
      "text/plain": [
       "[(0, ((0, 157), (2019, 1))),\n",
       " (0, ((1, 40), (2019, 1))),\n",
       " (0, ((2, 180), (2019, 1))),\n",
       " (0, ((3, 102), (2019, 1))),\n",
       " (0, ((4, 79), (2019, 1)))]"
      ]
     },
     "execution_count": 84,
     "metadata": {},
     "output_type": "execute_result"
    }
   ],
   "source": [
    "rdd_ext = rdd_est.join(rdd_part) # (id_partido, ((id_jugador, tiempo), (año, semestre)))\n",
    "rdd_ext.take(5)"
   ]
  },
  {
   "cell_type": "code",
   "execution_count": 85,
   "metadata": {},
   "outputs": [
    {
     "data": {
      "text/plain": [
       "[((1, 2019, 1), 300),\n",
       " ((4, 2020, 1), 376),\n",
       " ((2, 2019, 1), 563),\n",
       " ((0, 2020, 2), 465),\n",
       " ((3, 2020, 1), 377)]"
      ]
     },
     "execution_count": 85,
     "metadata": {},
     "output_type": "execute_result"
    }
   ],
   "source": [
    "rdd_ext = rdd_ext.map(lambda x: ((x[1][0][0], x[1][1][0], x[1][1][1]), x[1][0][1])).reduceByKey(lambda a,b: a+b) # ((id_jugador, año, semestre), total_jugado)\n",
    "rdd_ext.take(5)"
   ]
  },
  {
   "cell_type": "code",
   "execution_count": 86,
   "metadata": {},
   "outputs": [
    {
     "data": {
      "text/plain": [
       "[(1, ('2019-1', 300)),\n",
       " (4, ('2020-1', 376)),\n",
       " (2, ('2019-1', 563)),\n",
       " (0, ('2020-2', 465)),\n",
       " (3, ('2020-1', 377))]"
      ]
     },
     "execution_count": 86,
     "metadata": {},
     "output_type": "execute_result"
    }
   ],
   "source": [
    "rdd_ext = rdd_ext.map(lambda x: (x[0][0], (str(x[0][1])+'-'+str(x[0][2]), x[1])))# (id_jugador, ('YYYY-SS', tiempo_jugado))\n",
    "rdd_ext.take(5)"
   ]
  },
  {
   "cell_type": "code",
   "execution_count": 87,
   "metadata": {},
   "outputs": [
    {
     "data": {
      "text/plain": [
       "[(0, [('2019-1', 441), ('2019-2', 375), ('2020-1', 141), ('2020-2', 465)]),\n",
       " (1, [('2019-1', 300), ('2019-2', 700), ('2020-1', 346), ('2020-2', 509)]),\n",
       " (2, [('2019-1', 563), ('2019-2', 393), ('2020-1', 561), ('2020-2', 505)]),\n",
       " (3, [('2019-1', 400), ('2019-2', 452), ('2020-1', 377), ('2020-2', 503)]),\n",
       " (4, [('2019-1', 394), ('2019-2', 465), ('2020-1', 376), ('2020-2', 542)])]"
      ]
     },
     "execution_count": 87,
     "metadata": {},
     "output_type": "execute_result"
    }
   ],
   "source": [
    "rdd_ext = rdd_ext.groupByKey().map(lambda x: (x[0], sorted(list(x[1]))))\n",
    "rdd_ext.take(5)"
   ]
  },
  {
   "cell_type": "code",
   "execution_count": 105,
   "metadata": {},
   "outputs": [
    {
     "data": {
      "text/plain": [
       "[(0, [-14.965986394557824, -62.4, 229.7872340425532]),\n",
       " (1, [133.33333333333334, -50.57142857142857, 47.10982658959538]),\n",
       " (2, [-30.19538188277087, 42.74809160305343, -9.982174688057041]),\n",
       " (3, [13.0, -16.5929203539823, 33.42175066312998]),\n",
       " (4, [18.02030456852792, -19.13978494623656, 44.148936170212764])]"
      ]
     },
     "execution_count": 105,
     "metadata": {},
     "output_type": "execute_result"
    }
   ],
   "source": [
    "rdd_aumento = rdd_ext.map(lambda x: (x[0], [(x[1][i][1]-x[1][i-1][1])*100/x[1][i-1][1] for i in range(1,len(x[1]))]))\n",
    "rdd_aumento.take(5)"
   ]
  },
  {
   "cell_type": "code",
   "execution_count": 113,
   "metadata": {},
   "outputs": [
    {
     "data": {
      "text/plain": [
       "[(0, [-14.965986394557824, -62.4, 229.7872340425532]),\n",
       " (1, [133.33333333333334, -50.57142857142857, 47.10982658959538])]"
      ]
     },
     "execution_count": 113,
     "metadata": {},
     "output_type": "execute_result"
    }
   ],
   "source": [
    "rdd_aumento.filter(lambda x: any(num > 50 for num in x[1])).take(5)"
   ]
  },
  {
   "cell_type": "code",
   "execution_count": 122,
   "metadata": {},
   "outputs": [
    {
     "data": {
      "text/plain": [
       "True"
      ]
     },
     "execution_count": 122,
     "metadata": {},
     "output_type": "execute_result"
    }
   ],
   "source": []
  }
 ],
 "metadata": {
  "kernelspec": {
   "display_name": "Python 3",
   "language": "python",
   "name": "python3"
  },
  "language_info": {
   "codemirror_mode": {
    "name": "ipython",
    "version": 3
   },
   "file_extension": ".py",
   "mimetype": "text/x-python",
   "name": "python",
   "nbconvert_exporter": "python",
   "pygments_lexer": "ipython3",
   "version": "3.7.6"
  }
 },
 "nbformat": 4,
 "nbformat_minor": 4
}
