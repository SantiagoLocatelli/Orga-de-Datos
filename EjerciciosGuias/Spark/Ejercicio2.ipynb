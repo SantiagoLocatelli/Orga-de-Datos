{
 "cells": [
  {
   "cell_type": "code",
   "execution_count": 127,
   "metadata": {
    "id": "LRZf4_pddtQH"
   },
   "outputs": [],
   "source": [
    "from pyspark.sql import *\n",
    "from pyspark.sql.functions import *\n",
    "from pyspark import SparkContext\n",
    "from pyspark.sql import SQLContext\n",
    "import pandas as pd"
   ]
  },
  {
   "cell_type": "code",
   "execution_count": 128,
   "metadata": {
    "id": "DpfisLvEfCaq"
   },
   "outputs": [],
   "source": [
    "venta_productos = [\n",
    "    ('20201010', 1, 100),\n",
    "    ('20191010', 1, 100),\n",
    "    ('20191011', 2, 200),\n",
    "    ('20191012', 3, 300),\n",
    "    ('20201010', 3, 600),\n",
    "    ('20201010', 3, 600),\n",
    "    ('20191013', 2, 200),\n",
    "    ('20201014', 2, 800),\n",
    "    ('20191017', 2, 200),\n",
    "    ('20181013', 4, 400),\n",
    "    ('20181013', 5, 400),\n",
    "    ('20201013', 5, 400)\n",
    "]\n",
    "detalles_productos = [\n",
    "    ( 1, 'hago cosas', 'categoria1'),\n",
    "    ( 2, 'hago cosas', 'categoria2'),\n",
    "    ( 3, 'hago cosas', 'categoria3'),\n",
    "    ( 2, 'hago cosas', 'categoria2'),\n",
    "    ( 2, 'hago cosas', 'categoria2'),\n",
    "    ( 3, 'hago cosas', 'categoria3'),\n",
    "    ( 3, 'hago cosas', 'categoria3'),\n",
    "    ( 4, 'no hago cosas', 'categoria4'),\n",
    "    ( 5, 'no hago cosas', 'categoria4')\n",
    "]\n",
    "\n",
    "spark = SparkSession.builder.getOrCreate()\n",
    "sc = spark.sparkContext\n",
    "\n",
    "venta_productos = sc.parallelize(venta_productos)\n",
    "detalles_productos = sc.parallelize(detalles_productos)"
   ]
  },
  {
   "cell_type": "markdown",
   "metadata": {
    "id": "-2NWJ0bQeMrU"
   },
   "source": [
    "2- Se tiene un RDD registros de ventas de producto con la forma (fecha de venta, código de producto, precio de venta) y en otro RDD detalle de los productos con (código de producto, descripción del producto, categoría). Se pide resolver utilizando PySpark:\n",
    "\n",
    "Cuál es el producto más vendido.\n",
    "\n"
   ]
  },
  {
   "cell_type": "code",
   "execution_count": 129,
   "metadata": {
    "colab": {
     "base_uri": "https://localhost:8080/",
     "height": 34
    },
    "id": "CD-hVkvCfcrZ",
    "outputId": "15cd1120-de5e-40b3-d5ac-14860d47db2b"
   },
   "outputs": [
    {
     "data": {
      "text/plain": [
       "(2, 4)"
      ]
     },
     "execution_count": 129,
     "metadata": {},
     "output_type": "execute_result"
    }
   ],
   "source": [
    "ventas_por_producto = venta_productos.map(lambda x :(x[1], 1)).reduceByKey(lambda x,y: (x+y)).cache()\n",
    "ventas_por_producto.reduce(lambda x,y:(x if x[1]>y[1] else y))"
   ]
  },
  {
   "cell_type": "markdown",
   "metadata": {
    "id": "MDzqmE59eZfa"
   },
   "source": [
    "Cuál es la categoría de productos más vendida.\n",
    "\n"
   ]
  },
  {
   "cell_type": "code",
   "execution_count": 130,
   "metadata": {
    "colab": {
     "base_uri": "https://localhost:8080/",
     "height": 34
    },
    "id": "SKDPANXJfU5a",
    "outputId": "6b0ac7e5-581b-4652-db84-2f9ad3ff09cb"
   },
   "outputs": [
    {
     "data": {
      "text/plain": [
       "[(4, 1), (1, 2), (5, 2), (2, 4), (3, 3)]"
      ]
     },
     "execution_count": 130,
     "metadata": {},
     "output_type": "execute_result"
    }
   ],
   "source": [
    "ventas_por_producto.take(5)"
   ]
  },
  {
   "cell_type": "code",
   "execution_count": 131,
   "metadata": {
    "colab": {
     "base_uri": "https://localhost:8080/",
     "height": 35
    },
    "id": "PVHOJ2Ucg7CF",
    "outputId": "d86be316-663e-4363-e2db-1833480a1eea"
   },
   "outputs": [
    {
     "data": {
      "text/plain": [
       "'categoria2'"
      ]
     },
     "execution_count": 131,
     "metadata": {},
     "output_type": "execute_result"
    }
   ],
   "source": [
    "pene = detalles_productos.map(lambda x: (x[0],x[2])).distinct().join(ventas_por_producto).reduce(lambda x,y:(x if x[1][1]>y[1][1] else y))\n",
    "pene[1][0]"
   ]
  },
  {
   "cell_type": "markdown",
   "metadata": {
    "id": "T27gQ9GIebuT"
   },
   "source": [
    "Cuál es el top5 de productos más vendidos generando un RDD con (código de producto, descripción, cantidad de ventas)\n"
   ]
  },
  {
   "cell_type": "code",
   "execution_count": 132,
   "metadata": {
    "colab": {
     "base_uri": "https://localhost:8080/",
     "height": 102
    },
    "id": "ke6OSwG6iEpr",
    "outputId": "16871d30-08d9-4166-dc43-877c43eadb67"
   },
   "outputs": [
    {
     "data": {
      "text/plain": [
       "[(2, ('hago cosas', 4)),\n",
       " (3, ('hago cosas', 3)),\n",
       " (5, ('no hago cosas', 2)),\n",
       " (1, ('hago cosas', 2)),\n",
       " (4, ('no hago cosas', 1))]"
      ]
     },
     "execution_count": 132,
     "metadata": {},
     "output_type": "execute_result"
    }
   ],
   "source": [
    "ventas_por_producto.join(detalles_productos).distinct().map(lambda x: (x[0],(x[1][1],x[1][0]))).takeOrdered(5,lambda x: -x[1][1])"
   ]
  },
  {
   "cell_type": "markdown",
   "metadata": {
    "id": "_eMudCI0ed6S"
   },
   "source": [
    "Cuál es el producto que registró mayor aumento de precio en el último año, tomando para este análisis solo los productos que cuenten con al menos 3 ventas en el último año.\n"
   ]
  },
  {
   "cell_type": "code",
   "execution_count": 133,
   "metadata": {
    "id": "Z22FUc-2kgfJ"
   },
   "outputs": [],
   "source": [
    "ventas_2020 = venta_productos.filter(lambda x : x[0]>='20200101').cache()\n",
    "ventas_2019 = venta_productos.filter(lambda x : x[0]>='20190101' and x[0]<'20200101').cache()"
   ]
  },
  {
   "cell_type": "code",
   "execution_count": 134,
   "metadata": {
    "colab": {
     "base_uri": "https://localhost:8080/",
     "height": 85
    },
    "id": "X95CI2F3letZ",
    "outputId": "d63289e9-4f2c-4da4-ec0c-58ef26225ff3"
   },
   "outputs": [
    {
     "data": {
      "text/plain": [
       "[('20191010', 1, 100),\n",
       " ('20191011', 2, 200),\n",
       " ('20191012', 3, 300),\n",
       " ('20191013', 2, 200),\n",
       " ('20191017', 2, 200)]"
      ]
     },
     "execution_count": 134,
     "metadata": {},
     "output_type": "execute_result"
    }
   ],
   "source": [
    "ventas_2019.collect()"
   ]
  },
  {
   "cell_type": "code",
   "execution_count": 135,
   "metadata": {
    "colab": {
     "base_uri": "https://localhost:8080/",
     "height": 34
    },
    "id": "j0u1okItmGAf",
    "outputId": "46907665-cb68-49cf-b7d3-c89dd34bb7d9",
    "scrolled": false
   },
   "outputs": [
    {
     "name": "stdout",
     "output_type": "stream",
     "text": [
      "[(1, 100), (3, 600), (3, 600), (2, 800), (5, 400)]\n",
      "[(1, 100), (2, 200), (3, 300), (2, 200), (2, 200)]\n"
     ]
    }
   ],
   "source": [
    "ventas_2020 = ventas_2020.map(lambda x: (x[1],(x[2]))).cache()\n",
    "ventas_2019 = ventas_2019.map(lambda x: (x[1],(x[2]))).cache()\n",
    "print(ventas_2020.collect())\n",
    "print(ventas_2019.collect())"
   ]
  },
  {
   "cell_type": "code",
   "execution_count": 136,
   "metadata": {
    "colab": {
     "base_uri": "https://localhost:8080/",
     "height": 34
    },
    "id": "D8TGKk4ymnPt",
    "outputId": "d645a2bc-e89d-4266-c992-c65541e936be"
   },
   "outputs": [
    {
     "data": {
      "text/plain": [
       "2"
      ]
     },
     "execution_count": 136,
     "metadata": {},
     "output_type": "execute_result"
    }
   ],
   "source": [
    "ventas_2020.join(ventas_2019).distinct()\\\n",
    ".map(lambda x: (x[0], (x[1][0]-x[1][1])))\\\n",
    ".reduce(lambda x,y: x if x[1]>y[1] else y)[0]"
   ]
  },
  {
   "cell_type": "markdown",
   "metadata": {
    "id": "MhOuYKwpegLN"
   },
   "source": [
    "Idem anterior, pero calculando la categoría de productos que registró mayor variación de precios en el último año."
   ]
  }
 ],
 "metadata": {
  "colab": {
   "collapsed_sections": [],
   "name": "Untitled0.ipynb",
   "provenance": []
  },
  "kernelspec": {
   "display_name": "Python 3",
   "language": "python",
   "name": "python3"
  },
  "language_info": {
   "codemirror_mode": {
    "name": "ipython",
    "version": 3
   },
   "file_extension": ".py",
   "mimetype": "text/x-python",
   "name": "python",
   "nbconvert_exporter": "python",
   "pygments_lexer": "ipython3",
   "version": "3.8.3"
  }
 },
 "nbformat": 4,
 "nbformat_minor": 1
}
