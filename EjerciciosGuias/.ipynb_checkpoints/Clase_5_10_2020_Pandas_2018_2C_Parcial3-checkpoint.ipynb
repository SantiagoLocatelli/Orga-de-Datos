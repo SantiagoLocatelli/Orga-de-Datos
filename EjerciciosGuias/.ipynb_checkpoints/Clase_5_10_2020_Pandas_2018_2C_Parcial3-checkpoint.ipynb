{
  "nbformat": 4,
  "nbformat_minor": 0,
  "metadata": {
    "colab": {
      "name": "Clase 5-10-2020- Pandas_2018_2C_Parcial3.ipynb",
      "provenance": [],
      "collapsed_sections": []
    },
    "kernelspec": {
      "name": "python3",
      "display_name": "Python 3"
    }
  },
  "cells": [
    {
      "cell_type": "code",
      "metadata": {
        "id": "o_uts_n1XmwJ"
      },
      "source": [
        "import pandas as pd\n",
        "import numpy as np\n",
        "import matplotlib.pyplot as plt\n",
        "import seaborn as sns\n",
        "\n",
        "%matplotlib inline\n",
        "\n",
        "plt.style.use('default') # haciendo los graficos un poco mas bonitos en matplotlib\n",
        "#plt.rcParams['figure.figsize'] = (20, 10)\n",
        "\n",
        "sns.set(style=\"whitegrid\") # seteando tipo de grid en seaborn\n",
        "\n",
        "pd.options.display.float_format = '{:20,.2f}'.format # suprimimos la notacion cientifica en los outputs\n",
        "\n",
        "import warnings\n",
        "warnings.filterwarnings('ignore')"
      ],
      "execution_count": null,
      "outputs": []
    },
    {
      "cell_type": "code",
      "metadata": {
        "id": "uvVM_kchX64_",
        "outputId": "ba6f8b9d-ea72-4ce0-9cc0-45589f1b9bb5",
        "colab": {
          "base_uri": "https://localhost:8080/",
          "height": 280
        }
      },
      "source": [
        "!pip install PyDrive"
      ],
      "execution_count": null,
      "outputs": [
        {
          "output_type": "stream",
          "text": [
            "Requirement already satisfied: PyDrive in /usr/local/lib/python3.6/dist-packages (1.3.1)\n",
            "Requirement already satisfied: PyYAML>=3.0 in /usr/local/lib/python3.6/dist-packages (from PyDrive) (3.13)\n",
            "Requirement already satisfied: oauth2client>=4.0.0 in /usr/local/lib/python3.6/dist-packages (from PyDrive) (4.1.3)\n",
            "Requirement already satisfied: google-api-python-client>=1.2 in /usr/local/lib/python3.6/dist-packages (from PyDrive) (1.7.12)\n",
            "Requirement already satisfied: pyasn1-modules>=0.0.5 in /usr/local/lib/python3.6/dist-packages (from oauth2client>=4.0.0->PyDrive) (0.2.8)\n",
            "Requirement already satisfied: rsa>=3.1.4 in /usr/local/lib/python3.6/dist-packages (from oauth2client>=4.0.0->PyDrive) (4.6)\n",
            "Requirement already satisfied: httplib2>=0.9.1 in /usr/local/lib/python3.6/dist-packages (from oauth2client>=4.0.0->PyDrive) (0.17.4)\n",
            "Requirement already satisfied: six>=1.6.1 in /usr/local/lib/python3.6/dist-packages (from oauth2client>=4.0.0->PyDrive) (1.15.0)\n",
            "Requirement already satisfied: pyasn1>=0.1.7 in /usr/local/lib/python3.6/dist-packages (from oauth2client>=4.0.0->PyDrive) (0.4.8)\n",
            "Requirement already satisfied: google-auth>=1.4.1 in /usr/local/lib/python3.6/dist-packages (from google-api-python-client>=1.2->PyDrive) (1.17.2)\n",
            "Requirement already satisfied: uritemplate<4dev,>=3.0.0 in /usr/local/lib/python3.6/dist-packages (from google-api-python-client>=1.2->PyDrive) (3.0.1)\n",
            "Requirement already satisfied: google-auth-httplib2>=0.0.3 in /usr/local/lib/python3.6/dist-packages (from google-api-python-client>=1.2->PyDrive) (0.0.4)\n",
            "Requirement already satisfied: setuptools>=40.3.0 in /usr/local/lib/python3.6/dist-packages (from google-auth>=1.4.1->google-api-python-client>=1.2->PyDrive) (50.3.0)\n",
            "Requirement already satisfied: cachetools<5.0,>=2.0.0 in /usr/local/lib/python3.6/dist-packages (from google-auth>=1.4.1->google-api-python-client>=1.2->PyDrive) (4.1.1)\n"
          ],
          "name": "stdout"
        }
      ]
    },
    {
      "cell_type": "code",
      "metadata": {
        "id": "JteCLKOwX-YY"
      },
      "source": [
        "from pydrive.auth import GoogleAuth\n",
        "from pydrive.drive import GoogleDrive\n",
        "from google.colab import auth\n",
        "from oauth2client.client import GoogleCredentials"
      ],
      "execution_count": null,
      "outputs": []
    },
    {
      "cell_type": "code",
      "metadata": {
        "id": "XTNeoIZmYDjj"
      },
      "source": [
        "auth.authenticate_user()\n",
        "gauth = GoogleAuth()\n",
        "gauth.credentials = GoogleCredentials.get_application_default()\n",
        "drive = GoogleDrive(gauth)"
      ],
      "execution_count": null,
      "outputs": []
    },
    {
      "cell_type": "code",
      "metadata": {
        "id": "wI9hcvMJYHV_"
      },
      "source": [
        "id='1Qj-TiJ5Q3H0uoeOMYv2O47pfsWxCNsMd'\n",
        "downloaded = drive.CreateFile({'id': id})\n",
        "downloaded.GetContentFile('Instagram_Usrs.csv')"
      ],
      "execution_count": null,
      "outputs": []
    },
    {
      "cell_type": "code",
      "metadata": {
        "id": "Ol-ovyniYe71",
        "outputId": "ce1b3b35-3919-4519-b8d7-55808a88c349",
        "colab": {
          "base_uri": "https://localhost:8080/",
          "height": 256
        }
      },
      "source": [
        "instagram_usrs = pd.read_csv('Instagram_Usrs.csv', encoding='latin1',sep=';')\n",
        "instagram_usrs.head()"
      ],
      "execution_count": null,
      "outputs": [
        {
          "output_type": "execute_result",
          "data": {
            "text/html": [
              "<div>\n",
              "<style scoped>\n",
              "    .dataframe tbody tr th:only-of-type {\n",
              "        vertical-align: middle;\n",
              "    }\n",
              "\n",
              "    .dataframe tbody tr th {\n",
              "        vertical-align: top;\n",
              "    }\n",
              "\n",
              "    .dataframe thead th {\n",
              "        text-align: right;\n",
              "    }\n",
              "</style>\n",
              "<table border=\"1\" class=\"dataframe\">\n",
              "  <thead>\n",
              "    <tr style=\"text-align: right;\">\n",
              "      <th></th>\n",
              "      <th>usuario</th>\n",
              "      <th>nickname</th>\n",
              "      <th>pais</th>\n",
              "      <th>fecha_alta</th>\n",
              "      <th>cantidad_seguidores</th>\n",
              "      <th>cantidad_seguidos</th>\n",
              "      <th>cantidad_total_publicaciones</th>\n",
              "    </tr>\n",
              "  </thead>\n",
              "  <tbody>\n",
              "    <tr>\n",
              "      <th>0</th>\n",
              "      <td>N002qbs5</td>\n",
              "      <td>TaniaMunira?¨</td>\n",
              "      <td>Argentina</td>\n",
              "      <td>17/1/2017</td>\n",
              "      <td>480380</td>\n",
              "      <td>12009</td>\n",
              "      <td>480</td>\n",
              "    </tr>\n",
              "    <tr>\n",
              "      <th>1</th>\n",
              "      <td>N002qd07</td>\n",
              "      <td>LiotirisChristos?¨</td>\n",
              "      <td>Brasil</td>\n",
              "      <td>28/5/2019</td>\n",
              "      <td>668979</td>\n",
              "      <td>16727</td>\n",
              "      <td>669</td>\n",
              "    </tr>\n",
              "    <tr>\n",
              "      <th>2</th>\n",
              "      <td>N002qhoi</td>\n",
              "      <td>GageBenjamin?¨</td>\n",
              "      <td>Chile</td>\n",
              "      <td>2/5/2018</td>\n",
              "      <td>5071</td>\n",
              "      <td>1267</td>\n",
              "      <td>50</td>\n",
              "    </tr>\n",
              "    <tr>\n",
              "      <th>3</th>\n",
              "      <td>N002qiab</td>\n",
              "      <td>SkauSimon?¨</td>\n",
              "      <td>Argentina</td>\n",
              "      <td>29/3/2017</td>\n",
              "      <td>81952</td>\n",
              "      <td>20488</td>\n",
              "      <td>819</td>\n",
              "    </tr>\n",
              "    <tr>\n",
              "      <th>4</th>\n",
              "      <td>N002qqtm</td>\n",
              "      <td>Kolaretakis</td>\n",
              "      <td>Brasil</td>\n",
              "      <td>15/9/2019</td>\n",
              "      <td>76545</td>\n",
              "      <td>19136</td>\n",
              "      <td>765</td>\n",
              "    </tr>\n",
              "  </tbody>\n",
              "</table>\n",
              "</div>"
            ],
            "text/plain": [
              "    usuario  ... cantidad_total_publicaciones\n",
              "0  N002qbs5  ...                          480\n",
              "1  N002qd07  ...                          669\n",
              "2  N002qhoi  ...                           50\n",
              "3  N002qiab  ...                          819\n",
              "4  N002qqtm  ...                          765\n",
              "\n",
              "[5 rows x 7 columns]"
            ]
          },
          "metadata": {
            "tags": []
          },
          "execution_count": 12
        }
      ]
    },
    {
      "cell_type": "code",
      "metadata": {
        "id": "uNBKGdtq72mD"
      },
      "source": [
        ""
      ],
      "execution_count": null,
      "outputs": []
    },
    {
      "cell_type": "markdown",
      "metadata": {
        "id": "jPmA6RzAcp0v"
      },
      "source": [
        "# El equipo comercial en Argentina de instagram cuenta con información sumarizada de usuarios del país en el siguiente Data Frame (id_usuario, nickname, país, fecha_alta, cantidad_seguidores, cantidad_seguidos, cantidad_total_publicaciones). \n",
        "Uno de sus analistas quiere obtener los potenciales 10 usuarios “influencers” que van a liderar su primera campaña de vía pública en el país y para ello necesita de nuestra ayuda. El criterio para detectar un influencer es que el mismo debe: \n",
        "- Tener una cantidad de seguidores mayor al 80% de la máxima cantidad de seguidores de todos los usuarios dentro de su país. (Por ejemplo, si un usuario es Argentino y el máximo de seguidores en Argentina es 1000 entonces requerirá tener al menos 800 seguidores).\n",
        "- El número de usuarios que esa persona sigue no debe superar el 15% de la cantidad de seguidores que él tiene.\n",
        "El criterio final para seleccionar a los candidatos será a partir de la mayor cantidad de seguidores que tengan. \n",
        "\n",
        "Escribir un programa en python Pandas que pueda obtener esos usuarios\n"
      ]
    },
    {
      "cell_type": "code",
      "metadata": {
        "id": "Xd2Br2b-749u"
      },
      "source": [
        "max_seguidores_por_pais=instagram_usrs[['pais','cantidad_seguidores']].groupby('pais').max()"
      ],
      "execution_count": null,
      "outputs": []
    },
    {
      "cell_type": "code",
      "metadata": {
        "id": "UzteRyL38eVh",
        "outputId": "4820fec3-88bf-46c5-891d-60928db4e8be",
        "colab": {
          "base_uri": "https://localhost:8080/",
          "height": 232
        }
      },
      "source": [
        "max_seguidores_por_pais"
      ],
      "execution_count": null,
      "outputs": [
        {
          "output_type": "execute_result",
          "data": {
            "text/html": [
              "<div>\n",
              "<style scoped>\n",
              "    .dataframe tbody tr th:only-of-type {\n",
              "        vertical-align: middle;\n",
              "    }\n",
              "\n",
              "    .dataframe tbody tr th {\n",
              "        vertical-align: top;\n",
              "    }\n",
              "\n",
              "    .dataframe thead th {\n",
              "        text-align: right;\n",
              "    }\n",
              "</style>\n",
              "<table border=\"1\" class=\"dataframe\">\n",
              "  <thead>\n",
              "    <tr style=\"text-align: right;\">\n",
              "      <th></th>\n",
              "      <th>cantidad_seguidores</th>\n",
              "    </tr>\n",
              "    <tr>\n",
              "      <th>pais</th>\n",
              "      <th></th>\n",
              "    </tr>\n",
              "  </thead>\n",
              "  <tbody>\n",
              "    <tr>\n",
              "      <th>Argentina</th>\n",
              "      <td>884500</td>\n",
              "    </tr>\n",
              "    <tr>\n",
              "      <th>Brasil</th>\n",
              "      <td>903879</td>\n",
              "    </tr>\n",
              "    <tr>\n",
              "      <th>Chile</th>\n",
              "      <td>839094</td>\n",
              "    </tr>\n",
              "    <tr>\n",
              "      <th>Colombia</th>\n",
              "      <td>896789</td>\n",
              "    </tr>\n",
              "    <tr>\n",
              "      <th>Mexico</th>\n",
              "      <td>897432</td>\n",
              "    </tr>\n",
              "  </tbody>\n",
              "</table>\n",
              "</div>"
            ],
            "text/plain": [
              "           cantidad_seguidores\n",
              "pais                          \n",
              "Argentina               884500\n",
              "Brasil                  903879\n",
              "Chile                   839094\n",
              "Colombia                896789\n",
              "Mexico                  897432"
            ]
          },
          "metadata": {
            "tags": []
          },
          "execution_count": 14
        }
      ]
    },
    {
      "cell_type": "code",
      "metadata": {
        "id": "1gTI7q1k8mum"
      },
      "source": [
        "max_seguidores_por_pais.reset_index(inplace=True)"
      ],
      "execution_count": null,
      "outputs": []
    },
    {
      "cell_type": "code",
      "metadata": {
        "id": "ixCcAfEM84MM",
        "outputId": "df5d8d9f-1fc3-43f6-cb99-2078d51c2978",
        "colab": {
          "base_uri": "https://localhost:8080/",
          "height": 202
        }
      },
      "source": [
        "max_seguidores_por_pais"
      ],
      "execution_count": null,
      "outputs": [
        {
          "output_type": "execute_result",
          "data": {
            "text/html": [
              "<div>\n",
              "<style scoped>\n",
              "    .dataframe tbody tr th:only-of-type {\n",
              "        vertical-align: middle;\n",
              "    }\n",
              "\n",
              "    .dataframe tbody tr th {\n",
              "        vertical-align: top;\n",
              "    }\n",
              "\n",
              "    .dataframe thead th {\n",
              "        text-align: right;\n",
              "    }\n",
              "</style>\n",
              "<table border=\"1\" class=\"dataframe\">\n",
              "  <thead>\n",
              "    <tr style=\"text-align: right;\">\n",
              "      <th></th>\n",
              "      <th>pais</th>\n",
              "      <th>cantidad_seguidores</th>\n",
              "    </tr>\n",
              "  </thead>\n",
              "  <tbody>\n",
              "    <tr>\n",
              "      <th>0</th>\n",
              "      <td>Argentina</td>\n",
              "      <td>884500</td>\n",
              "    </tr>\n",
              "    <tr>\n",
              "      <th>1</th>\n",
              "      <td>Brasil</td>\n",
              "      <td>903879</td>\n",
              "    </tr>\n",
              "    <tr>\n",
              "      <th>2</th>\n",
              "      <td>Chile</td>\n",
              "      <td>839094</td>\n",
              "    </tr>\n",
              "    <tr>\n",
              "      <th>3</th>\n",
              "      <td>Colombia</td>\n",
              "      <td>896789</td>\n",
              "    </tr>\n",
              "    <tr>\n",
              "      <th>4</th>\n",
              "      <td>Mexico</td>\n",
              "      <td>897432</td>\n",
              "    </tr>\n",
              "  </tbody>\n",
              "</table>\n",
              "</div>"
            ],
            "text/plain": [
              "        pais  cantidad_seguidores\n",
              "0  Argentina               884500\n",
              "1     Brasil               903879\n",
              "2      Chile               839094\n",
              "3   Colombia               896789\n",
              "4     Mexico               897432"
            ]
          },
          "metadata": {
            "tags": []
          },
          "execution_count": 16
        }
      ]
    },
    {
      "cell_type": "code",
      "metadata": {
        "id": "vdjBahP89CPp"
      },
      "source": [
        "max_seguidores_por_pais['ochenta_porciento']=max_seguidores_por_pais['cantidad_seguidores']*0.8"
      ],
      "execution_count": null,
      "outputs": []
    },
    {
      "cell_type": "code",
      "metadata": {
        "id": "RkaekGmF9wxb",
        "outputId": "d53b2f93-d7cd-4332-f62b-0fa4a2ca6c48",
        "colab": {
          "base_uri": "https://localhost:8080/",
          "height": 202
        }
      },
      "source": [
        "max_seguidores_por_pais"
      ],
      "execution_count": null,
      "outputs": [
        {
          "output_type": "execute_result",
          "data": {
            "text/html": [
              "<div>\n",
              "<style scoped>\n",
              "    .dataframe tbody tr th:only-of-type {\n",
              "        vertical-align: middle;\n",
              "    }\n",
              "\n",
              "    .dataframe tbody tr th {\n",
              "        vertical-align: top;\n",
              "    }\n",
              "\n",
              "    .dataframe thead th {\n",
              "        text-align: right;\n",
              "    }\n",
              "</style>\n",
              "<table border=\"1\" class=\"dataframe\">\n",
              "  <thead>\n",
              "    <tr style=\"text-align: right;\">\n",
              "      <th></th>\n",
              "      <th>pais</th>\n",
              "      <th>cantidad_seguidores</th>\n",
              "      <th>ochenta_porciento</th>\n",
              "    </tr>\n",
              "  </thead>\n",
              "  <tbody>\n",
              "    <tr>\n",
              "      <th>0</th>\n",
              "      <td>Argentina</td>\n",
              "      <td>884500</td>\n",
              "      <td>707,600.00</td>\n",
              "    </tr>\n",
              "    <tr>\n",
              "      <th>1</th>\n",
              "      <td>Brasil</td>\n",
              "      <td>903879</td>\n",
              "      <td>723,103.20</td>\n",
              "    </tr>\n",
              "    <tr>\n",
              "      <th>2</th>\n",
              "      <td>Chile</td>\n",
              "      <td>839094</td>\n",
              "      <td>671,275.20</td>\n",
              "    </tr>\n",
              "    <tr>\n",
              "      <th>3</th>\n",
              "      <td>Colombia</td>\n",
              "      <td>896789</td>\n",
              "      <td>717,431.20</td>\n",
              "    </tr>\n",
              "    <tr>\n",
              "      <th>4</th>\n",
              "      <td>Mexico</td>\n",
              "      <td>897432</td>\n",
              "      <td>717,945.60</td>\n",
              "    </tr>\n",
              "  </tbody>\n",
              "</table>\n",
              "</div>"
            ],
            "text/plain": [
              "        pais  cantidad_seguidores    ochenta_porciento\n",
              "0  Argentina               884500           707,600.00\n",
              "1     Brasil               903879           723,103.20\n",
              "2      Chile               839094           671,275.20\n",
              "3   Colombia               896789           717,431.20\n",
              "4     Mexico               897432           717,945.60"
            ]
          },
          "metadata": {
            "tags": []
          },
          "execution_count": 18
        }
      ]
    },
    {
      "cell_type": "code",
      "metadata": {
        "id": "0-gkMBuv-BtO",
        "outputId": "82eec08f-b16d-4133-cc8e-0e5091328b99",
        "colab": {
          "base_uri": "https://localhost:8080/",
          "height": 86
        }
      },
      "source": [
        "max_seguidores_por_pais.dtypes"
      ],
      "execution_count": null,
      "outputs": [
        {
          "output_type": "execute_result",
          "data": {
            "text/plain": [
              "pais                    object\n",
              "cantidad_seguidores      int64\n",
              "ochenta_porciento      float64\n",
              "dtype: object"
            ]
          },
          "metadata": {
            "tags": []
          },
          "execution_count": 19
        }
      ]
    },
    {
      "cell_type": "code",
      "metadata": {
        "id": "VDOweLWo-L5i"
      },
      "source": [
        "max_seguidores_por_pais.rename(columns = {'cantidad_seguidores':'max_seguidores_pais'}, inplace=True)"
      ],
      "execution_count": null,
      "outputs": []
    },
    {
      "cell_type": "code",
      "metadata": {
        "id": "pUTbLkTR-ikv",
        "outputId": "919e2b3b-4565-4883-bfef-8cea1f9d87bb",
        "colab": {
          "base_uri": "https://localhost:8080/",
          "height": 202
        }
      },
      "source": [
        "max_seguidores_por_pais"
      ],
      "execution_count": null,
      "outputs": [
        {
          "output_type": "execute_result",
          "data": {
            "text/html": [
              "<div>\n",
              "<style scoped>\n",
              "    .dataframe tbody tr th:only-of-type {\n",
              "        vertical-align: middle;\n",
              "    }\n",
              "\n",
              "    .dataframe tbody tr th {\n",
              "        vertical-align: top;\n",
              "    }\n",
              "\n",
              "    .dataframe thead th {\n",
              "        text-align: right;\n",
              "    }\n",
              "</style>\n",
              "<table border=\"1\" class=\"dataframe\">\n",
              "  <thead>\n",
              "    <tr style=\"text-align: right;\">\n",
              "      <th></th>\n",
              "      <th>pais</th>\n",
              "      <th>max_seguidores_pais</th>\n",
              "      <th>ochenta_porciento</th>\n",
              "    </tr>\n",
              "  </thead>\n",
              "  <tbody>\n",
              "    <tr>\n",
              "      <th>0</th>\n",
              "      <td>Argentina</td>\n",
              "      <td>884500</td>\n",
              "      <td>707,600.00</td>\n",
              "    </tr>\n",
              "    <tr>\n",
              "      <th>1</th>\n",
              "      <td>Brasil</td>\n",
              "      <td>903879</td>\n",
              "      <td>723,103.20</td>\n",
              "    </tr>\n",
              "    <tr>\n",
              "      <th>2</th>\n",
              "      <td>Chile</td>\n",
              "      <td>839094</td>\n",
              "      <td>671,275.20</td>\n",
              "    </tr>\n",
              "    <tr>\n",
              "      <th>3</th>\n",
              "      <td>Colombia</td>\n",
              "      <td>896789</td>\n",
              "      <td>717,431.20</td>\n",
              "    </tr>\n",
              "    <tr>\n",
              "      <th>4</th>\n",
              "      <td>Mexico</td>\n",
              "      <td>897432</td>\n",
              "      <td>717,945.60</td>\n",
              "    </tr>\n",
              "  </tbody>\n",
              "</table>\n",
              "</div>"
            ],
            "text/plain": [
              "        pais  max_seguidores_pais    ochenta_porciento\n",
              "0  Argentina               884500           707,600.00\n",
              "1     Brasil               903879           723,103.20\n",
              "2      Chile               839094           671,275.20\n",
              "3   Colombia               896789           717,431.20\n",
              "4     Mexico               897432           717,945.60"
            ]
          },
          "metadata": {
            "tags": []
          },
          "execution_count": 21
        }
      ]
    },
    {
      "cell_type": "code",
      "metadata": {
        "id": "IL2NoCGU-xGp"
      },
      "source": [
        "instagram_usrs=instagram_usrs.merge(max_seguidores_por_pais,on='pais')"
      ],
      "execution_count": null,
      "outputs": []
    },
    {
      "cell_type": "code",
      "metadata": {
        "id": "axviBZGE_JXY",
        "outputId": "0abf727c-7aef-4250-c20f-9e472c42fcc3",
        "colab": {
          "base_uri": "https://localhost:8080/",
          "height": 239
        }
      },
      "source": [
        "instagram_usrs.head()"
      ],
      "execution_count": null,
      "outputs": [
        {
          "output_type": "execute_result",
          "data": {
            "text/html": [
              "<div>\n",
              "<style scoped>\n",
              "    .dataframe tbody tr th:only-of-type {\n",
              "        vertical-align: middle;\n",
              "    }\n",
              "\n",
              "    .dataframe tbody tr th {\n",
              "        vertical-align: top;\n",
              "    }\n",
              "\n",
              "    .dataframe thead th {\n",
              "        text-align: right;\n",
              "    }\n",
              "</style>\n",
              "<table border=\"1\" class=\"dataframe\">\n",
              "  <thead>\n",
              "    <tr style=\"text-align: right;\">\n",
              "      <th></th>\n",
              "      <th>usuario</th>\n",
              "      <th>nickname</th>\n",
              "      <th>pais</th>\n",
              "      <th>fecha_alta</th>\n",
              "      <th>cantidad_seguidores</th>\n",
              "      <th>cantidad_seguidos</th>\n",
              "      <th>cantidad_total_publicaciones</th>\n",
              "      <th>max_seguidores_pais</th>\n",
              "      <th>ochenta_porciento</th>\n",
              "    </tr>\n",
              "  </thead>\n",
              "  <tbody>\n",
              "    <tr>\n",
              "      <th>0</th>\n",
              "      <td>N002qbs5</td>\n",
              "      <td>TaniaMunira?¨</td>\n",
              "      <td>Argentina</td>\n",
              "      <td>17/1/2017</td>\n",
              "      <td>480380</td>\n",
              "      <td>12009</td>\n",
              "      <td>480</td>\n",
              "      <td>884500</td>\n",
              "      <td>707,600.00</td>\n",
              "    </tr>\n",
              "    <tr>\n",
              "      <th>1</th>\n",
              "      <td>N002qiab</td>\n",
              "      <td>SkauSimon?¨</td>\n",
              "      <td>Argentina</td>\n",
              "      <td>29/3/2017</td>\n",
              "      <td>81952</td>\n",
              "      <td>20488</td>\n",
              "      <td>819</td>\n",
              "      <td>884500</td>\n",
              "      <td>707,600.00</td>\n",
              "    </tr>\n",
              "    <tr>\n",
              "      <th>2</th>\n",
              "      <td>N002r1a8</td>\n",
              "      <td>ReisAna?¨</td>\n",
              "      <td>Argentina</td>\n",
              "      <td>18/2/2016</td>\n",
              "      <td>77346</td>\n",
              "      <td>19336</td>\n",
              "      <td>773</td>\n",
              "      <td>884500</td>\n",
              "      <td>707,600.00</td>\n",
              "    </tr>\n",
              "    <tr>\n",
              "      <th>3</th>\n",
              "      <td>N002rqlw</td>\n",
              "      <td>MaezawaTakahiro?¨</td>\n",
              "      <td>Argentina</td>\n",
              "      <td>25/9/2016</td>\n",
              "      <td>42676</td>\n",
              "      <td>10669</td>\n",
              "      <td>426</td>\n",
              "      <td>884500</td>\n",
              "      <td>707,600.00</td>\n",
              "    </tr>\n",
              "    <tr>\n",
              "      <th>4</th>\n",
              "      <td>N002rr3n</td>\n",
              "      <td>namefirst?¨</td>\n",
              "      <td>Argentina</td>\n",
              "      <td>28/3/2019</td>\n",
              "      <td>799301</td>\n",
              "      <td>24825</td>\n",
              "      <td>993</td>\n",
              "      <td>884500</td>\n",
              "      <td>707,600.00</td>\n",
              "    </tr>\n",
              "  </tbody>\n",
              "</table>\n",
              "</div>"
            ],
            "text/plain": [
              "    usuario            nickname  ... max_seguidores_pais    ochenta_porciento\n",
              "0  N002qbs5      TaniaMunira?¨   ...              884500           707,600.00\n",
              "1  N002qiab        SkauSimon?¨   ...              884500           707,600.00\n",
              "2  N002r1a8          ReisAna?¨   ...              884500           707,600.00\n",
              "3  N002rqlw  MaezawaTakahiro?¨   ...              884500           707,600.00\n",
              "4  N002rr3n        namefirst?¨   ...              884500           707,600.00\n",
              "\n",
              "[5 rows x 9 columns]"
            ]
          },
          "metadata": {
            "tags": []
          },
          "execution_count": 23
        }
      ]
    },
    {
      "cell_type": "code",
      "metadata": {
        "id": "DKCU4Z5X_YsF"
      },
      "source": [
        "instagram_usrs['Max80']=instagram_usrs['cantidad_seguidores']>instagram_usrs['ochenta_porciento']"
      ],
      "execution_count": null,
      "outputs": []
    },
    {
      "cell_type": "code",
      "metadata": {
        "id": "6ybv2M6P_1gs",
        "outputId": "e2293494-c00e-43ed-e527-ef3c56640da1",
        "colab": {
          "base_uri": "https://localhost:8080/",
          "height": 69
        }
      },
      "source": [
        "instagram_usrs['Max80'].value_counts()"
      ],
      "execution_count": null,
      "outputs": [
        {
          "output_type": "execute_result",
          "data": {
            "text/plain": [
              "False    169\n",
              "True      31\n",
              "Name: Max80, dtype: int64"
            ]
          },
          "metadata": {
            "tags": []
          },
          "execution_count": 25
        }
      ]
    },
    {
      "cell_type": "code",
      "metadata": {
        "id": "Li7OQpJvACn_"
      },
      "source": [
        "instagram_usrs['Menos15']=(instagram_usrs['cantidad_seguidores']*0.15)>instagram_usrs['cantidad_seguidos']"
      ],
      "execution_count": null,
      "outputs": []
    },
    {
      "cell_type": "code",
      "metadata": {
        "id": "gUn7cU58CBOr",
        "outputId": "7e53a0e9-1461-4cb1-d94d-e3fa133529e0",
        "colab": {
          "base_uri": "https://localhost:8080/",
          "height": 69
        }
      },
      "source": [
        "instagram_usrs['Menos15'].value_counts()"
      ],
      "execution_count": null,
      "outputs": [
        {
          "output_type": "execute_result",
          "data": {
            "text/plain": [
              "False    146\n",
              "True      54\n",
              "Name: Menos15, dtype: int64"
            ]
          },
          "metadata": {
            "tags": []
          },
          "execution_count": 27
        }
      ]
    },
    {
      "cell_type": "code",
      "metadata": {
        "id": "k5KurnFHCL0K",
        "outputId": "a42d3b82-dc14-40fe-af39-1861395bfda6",
        "colab": {
          "base_uri": "https://localhost:8080/",
          "height": 392
        }
      },
      "source": [
        "instagram_usrs.loc[(instagram_usrs['Max80'])&(instagram_usrs['Menos15']),:].nlargest(10,'cantidad_seguidores')"
      ],
      "execution_count": null,
      "outputs": [
        {
          "output_type": "execute_result",
          "data": {
            "text/html": [
              "<div>\n",
              "<style scoped>\n",
              "    .dataframe tbody tr th:only-of-type {\n",
              "        vertical-align: middle;\n",
              "    }\n",
              "\n",
              "    .dataframe tbody tr th {\n",
              "        vertical-align: top;\n",
              "    }\n",
              "\n",
              "    .dataframe thead th {\n",
              "        text-align: right;\n",
              "    }\n",
              "</style>\n",
              "<table border=\"1\" class=\"dataframe\">\n",
              "  <thead>\n",
              "    <tr style=\"text-align: right;\">\n",
              "      <th></th>\n",
              "      <th>usuario</th>\n",
              "      <th>nickname</th>\n",
              "      <th>pais</th>\n",
              "      <th>fecha_alta</th>\n",
              "      <th>cantidad_seguidores</th>\n",
              "      <th>cantidad_seguidos</th>\n",
              "      <th>cantidad_total_publicaciones</th>\n",
              "      <th>max_seguidores_pais</th>\n",
              "      <th>ochenta_porciento</th>\n",
              "      <th>Max80</th>\n",
              "      <th>Menos15</th>\n",
              "    </tr>\n",
              "  </thead>\n",
              "  <tbody>\n",
              "    <tr>\n",
              "      <th>94</th>\n",
              "      <td>N0030kpq</td>\n",
              "      <td>MartinezBelmonteAngel?¨</td>\n",
              "      <td>Brasil</td>\n",
              "      <td>6/12/2019</td>\n",
              "      <td>903879</td>\n",
              "      <td>22596</td>\n",
              "      <td>903</td>\n",
              "      <td>903879</td>\n",
              "      <td>723,103.20</td>\n",
              "      <td>True</td>\n",
              "      <td>True</td>\n",
              "    </tr>\n",
              "    <tr>\n",
              "      <th>186</th>\n",
              "      <td>N002zq9j</td>\n",
              "      <td>AnaMariaGANGA?¨</td>\n",
              "      <td>Mexico</td>\n",
              "      <td>3/5/2020</td>\n",
              "      <td>897432</td>\n",
              "      <td>24358</td>\n",
              "      <td>974</td>\n",
              "      <td>897432</td>\n",
              "      <td>717,945.60</td>\n",
              "      <td>True</td>\n",
              "      <td>True</td>\n",
              "    </tr>\n",
              "    <tr>\n",
              "      <th>143</th>\n",
              "      <td>N002vrqp</td>\n",
              "      <td>GarampiIlaria?¨</td>\n",
              "      <td>Colombia</td>\n",
              "      <td>24/2/2018</td>\n",
              "      <td>896789</td>\n",
              "      <td>24197</td>\n",
              "      <td>967</td>\n",
              "      <td>896789</td>\n",
              "      <td>717,431.20</td>\n",
              "      <td>True</td>\n",
              "      <td>True</td>\n",
              "    </tr>\n",
              "    <tr>\n",
              "      <th>136</th>\n",
              "      <td>N002rw1y</td>\n",
              "      <td>VolintiruAndra?¨</td>\n",
              "      <td>Colombia</td>\n",
              "      <td>10/2/2017</td>\n",
              "      <td>884948</td>\n",
              "      <td>22123</td>\n",
              "      <td>884</td>\n",
              "      <td>896789</td>\n",
              "      <td>717,431.20</td>\n",
              "      <td>True</td>\n",
              "      <td>True</td>\n",
              "    </tr>\n",
              "    <tr>\n",
              "      <th>36</th>\n",
              "      <td>N00307fs</td>\n",
              "      <td>MariaMaximinaGouveia</td>\n",
              "      <td>Argentina</td>\n",
              "      <td>21/1/2018</td>\n",
              "      <td>884500</td>\n",
              "      <td>21125</td>\n",
              "      <td>845</td>\n",
              "      <td>884500</td>\n",
              "      <td>707,600.00</td>\n",
              "      <td>True</td>\n",
              "      <td>True</td>\n",
              "    </tr>\n",
              "    <tr>\n",
              "      <th>27</th>\n",
              "      <td>N002ykux</td>\n",
              "      <td>PennJorgen?¨</td>\n",
              "      <td>Argentina</td>\n",
              "      <td>3/7/2016</td>\n",
              "      <td>877268</td>\n",
              "      <td>19317</td>\n",
              "      <td>772</td>\n",
              "      <td>884500</td>\n",
              "      <td>707,600.00</td>\n",
              "      <td>True</td>\n",
              "      <td>True</td>\n",
              "    </tr>\n",
              "    <tr>\n",
              "      <th>28</th>\n",
              "      <td>N002ypf8</td>\n",
              "      <td>Beltr?ÿnBermeoClaudia?¨</td>\n",
              "      <td>Argentina</td>\n",
              "      <td>25/7/2017</td>\n",
              "      <td>877120</td>\n",
              "      <td>19280</td>\n",
              "      <td>771</td>\n",
              "      <td>884500</td>\n",
              "      <td>707,600.00</td>\n",
              "      <td>True</td>\n",
              "      <td>True</td>\n",
              "    </tr>\n",
              "    <tr>\n",
              "      <th>32</th>\n",
              "      <td>N002zie0</td>\n",
              "      <td>MartiCristina?¨</td>\n",
              "      <td>Argentina</td>\n",
              "      <td>5/2/2019</td>\n",
              "      <td>856485</td>\n",
              "      <td>14121</td>\n",
              "      <td>564</td>\n",
              "      <td>884500</td>\n",
              "      <td>707,600.00</td>\n",
              "      <td>True</td>\n",
              "      <td>True</td>\n",
              "    </tr>\n",
              "    <tr>\n",
              "      <th>63</th>\n",
              "      <td>N002ta4c</td>\n",
              "      <td>CarvalhoCristovao?¨</td>\n",
              "      <td>Brasil</td>\n",
              "      <td>14/7/2017</td>\n",
              "      <td>843368</td>\n",
              "      <td>20842</td>\n",
              "      <td>833</td>\n",
              "      <td>903879</td>\n",
              "      <td>723,103.20</td>\n",
              "      <td>True</td>\n",
              "      <td>True</td>\n",
              "    </tr>\n",
              "    <tr>\n",
              "      <th>137</th>\n",
              "      <td>N002s7wv</td>\n",
              "      <td>RodriguesSilvaFernando?¨</td>\n",
              "      <td>Colombia</td>\n",
              "      <td>16/6/2016</td>\n",
              "      <td>842509</td>\n",
              "      <td>21127</td>\n",
              "      <td>845</td>\n",
              "      <td>896789</td>\n",
              "      <td>717,431.20</td>\n",
              "      <td>True</td>\n",
              "      <td>True</td>\n",
              "    </tr>\n",
              "  </tbody>\n",
              "</table>\n",
              "</div>"
            ],
            "text/plain": [
              "      usuario                   nickname  ... Max80 Menos15\n",
              "94   N0030kpq   MartinezBelmonteAngel?¨   ...  True    True\n",
              "186  N002zq9j           AnaMariaGANGA?¨   ...  True    True\n",
              "143  N002vrqp           GarampiIlaria?¨   ...  True    True\n",
              "136  N002rw1y          VolintiruAndra?¨   ...  True    True\n",
              "36   N00307fs       MariaMaximinaGouveia  ...  True    True\n",
              "27   N002ykux              PennJorgen?¨   ...  True    True\n",
              "28   N002ypf8   Beltr?ÿnBermeoClaudia?¨   ...  True    True\n",
              "32   N002zie0           MartiCristina?¨   ...  True    True\n",
              "63   N002ta4c       CarvalhoCristovao?¨   ...  True    True\n",
              "137  N002s7wv  RodriguesSilvaFernando?¨   ...  True    True\n",
              "\n",
              "[10 rows x 11 columns]"
            ]
          },
          "metadata": {
            "tags": []
          },
          "execution_count": 28
        }
      ]
    },
    {
      "cell_type": "markdown",
      "metadata": {
        "id": "EBbbgD50Dq0M"
      },
      "source": [
        "Ahora usando transform"
      ]
    },
    {
      "cell_type": "code",
      "metadata": {
        "id": "Gd6NoEqpDso9",
        "outputId": "e1203270-33f4-49bb-fa4c-053dcff1b425",
        "colab": {
          "base_uri": "https://localhost:8080/",
          "height": 256
        }
      },
      "source": [
        "instagram_usrs = pd.read_csv('Instagram_Usrs.csv', encoding='latin1',sep=';')\n",
        "instagram_usrs.head()"
      ],
      "execution_count": null,
      "outputs": [
        {
          "output_type": "execute_result",
          "data": {
            "text/html": [
              "<div>\n",
              "<style scoped>\n",
              "    .dataframe tbody tr th:only-of-type {\n",
              "        vertical-align: middle;\n",
              "    }\n",
              "\n",
              "    .dataframe tbody tr th {\n",
              "        vertical-align: top;\n",
              "    }\n",
              "\n",
              "    .dataframe thead th {\n",
              "        text-align: right;\n",
              "    }\n",
              "</style>\n",
              "<table border=\"1\" class=\"dataframe\">\n",
              "  <thead>\n",
              "    <tr style=\"text-align: right;\">\n",
              "      <th></th>\n",
              "      <th>usuario</th>\n",
              "      <th>nickname</th>\n",
              "      <th>pais</th>\n",
              "      <th>fecha_alta</th>\n",
              "      <th>cantidad_seguidores</th>\n",
              "      <th>cantidad_seguidos</th>\n",
              "      <th>cantidad_total_publicaciones</th>\n",
              "    </tr>\n",
              "  </thead>\n",
              "  <tbody>\n",
              "    <tr>\n",
              "      <th>0</th>\n",
              "      <td>N002qbs5</td>\n",
              "      <td>TaniaMunira?¨</td>\n",
              "      <td>Argentina</td>\n",
              "      <td>17/1/2017</td>\n",
              "      <td>480380</td>\n",
              "      <td>12009</td>\n",
              "      <td>480</td>\n",
              "    </tr>\n",
              "    <tr>\n",
              "      <th>1</th>\n",
              "      <td>N002qd07</td>\n",
              "      <td>LiotirisChristos?¨</td>\n",
              "      <td>Brasil</td>\n",
              "      <td>28/5/2019</td>\n",
              "      <td>668979</td>\n",
              "      <td>16727</td>\n",
              "      <td>669</td>\n",
              "    </tr>\n",
              "    <tr>\n",
              "      <th>2</th>\n",
              "      <td>N002qhoi</td>\n",
              "      <td>GageBenjamin?¨</td>\n",
              "      <td>Chile</td>\n",
              "      <td>2/5/2018</td>\n",
              "      <td>5071</td>\n",
              "      <td>1267</td>\n",
              "      <td>50</td>\n",
              "    </tr>\n",
              "    <tr>\n",
              "      <th>3</th>\n",
              "      <td>N002qiab</td>\n",
              "      <td>SkauSimon?¨</td>\n",
              "      <td>Argentina</td>\n",
              "      <td>29/3/2017</td>\n",
              "      <td>81952</td>\n",
              "      <td>20488</td>\n",
              "      <td>819</td>\n",
              "    </tr>\n",
              "    <tr>\n",
              "      <th>4</th>\n",
              "      <td>N002qqtm</td>\n",
              "      <td>Kolaretakis</td>\n",
              "      <td>Brasil</td>\n",
              "      <td>15/9/2019</td>\n",
              "      <td>76545</td>\n",
              "      <td>19136</td>\n",
              "      <td>765</td>\n",
              "    </tr>\n",
              "  </tbody>\n",
              "</table>\n",
              "</div>"
            ],
            "text/plain": [
              "    usuario  ... cantidad_total_publicaciones\n",
              "0  N002qbs5  ...                          480\n",
              "1  N002qd07  ...                          669\n",
              "2  N002qhoi  ...                           50\n",
              "3  N002qiab  ...                          819\n",
              "4  N002qqtm  ...                          765\n",
              "\n",
              "[5 rows x 7 columns]"
            ]
          },
          "metadata": {
            "tags": []
          },
          "execution_count": 29
        }
      ]
    },
    {
      "cell_type": "code",
      "metadata": {
        "id": "IoVTqFwqEJjm"
      },
      "source": [
        "instagram_usrs['max_pais']=instagram_usrs[['pais','cantidad_seguidores']].groupby('pais').transform('max')"
      ],
      "execution_count": null,
      "outputs": []
    },
    {
      "cell_type": "code",
      "metadata": {
        "id": "K5UtP-9vFAij",
        "outputId": "70950d56-8b80-4c10-d6c5-b11541b0e52e",
        "colab": {
          "base_uri": "https://localhost:8080/",
          "height": 452
        }
      },
      "source": [
        "instagram_usrs"
      ],
      "execution_count": null,
      "outputs": [
        {
          "output_type": "execute_result",
          "data": {
            "text/html": [
              "<div>\n",
              "<style scoped>\n",
              "    .dataframe tbody tr th:only-of-type {\n",
              "        vertical-align: middle;\n",
              "    }\n",
              "\n",
              "    .dataframe tbody tr th {\n",
              "        vertical-align: top;\n",
              "    }\n",
              "\n",
              "    .dataframe thead th {\n",
              "        text-align: right;\n",
              "    }\n",
              "</style>\n",
              "<table border=\"1\" class=\"dataframe\">\n",
              "  <thead>\n",
              "    <tr style=\"text-align: right;\">\n",
              "      <th></th>\n",
              "      <th>usuario</th>\n",
              "      <th>nickname</th>\n",
              "      <th>pais</th>\n",
              "      <th>fecha_alta</th>\n",
              "      <th>cantidad_seguidores</th>\n",
              "      <th>cantidad_seguidos</th>\n",
              "      <th>cantidad_total_publicaciones</th>\n",
              "      <th>max_pais</th>\n",
              "    </tr>\n",
              "  </thead>\n",
              "  <tbody>\n",
              "    <tr>\n",
              "      <th>0</th>\n",
              "      <td>N002qbs5</td>\n",
              "      <td>TaniaMunira?¨</td>\n",
              "      <td>Argentina</td>\n",
              "      <td>17/1/2017</td>\n",
              "      <td>480380</td>\n",
              "      <td>12009</td>\n",
              "      <td>480</td>\n",
              "      <td>884500</td>\n",
              "    </tr>\n",
              "    <tr>\n",
              "      <th>1</th>\n",
              "      <td>N002qd07</td>\n",
              "      <td>LiotirisChristos?¨</td>\n",
              "      <td>Brasil</td>\n",
              "      <td>28/5/2019</td>\n",
              "      <td>668979</td>\n",
              "      <td>16727</td>\n",
              "      <td>669</td>\n",
              "      <td>903879</td>\n",
              "    </tr>\n",
              "    <tr>\n",
              "      <th>2</th>\n",
              "      <td>N002qhoi</td>\n",
              "      <td>GageBenjamin?¨</td>\n",
              "      <td>Chile</td>\n",
              "      <td>2/5/2018</td>\n",
              "      <td>5071</td>\n",
              "      <td>1267</td>\n",
              "      <td>50</td>\n",
              "      <td>839094</td>\n",
              "    </tr>\n",
              "    <tr>\n",
              "      <th>3</th>\n",
              "      <td>N002qiab</td>\n",
              "      <td>SkauSimon?¨</td>\n",
              "      <td>Argentina</td>\n",
              "      <td>29/3/2017</td>\n",
              "      <td>81952</td>\n",
              "      <td>20488</td>\n",
              "      <td>819</td>\n",
              "      <td>884500</td>\n",
              "    </tr>\n",
              "    <tr>\n",
              "      <th>4</th>\n",
              "      <td>N002qqtm</td>\n",
              "      <td>Kolaretakis</td>\n",
              "      <td>Brasil</td>\n",
              "      <td>15/9/2019</td>\n",
              "      <td>76545</td>\n",
              "      <td>19136</td>\n",
              "      <td>765</td>\n",
              "      <td>903879</td>\n",
              "    </tr>\n",
              "    <tr>\n",
              "      <th>...</th>\n",
              "      <td>...</td>\n",
              "      <td>...</td>\n",
              "      <td>...</td>\n",
              "      <td>...</td>\n",
              "      <td>...</td>\n",
              "      <td>...</td>\n",
              "      <td>...</td>\n",
              "      <td>...</td>\n",
              "    </tr>\n",
              "    <tr>\n",
              "      <th>195</th>\n",
              "      <td>N00339sf</td>\n",
              "      <td>vaasukivaasuki?¨</td>\n",
              "      <td>Brasil</td>\n",
              "      <td>18/8/2016</td>\n",
              "      <td>45845</td>\n",
              "      <td>11461</td>\n",
              "      <td>458</td>\n",
              "      <td>903879</td>\n",
              "    </tr>\n",
              "    <tr>\n",
              "      <th>196</th>\n",
              "      <td>N00339si</td>\n",
              "      <td>Deutsch Peter?¨</td>\n",
              "      <td>Brasil</td>\n",
              "      <td>14/1/2020</td>\n",
              "      <td>11819</td>\n",
              "      <td>2954</td>\n",
              "      <td>118</td>\n",
              "      <td>903879</td>\n",
              "    </tr>\n",
              "    <tr>\n",
              "      <th>197</th>\n",
              "      <td>N0033bwv</td>\n",
              "      <td>olivajohnolivajohn?¨</td>\n",
              "      <td>Brasil</td>\n",
              "      <td>29/6/2019</td>\n",
              "      <td>32858</td>\n",
              "      <td>8214</td>\n",
              "      <td>328</td>\n",
              "      <td>903879</td>\n",
              "    </tr>\n",
              "    <tr>\n",
              "      <th>198</th>\n",
              "      <td>N0033fpv</td>\n",
              "      <td>MorariAna?¨</td>\n",
              "      <td>Brasil</td>\n",
              "      <td>12/3/2019</td>\n",
              "      <td>43301</td>\n",
              "      <td>10825</td>\n",
              "      <td>433</td>\n",
              "      <td>903879</td>\n",
              "    </tr>\n",
              "    <tr>\n",
              "      <th>199</th>\n",
              "      <td>N0033iny</td>\n",
              "      <td>Schneiderov?ÿ</td>\n",
              "      <td>Argentina</td>\n",
              "      <td>15/12/2018</td>\n",
              "      <td>1703</td>\n",
              "      <td>425</td>\n",
              "      <td>17</td>\n",
              "      <td>884500</td>\n",
              "    </tr>\n",
              "  </tbody>\n",
              "</table>\n",
              "<p>200 rows × 8 columns</p>\n",
              "</div>"
            ],
            "text/plain": [
              "      usuario               nickname  ... cantidad_total_publicaciones max_pais\n",
              "0    N002qbs5         TaniaMunira?¨   ...                          480   884500\n",
              "1    N002qd07    LiotirisChristos?¨   ...                          669   903879\n",
              "2    N002qhoi        GageBenjamin?¨   ...                           50   839094\n",
              "3    N002qiab           SkauSimon?¨   ...                          819   884500\n",
              "4    N002qqtm            Kolaretakis  ...                          765   903879\n",
              "..        ...                    ...  ...                          ...      ...\n",
              "195  N00339sf      vaasukivaasuki?¨   ...                          458   903879\n",
              "196  N00339si       Deutsch Peter?¨   ...                          118   903879\n",
              "197  N0033bwv  olivajohnolivajohn?¨   ...                          328   903879\n",
              "198  N0033fpv           MorariAna?¨   ...                          433   903879\n",
              "199  N0033iny         Schneiderov?ÿ   ...                           17   884500\n",
              "\n",
              "[200 rows x 8 columns]"
            ]
          },
          "metadata": {
            "tags": []
          },
          "execution_count": 33
        }
      ]
    },
    {
      "cell_type": "code",
      "metadata": {
        "id": "-y_XD8iuFLDs"
      },
      "source": [
        "instagram_usrs['Mas80']=instagram_usrs['cantidad_seguidores']>(instagram_usrs['max_pais']*0.8)"
      ],
      "execution_count": null,
      "outputs": []
    },
    {
      "cell_type": "code",
      "metadata": {
        "id": "nCd7izPnFZt3",
        "outputId": "2e427a83-c205-48e4-8bc5-cf46dc3f678c",
        "colab": {
          "base_uri": "https://localhost:8080/",
          "height": 256
        }
      },
      "source": [
        "instagram_usrs.head()"
      ],
      "execution_count": null,
      "outputs": [
        {
          "output_type": "execute_result",
          "data": {
            "text/html": [
              "<div>\n",
              "<style scoped>\n",
              "    .dataframe tbody tr th:only-of-type {\n",
              "        vertical-align: middle;\n",
              "    }\n",
              "\n",
              "    .dataframe tbody tr th {\n",
              "        vertical-align: top;\n",
              "    }\n",
              "\n",
              "    .dataframe thead th {\n",
              "        text-align: right;\n",
              "    }\n",
              "</style>\n",
              "<table border=\"1\" class=\"dataframe\">\n",
              "  <thead>\n",
              "    <tr style=\"text-align: right;\">\n",
              "      <th></th>\n",
              "      <th>usuario</th>\n",
              "      <th>nickname</th>\n",
              "      <th>pais</th>\n",
              "      <th>fecha_alta</th>\n",
              "      <th>cantidad_seguidores</th>\n",
              "      <th>cantidad_seguidos</th>\n",
              "      <th>cantidad_total_publicaciones</th>\n",
              "      <th>max_pais</th>\n",
              "      <th>Mas80</th>\n",
              "    </tr>\n",
              "  </thead>\n",
              "  <tbody>\n",
              "    <tr>\n",
              "      <th>0</th>\n",
              "      <td>N002qbs5</td>\n",
              "      <td>TaniaMunira?¨</td>\n",
              "      <td>Argentina</td>\n",
              "      <td>17/1/2017</td>\n",
              "      <td>480380</td>\n",
              "      <td>12009</td>\n",
              "      <td>480</td>\n",
              "      <td>884500</td>\n",
              "      <td>False</td>\n",
              "    </tr>\n",
              "    <tr>\n",
              "      <th>1</th>\n",
              "      <td>N002qd07</td>\n",
              "      <td>LiotirisChristos?¨</td>\n",
              "      <td>Brasil</td>\n",
              "      <td>28/5/2019</td>\n",
              "      <td>668979</td>\n",
              "      <td>16727</td>\n",
              "      <td>669</td>\n",
              "      <td>903879</td>\n",
              "      <td>False</td>\n",
              "    </tr>\n",
              "    <tr>\n",
              "      <th>2</th>\n",
              "      <td>N002qhoi</td>\n",
              "      <td>GageBenjamin?¨</td>\n",
              "      <td>Chile</td>\n",
              "      <td>2/5/2018</td>\n",
              "      <td>5071</td>\n",
              "      <td>1267</td>\n",
              "      <td>50</td>\n",
              "      <td>839094</td>\n",
              "      <td>False</td>\n",
              "    </tr>\n",
              "    <tr>\n",
              "      <th>3</th>\n",
              "      <td>N002qiab</td>\n",
              "      <td>SkauSimon?¨</td>\n",
              "      <td>Argentina</td>\n",
              "      <td>29/3/2017</td>\n",
              "      <td>81952</td>\n",
              "      <td>20488</td>\n",
              "      <td>819</td>\n",
              "      <td>884500</td>\n",
              "      <td>False</td>\n",
              "    </tr>\n",
              "    <tr>\n",
              "      <th>4</th>\n",
              "      <td>N002qqtm</td>\n",
              "      <td>Kolaretakis</td>\n",
              "      <td>Brasil</td>\n",
              "      <td>15/9/2019</td>\n",
              "      <td>76545</td>\n",
              "      <td>19136</td>\n",
              "      <td>765</td>\n",
              "      <td>903879</td>\n",
              "      <td>False</td>\n",
              "    </tr>\n",
              "  </tbody>\n",
              "</table>\n",
              "</div>"
            ],
            "text/plain": [
              "    usuario             nickname  ... max_pais  Mas80\n",
              "0  N002qbs5       TaniaMunira?¨   ...   884500  False\n",
              "1  N002qd07  LiotirisChristos?¨   ...   903879  False\n",
              "2  N002qhoi      GageBenjamin?¨   ...   839094  False\n",
              "3  N002qiab         SkauSimon?¨   ...   884500  False\n",
              "4  N002qqtm          Kolaretakis  ...   903879  False\n",
              "\n",
              "[5 rows x 9 columns]"
            ]
          },
          "metadata": {
            "tags": []
          },
          "execution_count": 35
        }
      ]
    },
    {
      "cell_type": "code",
      "metadata": {
        "id": "N5IAEK-aFe50",
        "outputId": "8599fc28-a901-4027-8564-0520954fe6c5",
        "colab": {
          "base_uri": "https://localhost:8080/",
          "height": 69
        }
      },
      "source": [
        "instagram_usrs['Mas80'].value_counts()"
      ],
      "execution_count": null,
      "outputs": [
        {
          "output_type": "execute_result",
          "data": {
            "text/plain": [
              "False    169\n",
              "True      31\n",
              "Name: Mas80, dtype: int64"
            ]
          },
          "metadata": {
            "tags": []
          },
          "execution_count": 36
        }
      ]
    },
    {
      "cell_type": "code",
      "metadata": {
        "id": "0L7I4XnZFqTR"
      },
      "source": [
        "instagram_usrs['Menos15']=(instagram_usrs['cantidad_seguidores']*0.15)>instagram_usrs['cantidad_seguidos']"
      ],
      "execution_count": null,
      "outputs": []
    },
    {
      "cell_type": "code",
      "metadata": {
        "id": "i5DOAtK_F6Ha",
        "outputId": "7d067d4e-0137-4147-9e84-182815588361",
        "colab": {
          "base_uri": "https://localhost:8080/",
          "height": 69
        }
      },
      "source": [
        "instagram_usrs['Menos15'].value_counts()"
      ],
      "execution_count": null,
      "outputs": [
        {
          "output_type": "execute_result",
          "data": {
            "text/plain": [
              "False    146\n",
              "True      54\n",
              "Name: Menos15, dtype: int64"
            ]
          },
          "metadata": {
            "tags": []
          },
          "execution_count": 38
        }
      ]
    },
    {
      "cell_type": "code",
      "metadata": {
        "id": "l34XkXLQGAlJ",
        "outputId": "93467d8a-4b04-4d4a-c97e-50c5a0581efa",
        "colab": {
          "base_uri": "https://localhost:8080/",
          "height": 392
        }
      },
      "source": [
        "instagram_usrs.loc[(instagram_usrs['Mas80'])&(instagram_usrs['Menos15']),:].nlargest(10,'cantidad_seguidores')"
      ],
      "execution_count": null,
      "outputs": [
        {
          "output_type": "execute_result",
          "data": {
            "text/html": [
              "<div>\n",
              "<style scoped>\n",
              "    .dataframe tbody tr th:only-of-type {\n",
              "        vertical-align: middle;\n",
              "    }\n",
              "\n",
              "    .dataframe tbody tr th {\n",
              "        vertical-align: top;\n",
              "    }\n",
              "\n",
              "    .dataframe thead th {\n",
              "        text-align: right;\n",
              "    }\n",
              "</style>\n",
              "<table border=\"1\" class=\"dataframe\">\n",
              "  <thead>\n",
              "    <tr style=\"text-align: right;\">\n",
              "      <th></th>\n",
              "      <th>usuario</th>\n",
              "      <th>nickname</th>\n",
              "      <th>pais</th>\n",
              "      <th>fecha_alta</th>\n",
              "      <th>cantidad_seguidores</th>\n",
              "      <th>cantidad_seguidos</th>\n",
              "      <th>cantidad_total_publicaciones</th>\n",
              "      <th>max_pais</th>\n",
              "      <th>Mas80</th>\n",
              "      <th>Menos15</th>\n",
              "    </tr>\n",
              "  </thead>\n",
              "  <tbody>\n",
              "    <tr>\n",
              "      <th>148</th>\n",
              "      <td>N0030kpq</td>\n",
              "      <td>MartinezBelmonteAngel?¨</td>\n",
              "      <td>Brasil</td>\n",
              "      <td>6/12/2019</td>\n",
              "      <td>903879</td>\n",
              "      <td>22596</td>\n",
              "      <td>903</td>\n",
              "      <td>903879</td>\n",
              "      <td>True</td>\n",
              "      <td>True</td>\n",
              "    </tr>\n",
              "    <tr>\n",
              "      <th>135</th>\n",
              "      <td>N002zq9j</td>\n",
              "      <td>AnaMariaGANGA?¨</td>\n",
              "      <td>Mexico</td>\n",
              "      <td>3/5/2020</td>\n",
              "      <td>897432</td>\n",
              "      <td>24358</td>\n",
              "      <td>974</td>\n",
              "      <td>897432</td>\n",
              "      <td>True</td>\n",
              "      <td>True</td>\n",
              "    </tr>\n",
              "    <tr>\n",
              "      <th>81</th>\n",
              "      <td>N002vrqp</td>\n",
              "      <td>GarampiIlaria?¨</td>\n",
              "      <td>Colombia</td>\n",
              "      <td>24/2/2018</td>\n",
              "      <td>896789</td>\n",
              "      <td>24197</td>\n",
              "      <td>967</td>\n",
              "      <td>896789</td>\n",
              "      <td>True</td>\n",
              "      <td>True</td>\n",
              "    </tr>\n",
              "    <tr>\n",
              "      <th>24</th>\n",
              "      <td>N002rw1y</td>\n",
              "      <td>VolintiruAndra?¨</td>\n",
              "      <td>Colombia</td>\n",
              "      <td>10/2/2017</td>\n",
              "      <td>884948</td>\n",
              "      <td>22123</td>\n",
              "      <td>884</td>\n",
              "      <td>896789</td>\n",
              "      <td>True</td>\n",
              "      <td>True</td>\n",
              "    </tr>\n",
              "    <tr>\n",
              "      <th>144</th>\n",
              "      <td>N00307fs</td>\n",
              "      <td>MariaMaximinaGouveia</td>\n",
              "      <td>Argentina</td>\n",
              "      <td>21/1/2018</td>\n",
              "      <td>884500</td>\n",
              "      <td>21125</td>\n",
              "      <td>845</td>\n",
              "      <td>884500</td>\n",
              "      <td>True</td>\n",
              "      <td>True</td>\n",
              "    </tr>\n",
              "    <tr>\n",
              "      <th>108</th>\n",
              "      <td>N002ykux</td>\n",
              "      <td>PennJorgen?¨</td>\n",
              "      <td>Argentina</td>\n",
              "      <td>3/7/2016</td>\n",
              "      <td>877268</td>\n",
              "      <td>19317</td>\n",
              "      <td>772</td>\n",
              "      <td>884500</td>\n",
              "      <td>True</td>\n",
              "      <td>True</td>\n",
              "    </tr>\n",
              "    <tr>\n",
              "      <th>111</th>\n",
              "      <td>N002ypf8</td>\n",
              "      <td>Beltr?ÿnBermeoClaudia?¨</td>\n",
              "      <td>Argentina</td>\n",
              "      <td>25/7/2017</td>\n",
              "      <td>877120</td>\n",
              "      <td>19280</td>\n",
              "      <td>771</td>\n",
              "      <td>884500</td>\n",
              "      <td>True</td>\n",
              "      <td>True</td>\n",
              "    </tr>\n",
              "    <tr>\n",
              "      <th>129</th>\n",
              "      <td>N002zie0</td>\n",
              "      <td>MartiCristina?¨</td>\n",
              "      <td>Argentina</td>\n",
              "      <td>5/2/2019</td>\n",
              "      <td>856485</td>\n",
              "      <td>14121</td>\n",
              "      <td>564</td>\n",
              "      <td>884500</td>\n",
              "      <td>True</td>\n",
              "      <td>True</td>\n",
              "    </tr>\n",
              "    <tr>\n",
              "      <th>47</th>\n",
              "      <td>N002ta4c</td>\n",
              "      <td>CarvalhoCristovao?¨</td>\n",
              "      <td>Brasil</td>\n",
              "      <td>14/7/2017</td>\n",
              "      <td>843368</td>\n",
              "      <td>20842</td>\n",
              "      <td>833</td>\n",
              "      <td>903879</td>\n",
              "      <td>True</td>\n",
              "      <td>True</td>\n",
              "    </tr>\n",
              "    <tr>\n",
              "      <th>32</th>\n",
              "      <td>N002s7wv</td>\n",
              "      <td>RodriguesSilvaFernando?¨</td>\n",
              "      <td>Colombia</td>\n",
              "      <td>16/6/2016</td>\n",
              "      <td>842509</td>\n",
              "      <td>21127</td>\n",
              "      <td>845</td>\n",
              "      <td>896789</td>\n",
              "      <td>True</td>\n",
              "      <td>True</td>\n",
              "    </tr>\n",
              "  </tbody>\n",
              "</table>\n",
              "</div>"
            ],
            "text/plain": [
              "      usuario                   nickname       pais  ... max_pais  Mas80  Menos15\n",
              "148  N0030kpq   MartinezBelmonteAngel?¨      Brasil  ...   903879   True     True\n",
              "135  N002zq9j           AnaMariaGANGA?¨      Mexico  ...   897432   True     True\n",
              "81   N002vrqp           GarampiIlaria?¨    Colombia  ...   896789   True     True\n",
              "24   N002rw1y          VolintiruAndra?¨    Colombia  ...   896789   True     True\n",
              "144  N00307fs       MariaMaximinaGouveia  Argentina  ...   884500   True     True\n",
              "108  N002ykux              PennJorgen?¨   Argentina  ...   884500   True     True\n",
              "111  N002ypf8   Beltr?ÿnBermeoClaudia?¨   Argentina  ...   884500   True     True\n",
              "129  N002zie0           MartiCristina?¨   Argentina  ...   884500   True     True\n",
              "47   N002ta4c       CarvalhoCristovao?¨      Brasil  ...   903879   True     True\n",
              "32   N002s7wv  RodriguesSilvaFernando?¨    Colombia  ...   896789   True     True\n",
              "\n",
              "[10 rows x 10 columns]"
            ]
          },
          "metadata": {
            "tags": []
          },
          "execution_count": 40
        }
      ]
    }
  ]
}