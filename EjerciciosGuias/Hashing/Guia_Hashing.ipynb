{
  "nbformat": 4,
  "nbformat_minor": 0,
  "metadata": {
    "colab": {
      "name": "Guia Hashing",
      "provenance": [],
      "collapsed_sections": []
    },
    "kernelspec": {
      "name": "python3",
      "display_name": "Python 3"
    }
  },
  "cells": [
    {
      "cell_type": "markdown",
      "metadata": {
        "id": "xeZpZZkxAQIE"
      },
      "source": [
        "\n",
        "1 ) \n",
        "\n",
        "Al construir una función de hashing perfecta y mínima con el método visto en clase explique por que es necesario que M sea mayor a N.  \n"
      ]
    },
    {
      "cell_type": "code",
      "metadata": {
        "id": "Q08UUg5iARj-"
      },
      "source": [
        "M = espacio de claves\n",
        "N = espacio de direcciones\n",
        "\n",
        "Al construir una función de hashing perfecta y mínima es necesario que M sea mayor a N ya que la probabilidad de colisiones es m/n. El problema es que si n es mayor a M vamos \n",
        "a tener una tabla de hash con más capacidad de la que queremos y es un desperdicio muy grande espacio y probablemente no tengamos lugar suficiente. Por lo tanto si M\n",
        "es mayor a N vamos a tener menor probabilidad de colisiones U W U"
      ],
      "execution_count": null,
      "outputs": []
    },
    {
      "cell_type": "markdown",
      "metadata": {
        "id": "OGMLb0GmGOLB"
      },
      "source": [
        "2 )\n",
        "\n",
        "Encontrar el m mínimo y los parámetros a y b de forma tal que la función de hashing ax + b mod m sea perfecta para las siguientes claves: 1,3,5,12 "
      ]
    },
    {
      "cell_type": "code",
      "metadata": {
        "id": "f14OwN54ENLQ"
      },
      "source": [
        "m = 5 porque es el primo es mayor a la cant de claves\n",
        "H(x) = ax + b (mod m)\n",
        "\n",
        "Con a = 1 , b = 0 y m = 5\n",
        "\n",
        "x mod 5\n",
        "\n",
        "Sin coliciones padre"
      ],
      "execution_count": null,
      "outputs": []
    },
    {
      "cell_type": "markdown",
      "metadata": {
        "id": "xTzCzZy0WP-9"
      },
      "source": [
        "3 )\n",
        "Tenemos vectores en 4 dimensiones y usamos “the hashing trick” usando el método de una única función de hashing (es decir sin signo) para reducirlos a 3 dimensiones. Sabemos que la matriz asociada a la función de hashing usada es la siguiente (por filas): [1,0,0; 0,0,1; 0,1,0; 1,0,0]. Se pide construir la función de hashing h(x) equivalente a la matriz presentada."
      ]
    },
    {
      "cell_type": "code",
      "metadata": {
        "id": "PIWHO69vWTRc"
      },
      "source": [
        "(a,b,c,d) * [1,0,0 = (a+d,c,b)\n",
        "             0,0,1\n",
        "             0,1,0 \n",
        "             1,0,0]\n",
        "\n",
        "\n",
        "h(x) = ((a ∗ x + b) %5) %3\n"
      ],
      "execution_count": null,
      "outputs": []
    },
    {
      "cell_type": "markdown",
      "metadata": {
        "id": "GJ_AyGs_WoGt"
      },
      "source": [
        "4)\n",
        "Dada la siguiente función de hashing que pertenece a la familia Universal de Carter-Wegman para números enteros: h(x) = [(4*x + 3) mod 13] mod 5 . Usamos h para construir un esquema FKS para las siguientes claves: 20,40,70,10,100. Indicar la estructura final resultante y la en caso de ser necesario la segunda función de hashing a usar para el segundo nivel teniendo en cuenta que debe ser pertenecer a la familia [(a*x + b ) mod 13] mod m"
      ]
    },
    {
      "cell_type": "code",
      "metadata": {
        "id": "YwV8AgHjX1aQ",
        "outputId": "74670336-d2c4-467b-c335-a0810ee8ddaf",
        "colab": {
          "base_uri": "https://localhost:8080/"
        }
      },
      "source": [
        "h = lambda x: ((4*x + 3))%13%5\n",
        "\n",
        "vector = [h(20), h(40),h(70),h(10),h(100)]\n",
        "\n",
        "print(vector)"
      ],
      "execution_count": null,
      "outputs": [
        {
          "output_type": "stream",
          "text": [
            "[0, 2, 0, 4, 0]\n"
          ],
          "name": "stdout"
        }
      ]
    },
    {
      "cell_type": "markdown",
      "metadata": {
        "id": "gl5sPfftYBbM"
      },
      "source": [
        "0 = 20, 70, 100\n",
        "\n",
        "2 = 40\n",
        "\n",
        "4 = 10"
      ]
    },
    {
      "cell_type": "code",
      "metadata": {
        "id": "NejfnIS_YA9z",
        "outputId": "7dd99902-ead4-4f92-e99b-eb663a05770c",
        "colab": {
          "base_uri": "https://localhost:8080/"
        }
      },
      "source": [
        "h1 = lambda x: x%11\n",
        "\n",
        "vector2 = [h1(20), h1(70), h1(100)]\n",
        "\n",
        "print(vector2)"
      ],
      "execution_count": null,
      "outputs": [
        {
          "output_type": "stream",
          "text": [
            "[9, 4, 1]\n"
          ],
          "name": "stdout"
        }
      ]
    },
    {
      "cell_type": "markdown",
      "metadata": {
        "id": "GxUn4MvKYeYd"
      },
      "source": [
        "9 = 20\n",
        "\n",
        "4 = 70\n",
        "\n",
        "1 = 100\n",
        "\n",
        "0 = tabla1(x mod 11)\n",
        "\n",
        "2 = tabla2(x mod 1)\n",
        "\n",
        "4 = tabla3(x mod 1)"
      ]
    },
    {
      "cell_type": "markdown",
      "metadata": {
        "id": "ULA_1w0GX_ee"
      },
      "source": [
        "5) Tenemos un total de 10.000 claves de 32 bytes c/u. Si usamos el esquema FKS y la primer tabla tiene 1000 posiciones. ¿Cuánto espacio necesitamos en total para almacenar las 10.000 claves? "
      ]
    },
    {
      "cell_type": "markdown",
      "metadata": {
        "id": "usP3nX1iYxdz"
      },
      "source": [
        "como son 1000 espacios en la tabla y esas 1000 posiciones guardan distintas tablsa donde cada una de ellas en total suman las 10.000 claves se puede decir que (10.000 + 1000) * 32 bytes es el espacio que se necesita para almacenar las 10.000 claves.\n",
        "\n",
        "Tambien hay que tener en cuenta que para cada tabla existe una funcion de hashing de la forma h(x) = (a*x + b) mod m donde a, b y m son integers que ocupan su espacio en la memoria. Entonces serian 3 ints * 1000 posiciones = 3000 ints en memoria\n",
        "\n",
        "Ampliando (10.000 claves + 1000 posiciones + 3000 ints) * 32 bytes es el espacio que se necesita."
      ]
    },
    {
      "cell_type": "markdown",
      "metadata": {
        "id": "YGITObCafwjU"
      },
      "source": [
        "6) Supongamos que asignamos a cada letra del alfabeto un número de la forma A=1, B=2, C=3, etc... Proponemos como función de hashing sumar el valor correspondiente a cada carácter del string y luego tomar el módulo con un cierto número primo p. Analizar la función propuesta indicando: \n",
        "\n",
        "a) Cantidad de colisiones \n",
        "\n",
        "b) Facilidad de encontrar sinónimos \n",
        "\n",
        "c) Eficiencia \n",
        "\n",
        "d) Efecto avalancha"
      ]
    },
    {
      "cell_type": "markdown",
      "metadata": {
        "id": "JHeja3KSf2ju"
      },
      "source": [
        "vector = ['hola', 'soy','peronista']\n",
        "vector = [5, 6, 12]"
      ]
    },
    {
      "cell_type": "code",
      "metadata": {
        "id": "aMlzLbAUg7Zr"
      },
      "source": [
        "h(x) = lambda x: ((a**i)x)%p"
      ],
      "execution_count": null,
      "outputs": []
    },
    {
      "cell_type": "markdown",
      "metadata": {
        "id": "jqg0ez02lIjV"
      },
      "source": [
        "Creemos (no sabemos si es asi) (agarrar con tenaza) (WARNING)\n",
        "para mas y mejor info leer pag 229 del resumen de Argerich.\n",
        "\n",
        "hash para longitud variable\n",
        "\n",
        "se toma una longitud maxima (la palabra mas larga del diccionario, en este caso) la llamamos l, luego se aplica la funcion hash mencionada arriba con un p (numero primo muy grande) y se hace una sumatoria de i = 1 hasta i = l. Donde se toma tuplas de una longitud fija y al llegar al final la ultima tupla no queda de esa longitud (muy probablemente no quede) se agraga un padding que lo completa.\n",
        "\n",
        "a) La cantidad de colisiones son pocas, que es lo que se le pide a toda funcion de hash.\n",
        "\n",
        "b) GUARDA CHAMUYO. creemos que no es facil encontrar sinonimos ya que usamos una funcion criptografica que tiene en cuenta la posicion de los caracteres ademas de su valor y en las criptograficas es dificil encontrar x e y tal que h(x) = h(y)\n",
        "\n",
        "c) GUARDA CHAMUYO. creemos que es eficiente (investigar mas)\n",
        "\n",
        "d) Al ser criptografica esto es una de las cosas que se les pide a los hashes de este estilo. Donde si se cambia un valor del hash este cambia mucho."
      ]
    },
    {
      "cell_type": "markdown",
      "metadata": {
        "id": "G1Q3lyFQoTKs"
      },
      "source": [
        "# 7) Determinar si las siguientes afirmaciones son V / F justificando la respuesta:"
      ]
    },
    {
      "cell_type": "markdown",
      "metadata": {
        "id": "jj4G9mjaqcb0"
      },
      "source": [
        "**No estan todas porque las que no estan, estan en el resuelto.**"
      ]
    },
    {
      "cell_type": "markdown",
      "metadata": {
        "id": "GKdQDz7PocFc"
      },
      "source": [
        "a) Una función de hashing criptográfica produce muy pocas colisiones."
      ]
    },
    {
      "cell_type": "markdown",
      "metadata": {
        "id": "YLiUpd2Qoiqi"
      },
      "source": [
        "**Verdadero**. Aclaracion no especificamente a las criptograficas se les pide que tengan pocas coliciones sino que a toda funcion de hash se le pide eso."
      ]
    },
    {
      "cell_type": "markdown",
      "metadata": {
        "id": "KpoPVcuco0te"
      },
      "source": [
        "b) La construcción de DavisMeyer es necesaria para que la función de hashing produzca muy pocas colisiones. "
      ]
    },
    {
      "cell_type": "markdown",
      "metadata": {
        "id": "sQ_rsruQo9E5"
      },
      "source": [
        "**Falso**. porque la construccion DM apunta a sea dificil encontrar colisiones no a que haya pocas."
      ]
    },
    {
      "cell_type": "markdown",
      "metadata": {
        "id": "sjgz2dfxqW8M"
      },
      "source": [
        "e) Utilizando una función de hashing con resolución de colisiones Hopscotch de distancia màxima 4 me aseguro insertar como mínimo 4 sinonimos.  "
      ]
    },
    {
      "cell_type": "markdown",
      "metadata": {
        "id": "-_Adnj9SqZ5J"
      },
      "source": [
        "**CREEMOS**\n",
        "**Falso**. Como **maximo** se puede tener 4 sinonimos en el vecindario"
      ]
    },
    {
      "cell_type": "markdown",
      "metadata": {
        "id": "Vm_xhWCEsXZt"
      },
      "source": [
        "g) Si las claves a hashear son numéricas y aleatorias entonces no es necesario que el número m sea primo en la función de hashing . a*x mod m."
      ]
    },
    {
      "cell_type": "markdown",
      "metadata": {
        "id": "1korBxncsaNX"
      },
      "source": [
        "**CREEMOS**\n",
        "**Falso**. Como los numeros a hashear son de tamanio aleatorio y como la probabilidad de colision es 1/m donde m no es primo entonces el comun denominador de las colisiones sera m. Entonces tendremos m mas colisiones. m debe ser primo para que las colisiones ocurran de forma aleatoria y no predecible.\n",
        "\n",
        "Si fuera un tamanio fijo no importaria."
      ]
    },
    {
      "cell_type": "markdown",
      "metadata": {
        "id": "xDIbdQh6ujmB"
      },
      "source": [
        "h) Aumentar la cantidad de funciones de hashing o la cantidad de registros por bucket en el método del cuckoo sirve para reducir la cantidad de accesos promedio que necesitamos para recuperar una clave."
      ]
    },
    {
      "cell_type": "markdown",
      "metadata": {
        "id": "pHk96dTnwaty"
      },
      "source": [
        "**CREEMOS**\n",
        "**Falso**. porque si se llegara a n funciones de hash, se necesitaria preguntar n veces forsando la busqueda a ser O(n)"
      ]
    },
    {
      "cell_type": "markdown",
      "metadata": {
        "id": "KD4qYeBNzqdt"
      },
      "source": [
        "k) El tiempo necesario para generar una función de hashing perfecta usando Hash & Displace depende de la cantidad de colisiones que genere la primer función de hashing."
      ]
    },
    {
      "cell_type": "markdown",
      "metadata": {
        "id": "CsOUTbZlztZl"
      },
      "source": [
        "**Verdadero**. Hash & Displace es de la forma h(i,x) donde x es el valor a hasehar e i un parametro que va desde 0 hasta n-1 (n siendo la cantidad de valores a hasear).\n",
        "Si se producen colisiones en la primer funcion de hase se hace otra funcion de hash h(i',x') (siendo x' las colisiones de la primer funcion) e i' siendo i' = i+1.\n",
        "Podemos decir que el timepo de hasheo depende de las cantidad de colisiones."
      ]
    },
    {
      "cell_type": "markdown",
      "metadata": {
        "id": "NlI62Vw612dT"
      },
      "source": [
        "m) Una función de hashing puede ser perfecta y sin embargo no servir como función de hashing criptográfica. "
      ]
    },
    {
      "cell_type": "markdown",
      "metadata": {
        "id": "9emNSMLJ15Ge"
      },
      "source": [
        "**Verdadero**. Una funcion de hash puede ser perfecta y no criptografica."
      ]
    }
  ]
}