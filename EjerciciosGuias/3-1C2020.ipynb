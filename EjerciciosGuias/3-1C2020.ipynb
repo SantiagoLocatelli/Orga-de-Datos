{
 "cells": [
  {
   "cell_type": "markdown",
   "metadata": {
    "id": "FrKngFDmRYb3"
   },
   "source": [
    "# 2020 1C 3ra Oportunidad"
   ]
  },
  {
   "cell_type": "markdown",
   "metadata": {
    "id": "EzVv7ytczkLR"
   },
   "source": [
    "2) Mercadodesregulado tiene un dataframe de ventas (id_producto, id_comprador, id_vendedor, pais, tiene_reclamo, año, mes, precio_local)\n",
    "y uno de productos (id_producto, titulo, categoria), quiere conocer:\n",
    "\n",
    "a) Los peores vendedores, aquellos cuya tasa de reclamos sea mayor a 0.3, para retirarlos de la plataforma (10 ptos)\n",
    "\n",
    "b) El smartphone cuya cantidad de ventas se redujera más en diciembre de 2019 respecto de diciembre de 2018 (10 ptos)\n",
    "\n",
    "c) Se observa que la mayoría de los peores vendedores retirados de la plataforma con la consulta de (a) son producto de la llamada \"ecuación más peligrosa de la historia\" o “ecuación de Demoivre”.\n",
    "Proponga una mejora a la consulta para mitigar esto. (5 ptos)\n"
   ]
  },
  {
   "cell_type": "code",
   "execution_count": 15,
   "metadata": {
    "executionInfo": {
     "elapsed": 759,
     "status": "ok",
     "timestamp": 1602195097188,
     "user": {
      "displayName": "Martin Ramos Mejía",
      "photoUrl": "https://lh3.googleusercontent.com/a-/AOh14GgbpDnPjShOpPH8-P0a8AIZrUcpSYNQwHsEfsDQ8w=s64",
      "userId": "08591007000103530707"
     },
     "user_tz": 180
    },
    "id": "mQDwnOebRYb5"
   },
   "outputs": [],
   "source": [
    "# importacion general de librerias y de visualizacion (matplotlib y seaborn)\n",
    "import pandas as pd\n",
    "import numpy as np\n",
    "import matplotlib.pyplot as plt\n",
    "import seaborn as sns\n",
    "\n",
    "%matplotlib inline\n",
    "\n",
    "plt.style.use('default') # haciendo los graficos un poco mas bonitos en matplotlib\n",
    "#plt.rcParams['figure.figsize'] = (20, 10)\n",
    "\n",
    "sns.set(style=\"whitegrid\") # seteando tipo de grid en seaborn\n",
    "\n",
    "pd.options.display.float_format = '{:20,.2f}'.format # suprimimos la notacion cientifica en los outputs\n",
    "\n",
    "import warnings\n",
    "warnings.filterwarnings('ignore')"
   ]
  },
  {
   "cell_type": "code",
   "execution_count": 16,
   "metadata": {
    "executionInfo": {
     "elapsed": 792,
     "status": "ok",
     "timestamp": 1602195102719,
     "user": {
      "displayName": "Martin Ramos Mejía",
      "photoUrl": "https://lh3.googleusercontent.com/a-/AOh14GgbpDnPjShOpPH8-P0a8AIZrUcpSYNQwHsEfsDQ8w=s64",
      "userId": "08591007000103530707"
     },
     "user_tz": 180
    },
    "id": "_Q3_-cJmRYcE"
   },
   "outputs": [],
   "source": [
    "# armamos el df de ventas\n",
    "ventas_data = {\n",
    "        'id_producto': [1,1,1,1,1,2,2,2,2,2,3,3,3,3,3],\n",
    "        'id_comprador': [1,1,1,1,1,2,2,2,2,2,3,3,3,3,3],\n",
    "        'id_vendedor': [1,1,1,1,1,2,2,2,2,2,3,3,3,3,3],\n",
    "        'pais': ['ar','ar','ar','ar','ar','br','br','br','br','br','br','br','br','br','br'],\n",
    "        'tiene_reclamo': [1,1,1,1,1,0,0,0,0,0,0,0,0,1,1],\n",
    "        'anio': [2018,2018,2018,2019,2019,2018,2018,2018,2019,2019,2018,2019,2019,2018,2018],\n",
    "        'mes': [12,12,12,12,12,12,12,12,12,12,3,3,3,3,3],\n",
    "        'precio_local': [1212,1212,1212,1212,1212,1212,1212,1212,1212,1212,33,33,33,33,33],\n",
    "}\n",
    "\n",
    "df_ventas = pd.DataFrame(ventas_data, columns = ventas_data.keys())"
   ]
  },
  {
   "cell_type": "code",
   "execution_count": 17,
   "metadata": {
    "executionInfo": {
     "elapsed": 708,
     "status": "ok",
     "timestamp": 1602195106514,
     "user": {
      "displayName": "Martin Ramos Mejía",
      "photoUrl": "https://lh3.googleusercontent.com/a-/AOh14GgbpDnPjShOpPH8-P0a8AIZrUcpSYNQwHsEfsDQ8w=s64",
      "userId": "08591007000103530707"
     },
     "user_tz": 180
    },
    "id": "80L505tMRYcN"
   },
   "outputs": [],
   "source": [
    "# armamos el data frame de datos de productos\n",
    "products_data = {\n",
    "        'id_producto': [1,2,3],\n",
    "        'titulo': ['Samsung Galaxy S20+','Apple iPhone 11','Samsung Galaxy Tab 10.1'],\n",
    "        'categoria': ['smartphone','smartphone', 'tablet'],\n",
    "}\n",
    "\n",
    "df_products = pd.DataFrame(products_data, columns = products_data.keys())"
   ]
  },
  {
   "cell_type": "code",
   "execution_count": 18,
   "metadata": {
    "colab": {
     "base_uri": "https://localhost:8080/",
     "height": 226
    },
    "executionInfo": {
     "elapsed": 723,
     "status": "ok",
     "timestamp": 1602195111769,
     "user": {
      "displayName": "Martin Ramos Mejía",
      "photoUrl": "https://lh3.googleusercontent.com/a-/AOh14GgbpDnPjShOpPH8-P0a8AIZrUcpSYNQwHsEfsDQ8w=s64",
      "userId": "08591007000103530707"
     },
     "user_tz": 180
    },
    "id": "P5fsDcyd1tmJ",
    "outputId": "b2731e27-e384-4077-a625-9a9f878ad0d0"
   },
   "outputs": [
    {
     "data": {
      "text/html": [
       "<div>\n",
       "<style scoped>\n",
       "    .dataframe tbody tr th:only-of-type {\n",
       "        vertical-align: middle;\n",
       "    }\n",
       "\n",
       "    .dataframe tbody tr th {\n",
       "        vertical-align: top;\n",
       "    }\n",
       "\n",
       "    .dataframe thead th {\n",
       "        text-align: right;\n",
       "    }\n",
       "</style>\n",
       "<table border=\"1\" class=\"dataframe\">\n",
       "  <thead>\n",
       "    <tr style=\"text-align: right;\">\n",
       "      <th></th>\n",
       "      <th>id_producto</th>\n",
       "      <th>id_comprador</th>\n",
       "      <th>id_vendedor</th>\n",
       "      <th>pais</th>\n",
       "      <th>tiene_reclamo</th>\n",
       "      <th>anio</th>\n",
       "      <th>mes</th>\n",
       "      <th>precio_local</th>\n",
       "    </tr>\n",
       "  </thead>\n",
       "  <tbody>\n",
       "    <tr>\n",
       "      <th>0</th>\n",
       "      <td>1</td>\n",
       "      <td>1</td>\n",
       "      <td>1</td>\n",
       "      <td>ar</td>\n",
       "      <td>1</td>\n",
       "      <td>2018</td>\n",
       "      <td>12</td>\n",
       "      <td>1212</td>\n",
       "    </tr>\n",
       "    <tr>\n",
       "      <th>1</th>\n",
       "      <td>1</td>\n",
       "      <td>1</td>\n",
       "      <td>1</td>\n",
       "      <td>ar</td>\n",
       "      <td>1</td>\n",
       "      <td>2018</td>\n",
       "      <td>12</td>\n",
       "      <td>1212</td>\n",
       "    </tr>\n",
       "    <tr>\n",
       "      <th>2</th>\n",
       "      <td>1</td>\n",
       "      <td>1</td>\n",
       "      <td>1</td>\n",
       "      <td>ar</td>\n",
       "      <td>1</td>\n",
       "      <td>2018</td>\n",
       "      <td>12</td>\n",
       "      <td>1212</td>\n",
       "    </tr>\n",
       "    <tr>\n",
       "      <th>3</th>\n",
       "      <td>1</td>\n",
       "      <td>1</td>\n",
       "      <td>1</td>\n",
       "      <td>ar</td>\n",
       "      <td>1</td>\n",
       "      <td>2019</td>\n",
       "      <td>12</td>\n",
       "      <td>1212</td>\n",
       "    </tr>\n",
       "    <tr>\n",
       "      <th>4</th>\n",
       "      <td>1</td>\n",
       "      <td>1</td>\n",
       "      <td>1</td>\n",
       "      <td>ar</td>\n",
       "      <td>1</td>\n",
       "      <td>2019</td>\n",
       "      <td>12</td>\n",
       "      <td>1212</td>\n",
       "    </tr>\n",
       "  </tbody>\n",
       "</table>\n",
       "</div>"
      ],
      "text/plain": [
       "   id_producto  id_comprador  id_vendedor  ...  anio  mes  precio_local\n",
       "0            1             1            1  ...  2018   12          1212\n",
       "1            1             1            1  ...  2018   12          1212\n",
       "2            1             1            1  ...  2018   12          1212\n",
       "3            1             1            1  ...  2019   12          1212\n",
       "4            1             1            1  ...  2019   12          1212\n",
       "\n",
       "[5 rows x 8 columns]"
      ]
     },
     "execution_count": 18,
     "metadata": {
      "tags": []
     },
     "output_type": "execute_result"
    }
   ],
   "source": [
    "df_ventas.head()"
   ]
  },
  {
   "cell_type": "code",
   "execution_count": 19,
   "metadata": {
    "colab": {
     "base_uri": "https://localhost:8080/",
     "height": 143
    },
    "executionInfo": {
     "elapsed": 744,
     "status": "ok",
     "timestamp": 1602195113636,
     "user": {
      "displayName": "Martin Ramos Mejía",
      "photoUrl": "https://lh3.googleusercontent.com/a-/AOh14GgbpDnPjShOpPH8-P0a8AIZrUcpSYNQwHsEfsDQ8w=s64",
      "userId": "08591007000103530707"
     },
     "user_tz": 180
    },
    "id": "PM_cRZ5_15rf",
    "outputId": "a7ab8002-1770-4c97-c855-ea57ef398583"
   },
   "outputs": [
    {
     "data": {
      "text/html": [
       "<div>\n",
       "<style scoped>\n",
       "    .dataframe tbody tr th:only-of-type {\n",
       "        vertical-align: middle;\n",
       "    }\n",
       "\n",
       "    .dataframe tbody tr th {\n",
       "        vertical-align: top;\n",
       "    }\n",
       "\n",
       "    .dataframe thead th {\n",
       "        text-align: right;\n",
       "    }\n",
       "</style>\n",
       "<table border=\"1\" class=\"dataframe\">\n",
       "  <thead>\n",
       "    <tr style=\"text-align: right;\">\n",
       "      <th></th>\n",
       "      <th>id_producto</th>\n",
       "      <th>titulo</th>\n",
       "      <th>categoria</th>\n",
       "    </tr>\n",
       "  </thead>\n",
       "  <tbody>\n",
       "    <tr>\n",
       "      <th>0</th>\n",
       "      <td>1</td>\n",
       "      <td>Samsung Galaxy S20+</td>\n",
       "      <td>smartphone</td>\n",
       "    </tr>\n",
       "    <tr>\n",
       "      <th>1</th>\n",
       "      <td>2</td>\n",
       "      <td>Apple iPhone 11</td>\n",
       "      <td>smartphone</td>\n",
       "    </tr>\n",
       "    <tr>\n",
       "      <th>2</th>\n",
       "      <td>3</td>\n",
       "      <td>Samsung Galaxy Tab 10.1</td>\n",
       "      <td>tablet</td>\n",
       "    </tr>\n",
       "  </tbody>\n",
       "</table>\n",
       "</div>"
      ],
      "text/plain": [
       "   id_producto                   titulo   categoria\n",
       "0            1      Samsung Galaxy S20+  smartphone\n",
       "1            2          Apple iPhone 11  smartphone\n",
       "2            3  Samsung Galaxy Tab 10.1      tablet"
      ]
     },
     "execution_count": 19,
     "metadata": {
      "tags": []
     },
     "output_type": "execute_result"
    }
   ],
   "source": [
    "df_products.head()"
   ]
  },
  {
   "cell_type": "markdown",
   "metadata": {
    "id": "vbJkccKtRYcj"
   },
   "source": [
    "a) Los peores vendedores, aquellos cuya tasa de reclamos sea mayor a 0.3, para retirarlos de la plataforma (10 ptos)"
   ]
  },
  {
   "cell_type": "code",
   "execution_count": 21,
   "metadata": {
    "executionInfo": {
     "elapsed": 644,
     "status": "ok",
     "timestamp": 1602195471859,
     "user": {
      "displayName": "Martin Ramos Mejía",
      "photoUrl": "https://lh3.googleusercontent.com/a-/AOh14GgbpDnPjShOpPH8-P0a8AIZrUcpSYNQwHsEfsDQ8w=s64",
      "userId": "08591007000103530707"
     },
     "user_tz": 180
    },
    "id": "mZAuHmHhsUdg"
   },
   "outputs": [],
   "source": [
    "tasa_de_reclamo = df_ventas.groupby(\"id_vendedor\").agg({\"tiene_reclamo\":\"mean\"})"
   ]
  },
  {
   "cell_type": "code",
   "execution_count": 25,
   "metadata": {
    "colab": {
     "base_uri": "https://localhost:8080/",
     "height": 143
    },
    "executionInfo": {
     "elapsed": 676,
     "status": "ok",
     "timestamp": 1602195563548,
     "user": {
      "displayName": "Martin Ramos Mejía",
      "photoUrl": "https://lh3.googleusercontent.com/a-/AOh14GgbpDnPjShOpPH8-P0a8AIZrUcpSYNQwHsEfsDQ8w=s64",
      "userId": "08591007000103530707"
     },
     "user_tz": 180
    },
    "id": "mqvD8_JySoNk",
    "outputId": "a445742f-d06e-43ac-8da0-792c658a8122"
   },
   "outputs": [
    {
     "data": {
      "text/html": [
       "<div>\n",
       "<style scoped>\n",
       "    .dataframe tbody tr th:only-of-type {\n",
       "        vertical-align: middle;\n",
       "    }\n",
       "\n",
       "    .dataframe tbody tr th {\n",
       "        vertical-align: top;\n",
       "    }\n",
       "\n",
       "    .dataframe thead th {\n",
       "        text-align: right;\n",
       "    }\n",
       "</style>\n",
       "<table border=\"1\" class=\"dataframe\">\n",
       "  <thead>\n",
       "    <tr style=\"text-align: right;\">\n",
       "      <th></th>\n",
       "      <th>tiene_reclamo</th>\n",
       "    </tr>\n",
       "    <tr>\n",
       "      <th>id_vendedor</th>\n",
       "      <th></th>\n",
       "    </tr>\n",
       "  </thead>\n",
       "  <tbody>\n",
       "    <tr>\n",
       "      <th>1</th>\n",
       "      <td>1.00</td>\n",
       "    </tr>\n",
       "    <tr>\n",
       "      <th>3</th>\n",
       "      <td>0.40</td>\n",
       "    </tr>\n",
       "  </tbody>\n",
       "</table>\n",
       "</div>"
      ],
      "text/plain": [
       "                   tiene_reclamo\n",
       "id_vendedor                     \n",
       "1                           1.00\n",
       "3                           0.40"
      ]
     },
     "execution_count": 25,
     "metadata": {
      "tags": []
     },
     "output_type": "execute_result"
    }
   ],
   "source": [
    "tasa_de_reclamo[tasa_de_reclamo[\"tiene_reclamo\"]>0.3]"
   ]
  },
  {
   "cell_type": "markdown",
   "metadata": {
    "id": "D-_uGlz_6Zvf"
   },
   "source": [
    "b) El smartphone cuya cantidad de ventas se redujera más en diciembre de 2019 respecto de diciembre de 2018 (10 ptos)"
   ]
  },
  {
   "cell_type": "code",
   "execution_count": 43,
   "metadata": {
    "executionInfo": {
     "elapsed": 662,
     "status": "ok",
     "timestamp": 1602196575235,
     "user": {
      "displayName": "Martin Ramos Mejía",
      "photoUrl": "https://lh3.googleusercontent.com/a-/AOh14GgbpDnPjShOpPH8-P0a8AIZrUcpSYNQwHsEfsDQ8w=s64",
      "userId": "08591007000103530707"
     },
     "user_tz": 180
    },
    "id": "RFt6ncfssVOd"
   },
   "outputs": [],
   "source": [
    "smartphones = df_products[df_products['categoria'] =='smartphone']"
   ]
  },
  {
   "cell_type": "code",
   "execution_count": 45,
   "metadata": {
    "executionInfo": {
     "elapsed": 1389,
     "status": "ok",
     "timestamp": 1602196720783,
     "user": {
      "displayName": "Martin Ramos Mejía",
      "photoUrl": "https://lh3.googleusercontent.com/a-/AOh14GgbpDnPjShOpPH8-P0a8AIZrUcpSYNQwHsEfsDQ8w=s64",
      "userId": "08591007000103530707"
     },
     "user_tz": 180
    },
    "id": "ez8ofQYPW7kw"
   },
   "outputs": [],
   "source": [
    "ventas_2018 = df_ventas[(df_ventas['anio'] == 2018) & (df_ventas['mes'] == 12)]"
   ]
  },
  {
   "cell_type": "code",
   "execution_count": 46,
   "metadata": {
    "colab": {
     "base_uri": "https://localhost:8080/",
     "height": 226
    },
    "executionInfo": {
     "elapsed": 866,
     "status": "ok",
     "timestamp": 1602196737408,
     "user": {
      "displayName": "Martin Ramos Mejía",
      "photoUrl": "https://lh3.googleusercontent.com/a-/AOh14GgbpDnPjShOpPH8-P0a8AIZrUcpSYNQwHsEfsDQ8w=s64",
      "userId": "08591007000103530707"
     },
     "user_tz": 180
    },
    "id": "wOJft693Xd50",
    "outputId": "a3564eab-7dcb-4668-ed70-aaeb0d7c2073"
   },
   "outputs": [
    {
     "data": {
      "text/html": [
       "<div>\n",
       "<style scoped>\n",
       "    .dataframe tbody tr th:only-of-type {\n",
       "        vertical-align: middle;\n",
       "    }\n",
       "\n",
       "    .dataframe tbody tr th {\n",
       "        vertical-align: top;\n",
       "    }\n",
       "\n",
       "    .dataframe thead th {\n",
       "        text-align: right;\n",
       "    }\n",
       "</style>\n",
       "<table border=\"1\" class=\"dataframe\">\n",
       "  <thead>\n",
       "    <tr style=\"text-align: right;\">\n",
       "      <th></th>\n",
       "      <th>id_producto</th>\n",
       "      <th>id_comprador</th>\n",
       "      <th>id_vendedor</th>\n",
       "      <th>pais</th>\n",
       "      <th>tiene_reclamo</th>\n",
       "      <th>anio</th>\n",
       "      <th>mes</th>\n",
       "      <th>precio_local</th>\n",
       "    </tr>\n",
       "  </thead>\n",
       "  <tbody>\n",
       "    <tr>\n",
       "      <th>0</th>\n",
       "      <td>1</td>\n",
       "      <td>1</td>\n",
       "      <td>1</td>\n",
       "      <td>ar</td>\n",
       "      <td>1</td>\n",
       "      <td>2018</td>\n",
       "      <td>12</td>\n",
       "      <td>1212</td>\n",
       "    </tr>\n",
       "    <tr>\n",
       "      <th>1</th>\n",
       "      <td>1</td>\n",
       "      <td>1</td>\n",
       "      <td>1</td>\n",
       "      <td>ar</td>\n",
       "      <td>1</td>\n",
       "      <td>2018</td>\n",
       "      <td>12</td>\n",
       "      <td>1212</td>\n",
       "    </tr>\n",
       "    <tr>\n",
       "      <th>2</th>\n",
       "      <td>1</td>\n",
       "      <td>1</td>\n",
       "      <td>1</td>\n",
       "      <td>ar</td>\n",
       "      <td>1</td>\n",
       "      <td>2018</td>\n",
       "      <td>12</td>\n",
       "      <td>1212</td>\n",
       "    </tr>\n",
       "    <tr>\n",
       "      <th>5</th>\n",
       "      <td>2</td>\n",
       "      <td>2</td>\n",
       "      <td>2</td>\n",
       "      <td>br</td>\n",
       "      <td>0</td>\n",
       "      <td>2018</td>\n",
       "      <td>12</td>\n",
       "      <td>1212</td>\n",
       "    </tr>\n",
       "    <tr>\n",
       "      <th>6</th>\n",
       "      <td>2</td>\n",
       "      <td>2</td>\n",
       "      <td>2</td>\n",
       "      <td>br</td>\n",
       "      <td>0</td>\n",
       "      <td>2018</td>\n",
       "      <td>12</td>\n",
       "      <td>1212</td>\n",
       "    </tr>\n",
       "  </tbody>\n",
       "</table>\n",
       "</div>"
      ],
      "text/plain": [
       "   id_producto  id_comprador  id_vendedor  ...  anio  mes  precio_local\n",
       "0            1             1            1  ...  2018   12          1212\n",
       "1            1             1            1  ...  2018   12          1212\n",
       "2            1             1            1  ...  2018   12          1212\n",
       "5            2             2            2  ...  2018   12          1212\n",
       "6            2             2            2  ...  2018   12          1212\n",
       "\n",
       "[5 rows x 8 columns]"
      ]
     },
     "execution_count": 46,
     "metadata": {
      "tags": []
     },
     "output_type": "execute_result"
    }
   ],
   "source": [
    "ventas_2018.head()"
   ]
  },
  {
   "cell_type": "code",
   "execution_count": 47,
   "metadata": {
    "executionInfo": {
     "elapsed": 860,
     "status": "ok",
     "timestamp": 1602196769820,
     "user": {
      "displayName": "Martin Ramos Mejía",
      "photoUrl": "https://lh3.googleusercontent.com/a-/AOh14GgbpDnPjShOpPH8-P0a8AIZrUcpSYNQwHsEfsDQ8w=s64",
      "userId": "08591007000103530707"
     },
     "user_tz": 180
    },
    "id": "9NWk23IdXm1c"
   },
   "outputs": [],
   "source": [
    "ventas_2019 = df_ventas[(df_ventas['anio'] == 2019) & (df_ventas['mes'] == 12)]"
   ]
  },
  {
   "cell_type": "code",
   "execution_count": 48,
   "metadata": {
    "colab": {
     "base_uri": "https://localhost:8080/",
     "height": 195
    },
    "executionInfo": {
     "elapsed": 685,
     "status": "ok",
     "timestamp": 1602196782996,
     "user": {
      "displayName": "Martin Ramos Mejía",
      "photoUrl": "https://lh3.googleusercontent.com/a-/AOh14GgbpDnPjShOpPH8-P0a8AIZrUcpSYNQwHsEfsDQ8w=s64",
      "userId": "08591007000103530707"
     },
     "user_tz": 180
    },
    "id": "mXy56jS2Xp4Q",
    "outputId": "b7d1c0b8-7179-4d53-fb2d-47acd8a909f7"
   },
   "outputs": [
    {
     "data": {
      "text/html": [
       "<div>\n",
       "<style scoped>\n",
       "    .dataframe tbody tr th:only-of-type {\n",
       "        vertical-align: middle;\n",
       "    }\n",
       "\n",
       "    .dataframe tbody tr th {\n",
       "        vertical-align: top;\n",
       "    }\n",
       "\n",
       "    .dataframe thead th {\n",
       "        text-align: right;\n",
       "    }\n",
       "</style>\n",
       "<table border=\"1\" class=\"dataframe\">\n",
       "  <thead>\n",
       "    <tr style=\"text-align: right;\">\n",
       "      <th></th>\n",
       "      <th>id_producto</th>\n",
       "      <th>id_comprador</th>\n",
       "      <th>id_vendedor</th>\n",
       "      <th>pais</th>\n",
       "      <th>tiene_reclamo</th>\n",
       "      <th>anio</th>\n",
       "      <th>mes</th>\n",
       "      <th>precio_local</th>\n",
       "    </tr>\n",
       "  </thead>\n",
       "  <tbody>\n",
       "    <tr>\n",
       "      <th>3</th>\n",
       "      <td>1</td>\n",
       "      <td>1</td>\n",
       "      <td>1</td>\n",
       "      <td>ar</td>\n",
       "      <td>1</td>\n",
       "      <td>2019</td>\n",
       "      <td>12</td>\n",
       "      <td>1212</td>\n",
       "    </tr>\n",
       "    <tr>\n",
       "      <th>4</th>\n",
       "      <td>1</td>\n",
       "      <td>1</td>\n",
       "      <td>1</td>\n",
       "      <td>ar</td>\n",
       "      <td>1</td>\n",
       "      <td>2019</td>\n",
       "      <td>12</td>\n",
       "      <td>1212</td>\n",
       "    </tr>\n",
       "    <tr>\n",
       "      <th>8</th>\n",
       "      <td>2</td>\n",
       "      <td>2</td>\n",
       "      <td>2</td>\n",
       "      <td>br</td>\n",
       "      <td>0</td>\n",
       "      <td>2019</td>\n",
       "      <td>12</td>\n",
       "      <td>1212</td>\n",
       "    </tr>\n",
       "    <tr>\n",
       "      <th>9</th>\n",
       "      <td>2</td>\n",
       "      <td>2</td>\n",
       "      <td>2</td>\n",
       "      <td>br</td>\n",
       "      <td>0</td>\n",
       "      <td>2019</td>\n",
       "      <td>12</td>\n",
       "      <td>1212</td>\n",
       "    </tr>\n",
       "  </tbody>\n",
       "</table>\n",
       "</div>"
      ],
      "text/plain": [
       "   id_producto  id_comprador  id_vendedor  ...  anio  mes  precio_local\n",
       "3            1             1            1  ...  2019   12          1212\n",
       "4            1             1            1  ...  2019   12          1212\n",
       "8            2             2            2  ...  2019   12          1212\n",
       "9            2             2            2  ...  2019   12          1212\n",
       "\n",
       "[4 rows x 8 columns]"
      ]
     },
     "execution_count": 48,
     "metadata": {
      "tags": []
     },
     "output_type": "execute_result"
    }
   ],
   "source": [
    "ventas_2019.head()"
   ]
  },
  {
   "cell_type": "code",
   "execution_count": 49,
   "metadata": {
    "executionInfo": {
     "elapsed": 868,
     "status": "ok",
     "timestamp": 1602196862831,
     "user": {
      "displayName": "Martin Ramos Mejía",
      "photoUrl": "https://lh3.googleusercontent.com/a-/AOh14GgbpDnPjShOpPH8-P0a8AIZrUcpSYNQwHsEfsDQ8w=s64",
      "userId": "08591007000103530707"
     },
     "user_tz": 180
    },
    "id": "-Bp93TNrXxe-"
   },
   "outputs": [],
   "source": [
    "ventas_2018_smart = ventas_2018.merge(smartphones, on=\"id_producto\")"
   ]
  },
  {
   "cell_type": "code",
   "execution_count": 50,
   "metadata": {
    "colab": {
     "base_uri": "https://localhost:8080/",
     "height": 400
    },
    "executionInfo": {
     "elapsed": 806,
     "status": "ok",
     "timestamp": 1602196878929,
     "user": {
      "displayName": "Martin Ramos Mejía",
      "photoUrl": "https://lh3.googleusercontent.com/a-/AOh14GgbpDnPjShOpPH8-P0a8AIZrUcpSYNQwHsEfsDQ8w=s64",
      "userId": "08591007000103530707"
     },
     "user_tz": 180
    },
    "id": "QQ5Af43_YAWi",
    "outputId": "cd9e326f-4f90-4054-9397-af0ef199baab"
   },
   "outputs": [
    {
     "data": {
      "text/html": [
       "<div>\n",
       "<style scoped>\n",
       "    .dataframe tbody tr th:only-of-type {\n",
       "        vertical-align: middle;\n",
       "    }\n",
       "\n",
       "    .dataframe tbody tr th {\n",
       "        vertical-align: top;\n",
       "    }\n",
       "\n",
       "    .dataframe thead th {\n",
       "        text-align: right;\n",
       "    }\n",
       "</style>\n",
       "<table border=\"1\" class=\"dataframe\">\n",
       "  <thead>\n",
       "    <tr style=\"text-align: right;\">\n",
       "      <th></th>\n",
       "      <th>id_producto</th>\n",
       "      <th>id_comprador</th>\n",
       "      <th>id_vendedor</th>\n",
       "      <th>pais</th>\n",
       "      <th>tiene_reclamo</th>\n",
       "      <th>anio</th>\n",
       "      <th>mes</th>\n",
       "      <th>precio_local</th>\n",
       "      <th>titulo</th>\n",
       "      <th>categoria</th>\n",
       "    </tr>\n",
       "  </thead>\n",
       "  <tbody>\n",
       "    <tr>\n",
       "      <th>0</th>\n",
       "      <td>1</td>\n",
       "      <td>1</td>\n",
       "      <td>1</td>\n",
       "      <td>ar</td>\n",
       "      <td>1</td>\n",
       "      <td>2018</td>\n",
       "      <td>12</td>\n",
       "      <td>1212</td>\n",
       "      <td>Samsung Galaxy S20+</td>\n",
       "      <td>smartphone</td>\n",
       "    </tr>\n",
       "    <tr>\n",
       "      <th>1</th>\n",
       "      <td>1</td>\n",
       "      <td>1</td>\n",
       "      <td>1</td>\n",
       "      <td>ar</td>\n",
       "      <td>1</td>\n",
       "      <td>2018</td>\n",
       "      <td>12</td>\n",
       "      <td>1212</td>\n",
       "      <td>Samsung Galaxy S20+</td>\n",
       "      <td>smartphone</td>\n",
       "    </tr>\n",
       "    <tr>\n",
       "      <th>2</th>\n",
       "      <td>1</td>\n",
       "      <td>1</td>\n",
       "      <td>1</td>\n",
       "      <td>ar</td>\n",
       "      <td>1</td>\n",
       "      <td>2018</td>\n",
       "      <td>12</td>\n",
       "      <td>1212</td>\n",
       "      <td>Samsung Galaxy S20+</td>\n",
       "      <td>smartphone</td>\n",
       "    </tr>\n",
       "    <tr>\n",
       "      <th>3</th>\n",
       "      <td>2</td>\n",
       "      <td>2</td>\n",
       "      <td>2</td>\n",
       "      <td>br</td>\n",
       "      <td>0</td>\n",
       "      <td>2018</td>\n",
       "      <td>12</td>\n",
       "      <td>1212</td>\n",
       "      <td>Apple iPhone 11</td>\n",
       "      <td>smartphone</td>\n",
       "    </tr>\n",
       "    <tr>\n",
       "      <th>4</th>\n",
       "      <td>2</td>\n",
       "      <td>2</td>\n",
       "      <td>2</td>\n",
       "      <td>br</td>\n",
       "      <td>0</td>\n",
       "      <td>2018</td>\n",
       "      <td>12</td>\n",
       "      <td>1212</td>\n",
       "      <td>Apple iPhone 11</td>\n",
       "      <td>smartphone</td>\n",
       "    </tr>\n",
       "  </tbody>\n",
       "</table>\n",
       "</div>"
      ],
      "text/plain": [
       "   id_producto  id_comprador  ...               titulo   categoria\n",
       "0            1             1  ...  Samsung Galaxy S20+  smartphone\n",
       "1            1             1  ...  Samsung Galaxy S20+  smartphone\n",
       "2            1             1  ...  Samsung Galaxy S20+  smartphone\n",
       "3            2             2  ...      Apple iPhone 11  smartphone\n",
       "4            2             2  ...      Apple iPhone 11  smartphone\n",
       "\n",
       "[5 rows x 10 columns]"
      ]
     },
     "execution_count": 50,
     "metadata": {
      "tags": []
     },
     "output_type": "execute_result"
    }
   ],
   "source": [
    "ventas_2018_smart.head()"
   ]
  },
  {
   "cell_type": "code",
   "execution_count": 51,
   "metadata": {
    "executionInfo": {
     "elapsed": 489,
     "status": "ok",
     "timestamp": 1602196920320,
     "user": {
      "displayName": "Martin Ramos Mejía",
      "photoUrl": "https://lh3.googleusercontent.com/a-/AOh14GgbpDnPjShOpPH8-P0a8AIZrUcpSYNQwHsEfsDQ8w=s64",
      "userId": "08591007000103530707"
     },
     "user_tz": 180
    },
    "id": "94nS78ZfYKzi"
   },
   "outputs": [],
   "source": [
    "ventas_2019_smart = ventas_2019.merge(smartphones, on=\"id_producto\")"
   ]
  },
  {
   "cell_type": "code",
   "execution_count": 52,
   "metadata": {
    "colab": {
     "base_uri": "https://localhost:8080/",
     "height": 333
    },
    "executionInfo": {
     "elapsed": 772,
     "status": "ok",
     "timestamp": 1602196938319,
     "user": {
      "displayName": "Martin Ramos Mejía",
      "photoUrl": "https://lh3.googleusercontent.com/a-/AOh14GgbpDnPjShOpPH8-P0a8AIZrUcpSYNQwHsEfsDQ8w=s64",
      "userId": "08591007000103530707"
     },
     "user_tz": 180
    },
    "id": "DjGQ_-fdYOTq",
    "outputId": "7d411ae5-270a-4ba9-80c8-cfd7e6c23b71"
   },
   "outputs": [
    {
     "data": {
      "text/html": [
       "<div>\n",
       "<style scoped>\n",
       "    .dataframe tbody tr th:only-of-type {\n",
       "        vertical-align: middle;\n",
       "    }\n",
       "\n",
       "    .dataframe tbody tr th {\n",
       "        vertical-align: top;\n",
       "    }\n",
       "\n",
       "    .dataframe thead th {\n",
       "        text-align: right;\n",
       "    }\n",
       "</style>\n",
       "<table border=\"1\" class=\"dataframe\">\n",
       "  <thead>\n",
       "    <tr style=\"text-align: right;\">\n",
       "      <th></th>\n",
       "      <th>id_producto</th>\n",
       "      <th>id_comprador</th>\n",
       "      <th>id_vendedor</th>\n",
       "      <th>pais</th>\n",
       "      <th>tiene_reclamo</th>\n",
       "      <th>anio</th>\n",
       "      <th>mes</th>\n",
       "      <th>precio_local</th>\n",
       "      <th>titulo</th>\n",
       "      <th>categoria</th>\n",
       "    </tr>\n",
       "  </thead>\n",
       "  <tbody>\n",
       "    <tr>\n",
       "      <th>0</th>\n",
       "      <td>1</td>\n",
       "      <td>1</td>\n",
       "      <td>1</td>\n",
       "      <td>ar</td>\n",
       "      <td>1</td>\n",
       "      <td>2019</td>\n",
       "      <td>12</td>\n",
       "      <td>1212</td>\n",
       "      <td>Samsung Galaxy S20+</td>\n",
       "      <td>smartphone</td>\n",
       "    </tr>\n",
       "    <tr>\n",
       "      <th>1</th>\n",
       "      <td>1</td>\n",
       "      <td>1</td>\n",
       "      <td>1</td>\n",
       "      <td>ar</td>\n",
       "      <td>1</td>\n",
       "      <td>2019</td>\n",
       "      <td>12</td>\n",
       "      <td>1212</td>\n",
       "      <td>Samsung Galaxy S20+</td>\n",
       "      <td>smartphone</td>\n",
       "    </tr>\n",
       "    <tr>\n",
       "      <th>2</th>\n",
       "      <td>2</td>\n",
       "      <td>2</td>\n",
       "      <td>2</td>\n",
       "      <td>br</td>\n",
       "      <td>0</td>\n",
       "      <td>2019</td>\n",
       "      <td>12</td>\n",
       "      <td>1212</td>\n",
       "      <td>Apple iPhone 11</td>\n",
       "      <td>smartphone</td>\n",
       "    </tr>\n",
       "    <tr>\n",
       "      <th>3</th>\n",
       "      <td>2</td>\n",
       "      <td>2</td>\n",
       "      <td>2</td>\n",
       "      <td>br</td>\n",
       "      <td>0</td>\n",
       "      <td>2019</td>\n",
       "      <td>12</td>\n",
       "      <td>1212</td>\n",
       "      <td>Apple iPhone 11</td>\n",
       "      <td>smartphone</td>\n",
       "    </tr>\n",
       "  </tbody>\n",
       "</table>\n",
       "</div>"
      ],
      "text/plain": [
       "   id_producto  id_comprador  ...               titulo   categoria\n",
       "0            1             1  ...  Samsung Galaxy S20+  smartphone\n",
       "1            1             1  ...  Samsung Galaxy S20+  smartphone\n",
       "2            2             2  ...      Apple iPhone 11  smartphone\n",
       "3            2             2  ...      Apple iPhone 11  smartphone\n",
       "\n",
       "[4 rows x 10 columns]"
      ]
     },
     "execution_count": 52,
     "metadata": {
      "tags": []
     },
     "output_type": "execute_result"
    }
   ],
   "source": [
    "ventas_2019_smart.head()"
   ]
  },
  {
   "cell_type": "code",
   "execution_count": 54,
   "metadata": {
    "executionInfo": {
     "elapsed": 679,
     "status": "ok",
     "timestamp": 1602197164314,
     "user": {
      "displayName": "Martin Ramos Mejía",
      "photoUrl": "https://lh3.googleusercontent.com/a-/AOh14GgbpDnPjShOpPH8-P0a8AIZrUcpSYNQwHsEfsDQ8w=s64",
      "userId": "08591007000103530707"
     },
     "user_tz": 180
    },
    "id": "0femX5edYaPS"
   },
   "outputs": [],
   "source": [
    "ventas_2018_smart = ventas_2018_smart.groupby(\"id_producto\").agg({\"id_comprador\": \"count\"}).reset_index()"
   ]
  },
  {
   "cell_type": "code",
   "execution_count": 56,
   "metadata": {
    "executionInfo": {
     "elapsed": 646,
     "status": "ok",
     "timestamp": 1602197253118,
     "user": {
      "displayName": "Martin Ramos Mejía",
      "photoUrl": "https://lh3.googleusercontent.com/a-/AOh14GgbpDnPjShOpPH8-P0a8AIZrUcpSYNQwHsEfsDQ8w=s64",
      "userId": "08591007000103530707"
     },
     "user_tz": 180
    },
    "id": "i8BlLKWhZMkJ"
   },
   "outputs": [],
   "source": [
    "ventas_2018_smart = ventas_2018_smart.reset_index()"
   ]
  },
  {
   "cell_type": "code",
   "execution_count": 59,
   "metadata": {
    "executionInfo": {
     "elapsed": 695,
     "status": "ok",
     "timestamp": 1602197324284,
     "user": {
      "displayName": "Martin Ramos Mejía",
      "photoUrl": "https://lh3.googleusercontent.com/a-/AOh14GgbpDnPjShOpPH8-P0a8AIZrUcpSYNQwHsEfsDQ8w=s64",
      "userId": "08591007000103530707"
     },
     "user_tz": 180
    },
    "id": "sL56P0rRZfdS"
   },
   "outputs": [],
   "source": [
    "ventas_2018_smart.rename(columns={'id_comprador':\"ventas_tot_2018\"}, inplace=True)"
   ]
  },
  {
   "cell_type": "code",
   "execution_count": 60,
   "metadata": {
    "colab": {
     "base_uri": "https://localhost:8080/",
     "height": 112
    },
    "executionInfo": {
     "elapsed": 720,
     "status": "ok",
     "timestamp": 1602197337225,
     "user": {
      "displayName": "Martin Ramos Mejía",
      "photoUrl": "https://lh3.googleusercontent.com/a-/AOh14GgbpDnPjShOpPH8-P0a8AIZrUcpSYNQwHsEfsDQ8w=s64",
      "userId": "08591007000103530707"
     },
     "user_tz": 180
    },
    "id": "1aGwHS8BZxF3",
    "outputId": "5ba3e831-4e3c-4b66-9e28-39f3c824ca85"
   },
   "outputs": [
    {
     "data": {
      "text/html": [
       "<div>\n",
       "<style scoped>\n",
       "    .dataframe tbody tr th:only-of-type {\n",
       "        vertical-align: middle;\n",
       "    }\n",
       "\n",
       "    .dataframe tbody tr th {\n",
       "        vertical-align: top;\n",
       "    }\n",
       "\n",
       "    .dataframe thead th {\n",
       "        text-align: right;\n",
       "    }\n",
       "</style>\n",
       "<table border=\"1\" class=\"dataframe\">\n",
       "  <thead>\n",
       "    <tr style=\"text-align: right;\">\n",
       "      <th></th>\n",
       "      <th>id_producto</th>\n",
       "      <th>ventas_tot_2018</th>\n",
       "    </tr>\n",
       "  </thead>\n",
       "  <tbody>\n",
       "    <tr>\n",
       "      <th>0</th>\n",
       "      <td>1</td>\n",
       "      <td>3</td>\n",
       "    </tr>\n",
       "    <tr>\n",
       "      <th>1</th>\n",
       "      <td>2</td>\n",
       "      <td>3</td>\n",
       "    </tr>\n",
       "  </tbody>\n",
       "</table>\n",
       "</div>"
      ],
      "text/plain": [
       "   id_producto  ventas_tot_2018\n",
       "0            1                3\n",
       "1            2                3"
      ]
     },
     "execution_count": 60,
     "metadata": {
      "tags": []
     },
     "output_type": "execute_result"
    }
   ],
   "source": [
    "ventas_2018_smart"
   ]
  },
  {
   "cell_type": "code",
   "execution_count": 63,
   "metadata": {
    "executionInfo": {
     "elapsed": 684,
     "status": "ok",
     "timestamp": 1602197416837,
     "user": {
      "displayName": "Martin Ramos Mejía",
      "photoUrl": "https://lh3.googleusercontent.com/a-/AOh14GgbpDnPjShOpPH8-P0a8AIZrUcpSYNQwHsEfsDQ8w=s64",
      "userId": "08591007000103530707"
     },
     "user_tz": 180
    },
    "id": "k6PXfAvRZ4BL"
   },
   "outputs": [],
   "source": [
    "ventas_2019_smart = ventas_2019_smart.groupby(\"id_producto\").agg({\"id_comprador\": \"count\"}).reset_index()"
   ]
  },
  {
   "cell_type": "code",
   "execution_count": 65,
   "metadata": {
    "executionInfo": {
     "elapsed": 669,
     "status": "ok",
     "timestamp": 1602197546076,
     "user": {
      "displayName": "Martin Ramos Mejía",
      "photoUrl": "https://lh3.googleusercontent.com/a-/AOh14GgbpDnPjShOpPH8-P0a8AIZrUcpSYNQwHsEfsDQ8w=s64",
      "userId": "08591007000103530707"
     },
     "user_tz": 180
    },
    "id": "DBoHyWbPaJBQ"
   },
   "outputs": [],
   "source": [
    "ventas_2019_smart.rename(columns={\"id_comprador\":\"ventas_tot_2019\"}, inplace=True)"
   ]
  },
  {
   "cell_type": "code",
   "execution_count": 66,
   "metadata": {
    "colab": {
     "base_uri": "https://localhost:8080/",
     "height": 112
    },
    "executionInfo": {
     "elapsed": 707,
     "status": "ok",
     "timestamp": 1602197560673,
     "user": {
      "displayName": "Martin Ramos Mejía",
      "photoUrl": "https://lh3.googleusercontent.com/a-/AOh14GgbpDnPjShOpPH8-P0a8AIZrUcpSYNQwHsEfsDQ8w=s64",
      "userId": "08591007000103530707"
     },
     "user_tz": 180
    },
    "id": "GaE_QUgKan8s",
    "outputId": "fed3daf6-d31e-4d9b-e952-25c1156b8a3b"
   },
   "outputs": [
    {
     "data": {
      "text/html": [
       "<div>\n",
       "<style scoped>\n",
       "    .dataframe tbody tr th:only-of-type {\n",
       "        vertical-align: middle;\n",
       "    }\n",
       "\n",
       "    .dataframe tbody tr th {\n",
       "        vertical-align: top;\n",
       "    }\n",
       "\n",
       "    .dataframe thead th {\n",
       "        text-align: right;\n",
       "    }\n",
       "</style>\n",
       "<table border=\"1\" class=\"dataframe\">\n",
       "  <thead>\n",
       "    <tr style=\"text-align: right;\">\n",
       "      <th></th>\n",
       "      <th>id_producto</th>\n",
       "      <th>ventas_tot_2019</th>\n",
       "    </tr>\n",
       "  </thead>\n",
       "  <tbody>\n",
       "    <tr>\n",
       "      <th>0</th>\n",
       "      <td>1</td>\n",
       "      <td>2</td>\n",
       "    </tr>\n",
       "    <tr>\n",
       "      <th>1</th>\n",
       "      <td>2</td>\n",
       "      <td>2</td>\n",
       "    </tr>\n",
       "  </tbody>\n",
       "</table>\n",
       "</div>"
      ],
      "text/plain": [
       "   id_producto  ventas_tot_2019\n",
       "0            1                2\n",
       "1            2                2"
      ]
     },
     "execution_count": 66,
     "metadata": {
      "tags": []
     },
     "output_type": "execute_result"
    }
   ],
   "source": [
    "ventas_2019_smart"
   ]
  },
  {
   "cell_type": "code",
   "execution_count": 68,
   "metadata": {
    "executionInfo": {
     "elapsed": 673,
     "status": "ok",
     "timestamp": 1602197667972,
     "user": {
      "displayName": "Martin Ramos Mejía",
      "photoUrl": "https://lh3.googleusercontent.com/a-/AOh14GgbpDnPjShOpPH8-P0a8AIZrUcpSYNQwHsEfsDQ8w=s64",
      "userId": "08591007000103530707"
     },
     "user_tz": 180
    },
    "id": "sLUDzF_Zaxqk"
   },
   "outputs": [],
   "source": [
    "comparacion_ventas = ventas_2019_smart.merge(ventas_2018_smart, on=\"id_producto\")"
   ]
  },
  {
   "cell_type": "code",
   "execution_count": 69,
   "metadata": {
    "colab": {
     "base_uri": "https://localhost:8080/",
     "height": 112
    },
    "executionInfo": {
     "elapsed": 649,
     "status": "ok",
     "timestamp": 1602197676279,
     "user": {
      "displayName": "Martin Ramos Mejía",
      "photoUrl": "https://lh3.googleusercontent.com/a-/AOh14GgbpDnPjShOpPH8-P0a8AIZrUcpSYNQwHsEfsDQ8w=s64",
      "userId": "08591007000103530707"
     },
     "user_tz": 180
    },
    "id": "k2_21vl2bE9V",
    "outputId": "be6838b8-04f1-4b9c-9852-aa19c02e4803"
   },
   "outputs": [
    {
     "data": {
      "text/html": [
       "<div>\n",
       "<style scoped>\n",
       "    .dataframe tbody tr th:only-of-type {\n",
       "        vertical-align: middle;\n",
       "    }\n",
       "\n",
       "    .dataframe tbody tr th {\n",
       "        vertical-align: top;\n",
       "    }\n",
       "\n",
       "    .dataframe thead th {\n",
       "        text-align: right;\n",
       "    }\n",
       "</style>\n",
       "<table border=\"1\" class=\"dataframe\">\n",
       "  <thead>\n",
       "    <tr style=\"text-align: right;\">\n",
       "      <th></th>\n",
       "      <th>id_producto</th>\n",
       "      <th>ventas_tot_2019</th>\n",
       "      <th>ventas_tot_2018</th>\n",
       "    </tr>\n",
       "  </thead>\n",
       "  <tbody>\n",
       "    <tr>\n",
       "      <th>0</th>\n",
       "      <td>1</td>\n",
       "      <td>2</td>\n",
       "      <td>3</td>\n",
       "    </tr>\n",
       "    <tr>\n",
       "      <th>1</th>\n",
       "      <td>2</td>\n",
       "      <td>2</td>\n",
       "      <td>3</td>\n",
       "    </tr>\n",
       "  </tbody>\n",
       "</table>\n",
       "</div>"
      ],
      "text/plain": [
       "   id_producto  ventas_tot_2019  ventas_tot_2018\n",
       "0            1                2                3\n",
       "1            2                2                3"
      ]
     },
     "execution_count": 69,
     "metadata": {
      "tags": []
     },
     "output_type": "execute_result"
    }
   ],
   "source": [
    "comparacion_ventas"
   ]
  },
  {
   "cell_type": "code",
   "execution_count": 73,
   "metadata": {
    "executionInfo": {
     "elapsed": 691,
     "status": "ok",
     "timestamp": 1602197832467,
     "user": {
      "displayName": "Martin Ramos Mejía",
      "photoUrl": "https://lh3.googleusercontent.com/a-/AOh14GgbpDnPjShOpPH8-P0a8AIZrUcpSYNQwHsEfsDQ8w=s64",
      "userId": "08591007000103530707"
     },
     "user_tz": 180
    },
    "id": "2FVTLMWdbcer"
   },
   "outputs": [],
   "source": [
    "comparacion_ventas['relacion'] = comparacion_ventas[\"ventas_tot_2019\"] / comparacion_ventas[\"ventas_tot_2018\"]"
   ]
  },
  {
   "cell_type": "code",
   "execution_count": 74,
   "metadata": {
    "colab": {
     "base_uri": "https://localhost:8080/",
     "height": 112
    },
    "executionInfo": {
     "elapsed": 673,
     "status": "ok",
     "timestamp": 1602197841378,
     "user": {
      "displayName": "Martin Ramos Mejía",
      "photoUrl": "https://lh3.googleusercontent.com/a-/AOh14GgbpDnPjShOpPH8-P0a8AIZrUcpSYNQwHsEfsDQ8w=s64",
      "userId": "08591007000103530707"
     },
     "user_tz": 180
    },
    "id": "6IQ9ZBnDbs8o",
    "outputId": "cddbc800-c44d-4a61-a49e-9973d5c9bd37"
   },
   "outputs": [
    {
     "data": {
      "text/html": [
       "<div>\n",
       "<style scoped>\n",
       "    .dataframe tbody tr th:only-of-type {\n",
       "        vertical-align: middle;\n",
       "    }\n",
       "\n",
       "    .dataframe tbody tr th {\n",
       "        vertical-align: top;\n",
       "    }\n",
       "\n",
       "    .dataframe thead th {\n",
       "        text-align: right;\n",
       "    }\n",
       "</style>\n",
       "<table border=\"1\" class=\"dataframe\">\n",
       "  <thead>\n",
       "    <tr style=\"text-align: right;\">\n",
       "      <th></th>\n",
       "      <th>id_producto</th>\n",
       "      <th>ventas_tot_2019</th>\n",
       "      <th>ventas_tot_2018</th>\n",
       "      <th>relacion</th>\n",
       "    </tr>\n",
       "  </thead>\n",
       "  <tbody>\n",
       "    <tr>\n",
       "      <th>0</th>\n",
       "      <td>1</td>\n",
       "      <td>2</td>\n",
       "      <td>3</td>\n",
       "      <td>0.67</td>\n",
       "    </tr>\n",
       "    <tr>\n",
       "      <th>1</th>\n",
       "      <td>2</td>\n",
       "      <td>2</td>\n",
       "      <td>3</td>\n",
       "      <td>0.67</td>\n",
       "    </tr>\n",
       "  </tbody>\n",
       "</table>\n",
       "</div>"
      ],
      "text/plain": [
       "   id_producto  ventas_tot_2019  ventas_tot_2018             relacion\n",
       "0            1                2                3                 0.67\n",
       "1            2                2                3                 0.67"
      ]
     },
     "execution_count": 74,
     "metadata": {
      "tags": []
     },
     "output_type": "execute_result"
    }
   ],
   "source": [
    "comparacion_ventas"
   ]
  },
  {
   "cell_type": "code",
   "execution_count": 78,
   "metadata": {
    "colab": {
     "base_uri": "https://localhost:8080/",
     "height": 52
    },
    "executionInfo": {
     "elapsed": 691,
     "status": "ok",
     "timestamp": 1602198051768,
     "user": {
      "displayName": "Martin Ramos Mejía",
      "photoUrl": "https://lh3.googleusercontent.com/a-/AOh14GgbpDnPjShOpPH8-P0a8AIZrUcpSYNQwHsEfsDQ8w=s64",
      "userId": "08591007000103530707"
     },
     "user_tz": 180
    },
    "id": "WQiXqoyZb19i",
    "outputId": "bf44df31-26cd-4b05-c04c-d11e13879045"
   },
   "outputs": [
    {
     "data": {
      "text/plain": [
       "0    1\n",
       "Name: id_producto, dtype: int64"
      ]
     },
     "execution_count": 78,
     "metadata": {
      "tags": []
     },
     "output_type": "execute_result"
    }
   ],
   "source": [
    "comparacion_ventas.nsmallest(1,\"relacion\")['id_producto']"
   ]
  },
  {
   "cell_type": "markdown",
   "metadata": {
    "id": "vDT8GUH6B-1U"
   },
   "source": [
    "c) Se observa que la mayoría de los peores vendedores retirados de la plataforma con la consulta de (a) son producto de la llamada \"ecuación más peligrosa de la historia\" o \"ecuación de Demoivre\".\n",
    "Proponga una mejora a la consulta para mitigar esto. (5 ptos)\n"
   ]
  },
  {
   "cell_type": "code",
   "execution_count": 28,
   "metadata": {
    "executionInfo": {
     "elapsed": 685,
     "status": "ok",
     "timestamp": 1602195792934,
     "user": {
      "displayName": "Martin Ramos Mejía",
      "photoUrl": "https://lh3.googleusercontent.com/a-/AOh14GgbpDnPjShOpPH8-P0a8AIZrUcpSYNQwHsEfsDQ8w=s64",
      "userId": "08591007000103530707"
     },
     "user_tz": 180
    },
    "id": "TWueThcpTq__"
   },
   "outputs": [],
   "source": [
    "tasa_de_reclamo = df_ventas.groupby(\"id_vendedor\").agg({\"tiene_reclamo\":\"mean\",\"id_producto\":\"count\"})"
   ]
  },
  {
   "cell_type": "code",
   "execution_count": 31,
   "metadata": {
    "executionInfo": {
     "elapsed": 649,
     "status": "ok",
     "timestamp": 1602195914659,
     "user": {
      "displayName": "Martin Ramos Mejía",
      "photoUrl": "https://lh3.googleusercontent.com/a-/AOh14GgbpDnPjShOpPH8-P0a8AIZrUcpSYNQwHsEfsDQ8w=s64",
      "userId": "08591007000103530707"
     },
     "user_tz": 180
    },
    "id": "RXIruHFkT-AO"
   },
   "outputs": [],
   "source": [
    "tasa_de_reclamo.rename(columns={\"id_producto\":\"cantidad_vendida\"}, inplace=True)"
   ]
  },
  {
   "cell_type": "code",
   "execution_count": 33,
   "metadata": {
    "executionInfo": {
     "elapsed": 684,
     "status": "ok",
     "timestamp": 1602195948588,
     "user": {
      "displayName": "Martin Ramos Mejía",
      "photoUrl": "https://lh3.googleusercontent.com/a-/AOh14GgbpDnPjShOpPH8-P0a8AIZrUcpSYNQwHsEfsDQ8w=s64",
      "userId": "08591007000103530707"
     },
     "user_tz": 180
    },
    "id": "tGb4l3mjUdI5"
   },
   "outputs": [],
   "source": [
    "tasa_de_reclamo.rename(columns={\"tiene_reclamo\":\"tasa_reclamo\"}, inplace=True)"
   ]
  },
  {
   "cell_type": "code",
   "execution_count": 34,
   "metadata": {
    "colab": {
     "base_uri": "https://localhost:8080/",
     "height": 175
    },
    "executionInfo": {
     "elapsed": 713,
     "status": "ok",
     "timestamp": 1602195950001,
     "user": {
      "displayName": "Martin Ramos Mejía",
      "photoUrl": "https://lh3.googleusercontent.com/a-/AOh14GgbpDnPjShOpPH8-P0a8AIZrUcpSYNQwHsEfsDQ8w=s64",
      "userId": "08591007000103530707"
     },
     "user_tz": 180
    },
    "id": "XTYqLAJRT0qh",
    "outputId": "4470c429-0d9b-47e5-ba01-2a8d512ba45e"
   },
   "outputs": [
    {
     "data": {
      "text/html": [
       "<div>\n",
       "<style scoped>\n",
       "    .dataframe tbody tr th:only-of-type {\n",
       "        vertical-align: middle;\n",
       "    }\n",
       "\n",
       "    .dataframe tbody tr th {\n",
       "        vertical-align: top;\n",
       "    }\n",
       "\n",
       "    .dataframe thead th {\n",
       "        text-align: right;\n",
       "    }\n",
       "</style>\n",
       "<table border=\"1\" class=\"dataframe\">\n",
       "  <thead>\n",
       "    <tr style=\"text-align: right;\">\n",
       "      <th></th>\n",
       "      <th>tasa_reclamo</th>\n",
       "      <th>cantidad_vendida</th>\n",
       "    </tr>\n",
       "    <tr>\n",
       "      <th>id_vendedor</th>\n",
       "      <th></th>\n",
       "      <th></th>\n",
       "    </tr>\n",
       "  </thead>\n",
       "  <tbody>\n",
       "    <tr>\n",
       "      <th>1</th>\n",
       "      <td>1.00</td>\n",
       "      <td>5</td>\n",
       "    </tr>\n",
       "    <tr>\n",
       "      <th>2</th>\n",
       "      <td>0.00</td>\n",
       "      <td>5</td>\n",
       "    </tr>\n",
       "    <tr>\n",
       "      <th>3</th>\n",
       "      <td>0.40</td>\n",
       "      <td>5</td>\n",
       "    </tr>\n",
       "  </tbody>\n",
       "</table>\n",
       "</div>"
      ],
      "text/plain": [
       "                    tasa_reclamo  cantidad_vendida\n",
       "id_vendedor                                       \n",
       "1                           1.00                 5\n",
       "2                           0.00                 5\n",
       "3                           0.40                 5"
      ]
     },
     "execution_count": 34,
     "metadata": {
      "tags": []
     },
     "output_type": "execute_result"
    }
   ],
   "source": [
    "tasa_de_reclamo.head()"
   ]
  },
  {
   "cell_type": "code",
   "execution_count": 41,
   "metadata": {
    "colab": {
     "base_uri": "https://localhost:8080/",
     "height": 80
    },
    "executionInfo": {
     "elapsed": 689,
     "status": "ok",
     "timestamp": 1602196224414,
     "user": {
      "displayName": "Martin Ramos Mejía",
      "photoUrl": "https://lh3.googleusercontent.com/a-/AOh14GgbpDnPjShOpPH8-P0a8AIZrUcpSYNQwHsEfsDQ8w=s64",
      "userId": "08591007000103530707"
     },
     "user_tz": 180
    },
    "id": "41WizVb2UUUw",
    "outputId": "69e3b0c5-bc30-4df8-84d6-b25d9db386ba"
   },
   "outputs": [
    {
     "data": {
      "text/html": [
       "<div>\n",
       "<style scoped>\n",
       "    .dataframe tbody tr th:only-of-type {\n",
       "        vertical-align: middle;\n",
       "    }\n",
       "\n",
       "    .dataframe tbody tr th {\n",
       "        vertical-align: top;\n",
       "    }\n",
       "\n",
       "    .dataframe thead th {\n",
       "        text-align: right;\n",
       "    }\n",
       "</style>\n",
       "<table border=\"1\" class=\"dataframe\">\n",
       "  <thead>\n",
       "    <tr style=\"text-align: right;\">\n",
       "      <th></th>\n",
       "      <th>tasa_reclamo</th>\n",
       "      <th>cantidad_vendida</th>\n",
       "    </tr>\n",
       "    <tr>\n",
       "      <th>id_vendedor</th>\n",
       "      <th></th>\n",
       "      <th></th>\n",
       "    </tr>\n",
       "  </thead>\n",
       "  <tbody>\n",
       "  </tbody>\n",
       "</table>\n",
       "</div>"
      ],
      "text/plain": [
       "Empty DataFrame\n",
       "Columns: [tasa_reclamo, cantidad_vendida]\n",
       "Index: []"
      ]
     },
     "execution_count": 41,
     "metadata": {
      "tags": []
     },
     "output_type": "execute_result"
    }
   ],
   "source": [
    "tasa_de_reclamo[(tasa_de_reclamo[\"tasa_reclamo\"]> 0.3) & (tasa_de_reclamo[\"cantidad_vendida\"] > 100)]"
   ]
  }
 ],
 "metadata": {
  "colab": {
   "collapsed_sections": [],
   "name": "3-1C2020.ipynb",
   "provenance": []
  },
  "kernelspec": {
   "display_name": "Python 3",
   "language": "python",
   "name": "python3"
  },
  "language_info": {
   "codemirror_mode": {
    "name": "ipython",
    "version": 3
   },
   "file_extension": ".py",
   "mimetype": "text/x-python",
   "name": "python",
   "nbconvert_exporter": "python",
   "pygments_lexer": "ipython3",
   "version": "3.8.5"
  }
 },
 "nbformat": 4,
 "nbformat_minor": 4
}
