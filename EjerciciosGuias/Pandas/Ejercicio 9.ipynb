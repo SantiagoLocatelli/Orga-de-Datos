{
 "cells": [
  {
   "cell_type": "markdown",
   "metadata": {
    "id": "UZT0rUexIrHS"
   },
   "source": [
    "Un importante broker de compra y venta de vehiculos online se encuentra dando sus\n",
    "primeros pasos en la preparación de su algoritmo de pricing, es por eso que se encuentra\n",
    "generando algunos features iniciales para experimentar con distintos algoritmos de machine\n",
    "learning.\n",
    "Para ello cuenta con un archivo con información de todas las transacciones que tuvo en su\n",
    "primer año de operación en el formato (transaction_id, timestamp, vehicle_model_id, price).\n",
    "Por otro lado cuenta con información que fue extrayendo a partir de scrapping durante el último\n",
    "año en el formato (timestamp, source, vehicle_model_id, price). La información puede venir de\n",
    "múltiples fuentes (source), que pueden ser por ejemplo distintos sitios de marketplace o\n",
    "clasificados.\n",
    "Luego de un intenso trabajo previo ha podido unificar los modelos de vehículos que utiliza para\n",
    "sus transacciones con la información que ha podido obtener de otros competidores mediante\n",
    "scrapping. Muchos de los modelos disponibles en la información de scrapping no han sido aún\n",
    "comercializados por la empresa, pero se sabe que se cuenta con precios scrapeados de todos\n",
    "los modelos que se vendieron.\n",
    "Se pide generar utilizando Pandas un dataframe que tenga el siguiente formato\n",
    "(vehicle_model_id, ext_mean_price, ext_std_price, int_mean_price, int_std_price), siendo:\n",
    "- mean_price: precio promedio para ese vehículo.\n",
    "- std_price: desvío estándar del precio para ese vehículo.\n",
    "y los prefijo ext_ y int_ indicando que deben ser calculado sobre respectivamente datos\n",
    "externos (los obtenido vía scraping) y datos internos (los de las transacciones)."
   ]
  },
  {
   "cell_type": "markdown",
   "metadata": {
    "id": "-go27i26IjIo"
   },
   "source": []
  },
  {
   "cell_type": "code",
   "execution_count": 186,
   "metadata": {
    "id": "ZQud6WxAInvq"
   },
   "outputs": [],
   "source": [
    "import pandas as pd\n",
    "import numpy as np\n",
    "import seaborn as sns\n",
    "import matplotlib.pyplot as plt\n",
    "import matplotlib.patches as mpatches\n",
    "import random\n",
    "\n",
    "transacciones = pd.DataFrame(columns = ['id', 'timestamp','auto_id', 'precio'], dtype = int)\n",
    "id = [2, 9, 28, 6, 1, 25]\n",
    "timestamp = ['2020-12-06 05:59:01','2019-09-06 05:55:01', '2020-04-20 04:20:42', '2019-12-06 05:45:01']\n",
    "anio = [2017, 2017, 2016, 1999, 1999, 2015, 2015]\n",
    "auto_id = [20, 200, 280, 10, 10, 250, 250]\n",
    "precio = [200, 2000, 2800, 100, 100, 2500, 25]\n",
    "source = ['a', 'b', 'c', 'd']\n",
    "info = pd.DataFrame(columns = ['timestamp', 'source', 'auto_id', 'precio'], dtype = int)\n",
    "for i in range(800):\n",
    "    transacciones = transacciones.append({\n",
    "        'id': random.choice(id),\n",
    "        'timestamp': random.choice(timestamp),\n",
    "        'auto_id': random.choice(auto_id),\n",
    "        'precio': random.choice(precio)\n",
    "    }, ignore_index = True)\n",
    "    if i % 3 == 0:\n",
    "        info = info.append({\n",
    "            'timestamp': random.choice(timestamp),\n",
    "            'source': random.choice(source),\n",
    "            'auto_id': random.choice(auto_id),\n",
    "            'precio': random.choice(precio)\n",
    "        }, ignore_index = True)\n"
   ]
  },
  {
   "cell_type": "code",
   "execution_count": 187,
   "metadata": {
    "colab": {
     "base_uri": "https://localhost:8080/",
     "height": 68
    },
    "id": "lNlM0zejKl3l",
    "outputId": "e53081e3-f40a-4c4a-b989-488105e72118"
   },
   "outputs": [
    {
     "data": {
      "text/plain": [
       "auto_id    int64\n",
       "precio     int64\n",
       "dtype: object"
      ]
     },
     "execution_count": 187,
     "metadata": {
      "tags": []
     },
     "output_type": "execute_result"
    }
   ],
   "source": [
    "interno = transacciones[['auto_id', 'precio']]\n",
    "externo = info[['auto_id', 'precio']]\n",
    "externo.dtypes"
   ]
  },
  {
   "cell_type": "code",
   "execution_count": 188,
   "metadata": {
    "colab": {
     "base_uri": "https://localhost:8080/",
     "height": 204
    },
    "id": "yatDoZPrMIZ9",
    "outputId": "20ddd820-5592-4bae-bb9f-8dca25cccdfe"
   },
   "outputs": [
    {
     "data": {
      "text/html": [
       "<div>\n",
       "<style scoped>\n",
       "    .dataframe tbody tr th:only-of-type {\n",
       "        vertical-align: middle;\n",
       "    }\n",
       "\n",
       "    .dataframe tbody tr th {\n",
       "        vertical-align: top;\n",
       "    }\n",
       "\n",
       "    .dataframe thead th {\n",
       "        text-align: right;\n",
       "    }\n",
       "</style>\n",
       "<table border=\"1\" class=\"dataframe\">\n",
       "  <thead>\n",
       "    <tr style=\"text-align: right;\">\n",
       "      <th></th>\n",
       "      <th>auto_id_</th>\n",
       "      <th>precio_mean</th>\n",
       "      <th>precio_std</th>\n",
       "    </tr>\n",
       "  </thead>\n",
       "  <tbody>\n",
       "    <tr>\n",
       "      <th>0</th>\n",
       "      <td>10</td>\n",
       "      <td>1102.531646</td>\n",
       "      <td>1191.479249</td>\n",
       "    </tr>\n",
       "    <tr>\n",
       "      <th>1</th>\n",
       "      <td>20</td>\n",
       "      <td>904.521277</td>\n",
       "      <td>1147.747694</td>\n",
       "    </tr>\n",
       "    <tr>\n",
       "      <th>2</th>\n",
       "      <td>200</td>\n",
       "      <td>1085.049020</td>\n",
       "      <td>1153.348868</td>\n",
       "    </tr>\n",
       "    <tr>\n",
       "      <th>3</th>\n",
       "      <td>250</td>\n",
       "      <td>1204.198473</td>\n",
       "      <td>1202.281327</td>\n",
       "    </tr>\n",
       "    <tr>\n",
       "      <th>4</th>\n",
       "      <td>280</td>\n",
       "      <td>1067.380952</td>\n",
       "      <td>1176.911926</td>\n",
       "    </tr>\n",
       "  </tbody>\n",
       "</table>\n",
       "</div>"
      ],
      "text/plain": [
       "   auto_id_  precio_mean   precio_std\n",
       "0        10  1102.531646  1191.479249\n",
       "1        20   904.521277  1147.747694\n",
       "2       200  1085.049020  1153.348868\n",
       "3       250  1204.198473  1202.281327\n",
       "4       280  1067.380952  1176.911926"
      ]
     },
     "execution_count": 188,
     "metadata": {
      "tags": []
     },
     "output_type": "execute_result"
    }
   ],
   "source": [
    "interno = interno.groupby('auto_id').agg({'precio':['mean', 'std']}).reset_index()\n",
    "level0 = interno.columns.get_level_values(0)\n",
    "level1 = interno.columns.get_level_values(1)\n",
    "interno.columns = level0 + '_' + level1\n",
    "interno\n"
   ]
  },
  {
   "cell_type": "code",
   "execution_count": 189,
   "metadata": {
    "colab": {
     "base_uri": "https://localhost:8080/",
     "height": 204
    },
    "id": "qE_uiJodWL5V",
    "outputId": "6d6f29c6-cce0-4527-db1e-935d183e6808"
   },
   "outputs": [
    {
     "data": {
      "text/html": [
       "<div>\n",
       "<style scoped>\n",
       "    .dataframe tbody tr th:only-of-type {\n",
       "        vertical-align: middle;\n",
       "    }\n",
       "\n",
       "    .dataframe tbody tr th {\n",
       "        vertical-align: top;\n",
       "    }\n",
       "\n",
       "    .dataframe thead th {\n",
       "        text-align: right;\n",
       "    }\n",
       "</style>\n",
       "<table border=\"1\" class=\"dataframe\">\n",
       "  <thead>\n",
       "    <tr style=\"text-align: right;\">\n",
       "      <th></th>\n",
       "      <th>auto_id_</th>\n",
       "      <th>precio_mean</th>\n",
       "      <th>precio_std</th>\n",
       "    </tr>\n",
       "  </thead>\n",
       "  <tbody>\n",
       "    <tr>\n",
       "      <th>0</th>\n",
       "      <td>10</td>\n",
       "      <td>1232.246377</td>\n",
       "      <td>1219.247458</td>\n",
       "    </tr>\n",
       "    <tr>\n",
       "      <th>1</th>\n",
       "      <td>20</td>\n",
       "      <td>1134.000000</td>\n",
       "      <td>1230.766191</td>\n",
       "    </tr>\n",
       "    <tr>\n",
       "      <th>2</th>\n",
       "      <td>200</td>\n",
       "      <td>1342.129630</td>\n",
       "      <td>1239.263553</td>\n",
       "    </tr>\n",
       "    <tr>\n",
       "      <th>3</th>\n",
       "      <td>250</td>\n",
       "      <td>950.000000</td>\n",
       "      <td>1103.089855</td>\n",
       "    </tr>\n",
       "    <tr>\n",
       "      <th>4</th>\n",
       "      <td>280</td>\n",
       "      <td>1105.714286</td>\n",
       "      <td>1187.822490</td>\n",
       "    </tr>\n",
       "  </tbody>\n",
       "</table>\n",
       "</div>"
      ],
      "text/plain": [
       "   auto_id_  precio_mean   precio_std\n",
       "0        10  1232.246377  1219.247458\n",
       "1        20  1134.000000  1230.766191\n",
       "2       200  1342.129630  1239.263553\n",
       "3       250   950.000000  1103.089855\n",
       "4       280  1105.714286  1187.822490"
      ]
     },
     "execution_count": 189,
     "metadata": {
      "tags": []
     },
     "output_type": "execute_result"
    }
   ],
   "source": [
    "externo = externo.groupby('auto_id').agg({'precio':['mean', 'std']}).reset_index()\n",
    "level00 = externo.columns.get_level_values(0)\n",
    "level11 = externo.columns.get_level_values(1)\n",
    "externo.columns = level00 + '_' + level11\n",
    "externo"
   ]
  },
  {
   "cell_type": "code",
   "execution_count": 190,
   "metadata": {
    "colab": {
     "base_uri": "https://localhost:8080/",
     "height": 204
    },
    "id": "3eiY2buKXiGL",
    "outputId": "697ac254-3ad0-4f27-91cd-59fca9767411"
   },
   "outputs": [
    {
     "data": {
      "text/html": [
       "<div>\n",
       "<style scoped>\n",
       "    .dataframe tbody tr th:only-of-type {\n",
       "        vertical-align: middle;\n",
       "    }\n",
       "\n",
       "    .dataframe tbody tr th {\n",
       "        vertical-align: top;\n",
       "    }\n",
       "\n",
       "    .dataframe thead th {\n",
       "        text-align: right;\n",
       "    }\n",
       "</style>\n",
       "<table border=\"1\" class=\"dataframe\">\n",
       "  <thead>\n",
       "    <tr style=\"text-align: right;\">\n",
       "      <th></th>\n",
       "      <th>auto_id_</th>\n",
       "      <th>precio_mean_x</th>\n",
       "      <th>precio_std_x</th>\n",
       "      <th>precio_mean_y</th>\n",
       "      <th>precio_std_y</th>\n",
       "    </tr>\n",
       "  </thead>\n",
       "  <tbody>\n",
       "    <tr>\n",
       "      <th>0</th>\n",
       "      <td>10</td>\n",
       "      <td>1232.246377</td>\n",
       "      <td>1219.247458</td>\n",
       "      <td>1102.531646</td>\n",
       "      <td>1191.479249</td>\n",
       "    </tr>\n",
       "    <tr>\n",
       "      <th>1</th>\n",
       "      <td>20</td>\n",
       "      <td>1134.000000</td>\n",
       "      <td>1230.766191</td>\n",
       "      <td>904.521277</td>\n",
       "      <td>1147.747694</td>\n",
       "    </tr>\n",
       "    <tr>\n",
       "      <th>2</th>\n",
       "      <td>200</td>\n",
       "      <td>1342.129630</td>\n",
       "      <td>1239.263553</td>\n",
       "      <td>1085.049020</td>\n",
       "      <td>1153.348868</td>\n",
       "    </tr>\n",
       "    <tr>\n",
       "      <th>3</th>\n",
       "      <td>250</td>\n",
       "      <td>950.000000</td>\n",
       "      <td>1103.089855</td>\n",
       "      <td>1204.198473</td>\n",
       "      <td>1202.281327</td>\n",
       "    </tr>\n",
       "    <tr>\n",
       "      <th>4</th>\n",
       "      <td>280</td>\n",
       "      <td>1105.714286</td>\n",
       "      <td>1187.822490</td>\n",
       "      <td>1067.380952</td>\n",
       "      <td>1176.911926</td>\n",
       "    </tr>\n",
       "  </tbody>\n",
       "</table>\n",
       "</div>"
      ],
      "text/plain": [
       "   auto_id_  precio_mean_x  precio_std_x  precio_mean_y  precio_std_y\n",
       "0        10    1232.246377   1219.247458    1102.531646   1191.479249\n",
       "1        20    1134.000000   1230.766191     904.521277   1147.747694\n",
       "2       200    1342.129630   1239.263553    1085.049020   1153.348868\n",
       "3       250     950.000000   1103.089855    1204.198473   1202.281327\n",
       "4       280    1105.714286   1187.822490    1067.380952   1176.911926"
      ]
     },
     "execution_count": 190,
     "metadata": {
      "tags": []
     },
     "output_type": "execute_result"
    }
   ],
   "source": [
    "final = externo.merge(interno, on = 'auto_id_', how = 'inner')\n",
    "final"
   ]
  },
  {
   "cell_type": "markdown",
   "metadata": {
    "id": "vejtLQylXvjo"
   },
   "source": [
    "y hay que renombrar"
   ]
  }
 ],
 "metadata": {
  "colab": {
   "name": "el_nueve.ipynb",
   "provenance": []
  },
  "kernelspec": {
   "display_name": "Python 3",
   "language": "python",
   "name": "python3"
  },
  "language_info": {
   "codemirror_mode": {
    "name": "ipython",
    "version": 3
   },
   "file_extension": ".py",
   "mimetype": "text/x-python",
   "name": "python",
   "nbconvert_exporter": "python",
   "pygments_lexer": "ipython3",
   "version": "3.9.0"
  }
 },
 "nbformat": 4,
 "nbformat_minor": 4
}
