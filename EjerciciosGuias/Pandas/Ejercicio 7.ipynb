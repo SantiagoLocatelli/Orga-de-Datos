{
 "cells": [
  {
   "cell_type": "markdown",
   "metadata": {},
   "source": [
    "\n",
    "7- Dada la exitosa convocatoria de los Juegos Olímpicos de la Juventud por parte del público,\n",
    "sus organizadores realizan distintos análisis para planificar las jornadas finales del certamen.\n",
    "Es por ello que cuentan con información en los siguientes archivos csv: eventos.csv (id_evento,\n",
    "fecha, id_locacion, nombre_evento, id_categoria_deportiva, cantidad_espectadores)\n",
    "locacion.csv (id_locacion, nombre, capacidad, capacidad_extendida, sede, latitud, longitud)\n",
    "categorias_deportivas.csv (id_categoria_deportiva, nombre, año_de_adopcion)\n",
    "El primer archivo cuenta con información de los eventos, indicando la fecha (en formato\n",
    "“YYYY-mm-dd hh:mm:ss”), el lugar donde ocurrió (id_locacion) y la cantidad de espectadores\n",
    "que asistieron. Además se aporta información sobre la categoría deportiva a la cual pertenece\n",
    "el evento.\n",
    "Por otro lado se tiene información sobre las distintas locaciones en la sedes del certamen en\n",
    "las que ocurrieron los eventos. Contamos con información de su capacidad total de\n",
    "espectadores así como de su capacidad extendida (cuantos asientos extras se pueden brindar\n",
    "sobre la capacidad de la locación).\n",
    "Se desea obtener:\n",
    "\n",
    "\n",
    "A. Nombre de la sede que acumuló la mayor cantidad de espectadores en eventos durante\n",
    "el certamen del 14 al 15 de octubre inclusive. Esto es de vital importancia para distribuir\n",
    "el merchandising oficial del evento, para las fechas finales.\n",
    "\n",
    "\n",
    "B. Nombre del evento y nombre de la categoría deportiva de aquellos eventos cuya\n",
    "cantidad de espectadores superó la capacidad de la locación, más allá de la capacidad\n",
    "extendida. Esto es de vital importancia para detectar problemas de seguridad o si es\n",
    "necesario realizar algún cambio de locación.\n"
   ]
  },
  {
   "cell_type": "code",
   "execution_count": 1,
   "metadata": {},
   "outputs": [
    {
     "ename": "ModuleNotFoundError",
     "evalue": "No module named 'seaborn'",
     "output_type": "error",
     "traceback": [
      "\u001b[1;31m---------------------------------------------------------------------------\u001b[0m",
      "\u001b[1;31mModuleNotFoundError\u001b[0m                       Traceback (most recent call last)",
      "\u001b[1;32m<ipython-input-1-3f4860f00dbb>\u001b[0m in \u001b[0;36m<module>\u001b[1;34m\u001b[0m\n\u001b[0;32m      1\u001b[0m \u001b[1;32mimport\u001b[0m \u001b[0mpandas\u001b[0m \u001b[1;32mas\u001b[0m \u001b[0mpd\u001b[0m\u001b[1;33m\u001b[0m\u001b[1;33m\u001b[0m\u001b[0m\n\u001b[0;32m      2\u001b[0m \u001b[1;32mimport\u001b[0m \u001b[0mnumpy\u001b[0m \u001b[1;32mas\u001b[0m \u001b[0mnp\u001b[0m\u001b[1;33m\u001b[0m\u001b[1;33m\u001b[0m\u001b[0m\n\u001b[1;32m----> 3\u001b[1;33m \u001b[1;32mimport\u001b[0m \u001b[0mseaborn\u001b[0m \u001b[1;32mas\u001b[0m \u001b[0msns\u001b[0m\u001b[1;33m\u001b[0m\u001b[1;33m\u001b[0m\u001b[0m\n\u001b[0m\u001b[0;32m      4\u001b[0m \u001b[1;32mimport\u001b[0m \u001b[0mmatplotlib\u001b[0m\u001b[1;33m.\u001b[0m\u001b[0mpyplot\u001b[0m \u001b[1;32mas\u001b[0m \u001b[0mplt\u001b[0m\u001b[1;33m\u001b[0m\u001b[1;33m\u001b[0m\u001b[0m\n\u001b[0;32m      5\u001b[0m \u001b[1;32mimport\u001b[0m \u001b[0mmatplotlib\u001b[0m\u001b[1;33m.\u001b[0m\u001b[0mpatches\u001b[0m \u001b[1;32mas\u001b[0m \u001b[0mmpatches\u001b[0m\u001b[1;33m\u001b[0m\u001b[1;33m\u001b[0m\u001b[0m\n",
      "\u001b[1;31mModuleNotFoundError\u001b[0m: No module named 'seaborn'"
     ]
    }
   ],
   "source": [
    "import pandas as pd\n",
    "import numpy as np\n",
    "import seaborn as sns\n",
    "import matplotlib.pyplot as plt\n",
    "import matplotlib.patches as mpatches\n",
    "import random\n",
    "\n",
    "#Creo un dataframe de prueba\n",
    "eventos = pd.DataFrame(columns = ['id_evento', 'fecha','id_locacion', 'nombre_evento', 'id_categoria', 'cant_espectadores'], dtype = int)\n",
    "\n",
    "locacion = pd.DataFrame({\n",
    "    'id_locacion': [0, 1, 2, 3],\n",
    "    'nombre_sede': ['Lugar0','Lugar1', 'Lugar2', 'Lugar3'],\n",
    "    'capacidad': [50, 100, 100, 150],\n",
    "    'capacidad_extendida': [100, 150, 150, 200]\n",
    "})\n",
    "\n",
    "categoria = pd.DataFrame(columns = ['id_categoria', 'nombre'])\n",
    "categoria = pd.DataFrame({\n",
    "    'id_categoria':[0,1,2,3,4],\n",
    "    'nombre_categoria':['Atletismo', 'Ciclismo', 'Futbol', 'Salto en Largo', 'Tiro con Arco']\n",
    "})\n",
    "\n",
    "for i in range(100):\n",
    "    eventos = eventos.append({\n",
    "        'id_evento': i,\n",
    "        'fecha': random.choice(['2020-10-14 00:00:01', '2020-10-15 23:59:58', '2020-10-16 00:00:01']),\n",
    "        'id_locacion': random.randint(0,3),\n",
    "        'nombre_evento': 'Evento'+str(i),\n",
    "        'id_categoria': random.randint(0,4),\n",
    "        'cant_espectadores': random.randint(20, 250)\n",
    "    }, ignore_index = True)"
   ]
  },
  {
   "cell_type": "code",
   "execution_count": null,
   "metadata": {},
   "outputs": [],
   "source": [
    "#A. Nombre de la sede que acumuló la mayor cantidad de espectadores en eventos durante\n",
    "#el certamen del 14 al 15 de octubre inclusive. Esto es de vital importancia para distribuir\n",
    "#el merchandising oficial del evento, para las fechas finales."
   ]
  },
  {
   "cell_type": "code",
   "execution_count": null,
   "metadata": {},
   "outputs": [],
   "source": [
    "new_eventos = eventos.merge(locacion, on='id_locacion')\n",
    "new_eventos"
   ]
  },
  {
   "cell_type": "code",
   "execution_count": null,
   "metadata": {},
   "outputs": [],
   "source": [
    "new_eventos['fecha'] = pd.to_datetime(new_eventos['fecha'], errors='coerce')\n",
    "new_eventos.info()"
   ]
  },
  {
   "cell_type": "code",
   "execution_count": null,
   "metadata": {},
   "outputs": [],
   "source": [
    "new_eventos = new_eventos[new_eventos['fecha'].dt.month == 10]\n",
    "new_eventos"
   ]
  },
  {
   "cell_type": "code",
   "execution_count": null,
   "metadata": {},
   "outputs": [],
   "source": [
    "new_eventos = new_eventos[(new_eventos['fecha'].dt.day == 14) | (new_eventos['fecha'].dt.day == 15)] \n",
    "new_eventos.head()"
   ]
  },
  {
   "cell_type": "code",
   "execution_count": null,
   "metadata": {},
   "outputs": [],
   "source": [
    "grouped = new_eventos.groupby(new_eventos['nombre_sede']).agg({'cant_espectadores' : 'sum'}).nlargest(1, 'cant_espectadores')\n",
    "grouped.reset_index(inplace=True)\n",
    "grouped"
   ]
  },
  {
   "cell_type": "code",
   "execution_count": null,
   "metadata": {},
   "outputs": [],
   "source": [
    "grouped['nombre_sede']"
   ]
  },
  {
   "cell_type": "code",
   "execution_count": null,
   "metadata": {},
   "outputs": [],
   "source": [
    "\n",
    "#B. Nombre del evento y nombre de la categoría deportiva de aquellos eventos cuya\n",
    "#cantidad de espectadores superó la capacidad de la locación, más allá de la capacidad\n",
    "#extendida. Esto es de vital importancia para detectar problemas de seguridad o si es\n",
    "#necesario realizar algún cambio de locación."
   ]
  },
  {
   "cell_type": "code",
   "execution_count": null,
   "metadata": {},
   "outputs": [],
   "source": [
    "new_eventos = eventos.merge(locacion, on='id_locacion')\n",
    "new_eventos = new_eventos.merge(categoria, on='id_categoria')\n",
    "new_eventos"
   ]
  },
  {
   "cell_type": "code",
   "execution_count": null,
   "metadata": {},
   "outputs": [],
   "source": [
    "new_eventos = new_eventos[new_eventos['cant_espectadores'] > new_eventos['capacidad_extendida']]\n",
    "new_eventos.head()"
   ]
  },
  {
   "cell_type": "code",
   "execution_count": null,
   "metadata": {},
   "outputs": [],
   "source": [
    "new_eventos = new_eventos[['nombre_evento', 'nombre_categoria']]\n",
    "#new_eventos.groupby(['nombre_evento','nombre_categoria']).size()\n",
    "# Para mostrar el groupby de a dos columnas"
   ]
  },
  {
   "cell_type": "code",
   "execution_count": null,
   "metadata": {},
   "outputs": [],
   "source": []
  }
 ],
 "metadata": {
  "kernelspec": {
   "display_name": "Python 3",
   "language": "python",
   "name": "python3"
  },
  "language_info": {
   "codemirror_mode": {
    "name": "ipython",
    "version": 3
   },
   "file_extension": ".py",
   "mimetype": "text/x-python",
   "name": "python",
   "nbconvert_exporter": "python",
   "pygments_lexer": "ipython3",
   "version": "3.9.0"
  }
 },
 "nbformat": 4,
 "nbformat_minor": 4
}
