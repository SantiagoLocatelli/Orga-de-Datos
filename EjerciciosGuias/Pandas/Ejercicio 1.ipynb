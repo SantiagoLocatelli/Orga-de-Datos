{
 "cells": [
  {
   "cell_type": "code",
   "execution_count": null,
   "metadata": {},
   "outputs": [],
   "source": []
  },
  {
   "cell_type": "code",
   "execution_count": 1,
   "metadata": {
    "id": "0jnhKo5yNAz_"
   },
   "outputs": [
    {
     "ename": "ModuleNotFoundError",
     "evalue": "No module named 'matplotlib'",
     "output_type": "error",
     "traceback": [
      "\u001b[1;31m---------------------------------------------------------------------------\u001b[0m",
      "\u001b[1;31mModuleNotFoundError\u001b[0m                       Traceback (most recent call last)",
      "\u001b[1;32m<ipython-input-1-7b69af8e12fd>\u001b[0m in \u001b[0;36m<module>\u001b[1;34m\u001b[0m\n\u001b[0;32m      1\u001b[0m \u001b[1;32mimport\u001b[0m \u001b[0mpandas\u001b[0m \u001b[1;32mas\u001b[0m \u001b[0mpd\u001b[0m\u001b[1;33m\u001b[0m\u001b[1;33m\u001b[0m\u001b[0m\n\u001b[0;32m      2\u001b[0m \u001b[1;32mimport\u001b[0m \u001b[0mnumpy\u001b[0m \u001b[1;32mas\u001b[0m \u001b[0mnp\u001b[0m\u001b[1;33m\u001b[0m\u001b[1;33m\u001b[0m\u001b[0m\n\u001b[1;32m----> 3\u001b[1;33m \u001b[1;32mimport\u001b[0m \u001b[0mmatplotlib\u001b[0m\u001b[1;33m.\u001b[0m\u001b[0mpyplot\u001b[0m \u001b[1;32mas\u001b[0m \u001b[0mplt\u001b[0m\u001b[1;33m\u001b[0m\u001b[1;33m\u001b[0m\u001b[0m\n\u001b[0m\u001b[0;32m      4\u001b[0m \u001b[1;32mimport\u001b[0m \u001b[0mseaborn\u001b[0m \u001b[1;32mas\u001b[0m \u001b[0msns\u001b[0m\u001b[1;33m\u001b[0m\u001b[1;33m\u001b[0m\u001b[0m\n",
      "\u001b[1;31mModuleNotFoundError\u001b[0m: No module named 'matplotlib'"
     ]
    }
   ],
   "source": [
    "\n",
    "import pandas as pd\n",
    "import numpy as np\n",
    "import matplotlib.pyplot as plt\n",
    "import seaborn as sns"
   ]
  },
  {
   "cell_type": "markdown",
   "metadata": {},
   "source": [
    "1- Dado el registro de notas de los alumnos de la forma (padrón, materia, nota, fecha). Se pide resolver utilizando Pandas:\n",
    "a)Cuál es el promedio general de notas.\n",
    "b)Cuál es la nota más alta y la nota más baja registrada durante el año 2020.\n",
    "c)Cuál es el padrón con mayor cantidad de materias aprobadas durante el último cuatrimestre.\n",
    "d)Cuál es la nota promedio por materia.\n",
    "e)Cuál es la nota promedio por padrón."
   ]
  },
  {
   "cell_type": "code",
   "execution_count": null,
   "metadata": {
    "id": "971nFTZCNTkV"
   },
   "outputs": [],
   "source": [
    "# armamos el df de ventas\n",
    "notas_alumnos = {\n",
    "        'padron': [1,4,3,4,5,6,4,8,9,10],\n",
    "        'materia': ['am2','algebra','f1','f2','algo1','algo2','algo3','orgacomp','orgadatos','proba'],\n",
    "        'nota': [1,2,3,4,5,6,7,8,9,10],\n",
    "        'fecha': ['1-1-20','2-2-20','3-3-40','4-4-20','5-5-20','6-6-20','7-7-12','8-8-20','9-9-20','10-10-19'],\n",
    "}\n",
    "df_notas_alumnos = pd.DataFrame(notas_alumnos)"
   ]
  },
  {
   "cell_type": "code",
   "execution_count": null,
   "metadata": {
    "colab": {
     "base_uri": "https://localhost:8080/",
     "height": 348
    },
    "id": "_9S6uNu9QPEG",
    "outputId": "b215440d-797f-49c0-c9af-b34a400ab846"
   },
   "outputs": [],
   "source": [
    "df_notas_alumnos"
   ]
  },
  {
   "cell_type": "markdown",
   "metadata": {},
   "source": [
    "a) Cuál es el promedio general de notas."
   ]
  },
  {
   "cell_type": "code",
   "execution_count": null,
   "metadata": {
    "colab": {
     "base_uri": "https://localhost:8080/",
     "height": 35
    },
    "id": "HH26xhSlRmeJ",
    "outputId": "b906909d-422c-4b6c-a754-2a0846eeb4d8"
   },
   "outputs": [],
   "source": [
    "promedio = df_notas_alumnos['nota'].mean()\n",
    "promedio "
   ]
  },
  {
   "cell_type": "code",
   "execution_count": null,
   "metadata": {
    "colab": {
     "base_uri": "https://localhost:8080/",
     "height": 217
    },
    "id": "5h_9koIlSBBG",
    "outputId": "eb493372-fd42-4870-dfcf-130354ed8a11"
   },
   "outputs": [],
   "source": [
    "df_notas_alumnos['fecha'] = pd.to_datetime(df_notas_alumnos['fecha'])  #b)Cuál es la nota más alta y la nota más baja registrada durante el año 2020.\n",
    "df_notas_alumnos.info()"
   ]
  },
  {
   "cell_type": "code",
   "execution_count": null,
   "metadata": {
    "colab": {
     "base_uri": "https://localhost:8080/",
     "height": 258
    },
    "id": "BHtiBXvQUSnP",
    "outputId": "d8026cdd-08e9-47a3-a95d-1d9409cd503d"
   },
   "outputs": [],
   "source": [
    "año_2020 = df_notas_alumnos[df_notas_alumnos['fecha'].dt.year == 2020] #filtramos por año pa \n",
    "año_2020"
   ]
  },
  {
   "cell_type": "code",
   "execution_count": null,
   "metadata": {
    "colab": {
     "base_uri": "https://localhost:8080/",
     "height": 35
    },
    "id": "ZOayYn7CVZfu",
    "outputId": "55885bbe-9535-42cb-af31-deed38b1df5f"
   },
   "outputs": [],
   "source": [
    "año_2020['nota'].max()"
   ]
  },
  {
   "cell_type": "markdown",
   "metadata": {},
   "source": [
    "punto b "
   ]
  },
  {
   "cell_type": "code",
   "execution_count": null,
   "metadata": {
    "colab": {
     "base_uri": "https://localhost:8080/",
     "height": 35
    },
    "id": "W2_j91KQV07r",
    "outputId": "f79bfa22-0f20-42d5-d622-d6cba7484fac"
   },
   "outputs": [],
   "source": [
    "año_2020['nota'].min() "
   ]
  },
  {
   "cell_type": "markdown",
   "metadata": {},
   "source": [
    "c) Cuál es el padrón con mayor cantidad de materias aprobadas durante el último cuatrimestre."
   ]
  },
  {
   "cell_type": "code",
   "execution_count": null,
   "metadata": {
    "colab": {
     "base_uri": "https://localhost:8080/",
     "height": 217
    },
    "id": "jN-VjEGzWM_v",
    "outputId": "a6802edf-210c-46db-d3fb-7bc9697a388e"
   },
   "outputs": [],
   "source": [
    "materias_aprobadas = df_notas_alumnos['nota'] >= 4\n",
    "materias_aprobadas \n"
   ]
  },
  {
   "cell_type": "code",
   "execution_count": null,
   "metadata": {
    "id": "SaEVuPSrXIxt"
   },
   "outputs": [],
   "source": [
    "padrones_materias_aprobadas = df_notas_alumnos[materias_aprobadas].groupby('padron').agg({ 'nota': 'count' })\n",
    "padrones_materias_aprobadas = padrones_materias_aprobadas.rename(columns = {'nota' :'cant_materias_aprobadas'})"
   ]
  },
  {
   "cell_type": "code",
   "execution_count": null,
   "metadata": {
    "colab": {
     "base_uri": "https://localhost:8080/",
     "height": 72
    },
    "id": "IX6AqsaSYfvK",
    "outputId": "a53c80a1-3cbd-42f1-8ae4-a430354bcaf3"
   },
   "outputs": [],
   "source": [
    "padrones_materias_aprobadas.reset_index() #punto c padre\n",
    "padron_capo = padrones_materias_aprobadas['cant_materias_aprobadas'].nlargest(1)\n",
    "padron_capo"
   ]
  },
  {
   "cell_type": "markdown",
   "metadata": {},
   "source": [
    "d)Cuál es la nota promedio por materia."
   ]
  },
  {
   "cell_type": "code",
   "execution_count": null,
   "metadata": {
    "colab": {
     "base_uri": "https://localhost:8080/",
     "height": 378
    },
    "id": "JfvLMYQxZRY1",
    "outputId": "465f945d-37fa-45c1-b14e-94ec61978267"
   },
   "outputs": [],
   "source": [
    "\n",
    "promedio_materias = df_notas_alumnos.groupby('materia').agg({ 'nota': 'mean' })\n",
    "promedio_materias"
   ]
  },
  {
   "cell_type": "markdown",
   "metadata": {},
   "source": [
    "e)Cuál es la nota promedio por padrón."
   ]
  },
  {
   "cell_type": "code",
   "execution_count": null,
   "metadata": {
    "colab": {
     "base_uri": "https://localhost:8080/",
     "height": 318
    },
    "id": "RMpHcme0aodY",
    "outputId": "beea73f1-6db4-4907-a1b9-926241b754d8"
   },
   "outputs": [],
   "source": [
    "promedio_padron = df_notas_alumnos.groupby('padron').agg({ 'nota': 'mean' })\n",
    "promedio_padron"
   ]
  }
 ],
 "metadata": {
  "colab": {
   "name": "Primer punto guia",
   "provenance": []
  },
  "kernelspec": {
   "display_name": "Python 3",
   "language": "python",
   "name": "python3"
  },
  "language_info": {
   "codemirror_mode": {
    "name": "ipython",
    "version": 3
   },
   "file_extension": ".py",
   "mimetype": "text/x-python",
   "name": "python",
   "nbconvert_exporter": "python",
   "pygments_lexer": "ipython3",
   "version": "3.9.0"
  }
 },
 "nbformat": 4,
 "nbformat_minor": 4
}
